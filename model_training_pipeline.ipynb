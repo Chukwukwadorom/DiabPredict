{
  "cells": [
    {
      "cell_type": "code",
      "execution_count": 1,
      "metadata": {
        "id": "xqGcs1EMuI3z",
        "colab": {
          "base_uri": "https://localhost:8080/"
        },
        "outputId": "4a1ae4fe-ba95-4e19-ea4e-2bddafed1238"
      },
      "outputs": [
        {
          "output_type": "stream",
          "name": "stdout",
          "text": [
            "\u001b[?25l     \u001b[90m━━━━━━━━━━━━━━━━━━━━━━━━━━━━━━━━━━━━━━━━\u001b[0m \u001b[32m0.0/47.1 kB\u001b[0m \u001b[31m?\u001b[0m eta \u001b[36m-:--:--\u001b[0m\r\u001b[2K     \u001b[91m━━━━━━━━━━━━━━━━━━━━━━━━━━━━━━━━━━\u001b[0m\u001b[91m╸\u001b[0m\u001b[90m━━━━━\u001b[0m \u001b[32m41.0/47.1 kB\u001b[0m \u001b[31m938.7 kB/s\u001b[0m eta \u001b[36m0:00:01\u001b[0m\r\u001b[2K     \u001b[90m━━━━━━━━━━━━━━━━━━━━━━━━━━━━━━━━━━━━━━━━\u001b[0m \u001b[32m47.1/47.1 kB\u001b[0m \u001b[31m715.0 kB/s\u001b[0m eta \u001b[36m0:00:00\u001b[0m\n",
            "\u001b[?25h  Preparing metadata (setup.py) ... \u001b[?25l\u001b[?25hdone\n",
            "\u001b[2K     \u001b[90m━━━━━━━━━━━━━━━━━━━━━━━━━━━━━━━━━━━━━━━━\u001b[0m \u001b[32m249.8/249.8 kB\u001b[0m \u001b[31m2.9 MB/s\u001b[0m eta \u001b[36m0:00:00\u001b[0m\n",
            "\u001b[?25h  Preparing metadata (setup.py) ... \u001b[?25l\u001b[?25hdone\n",
            "\u001b[2K     \u001b[90m━━━━━━━━━━━━━━━━━━━━━━━━━━━━━━━━━━━━━━━━\u001b[0m \u001b[32m59.1/59.1 kB\u001b[0m \u001b[31m3.7 MB/s\u001b[0m eta \u001b[36m0:00:00\u001b[0m\n",
            "\u001b[?25h  Preparing metadata (setup.py) ... \u001b[?25l\u001b[?25hdone\n",
            "\u001b[2K     \u001b[90m━━━━━━━━━━━━━━━━━━━━━━━━━━━━━━━━━━━━━━━━\u001b[0m \u001b[32m139.2/139.2 kB\u001b[0m \u001b[31m4.9 MB/s\u001b[0m eta \u001b[36m0:00:00\u001b[0m\n",
            "\u001b[2K     \u001b[90m━━━━━━━━━━━━━━━━━━━━━━━━━━━━━━━━━━━━━━━━\u001b[0m \u001b[32m45.3/45.3 kB\u001b[0m \u001b[31m3.1 MB/s\u001b[0m eta \u001b[36m0:00:00\u001b[0m\n",
            "\u001b[2K     \u001b[90m━━━━━━━━━━━━━━━━━━━━━━━━━━━━━━━━━━━━━━━━\u001b[0m \u001b[32m90.6/90.6 kB\u001b[0m \u001b[31m8.2 MB/s\u001b[0m eta \u001b[36m0:00:00\u001b[0m\n",
            "\u001b[?25h  Installing build dependencies ... \u001b[?25l\u001b[?25hdone\n",
            "  Getting requirements to build wheel ... \u001b[?25l\u001b[?25hdone\n",
            "  Preparing metadata (pyproject.toml) ... \u001b[?25l\u001b[?25hdone\n",
            "\u001b[2K     \u001b[90m━━━━━━━━━━━━━━━━━━━━━━━━━━━━━━━━━━━━━━━━\u001b[0m \u001b[32m1.6/1.6 MB\u001b[0m \u001b[31m17.3 MB/s\u001b[0m eta \u001b[36m0:00:00\u001b[0m\n",
            "\u001b[2K     \u001b[90m━━━━━━━━━━━━━━━━━━━━━━━━━━━━━━━━━━━━━━━━\u001b[0m \u001b[32m45.0/45.0 kB\u001b[0m \u001b[31m4.0 MB/s\u001b[0m eta \u001b[36m0:00:00\u001b[0m\n",
            "\u001b[2K     \u001b[90m━━━━━━━━━━━━━━━━━━━━━━━━━━━━━━━━━━━━━━━━\u001b[0m \u001b[32m5.4/5.4 MB\u001b[0m \u001b[31m66.4 MB/s\u001b[0m eta \u001b[36m0:00:00\u001b[0m\n",
            "\u001b[2K     \u001b[90m━━━━━━━━━━━━━━━━━━━━━━━━━━━━━━━━━━━━━━━━\u001b[0m \u001b[32m44.2/44.2 kB\u001b[0m \u001b[31m4.7 MB/s\u001b[0m eta \u001b[36m0:00:00\u001b[0m\n",
            "\u001b[2K     \u001b[90m━━━━━━━━━━━━━━━━━━━━━━━━━━━━━━━━━━━━━━━━\u001b[0m \u001b[32m258.6/258.6 kB\u001b[0m \u001b[31m24.9 MB/s\u001b[0m eta \u001b[36m0:00:00\u001b[0m\n",
            "\u001b[2K     \u001b[90m━━━━━━━━━━━━━━━━━━━━━━━━━━━━━━━━━━━━━━━━\u001b[0m \u001b[32m42.9/42.9 kB\u001b[0m \u001b[31m4.4 MB/s\u001b[0m eta \u001b[36m0:00:00\u001b[0m\n",
            "\u001b[?25h  Preparing metadata (setup.py) ... \u001b[?25l\u001b[?25hdone\n",
            "\u001b[2K     \u001b[90m━━━━━━━━━━━━━━━━━━━━━━━━━━━━━━━━━━━━━━━━\u001b[0m \u001b[32m4.0/4.0 MB\u001b[0m \u001b[31m89.4 MB/s\u001b[0m eta \u001b[36m0:00:00\u001b[0m\n",
            "\u001b[2K     \u001b[90m━━━━━━━━━━━━━━━━━━━━━━━━━━━━━━━━━━━━━━━━\u001b[0m \u001b[32m3.0/3.0 MB\u001b[0m \u001b[31m31.9 MB/s\u001b[0m eta \u001b[36m0:00:00\u001b[0m\n",
            "\u001b[2K     \u001b[90m━━━━━━━━━━━━━━━━━━━━━━━━━━━━━━━━━━━━━━━━\u001b[0m \u001b[32m49.2/49.2 kB\u001b[0m \u001b[31m4.6 MB/s\u001b[0m eta \u001b[36m0:00:00\u001b[0m\n",
            "\u001b[2K     \u001b[90m━━━━━━━━━━━━━━━━━━━━━━━━━━━━━━━━━━━━━━━━\u001b[0m \u001b[32m109.1/109.1 kB\u001b[0m \u001b[31m8.6 MB/s\u001b[0m eta \u001b[36m0:00:00\u001b[0m\n",
            "\u001b[2K     \u001b[90m━━━━━━━━━━━━━━━━━━━━━━━━━━━━━━━━━━━━━━━━\u001b[0m \u001b[32m12.4/12.4 MB\u001b[0m \u001b[31m66.0 MB/s\u001b[0m eta \u001b[36m0:00:00\u001b[0m\n",
            "\u001b[2K     \u001b[90m━━━━━━━━━━━━━━━━━━━━━━━━━━━━━━━━━━━━━━━━\u001b[0m \u001b[32m82.7/82.7 kB\u001b[0m \u001b[31m7.8 MB/s\u001b[0m eta \u001b[36m0:00:00\u001b[0m\n",
            "\u001b[2K     \u001b[90m━━━━━━━━━━━━━━━━━━━━━━━━━━━━━━━━━━━━━━━━\u001b[0m \u001b[32m57.1/57.1 kB\u001b[0m \u001b[31m6.0 MB/s\u001b[0m eta \u001b[36m0:00:00\u001b[0m\n",
            "\u001b[2K     \u001b[90m━━━━━━━━━━━━━━━━━━━━━━━━━━━━━━━━━━━━━━━━\u001b[0m \u001b[32m2.1/2.1 MB\u001b[0m \u001b[31m81.2 MB/s\u001b[0m eta \u001b[36m0:00:00\u001b[0m\n",
            "\u001b[?25h  Preparing metadata (setup.py) ... \u001b[?25l\u001b[?25hdone\n",
            "\u001b[2K     \u001b[90m━━━━━━━━━━━━━━━━━━━━━━━━━━━━━━━━━━━━━━━━\u001b[0m \u001b[32m616.0/616.0 kB\u001b[0m \u001b[31m35.0 MB/s\u001b[0m eta \u001b[36m0:00:00\u001b[0m\n",
            "\u001b[2K     \u001b[90m━━━━━━━━━━━━━━━━━━━━━━━━━━━━━━━━━━━━━━━━\u001b[0m \u001b[32m491.3/491.3 kB\u001b[0m \u001b[31m32.6 MB/s\u001b[0m eta \u001b[36m0:00:00\u001b[0m\n",
            "\u001b[2K     \u001b[90m━━━━━━━━━━━━━━━━━━━━━━━━━━━━━━━━━━━━━━━━\u001b[0m \u001b[32m62.3/62.3 kB\u001b[0m \u001b[31m4.7 MB/s\u001b[0m eta \u001b[36m0:00:00\u001b[0m\n",
            "\u001b[?25h  Preparing metadata (setup.py) ... \u001b[?25l\u001b[?25hdone\n",
            "\u001b[2K     \u001b[90m━━━━━━━━━━━━━━━━━━━━━━━━━━━━━━━━━━━━━━━━\u001b[0m \u001b[32m1.6/1.6 MB\u001b[0m \u001b[31m66.9 MB/s\u001b[0m eta \u001b[36m0:00:00\u001b[0m\n",
            "\u001b[?25h  Building wheel for hopsworks (setup.py) ... \u001b[?25l\u001b[?25hdone\n",
            "  Building wheel for avro (pyproject.toml) ... \u001b[?25l\u001b[?25hdone\n",
            "  Building wheel for hsml (setup.py) ... \u001b[?25l\u001b[?25hdone\n",
            "  Building wheel for hsfs (setup.py) ... \u001b[?25l\u001b[?25hdone\n",
            "  Building wheel for twofish (setup.py) ... \u001b[?25l\u001b[?25hdone\n",
            "  Building wheel for thrift (setup.py) ... \u001b[?25l\u001b[?25hdone\n",
            "  Building wheel for pyhopshive (setup.py) ... \u001b[?25l\u001b[?25hdone\n"
          ]
        }
      ],
      "source": [
        "!pip install hopsworks==3.7.0 --quiet\n"
      ]
    },
    {
      "cell_type": "code",
      "execution_count": 2,
      "metadata": {
        "colab": {
          "base_uri": "https://localhost:8080/"
        },
        "id": "WJ1Vj71dtSyU",
        "outputId": "e4d16069-e658-40b5-8c0e-e7fab294feb1"
      },
      "outputs": [
        {
          "output_type": "stream",
          "name": "stdout",
          "text": [
            "Collecting catboost\n",
            "  Downloading catboost-1.2.5-cp310-cp310-manylinux2014_x86_64.whl (98.2 MB)\n",
            "\u001b[2K     \u001b[90m━━━━━━━━━━━━━━━━━━━━━━━━━━━━━━━━━━━━━━━━\u001b[0m \u001b[32m98.2/98.2 MB\u001b[0m \u001b[31m9.6 MB/s\u001b[0m eta \u001b[36m0:00:00\u001b[0m\n",
            "\u001b[?25hCollecting graphviz (from catboost)\n",
            "  Downloading graphviz-0.20.3-py3-none-any.whl (47 kB)\n",
            "\u001b[2K     \u001b[90m━━━━━━━━━━━━━━━━━━━━━━━━━━━━━━━━━━━━━━━━\u001b[0m \u001b[32m47.1/47.1 kB\u001b[0m \u001b[31m4.9 MB/s\u001b[0m eta \u001b[36m0:00:00\u001b[0m\n",
            "\u001b[?25hRequirement already satisfied: matplotlib in /usr/local/lib/python3.10/dist-packages (from catboost) (3.7.1)\n",
            "Requirement already satisfied: numpy>=1.16.0 in /usr/local/lib/python3.10/dist-packages (from catboost) (1.25.2)\n",
            "Requirement already satisfied: pandas>=0.24 in /usr/local/lib/python3.10/dist-packages (from catboost) (2.0.3)\n",
            "Requirement already satisfied: scipy in /usr/local/lib/python3.10/dist-packages (from catboost) (1.11.4)\n",
            "Requirement already satisfied: plotly in /usr/local/lib/python3.10/dist-packages (from catboost) (5.15.0)\n",
            "Requirement already satisfied: six in /usr/local/lib/python3.10/dist-packages (from catboost) (1.16.0)\n",
            "Requirement already satisfied: python-dateutil>=2.8.2 in /usr/local/lib/python3.10/dist-packages (from pandas>=0.24->catboost) (2.9.0.post0)\n",
            "Requirement already satisfied: pytz>=2020.1 in /usr/local/lib/python3.10/dist-packages (from pandas>=0.24->catboost) (2024.1)\n",
            "Requirement already satisfied: tzdata>=2022.1 in /usr/local/lib/python3.10/dist-packages (from pandas>=0.24->catboost) (2024.1)\n",
            "Requirement already satisfied: contourpy>=1.0.1 in /usr/local/lib/python3.10/dist-packages (from matplotlib->catboost) (1.2.1)\n",
            "Requirement already satisfied: cycler>=0.10 in /usr/local/lib/python3.10/dist-packages (from matplotlib->catboost) (0.12.1)\n",
            "Requirement already satisfied: fonttools>=4.22.0 in /usr/local/lib/python3.10/dist-packages (from matplotlib->catboost) (4.53.1)\n",
            "Requirement already satisfied: kiwisolver>=1.0.1 in /usr/local/lib/python3.10/dist-packages (from matplotlib->catboost) (1.4.5)\n",
            "Requirement already satisfied: packaging>=20.0 in /usr/local/lib/python3.10/dist-packages (from matplotlib->catboost) (24.1)\n",
            "Requirement already satisfied: pillow>=6.2.0 in /usr/local/lib/python3.10/dist-packages (from matplotlib->catboost) (10.4.0)\n",
            "Requirement already satisfied: pyparsing>=2.3.1 in /usr/local/lib/python3.10/dist-packages (from matplotlib->catboost) (3.1.2)\n",
            "Requirement already satisfied: tenacity>=6.2.0 in /usr/local/lib/python3.10/dist-packages (from plotly->catboost) (8.5.0)\n",
            "Installing collected packages: graphviz, catboost\n",
            "Successfully installed catboost-1.2.5 graphviz-0.20.3\n"
          ]
        }
      ],
      "source": [
        "# !pip install catboost==1.0.2 --quiet\n",
        "!pip install catboost\n"
      ]
    },
    {
      "cell_type": "code",
      "execution_count": 3,
      "metadata": {
        "id": "mf2QZwAUHY-x"
      },
      "outputs": [],
      "source": [
        "import hopsworks\n",
        "import pandas as pd\n",
        "import matplotlib.pyplot as plt\n",
        "import seaborn as sns\n",
        "from sklearn.model_selection import train_test_split, RandomizedSearchCV\n",
        "from sklearn.metrics import classification_report, confusion_matrix"
      ]
    },
    {
      "cell_type": "code",
      "execution_count": 4,
      "metadata": {
        "colab": {
          "base_uri": "https://localhost:8080/"
        },
        "id": "ZfhEogAzphl5",
        "outputId": "9687d16d-51da-425d-f252-e995058b019f"
      },
      "outputs": [
        {
          "output_type": "stream",
          "name": "stdout",
          "text": [
            "Copy your Api Key (first register/login): https://c.app.hopsworks.ai/account/api/generated\n",
            "\n",
            "Paste it here: ··········\n",
            "Connected. Call `.close()` to terminate connection gracefully.\n",
            "\n",
            "Logged in to project, explore it here https://c.app.hopsworks.ai:443/p/112801\n",
            "Connected. Call `.close()` to terminate connection gracefully.\n"
          ]
        }
      ],
      "source": [
        "##load feature group from hopsworks\n",
        "project = hopsworks.login()\n",
        "fs = project.get_feature_store()\n"
      ]
    },
    {
      "cell_type": "code",
      "execution_count": 5,
      "metadata": {
        "id": "-xITPgB8p-IV"
      },
      "outputs": [],
      "source": [
        "backfill_fg  = fs.get_feature_group(name=\"diabetes_features_backfill\",\n",
        "    version=1)"
      ]
    },
    {
      "cell_type": "code",
      "execution_count": 6,
      "metadata": {
        "id": "OWavmGt-qS9l"
      },
      "outputs": [],
      "source": [
        "query = backfill_fg.select_all()\n",
        "# query = fg.select([\"age\", \"bmi\", \"HbA1c_level\", \"blood_glucose_level\", \"diabetes\"])\n"
      ]
    },
    {
      "cell_type": "code",
      "execution_count": 7,
      "metadata": {
        "id": "0CtgHN4os64p"
      },
      "outputs": [],
      "source": [
        "feature_view = fs.get_or_create_feature_view(\n",
        "    name=\"diabetes_training_feature_view\",\n",
        "    version=1,\n",
        "    description=\"Feature view for diabetes training models\",\n",
        "    labels=[\"diabetes\"],\n",
        "    query=query\n",
        ")"
      ]
    },
    {
      "cell_type": "code",
      "execution_count": 8,
      "metadata": {
        "colab": {
          "base_uri": "https://localhost:8080/"
        },
        "id": "5lU6WgUXR8y7",
        "outputId": "58acbe42-5d49-49b7-bc8e-3af1d03dd647"
      },
      "outputs": [
        {
          "output_type": "stream",
          "name": "stdout",
          "text": [
            "SELECT `fg0`.`patient_id` `patient_id`, `fg0`.`age` `age`, `fg0`.`hypertension` `hypertension`, `fg0`.`heart_disease` `heart_disease`, `fg0`.`bmi` `bmi`, `fg0`.`hba1c_level` `hba1c_level`, `fg0`.`blood_glucose_level` `blood_glucose_level`, `fg0`.`diabetes` `diabetes`, `fg0`.`datetime` `datetime`\n",
            "FROM `churn_prediction_featurestore`.`diabetes_features_backfill_1` `fg0`\n"
          ]
        }
      ],
      "source": [
        "print(feature_view.query.to_string())"
      ]
    },
    {
      "cell_type": "code",
      "execution_count": 10,
      "metadata": {
        "colab": {
          "base_uri": "https://localhost:8080/",
          "height": 224
        },
        "id": "OrtLNc1NTA-M",
        "outputId": "c49ffb10-9be9-4901-caae-2368e2cc82fc"
      },
      "outputs": [
        {
          "output_type": "stream",
          "name": "stdout",
          "text": [
            "Finished: Reading data from Hopsworks, using Hopsworks Feature Query Service (1.19s) \n"
          ]
        },
        {
          "output_type": "execute_result",
          "data": {
            "text/plain": [
              "   patient_id  age  hypertension  heart_disease    bmi  hba1c_level  \\\n",
              "0       46496   45             0              0  46.27          6.5   \n",
              "1      126601   52             1              0  31.70          5.6   \n",
              "2       86567   24             0              0  20.97          5.8   \n",
              "3      132019   42             0              0  37.58          6.2   \n",
              "4      136388   75             1              1  32.14          7.0   \n",
              "\n",
              "   blood_glucose_level                         datetime  \n",
              "0                  299 2024-07-18 12:24:25.622299+00:00  \n",
              "1                  158 2024-07-18 12:24:25.622299+00:00  \n",
              "2                  145 2024-07-18 12:24:25.622299+00:00  \n",
              "3                  158 2024-07-18 12:24:25.622299+00:00  \n",
              "4                  237 2024-07-18 12:24:25.622299+00:00  "
            ],
            "text/html": [
              "\n",
              "  <div id=\"df-2e1f4730-c28c-44f9-8a64-b5a02465ae15\" class=\"colab-df-container\">\n",
              "    <div>\n",
              "<style scoped>\n",
              "    .dataframe tbody tr th:only-of-type {\n",
              "        vertical-align: middle;\n",
              "    }\n",
              "\n",
              "    .dataframe tbody tr th {\n",
              "        vertical-align: top;\n",
              "    }\n",
              "\n",
              "    .dataframe thead th {\n",
              "        text-align: right;\n",
              "    }\n",
              "</style>\n",
              "<table border=\"1\" class=\"dataframe\">\n",
              "  <thead>\n",
              "    <tr style=\"text-align: right;\">\n",
              "      <th></th>\n",
              "      <th>patient_id</th>\n",
              "      <th>age</th>\n",
              "      <th>hypertension</th>\n",
              "      <th>heart_disease</th>\n",
              "      <th>bmi</th>\n",
              "      <th>hba1c_level</th>\n",
              "      <th>blood_glucose_level</th>\n",
              "      <th>datetime</th>\n",
              "    </tr>\n",
              "  </thead>\n",
              "  <tbody>\n",
              "    <tr>\n",
              "      <th>0</th>\n",
              "      <td>46496</td>\n",
              "      <td>45</td>\n",
              "      <td>0</td>\n",
              "      <td>0</td>\n",
              "      <td>46.27</td>\n",
              "      <td>6.5</td>\n",
              "      <td>299</td>\n",
              "      <td>2024-07-18 12:24:25.622299+00:00</td>\n",
              "    </tr>\n",
              "    <tr>\n",
              "      <th>1</th>\n",
              "      <td>126601</td>\n",
              "      <td>52</td>\n",
              "      <td>1</td>\n",
              "      <td>0</td>\n",
              "      <td>31.70</td>\n",
              "      <td>5.6</td>\n",
              "      <td>158</td>\n",
              "      <td>2024-07-18 12:24:25.622299+00:00</td>\n",
              "    </tr>\n",
              "    <tr>\n",
              "      <th>2</th>\n",
              "      <td>86567</td>\n",
              "      <td>24</td>\n",
              "      <td>0</td>\n",
              "      <td>0</td>\n",
              "      <td>20.97</td>\n",
              "      <td>5.8</td>\n",
              "      <td>145</td>\n",
              "      <td>2024-07-18 12:24:25.622299+00:00</td>\n",
              "    </tr>\n",
              "    <tr>\n",
              "      <th>3</th>\n",
              "      <td>132019</td>\n",
              "      <td>42</td>\n",
              "      <td>0</td>\n",
              "      <td>0</td>\n",
              "      <td>37.58</td>\n",
              "      <td>6.2</td>\n",
              "      <td>158</td>\n",
              "      <td>2024-07-18 12:24:25.622299+00:00</td>\n",
              "    </tr>\n",
              "    <tr>\n",
              "      <th>4</th>\n",
              "      <td>136388</td>\n",
              "      <td>75</td>\n",
              "      <td>1</td>\n",
              "      <td>1</td>\n",
              "      <td>32.14</td>\n",
              "      <td>7.0</td>\n",
              "      <td>237</td>\n",
              "      <td>2024-07-18 12:24:25.622299+00:00</td>\n",
              "    </tr>\n",
              "  </tbody>\n",
              "</table>\n",
              "</div>\n",
              "    <div class=\"colab-df-buttons\">\n",
              "\n",
              "  <div class=\"colab-df-container\">\n",
              "    <button class=\"colab-df-convert\" onclick=\"convertToInteractive('df-2e1f4730-c28c-44f9-8a64-b5a02465ae15')\"\n",
              "            title=\"Convert this dataframe to an interactive table.\"\n",
              "            style=\"display:none;\">\n",
              "\n",
              "  <svg xmlns=\"http://www.w3.org/2000/svg\" height=\"24px\" viewBox=\"0 -960 960 960\">\n",
              "    <path d=\"M120-120v-720h720v720H120Zm60-500h600v-160H180v160Zm220 220h160v-160H400v160Zm0 220h160v-160H400v160ZM180-400h160v-160H180v160Zm440 0h160v-160H620v160ZM180-180h160v-160H180v160Zm440 0h160v-160H620v160Z\"/>\n",
              "  </svg>\n",
              "    </button>\n",
              "\n",
              "  <style>\n",
              "    .colab-df-container {\n",
              "      display:flex;\n",
              "      gap: 12px;\n",
              "    }\n",
              "\n",
              "    .colab-df-convert {\n",
              "      background-color: #E8F0FE;\n",
              "      border: none;\n",
              "      border-radius: 50%;\n",
              "      cursor: pointer;\n",
              "      display: none;\n",
              "      fill: #1967D2;\n",
              "      height: 32px;\n",
              "      padding: 0 0 0 0;\n",
              "      width: 32px;\n",
              "    }\n",
              "\n",
              "    .colab-df-convert:hover {\n",
              "      background-color: #E2EBFA;\n",
              "      box-shadow: 0px 1px 2px rgba(60, 64, 67, 0.3), 0px 1px 3px 1px rgba(60, 64, 67, 0.15);\n",
              "      fill: #174EA6;\n",
              "    }\n",
              "\n",
              "    .colab-df-buttons div {\n",
              "      margin-bottom: 4px;\n",
              "    }\n",
              "\n",
              "    [theme=dark] .colab-df-convert {\n",
              "      background-color: #3B4455;\n",
              "      fill: #D2E3FC;\n",
              "    }\n",
              "\n",
              "    [theme=dark] .colab-df-convert:hover {\n",
              "      background-color: #434B5C;\n",
              "      box-shadow: 0px 1px 3px 1px rgba(0, 0, 0, 0.15);\n",
              "      filter: drop-shadow(0px 1px 2px rgba(0, 0, 0, 0.3));\n",
              "      fill: #FFFFFF;\n",
              "    }\n",
              "  </style>\n",
              "\n",
              "    <script>\n",
              "      const buttonEl =\n",
              "        document.querySelector('#df-2e1f4730-c28c-44f9-8a64-b5a02465ae15 button.colab-df-convert');\n",
              "      buttonEl.style.display =\n",
              "        google.colab.kernel.accessAllowed ? 'block' : 'none';\n",
              "\n",
              "      async function convertToInteractive(key) {\n",
              "        const element = document.querySelector('#df-2e1f4730-c28c-44f9-8a64-b5a02465ae15');\n",
              "        const dataTable =\n",
              "          await google.colab.kernel.invokeFunction('convertToInteractive',\n",
              "                                                    [key], {});\n",
              "        if (!dataTable) return;\n",
              "\n",
              "        const docLinkHtml = 'Like what you see? Visit the ' +\n",
              "          '<a target=\"_blank\" href=https://colab.research.google.com/notebooks/data_table.ipynb>data table notebook</a>'\n",
              "          + ' to learn more about interactive tables.';\n",
              "        element.innerHTML = '';\n",
              "        dataTable['output_type'] = 'display_data';\n",
              "        await google.colab.output.renderOutput(dataTable, element);\n",
              "        const docLink = document.createElement('div');\n",
              "        docLink.innerHTML = docLinkHtml;\n",
              "        element.appendChild(docLink);\n",
              "      }\n",
              "    </script>\n",
              "  </div>\n",
              "\n",
              "\n",
              "<div id=\"df-bf78bf19-9689-4303-ad16-bc9bf9d05e93\">\n",
              "  <button class=\"colab-df-quickchart\" onclick=\"quickchart('df-bf78bf19-9689-4303-ad16-bc9bf9d05e93')\"\n",
              "            title=\"Suggest charts\"\n",
              "            style=\"display:none;\">\n",
              "\n",
              "<svg xmlns=\"http://www.w3.org/2000/svg\" height=\"24px\"viewBox=\"0 0 24 24\"\n",
              "     width=\"24px\">\n",
              "    <g>\n",
              "        <path d=\"M19 3H5c-1.1 0-2 .9-2 2v14c0 1.1.9 2 2 2h14c1.1 0 2-.9 2-2V5c0-1.1-.9-2-2-2zM9 17H7v-7h2v7zm4 0h-2V7h2v10zm4 0h-2v-4h2v4z\"/>\n",
              "    </g>\n",
              "</svg>\n",
              "  </button>\n",
              "\n",
              "<style>\n",
              "  .colab-df-quickchart {\n",
              "      --bg-color: #E8F0FE;\n",
              "      --fill-color: #1967D2;\n",
              "      --hover-bg-color: #E2EBFA;\n",
              "      --hover-fill-color: #174EA6;\n",
              "      --disabled-fill-color: #AAA;\n",
              "      --disabled-bg-color: #DDD;\n",
              "  }\n",
              "\n",
              "  [theme=dark] .colab-df-quickchart {\n",
              "      --bg-color: #3B4455;\n",
              "      --fill-color: #D2E3FC;\n",
              "      --hover-bg-color: #434B5C;\n",
              "      --hover-fill-color: #FFFFFF;\n",
              "      --disabled-bg-color: #3B4455;\n",
              "      --disabled-fill-color: #666;\n",
              "  }\n",
              "\n",
              "  .colab-df-quickchart {\n",
              "    background-color: var(--bg-color);\n",
              "    border: none;\n",
              "    border-radius: 50%;\n",
              "    cursor: pointer;\n",
              "    display: none;\n",
              "    fill: var(--fill-color);\n",
              "    height: 32px;\n",
              "    padding: 0;\n",
              "    width: 32px;\n",
              "  }\n",
              "\n",
              "  .colab-df-quickchart:hover {\n",
              "    background-color: var(--hover-bg-color);\n",
              "    box-shadow: 0 1px 2px rgba(60, 64, 67, 0.3), 0 1px 3px 1px rgba(60, 64, 67, 0.15);\n",
              "    fill: var(--button-hover-fill-color);\n",
              "  }\n",
              "\n",
              "  .colab-df-quickchart-complete:disabled,\n",
              "  .colab-df-quickchart-complete:disabled:hover {\n",
              "    background-color: var(--disabled-bg-color);\n",
              "    fill: var(--disabled-fill-color);\n",
              "    box-shadow: none;\n",
              "  }\n",
              "\n",
              "  .colab-df-spinner {\n",
              "    border: 2px solid var(--fill-color);\n",
              "    border-color: transparent;\n",
              "    border-bottom-color: var(--fill-color);\n",
              "    animation:\n",
              "      spin 1s steps(1) infinite;\n",
              "  }\n",
              "\n",
              "  @keyframes spin {\n",
              "    0% {\n",
              "      border-color: transparent;\n",
              "      border-bottom-color: var(--fill-color);\n",
              "      border-left-color: var(--fill-color);\n",
              "    }\n",
              "    20% {\n",
              "      border-color: transparent;\n",
              "      border-left-color: var(--fill-color);\n",
              "      border-top-color: var(--fill-color);\n",
              "    }\n",
              "    30% {\n",
              "      border-color: transparent;\n",
              "      border-left-color: var(--fill-color);\n",
              "      border-top-color: var(--fill-color);\n",
              "      border-right-color: var(--fill-color);\n",
              "    }\n",
              "    40% {\n",
              "      border-color: transparent;\n",
              "      border-right-color: var(--fill-color);\n",
              "      border-top-color: var(--fill-color);\n",
              "    }\n",
              "    60% {\n",
              "      border-color: transparent;\n",
              "      border-right-color: var(--fill-color);\n",
              "    }\n",
              "    80% {\n",
              "      border-color: transparent;\n",
              "      border-right-color: var(--fill-color);\n",
              "      border-bottom-color: var(--fill-color);\n",
              "    }\n",
              "    90% {\n",
              "      border-color: transparent;\n",
              "      border-bottom-color: var(--fill-color);\n",
              "    }\n",
              "  }\n",
              "</style>\n",
              "\n",
              "  <script>\n",
              "    async function quickchart(key) {\n",
              "      const quickchartButtonEl =\n",
              "        document.querySelector('#' + key + ' button');\n",
              "      quickchartButtonEl.disabled = true;  // To prevent multiple clicks.\n",
              "      quickchartButtonEl.classList.add('colab-df-spinner');\n",
              "      try {\n",
              "        const charts = await google.colab.kernel.invokeFunction(\n",
              "            'suggestCharts', [key], {});\n",
              "      } catch (error) {\n",
              "        console.error('Error during call to suggestCharts:', error);\n",
              "      }\n",
              "      quickchartButtonEl.classList.remove('colab-df-spinner');\n",
              "      quickchartButtonEl.classList.add('colab-df-quickchart-complete');\n",
              "    }\n",
              "    (() => {\n",
              "      let quickchartButtonEl =\n",
              "        document.querySelector('#df-bf78bf19-9689-4303-ad16-bc9bf9d05e93 button');\n",
              "      quickchartButtonEl.style.display =\n",
              "        google.colab.kernel.accessAllowed ? 'block' : 'none';\n",
              "    })();\n",
              "  </script>\n",
              "</div>\n",
              "\n",
              "    </div>\n",
              "  </div>\n"
            ],
            "application/vnd.google.colaboratory.intrinsic+json": {
              "type": "dataframe",
              "variable_name": "feature_df"
            }
          },
          "metadata": {},
          "execution_count": 10
        }
      ],
      "source": [
        "feature_df = feature_view.get_batch_data()\n",
        "# feature_df.head(5)"
      ]
    },
    {
      "cell_type": "code",
      "execution_count": 31,
      "metadata": {
        "colab": {
          "base_uri": "https://localhost:8080/"
        },
        "id": "URYMemQ7TWcN",
        "outputId": "ceda3231-b29b-450e-f2ae-ad0338446a44"
      },
      "outputs": [
        {
          "output_type": "stream",
          "name": "stdout",
          "text": [
            "Training dataset job started successfully, you can follow the progress at \n",
            "https://c.app.hopsworks.ai/p/112801/jobs/named/diabetes_training_feature_view_1_create_fv_td_18072024182126/executions\n"
          ]
        },
        {
          "output_type": "stream",
          "name": "stderr",
          "text": [
            "WARNING:py.warnings:VersionWarning: Incremented version to `1`.\n",
            "\n"
          ]
        }
      ],
      "source": [
        "td_version, td_job = feature_view.create_train_test_split(\n",
        "    description = 'diabetes batch training dataset',\n",
        "    data_format = \"csv\",\n",
        "    test_size = 0.2,\n",
        "    coalesce = True,\n",
        "    statistics_config={\n",
        "        \"enabled\": True,\n",
        "        \"histograms\": False,\n",
        "        \"correlations\": False\n",
        "    }\n",
        ")"
      ]
    },
    {
      "cell_type": "code",
      "execution_count": 11,
      "metadata": {
        "id": "AKBpTlV1VcFZ"
      },
      "outputs": [],
      "source": [
        "# td_version = 1\n",
        "X_train, X_eval, y_train, y_eval = feature_view.get_train_test_split(training_dataset_version=td_version)"
      ]
    },
    {
      "cell_type": "code",
      "source": [
        "#  X_train.head(3)"
      ],
      "metadata": {
        "colab": {
          "base_uri": "https://localhost:8080/",
          "height": 143
        },
        "id": "NN-D_282YfBP",
        "outputId": "fb9621be-1d03-4f16-e3d5-b2317c611b0f"
      },
      "execution_count": 12,
      "outputs": [
        {
          "output_type": "execute_result",
          "data": {
            "text/plain": [
              "   patient_id  age  hypertension  heart_disease    bmi  hba1c_level  \\\n",
              "0           0   72             0              0  23.77          4.0   \n",
              "1           1   79             1              0  41.20          6.5   \n",
              "2           2   54             0              0  35.55          6.7   \n",
              "\n",
              "   blood_glucose_level                  datetime  \n",
              "0                   85  2024-07-18T15:49:55.081Z  \n",
              "1                  144  2024-07-18T15:49:55.081Z  \n",
              "2                  143  2024-07-18T15:49:55.081Z  "
            ],
            "text/html": [
              "\n",
              "  <div id=\"df-46ba888c-40d2-4e6f-ae62-b10b0dcf999f\" class=\"colab-df-container\">\n",
              "    <div>\n",
              "<style scoped>\n",
              "    .dataframe tbody tr th:only-of-type {\n",
              "        vertical-align: middle;\n",
              "    }\n",
              "\n",
              "    .dataframe tbody tr th {\n",
              "        vertical-align: top;\n",
              "    }\n",
              "\n",
              "    .dataframe thead th {\n",
              "        text-align: right;\n",
              "    }\n",
              "</style>\n",
              "<table border=\"1\" class=\"dataframe\">\n",
              "  <thead>\n",
              "    <tr style=\"text-align: right;\">\n",
              "      <th></th>\n",
              "      <th>patient_id</th>\n",
              "      <th>age</th>\n",
              "      <th>hypertension</th>\n",
              "      <th>heart_disease</th>\n",
              "      <th>bmi</th>\n",
              "      <th>hba1c_level</th>\n",
              "      <th>blood_glucose_level</th>\n",
              "      <th>datetime</th>\n",
              "    </tr>\n",
              "  </thead>\n",
              "  <tbody>\n",
              "    <tr>\n",
              "      <th>0</th>\n",
              "      <td>0</td>\n",
              "      <td>72</td>\n",
              "      <td>0</td>\n",
              "      <td>0</td>\n",
              "      <td>23.77</td>\n",
              "      <td>4.0</td>\n",
              "      <td>85</td>\n",
              "      <td>2024-07-18T15:49:55.081Z</td>\n",
              "    </tr>\n",
              "    <tr>\n",
              "      <th>1</th>\n",
              "      <td>1</td>\n",
              "      <td>79</td>\n",
              "      <td>1</td>\n",
              "      <td>0</td>\n",
              "      <td>41.20</td>\n",
              "      <td>6.5</td>\n",
              "      <td>144</td>\n",
              "      <td>2024-07-18T15:49:55.081Z</td>\n",
              "    </tr>\n",
              "    <tr>\n",
              "      <th>2</th>\n",
              "      <td>2</td>\n",
              "      <td>54</td>\n",
              "      <td>0</td>\n",
              "      <td>0</td>\n",
              "      <td>35.55</td>\n",
              "      <td>6.7</td>\n",
              "      <td>143</td>\n",
              "      <td>2024-07-18T15:49:55.081Z</td>\n",
              "    </tr>\n",
              "  </tbody>\n",
              "</table>\n",
              "</div>\n",
              "    <div class=\"colab-df-buttons\">\n",
              "\n",
              "  <div class=\"colab-df-container\">\n",
              "    <button class=\"colab-df-convert\" onclick=\"convertToInteractive('df-46ba888c-40d2-4e6f-ae62-b10b0dcf999f')\"\n",
              "            title=\"Convert this dataframe to an interactive table.\"\n",
              "            style=\"display:none;\">\n",
              "\n",
              "  <svg xmlns=\"http://www.w3.org/2000/svg\" height=\"24px\" viewBox=\"0 -960 960 960\">\n",
              "    <path d=\"M120-120v-720h720v720H120Zm60-500h600v-160H180v160Zm220 220h160v-160H400v160Zm0 220h160v-160H400v160ZM180-400h160v-160H180v160Zm440 0h160v-160H620v160ZM180-180h160v-160H180v160Zm440 0h160v-160H620v160Z\"/>\n",
              "  </svg>\n",
              "    </button>\n",
              "\n",
              "  <style>\n",
              "    .colab-df-container {\n",
              "      display:flex;\n",
              "      gap: 12px;\n",
              "    }\n",
              "\n",
              "    .colab-df-convert {\n",
              "      background-color: #E8F0FE;\n",
              "      border: none;\n",
              "      border-radius: 50%;\n",
              "      cursor: pointer;\n",
              "      display: none;\n",
              "      fill: #1967D2;\n",
              "      height: 32px;\n",
              "      padding: 0 0 0 0;\n",
              "      width: 32px;\n",
              "    }\n",
              "\n",
              "    .colab-df-convert:hover {\n",
              "      background-color: #E2EBFA;\n",
              "      box-shadow: 0px 1px 2px rgba(60, 64, 67, 0.3), 0px 1px 3px 1px rgba(60, 64, 67, 0.15);\n",
              "      fill: #174EA6;\n",
              "    }\n",
              "\n",
              "    .colab-df-buttons div {\n",
              "      margin-bottom: 4px;\n",
              "    }\n",
              "\n",
              "    [theme=dark] .colab-df-convert {\n",
              "      background-color: #3B4455;\n",
              "      fill: #D2E3FC;\n",
              "    }\n",
              "\n",
              "    [theme=dark] .colab-df-convert:hover {\n",
              "      background-color: #434B5C;\n",
              "      box-shadow: 0px 1px 3px 1px rgba(0, 0, 0, 0.15);\n",
              "      filter: drop-shadow(0px 1px 2px rgba(0, 0, 0, 0.3));\n",
              "      fill: #FFFFFF;\n",
              "    }\n",
              "  </style>\n",
              "\n",
              "    <script>\n",
              "      const buttonEl =\n",
              "        document.querySelector('#df-46ba888c-40d2-4e6f-ae62-b10b0dcf999f button.colab-df-convert');\n",
              "      buttonEl.style.display =\n",
              "        google.colab.kernel.accessAllowed ? 'block' : 'none';\n",
              "\n",
              "      async function convertToInteractive(key) {\n",
              "        const element = document.querySelector('#df-46ba888c-40d2-4e6f-ae62-b10b0dcf999f');\n",
              "        const dataTable =\n",
              "          await google.colab.kernel.invokeFunction('convertToInteractive',\n",
              "                                                    [key], {});\n",
              "        if (!dataTable) return;\n",
              "\n",
              "        const docLinkHtml = 'Like what you see? Visit the ' +\n",
              "          '<a target=\"_blank\" href=https://colab.research.google.com/notebooks/data_table.ipynb>data table notebook</a>'\n",
              "          + ' to learn more about interactive tables.';\n",
              "        element.innerHTML = '';\n",
              "        dataTable['output_type'] = 'display_data';\n",
              "        await google.colab.output.renderOutput(dataTable, element);\n",
              "        const docLink = document.createElement('div');\n",
              "        docLink.innerHTML = docLinkHtml;\n",
              "        element.appendChild(docLink);\n",
              "      }\n",
              "    </script>\n",
              "  </div>\n",
              "\n",
              "\n",
              "<div id=\"df-4ec781c7-8efc-497f-8da3-6ffeb7886e53\">\n",
              "  <button class=\"colab-df-quickchart\" onclick=\"quickchart('df-4ec781c7-8efc-497f-8da3-6ffeb7886e53')\"\n",
              "            title=\"Suggest charts\"\n",
              "            style=\"display:none;\">\n",
              "\n",
              "<svg xmlns=\"http://www.w3.org/2000/svg\" height=\"24px\"viewBox=\"0 0 24 24\"\n",
              "     width=\"24px\">\n",
              "    <g>\n",
              "        <path d=\"M19 3H5c-1.1 0-2 .9-2 2v14c0 1.1.9 2 2 2h14c1.1 0 2-.9 2-2V5c0-1.1-.9-2-2-2zM9 17H7v-7h2v7zm4 0h-2V7h2v10zm4 0h-2v-4h2v4z\"/>\n",
              "    </g>\n",
              "</svg>\n",
              "  </button>\n",
              "\n",
              "<style>\n",
              "  .colab-df-quickchart {\n",
              "      --bg-color: #E8F0FE;\n",
              "      --fill-color: #1967D2;\n",
              "      --hover-bg-color: #E2EBFA;\n",
              "      --hover-fill-color: #174EA6;\n",
              "      --disabled-fill-color: #AAA;\n",
              "      --disabled-bg-color: #DDD;\n",
              "  }\n",
              "\n",
              "  [theme=dark] .colab-df-quickchart {\n",
              "      --bg-color: #3B4455;\n",
              "      --fill-color: #D2E3FC;\n",
              "      --hover-bg-color: #434B5C;\n",
              "      --hover-fill-color: #FFFFFF;\n",
              "      --disabled-bg-color: #3B4455;\n",
              "      --disabled-fill-color: #666;\n",
              "  }\n",
              "\n",
              "  .colab-df-quickchart {\n",
              "    background-color: var(--bg-color);\n",
              "    border: none;\n",
              "    border-radius: 50%;\n",
              "    cursor: pointer;\n",
              "    display: none;\n",
              "    fill: var(--fill-color);\n",
              "    height: 32px;\n",
              "    padding: 0;\n",
              "    width: 32px;\n",
              "  }\n",
              "\n",
              "  .colab-df-quickchart:hover {\n",
              "    background-color: var(--hover-bg-color);\n",
              "    box-shadow: 0 1px 2px rgba(60, 64, 67, 0.3), 0 1px 3px 1px rgba(60, 64, 67, 0.15);\n",
              "    fill: var(--button-hover-fill-color);\n",
              "  }\n",
              "\n",
              "  .colab-df-quickchart-complete:disabled,\n",
              "  .colab-df-quickchart-complete:disabled:hover {\n",
              "    background-color: var(--disabled-bg-color);\n",
              "    fill: var(--disabled-fill-color);\n",
              "    box-shadow: none;\n",
              "  }\n",
              "\n",
              "  .colab-df-spinner {\n",
              "    border: 2px solid var(--fill-color);\n",
              "    border-color: transparent;\n",
              "    border-bottom-color: var(--fill-color);\n",
              "    animation:\n",
              "      spin 1s steps(1) infinite;\n",
              "  }\n",
              "\n",
              "  @keyframes spin {\n",
              "    0% {\n",
              "      border-color: transparent;\n",
              "      border-bottom-color: var(--fill-color);\n",
              "      border-left-color: var(--fill-color);\n",
              "    }\n",
              "    20% {\n",
              "      border-color: transparent;\n",
              "      border-left-color: var(--fill-color);\n",
              "      border-top-color: var(--fill-color);\n",
              "    }\n",
              "    30% {\n",
              "      border-color: transparent;\n",
              "      border-left-color: var(--fill-color);\n",
              "      border-top-color: var(--fill-color);\n",
              "      border-right-color: var(--fill-color);\n",
              "    }\n",
              "    40% {\n",
              "      border-color: transparent;\n",
              "      border-right-color: var(--fill-color);\n",
              "      border-top-color: var(--fill-color);\n",
              "    }\n",
              "    60% {\n",
              "      border-color: transparent;\n",
              "      border-right-color: var(--fill-color);\n",
              "    }\n",
              "    80% {\n",
              "      border-color: transparent;\n",
              "      border-right-color: var(--fill-color);\n",
              "      border-bottom-color: var(--fill-color);\n",
              "    }\n",
              "    90% {\n",
              "      border-color: transparent;\n",
              "      border-bottom-color: var(--fill-color);\n",
              "    }\n",
              "  }\n",
              "</style>\n",
              "\n",
              "  <script>\n",
              "    async function quickchart(key) {\n",
              "      const quickchartButtonEl =\n",
              "        document.querySelector('#' + key + ' button');\n",
              "      quickchartButtonEl.disabled = true;  // To prevent multiple clicks.\n",
              "      quickchartButtonEl.classList.add('colab-df-spinner');\n",
              "      try {\n",
              "        const charts = await google.colab.kernel.invokeFunction(\n",
              "            'suggestCharts', [key], {});\n",
              "      } catch (error) {\n",
              "        console.error('Error during call to suggestCharts:', error);\n",
              "      }\n",
              "      quickchartButtonEl.classList.remove('colab-df-spinner');\n",
              "      quickchartButtonEl.classList.add('colab-df-quickchart-complete');\n",
              "    }\n",
              "    (() => {\n",
              "      let quickchartButtonEl =\n",
              "        document.querySelector('#df-4ec781c7-8efc-497f-8da3-6ffeb7886e53 button');\n",
              "      quickchartButtonEl.style.display =\n",
              "        google.colab.kernel.accessAllowed ? 'block' : 'none';\n",
              "    })();\n",
              "  </script>\n",
              "</div>\n",
              "\n",
              "    </div>\n",
              "  </div>\n"
            ],
            "application/vnd.google.colaboratory.intrinsic+json": {
              "type": "dataframe",
              "variable_name": "X_train"
            }
          },
          "metadata": {},
          "execution_count": 12
        }
      ]
    },
    {
      "cell_type": "code",
      "source": [
        "# y_train.head(3)"
      ],
      "metadata": {
        "colab": {
          "base_uri": "https://localhost:8080/",
          "height": 143
        },
        "id": "jpnSuE4xVWun",
        "outputId": "3d4509b7-7d70-4385-d4b9-3928090c7c03"
      },
      "execution_count": 13,
      "outputs": [
        {
          "output_type": "execute_result",
          "data": {
            "text/plain": [
              "   diabetes\n",
              "0         0\n",
              "1         1\n",
              "2         1"
            ],
            "text/html": [
              "\n",
              "  <div id=\"df-be2631e2-d2cf-4148-8770-61db54acf7fe\" class=\"colab-df-container\">\n",
              "    <div>\n",
              "<style scoped>\n",
              "    .dataframe tbody tr th:only-of-type {\n",
              "        vertical-align: middle;\n",
              "    }\n",
              "\n",
              "    .dataframe tbody tr th {\n",
              "        vertical-align: top;\n",
              "    }\n",
              "\n",
              "    .dataframe thead th {\n",
              "        text-align: right;\n",
              "    }\n",
              "</style>\n",
              "<table border=\"1\" class=\"dataframe\">\n",
              "  <thead>\n",
              "    <tr style=\"text-align: right;\">\n",
              "      <th></th>\n",
              "      <th>diabetes</th>\n",
              "    </tr>\n",
              "  </thead>\n",
              "  <tbody>\n",
              "    <tr>\n",
              "      <th>0</th>\n",
              "      <td>0</td>\n",
              "    </tr>\n",
              "    <tr>\n",
              "      <th>1</th>\n",
              "      <td>1</td>\n",
              "    </tr>\n",
              "    <tr>\n",
              "      <th>2</th>\n",
              "      <td>1</td>\n",
              "    </tr>\n",
              "  </tbody>\n",
              "</table>\n",
              "</div>\n",
              "    <div class=\"colab-df-buttons\">\n",
              "\n",
              "  <div class=\"colab-df-container\">\n",
              "    <button class=\"colab-df-convert\" onclick=\"convertToInteractive('df-be2631e2-d2cf-4148-8770-61db54acf7fe')\"\n",
              "            title=\"Convert this dataframe to an interactive table.\"\n",
              "            style=\"display:none;\">\n",
              "\n",
              "  <svg xmlns=\"http://www.w3.org/2000/svg\" height=\"24px\" viewBox=\"0 -960 960 960\">\n",
              "    <path d=\"M120-120v-720h720v720H120Zm60-500h600v-160H180v160Zm220 220h160v-160H400v160Zm0 220h160v-160H400v160ZM180-400h160v-160H180v160Zm440 0h160v-160H620v160ZM180-180h160v-160H180v160Zm440 0h160v-160H620v160Z\"/>\n",
              "  </svg>\n",
              "    </button>\n",
              "\n",
              "  <style>\n",
              "    .colab-df-container {\n",
              "      display:flex;\n",
              "      gap: 12px;\n",
              "    }\n",
              "\n",
              "    .colab-df-convert {\n",
              "      background-color: #E8F0FE;\n",
              "      border: none;\n",
              "      border-radius: 50%;\n",
              "      cursor: pointer;\n",
              "      display: none;\n",
              "      fill: #1967D2;\n",
              "      height: 32px;\n",
              "      padding: 0 0 0 0;\n",
              "      width: 32px;\n",
              "    }\n",
              "\n",
              "    .colab-df-convert:hover {\n",
              "      background-color: #E2EBFA;\n",
              "      box-shadow: 0px 1px 2px rgba(60, 64, 67, 0.3), 0px 1px 3px 1px rgba(60, 64, 67, 0.15);\n",
              "      fill: #174EA6;\n",
              "    }\n",
              "\n",
              "    .colab-df-buttons div {\n",
              "      margin-bottom: 4px;\n",
              "    }\n",
              "\n",
              "    [theme=dark] .colab-df-convert {\n",
              "      background-color: #3B4455;\n",
              "      fill: #D2E3FC;\n",
              "    }\n",
              "\n",
              "    [theme=dark] .colab-df-convert:hover {\n",
              "      background-color: #434B5C;\n",
              "      box-shadow: 0px 1px 3px 1px rgba(0, 0, 0, 0.15);\n",
              "      filter: drop-shadow(0px 1px 2px rgba(0, 0, 0, 0.3));\n",
              "      fill: #FFFFFF;\n",
              "    }\n",
              "  </style>\n",
              "\n",
              "    <script>\n",
              "      const buttonEl =\n",
              "        document.querySelector('#df-be2631e2-d2cf-4148-8770-61db54acf7fe button.colab-df-convert');\n",
              "      buttonEl.style.display =\n",
              "        google.colab.kernel.accessAllowed ? 'block' : 'none';\n",
              "\n",
              "      async function convertToInteractive(key) {\n",
              "        const element = document.querySelector('#df-be2631e2-d2cf-4148-8770-61db54acf7fe');\n",
              "        const dataTable =\n",
              "          await google.colab.kernel.invokeFunction('convertToInteractive',\n",
              "                                                    [key], {});\n",
              "        if (!dataTable) return;\n",
              "\n",
              "        const docLinkHtml = 'Like what you see? Visit the ' +\n",
              "          '<a target=\"_blank\" href=https://colab.research.google.com/notebooks/data_table.ipynb>data table notebook</a>'\n",
              "          + ' to learn more about interactive tables.';\n",
              "        element.innerHTML = '';\n",
              "        dataTable['output_type'] = 'display_data';\n",
              "        await google.colab.output.renderOutput(dataTable, element);\n",
              "        const docLink = document.createElement('div');\n",
              "        docLink.innerHTML = docLinkHtml;\n",
              "        element.appendChild(docLink);\n",
              "      }\n",
              "    </script>\n",
              "  </div>\n",
              "\n",
              "\n",
              "<div id=\"df-81fce715-30d9-4f65-acfd-b1520f4e2391\">\n",
              "  <button class=\"colab-df-quickchart\" onclick=\"quickchart('df-81fce715-30d9-4f65-acfd-b1520f4e2391')\"\n",
              "            title=\"Suggest charts\"\n",
              "            style=\"display:none;\">\n",
              "\n",
              "<svg xmlns=\"http://www.w3.org/2000/svg\" height=\"24px\"viewBox=\"0 0 24 24\"\n",
              "     width=\"24px\">\n",
              "    <g>\n",
              "        <path d=\"M19 3H5c-1.1 0-2 .9-2 2v14c0 1.1.9 2 2 2h14c1.1 0 2-.9 2-2V5c0-1.1-.9-2-2-2zM9 17H7v-7h2v7zm4 0h-2V7h2v10zm4 0h-2v-4h2v4z\"/>\n",
              "    </g>\n",
              "</svg>\n",
              "  </button>\n",
              "\n",
              "<style>\n",
              "  .colab-df-quickchart {\n",
              "      --bg-color: #E8F0FE;\n",
              "      --fill-color: #1967D2;\n",
              "      --hover-bg-color: #E2EBFA;\n",
              "      --hover-fill-color: #174EA6;\n",
              "      --disabled-fill-color: #AAA;\n",
              "      --disabled-bg-color: #DDD;\n",
              "  }\n",
              "\n",
              "  [theme=dark] .colab-df-quickchart {\n",
              "      --bg-color: #3B4455;\n",
              "      --fill-color: #D2E3FC;\n",
              "      --hover-bg-color: #434B5C;\n",
              "      --hover-fill-color: #FFFFFF;\n",
              "      --disabled-bg-color: #3B4455;\n",
              "      --disabled-fill-color: #666;\n",
              "  }\n",
              "\n",
              "  .colab-df-quickchart {\n",
              "    background-color: var(--bg-color);\n",
              "    border: none;\n",
              "    border-radius: 50%;\n",
              "    cursor: pointer;\n",
              "    display: none;\n",
              "    fill: var(--fill-color);\n",
              "    height: 32px;\n",
              "    padding: 0;\n",
              "    width: 32px;\n",
              "  }\n",
              "\n",
              "  .colab-df-quickchart:hover {\n",
              "    background-color: var(--hover-bg-color);\n",
              "    box-shadow: 0 1px 2px rgba(60, 64, 67, 0.3), 0 1px 3px 1px rgba(60, 64, 67, 0.15);\n",
              "    fill: var(--button-hover-fill-color);\n",
              "  }\n",
              "\n",
              "  .colab-df-quickchart-complete:disabled,\n",
              "  .colab-df-quickchart-complete:disabled:hover {\n",
              "    background-color: var(--disabled-bg-color);\n",
              "    fill: var(--disabled-fill-color);\n",
              "    box-shadow: none;\n",
              "  }\n",
              "\n",
              "  .colab-df-spinner {\n",
              "    border: 2px solid var(--fill-color);\n",
              "    border-color: transparent;\n",
              "    border-bottom-color: var(--fill-color);\n",
              "    animation:\n",
              "      spin 1s steps(1) infinite;\n",
              "  }\n",
              "\n",
              "  @keyframes spin {\n",
              "    0% {\n",
              "      border-color: transparent;\n",
              "      border-bottom-color: var(--fill-color);\n",
              "      border-left-color: var(--fill-color);\n",
              "    }\n",
              "    20% {\n",
              "      border-color: transparent;\n",
              "      border-left-color: var(--fill-color);\n",
              "      border-top-color: var(--fill-color);\n",
              "    }\n",
              "    30% {\n",
              "      border-color: transparent;\n",
              "      border-left-color: var(--fill-color);\n",
              "      border-top-color: var(--fill-color);\n",
              "      border-right-color: var(--fill-color);\n",
              "    }\n",
              "    40% {\n",
              "      border-color: transparent;\n",
              "      border-right-color: var(--fill-color);\n",
              "      border-top-color: var(--fill-color);\n",
              "    }\n",
              "    60% {\n",
              "      border-color: transparent;\n",
              "      border-right-color: var(--fill-color);\n",
              "    }\n",
              "    80% {\n",
              "      border-color: transparent;\n",
              "      border-right-color: var(--fill-color);\n",
              "      border-bottom-color: var(--fill-color);\n",
              "    }\n",
              "    90% {\n",
              "      border-color: transparent;\n",
              "      border-bottom-color: var(--fill-color);\n",
              "    }\n",
              "  }\n",
              "</style>\n",
              "\n",
              "  <script>\n",
              "    async function quickchart(key) {\n",
              "      const quickchartButtonEl =\n",
              "        document.querySelector('#' + key + ' button');\n",
              "      quickchartButtonEl.disabled = true;  // To prevent multiple clicks.\n",
              "      quickchartButtonEl.classList.add('colab-df-spinner');\n",
              "      try {\n",
              "        const charts = await google.colab.kernel.invokeFunction(\n",
              "            'suggestCharts', [key], {});\n",
              "      } catch (error) {\n",
              "        console.error('Error during call to suggestCharts:', error);\n",
              "      }\n",
              "      quickchartButtonEl.classList.remove('colab-df-spinner');\n",
              "      quickchartButtonEl.classList.add('colab-df-quickchart-complete');\n",
              "    }\n",
              "    (() => {\n",
              "      let quickchartButtonEl =\n",
              "        document.querySelector('#df-81fce715-30d9-4f65-acfd-b1520f4e2391 button');\n",
              "      quickchartButtonEl.style.display =\n",
              "        google.colab.kernel.accessAllowed ? 'block' : 'none';\n",
              "    })();\n",
              "  </script>\n",
              "</div>\n",
              "\n",
              "    </div>\n",
              "  </div>\n"
            ],
            "application/vnd.google.colaboratory.intrinsic+json": {
              "type": "dataframe",
              "variable_name": "y_train"
            }
          },
          "metadata": {},
          "execution_count": 13
        }
      ]
    },
    {
      "cell_type": "code",
      "source": [
        "#removing the patient_id and datetime\n",
        "X_train = X_train.iloc[:,1:-1]\n",
        "X_eval = X_eval.iloc[:,1:-1]"
      ],
      "metadata": {
        "id": "EmsvrcUyVcOJ"
      },
      "execution_count": 14,
      "outputs": []
    },
    {
      "cell_type": "code",
      "source": [
        "from catboost import CatBoostClassifier, Pool"
      ],
      "metadata": {
        "id": "K_67suciJ1k1"
      },
      "execution_count": 15,
      "outputs": []
    },
    {
      "cell_type": "code",
      "source": [
        "train_pool = Pool(X_train, y_train, cat_features=None)\n",
        "eval_pool = Pool(X_eval, y_eval, cat_features=None)"
      ],
      "metadata": {
        "id": "kOrnFgHdHkp5"
      },
      "execution_count": 16,
      "outputs": []
    },
    {
      "cell_type": "code",
      "source": [
        "model = CatBoostClassifier(\n",
        "    iterations=1000,\n",
        "    learning_rate=0.1,\n",
        "    depth=6,\n",
        "    loss_function='Logloss',\n",
        "    eval_metric='AUC',\n",
        "    random_seed=42,\n",
        "    early_stopping_rounds=50\n",
        ")"
      ],
      "metadata": {
        "id": "Tm_-HiwjGFRk"
      },
      "execution_count": 38,
      "outputs": []
    },
    {
      "cell_type": "code",
      "source": [
        "model.fit(train_pool, eval_set=eval_pool, verbose=100, plot=True)"
      ],
      "metadata": {
        "colab": {
          "base_uri": "https://localhost:8080/",
          "height": 208,
          "referenced_widgets": [
            "355cbff2197c4cdc8314ba8b03775e2e"
          ]
        },
        "id": "sER4Rs-4HfPs",
        "outputId": "a92b16b5-eed5-4f49-dc2e-c12c388494f5"
      },
      "execution_count": 39,
      "outputs": [
        {
          "output_type": "display_data",
          "data": {
            "text/plain": [
              "MetricVisualizer(layout=Layout(align_self='stretch', height='500px'))"
            ],
            "application/vnd.jupyter.widget-view+json": {
              "version_major": 2,
              "version_minor": 0,
              "model_id": "355cbff2197c4cdc8314ba8b03775e2e"
            }
          },
          "metadata": {}
        },
        {
          "output_type": "stream",
          "name": "stdout",
          "text": [
            "0:\ttest: 0.9732624\tbest: 0.9732624 (0)\ttotal: 15.5ms\tremaining: 15.5s\n",
            "100:\ttest: 0.9944194\tbest: 0.9944194 (100)\ttotal: 1.23s\tremaining: 11s\n",
            "200:\ttest: 0.9946418\tbest: 0.9946447 (197)\ttotal: 2.42s\tremaining: 9.62s\n",
            "300:\ttest: 0.9946546\tbest: 0.9946695 (275)\ttotal: 3.61s\tremaining: 8.39s\n",
            "Stopped by overfitting detector  (50 iterations wait)\n",
            "\n",
            "bestTest = 0.9946695347\n",
            "bestIteration = 275\n",
            "\n",
            "Shrink model to first 276 iterations.\n"
          ]
        },
        {
          "output_type": "execute_result",
          "data": {
            "text/plain": [
              "<catboost.core.CatBoostClassifier at 0x7a69141fd570>"
            ]
          },
          "metadata": {},
          "execution_count": 39
        }
      ]
    },
    {
      "cell_type": "code",
      "source": [
        "y_pred = model.predict(X_eval)"
      ],
      "metadata": {
        "id": "NWb8VY8vEXde"
      },
      "execution_count": 40,
      "outputs": []
    },
    {
      "cell_type": "code",
      "source": [
        "report_dict = classification_report(y_eval, y_pred, output_dict=True)"
      ],
      "metadata": {
        "id": "38xl5aktEdXh"
      },
      "execution_count": 41,
      "outputs": []
    },
    {
      "cell_type": "code",
      "source": [
        "print(classification_report(y_eval, y_pred))"
      ],
      "metadata": {
        "colab": {
          "base_uri": "https://localhost:8080/"
        },
        "id": "6FmYNjlldi07",
        "outputId": "d9fb20ef-6574-44cd-a7e7-96782714502b"
      },
      "execution_count": 42,
      "outputs": [
        {
          "output_type": "stream",
          "name": "stdout",
          "text": [
            "              precision    recall  f1-score   support\n",
            "\n",
            "           0       0.95      0.97      0.96     15611\n",
            "           1       0.97      0.95      0.96     14956\n",
            "\n",
            "    accuracy                           0.96     30567\n",
            "   macro avg       0.96      0.96      0.96     30567\n",
            "weighted avg       0.96      0.96      0.96     30567\n",
            "\n"
          ]
        }
      ]
    },
    {
      "cell_type": "markdown",
      "source": [
        "<h3> Searching for better models </h3>"
      ],
      "metadata": {
        "id": "asD0c6FkJiXg"
      }
    },
    {
      "cell_type": "code",
      "source": [
        "# param_grid = {\n",
        "#     'iterations': [500, 1000, 1500],\n",
        "#     'learning_rate': [0.01, 0.05, 0.1],\n",
        "#     'depth': [4, 6, 8, 10],\n",
        "#     'l2_leaf_reg': [1, 3, 5, 7, 9],\n",
        "#     'bagging_temperature': [0.1, 0.5, 1, 2, 5],\n",
        "#     'random_strength': [1, 2, 5, 10],\n",
        "#     'border_count': [32, 50, 100],\n",
        "# }\n",
        "\n",
        "# random_search = RandomizedSearchCV(\n",
        "#     estimator=model,\n",
        "#     param_distributions=param_grid,\n",
        "#     n_iter=50,\n",
        "#     scoring='f1',\n",
        "#     cv=3,\n",
        "#     verbose=3,\n",
        "#     random_state=42,\n",
        "#     n_jobs=-1\n",
        "# )\n",
        "\n",
        "#random_search.fit(X_train, y_train, cat_features=None)\n",
        "# best_model = random_search.best_estimator_\n",
        "\n",
        "# # Make predictions\n",
        "# y_pred = best_model.predict(X_eval)\n",
        "# y_proba = best_model.predict_proba(X_eval)[:, 1]\n",
        "\n",
        "# # Evaluate the model\n",
        "# print(classification_report(y_eval, y_pred))\n",
        "\n",
        "\n",
        "# from sklearn.ensemble import RandomForestClassifier\n",
        "# rf = RandomForestClassifier(random_state=42)\n",
        "# rf.fit(X_train, y_train.values.ravel())\n",
        "\n",
        "# y_pred = rf.predict(X_eval)\n",
        "\n",
        "# # Compare predictions (y_pred) with the labels in the test set (y_test)\n",
        "# metrics = classification_report(y_eval, y_pred, output_dict=True)\n",
        "# results = confusion_matrix(y_eval, y_pred)"
      ],
      "metadata": {
        "id": "nCs0qaWQJFQc"
      },
      "execution_count": 43,
      "outputs": []
    },
    {
      "cell_type": "code",
      "source": [
        "from sklearn.metrics import accuracy_score, precision_score, recall_score, f1_score\n",
        "\n",
        "accuracy = accuracy_score(y_eval, y_pred)\n",
        "precision = precision_score(y_eval, y_pred)\n",
        "recall = recall_score(y_eval, y_pred)\n",
        "f1 = f1_score(y_eval, y_pred)\n",
        "\n",
        "\n",
        "metrics = {\n",
        "    \"accuracy\": accuracy,\n",
        "    \"precision\": precision,\n",
        "    \"recall\": recall,\n",
        "    \"f1_score\": f1\n",
        "}"
      ],
      "metadata": {
        "id": "U420yHa5lmip"
      },
      "execution_count": 44,
      "outputs": []
    },
    {
      "cell_type": "code",
      "source": [
        "metrics"
      ],
      "metadata": {
        "colab": {
          "base_uri": "https://localhost:8080/"
        },
        "id": "TSkjOc6Soson",
        "outputId": "9be38906-0064-424c-e6ac-6e8babe63782"
      },
      "execution_count": 45,
      "outputs": [
        {
          "output_type": "execute_result",
          "data": {
            "text/plain": [
              "{'accuracy': 0.9624431576536788,\n",
              " 'precision': 0.9725530458590007,\n",
              " 'recall': 0.9500534902380315,\n",
              " 'f1_score': 0.9611716160454576}"
            ]
          },
          "metadata": {},
          "execution_count": 45
        }
      ]
    },
    {
      "cell_type": "code",
      "source": [
        "def register_python_model(model, name, description, features, labels, metrics):\n",
        "    from hsml.schema import Schema\n",
        "    from hsml.model_schema import ModelSchema\n",
        "    import os\n",
        "    import joblib\n",
        "    import shutil\n",
        "\n",
        "    mr = project.get_model_registry()\n",
        "\n",
        "    model_dir= name + \"_model\"\n",
        "    if not os.path.isdir(model_dir):\n",
        "        os.mkdir(model_dir)\n",
        "    pickle= name + '_model.pkl'\n",
        "\n",
        "    joblib.dump(model, model_dir + \"/\" + pickle)\n",
        "\n",
        "    input_example = features.sample()\n",
        "    input_schema = Schema(features)\n",
        "    output_schema = Schema(labels)\n",
        "    model_schema = ModelSchema(input_schema, output_schema)\n",
        "\n",
        "    diabetes_prediction_model = mr.python.create_model(\n",
        "        name=\"diabetes_prediction_model\",\n",
        "        metrics=metrics,\n",
        "        model_schema=model_schema,\n",
        "        input_example=input_example,\n",
        "        description=description)\n",
        "\n",
        "    # Save all artifacts in the model directory to the model registry\n",
        "    diabetes_prediction_model.save(model_dir)\n",
        "\n",
        "\n",
        "register_python_model(model, \"diab_pred\", \"Diabetes Predictor model\", X_train, y_train, metrics)\n"
      ],
      "metadata": {
        "id": "6gB7esuswarc",
        "colab": {
          "base_uri": "https://localhost:8080/",
          "height": 180,
          "referenced_widgets": [
            "79ab5a6d9575479bbd773d5729ae5c7a",
            "7ec718c6f9f94b78b378ee784bb8f1dd",
            "15444a05312241dc935acfcd3d24dfb5",
            "0159480c56fa46e6863abf29d35c83cf",
            "50e9e4529443438bb284af6bf165ce30",
            "f227e3eddf4742bcba814b70ae40a694",
            "8b85d8e626b64983b32c62708e0ecac4",
            "4778de16cb844ee49496d896446c17d4",
            "50d2f30d1d444210adfac5d58fc74173",
            "2fe5caf8235d4842ac3db7e297ef4cf3",
            "504f8cb5a0614e72ae19974d8a667ad4",
            "43a33f7df4714147bea7bb987d7a2348",
            "fb729489a52a43af90a2506895da848c",
            "622e5e0bd37944cd944f279d62ede261",
            "0840cb85172448c0a77eccaa6f9038b3",
            "066607f3419c41aca71b26946fd29107",
            "46f3e5d11a8e4e5a85cbf4b193735919",
            "8a16836d96234c66879e2df71e26019d",
            "8e8655d5cb6c4b04be5f21a58a698ea2",
            "da0b994e47f04ab582f6898b4211b6cb",
            "c701fd82456544a7aad3b8ba753ceab7",
            "e67181944ae2445aa8da78aea8748cc4",
            "a49468313d6044ab95835206bea8fd44",
            "79bc5e0bae2c4562993c86a43ac967b7",
            "56b017ce3d724cc6bf285624b0f92afe",
            "fe48501d6e0f465da85103f4f0d66f94",
            "6acf5a1112a24f43a97b9427c44f570b",
            "37b8b9b5eaba435c82f5c104bd8a8544",
            "50ee48332c4843cfb92166590260f5a2",
            "022c2b9a098442adbe9b7cd6e047648e",
            "df22721a8f2a41a49662f2b22dad8bc1",
            "9e93fbaf9690466d82ef68e4e36c58fe",
            "1ede2a374c60498babf35ef3ec318ffa",
            "939b146c46e14236850ec3ca7f0791df",
            "35fd30f73e94409884ec76b85e8ced37",
            "de1cac949fe940de8e823ad70e5333e4",
            "de65515516fe448288f7e30129564a9b",
            "209ed4dbd9094e8c88ce324313d9831f",
            "a62cedb021f74a0b8e5f9ea0e4df4fa2",
            "6f0925aae8e9467285f62f09941abeca",
            "da65a99f534a4a37b0a627ac34042b71",
            "55dbdd312d224abe8994714fb80198f5",
            "0da716aed9e84f2c905066f58ee8ca65",
            "238d49a9c63d4d839a09fc6e06576e78"
          ]
        },
        "outputId": "6306e094-bb84-40c2-de74-bb108de3fc78"
      },
      "execution_count": 46,
      "outputs": [
        {
          "output_type": "stream",
          "name": "stdout",
          "text": [
            "Connected. Call `.close()` to terminate connection gracefully.\n"
          ]
        },
        {
          "output_type": "display_data",
          "data": {
            "text/plain": [
              "  0%|          | 0/6 [00:00<?, ?it/s]"
            ],
            "application/vnd.jupyter.widget-view+json": {
              "version_major": 2,
              "version_minor": 0,
              "model_id": "79ab5a6d9575479bbd773d5729ae5c7a"
            }
          },
          "metadata": {}
        },
        {
          "output_type": "display_data",
          "data": {
            "text/plain": [
              "Uploading: 0.000%|          | 0/607765 elapsed<00:00 remaining<?"
            ],
            "application/vnd.jupyter.widget-view+json": {
              "version_major": 2,
              "version_minor": 0,
              "model_id": "43a33f7df4714147bea7bb987d7a2348"
            }
          },
          "metadata": {}
        },
        {
          "output_type": "display_data",
          "data": {
            "text/plain": [
              "Uploading: 0.000%|          | 0/35 elapsed<00:00 remaining<?"
            ],
            "application/vnd.jupyter.widget-view+json": {
              "version_major": 2,
              "version_minor": 0,
              "model_id": "a49468313d6044ab95835206bea8fd44"
            }
          },
          "metadata": {}
        },
        {
          "output_type": "display_data",
          "data": {
            "text/plain": [
              "Uploading: 0.000%|          | 0/613 elapsed<00:00 remaining<?"
            ],
            "application/vnd.jupyter.widget-view+json": {
              "version_major": 2,
              "version_minor": 0,
              "model_id": "939b146c46e14236850ec3ca7f0791df"
            }
          },
          "metadata": {}
        },
        {
          "output_type": "stream",
          "name": "stdout",
          "text": [
            "Model created, explore it at https://c.app.hopsworks.ai:443/p/112801/models/diabetes_prediction_model/1\n"
          ]
        }
      ]
    },
    {
      "cell_type": "code",
      "source": [],
      "metadata": {
        "id": "k1mJYUaWnH-l"
      },
      "execution_count": null,
      "outputs": []
    }
  ],
  "metadata": {
    "colab": {
      "provenance": [],
      "gpuType": "V28"
    },
    "kernelspec": {
      "display_name": "Python 3",
      "name": "python3"
    },
    "language_info": {
      "name": "python"
    },
    "accelerator": "TPU",
    "widgets": {
      "application/vnd.jupyter.widget-state+json": {
        "355cbff2197c4cdc8314ba8b03775e2e": {
          "model_module": "catboost-widget",
          "model_name": "CatboostWidgetModel",
          "model_module_version": "^1.0.0",
          "state": {
            "_dom_classes": [],
            "_model_module": "catboost-widget",
            "_model_module_version": "^1.0.0",
            "_model_name": "CatboostWidgetModel",
            "_view_count": null,
            "_view_module": "catboost-widget",
            "_view_module_version": "^1.0.0",
            "_view_name": "CatboostWidgetView",
            "data": {
              "catboost_info": {
                "path": "catboost_info",
                "name": "catboost_info",
                "content": {
                  "passed_iterations": 325,
                  "total_iterations": 1000,
                  "data": {
                    "iterations": [
                      {
                        "learn": [
                          0.4864802596
                        ],
                        "iteration": 0,
                        "passed_time": 0.01547731231,
                        "remaining_time": 15.46183499,
                        "test": [
                          0.9732623656,
                          0.4854476196
                        ]
                      },
                      {
                        "learn": [
                          0.36219723
                        ],
                        "iteration": 1,
                        "passed_time": 0.02938811198,
                        "remaining_time": 14.66466788,
                        "test": [
                          0.9746585821,
                          0.3608189356
                        ]
                      },
                      {
                        "learn": [
                          0.29504673
                        ],
                        "iteration": 2,
                        "passed_time": 0.04163250584,
                        "remaining_time": 13.83586944,
                        "test": [
                          0.9756884003,
                          0.29356572
                        ]
                      },
                      {
                        "learn": [
                          0.2629482573
                        ],
                        "iteration": 3,
                        "passed_time": 0.05443983387,
                        "remaining_time": 13.55551863,
                        "test": [
                          0.9813257338,
                          0.2614432806
                        ]
                      },
                      {
                        "learn": [
                          0.2385951157
                        ],
                        "iteration": 4,
                        "passed_time": 0.06640850281,
                        "remaining_time": 13.21529206,
                        "test": [
                          0.9820428031,
                          0.2368957859
                        ]
                      },
                      {
                        "learn": [
                          0.2211515429
                        ],
                        "iteration": 5,
                        "passed_time": 0.07963162359,
                        "remaining_time": 13.19230564,
                        "test": [
                          0.9836887347,
                          0.2191180614
                        ]
                      },
                      {
                        "learn": [
                          0.2070251567
                        ],
                        "iteration": 6,
                        "passed_time": 0.09206273456,
                        "remaining_time": 13.05975649,
                        "test": [
                          0.9849655438,
                          0.2049249144
                        ]
                      },
                      {
                        "learn": [
                          0.1962906856
                        ],
                        "iteration": 7,
                        "passed_time": 0.1070256219,
                        "remaining_time": 13.27117711,
                        "test": [
                          0.9856654081,
                          0.1942838404
                        ]
                      },
                      {
                        "learn": [
                          0.1884721893
                        ],
                        "iteration": 8,
                        "passed_time": 0.1198567155,
                        "remaining_time": 13.19755612,
                        "test": [
                          0.9858314665,
                          0.1865483112
                        ]
                      },
                      {
                        "learn": [
                          0.1828920863
                        ],
                        "iteration": 9,
                        "passed_time": 0.1327457298,
                        "remaining_time": 13.14182725,
                        "test": [
                          0.9861942885,
                          0.1809497136
                        ]
                      },
                      {
                        "learn": [
                          0.1776036218
                        ],
                        "iteration": 10,
                        "passed_time": 0.1462546019,
                        "remaining_time": 13.1496183,
                        "test": [
                          0.9863408676,
                          0.1757374153
                        ]
                      },
                      {
                        "learn": [
                          0.1737507172
                        ],
                        "iteration": 11,
                        "passed_time": 0.1589177313,
                        "remaining_time": 13.08422655,
                        "test": [
                          0.9865705122,
                          0.1720558724
                        ]
                      },
                      {
                        "learn": [
                          0.1681280923
                        ],
                        "iteration": 12,
                        "passed_time": 0.1711722226,
                        "remaining_time": 12.99592182,
                        "test": [
                          0.9870394106,
                          0.1663953085
                        ]
                      },
                      {
                        "learn": [
                          0.161286226
                        ],
                        "iteration": 13,
                        "passed_time": 0.1843539558,
                        "remaining_time": 12.98378574,
                        "test": [
                          0.9880884254,
                          0.1595829883
                        ]
                      },
                      {
                        "learn": [
                          0.1574919562
                        ],
                        "iteration": 14,
                        "passed_time": 0.1969828142,
                        "remaining_time": 12.9352048,
                        "test": [
                          0.9883402156,
                          0.1557899768
                        ]
                      },
                      {
                        "learn": [
                          0.1552042309
                        ],
                        "iteration": 15,
                        "passed_time": 0.2103667336,
                        "remaining_time": 12.93755412,
                        "test": [
                          0.9885048049,
                          0.1534400044
                        ]
                      },
                      {
                        "learn": [
                          0.1531347287
                        ],
                        "iteration": 16,
                        "passed_time": 0.2237315962,
                        "remaining_time": 12.93695053,
                        "test": [
                          0.98852413,
                          0.1514239192
                        ]
                      },
                      {
                        "learn": [
                          0.1515569118
                        ],
                        "iteration": 17,
                        "passed_time": 0.2361965281,
                        "remaining_time": 12.88583281,
                        "test": [
                          0.9886449572,
                          0.1498898695
                        ]
                      },
                      {
                        "learn": [
                          0.1467997253
                        ],
                        "iteration": 18,
                        "passed_time": 0.2491464579,
                        "remaining_time": 12.86382501,
                        "test": [
                          0.9893686289,
                          0.1452218835
                        ]
                      },
                      {
                        "learn": [
                          0.142443835
                        ],
                        "iteration": 19,
                        "passed_time": 0.2616521365,
                        "remaining_time": 12.82095469,
                        "test": [
                          0.9902295447,
                          0.1410125589
                        ]
                      },
                      {
                        "learn": [
                          0.1412518449
                        ],
                        "iteration": 20,
                        "passed_time": 0.2744159131,
                        "remaining_time": 12.79300852,
                        "test": [
                          0.9903099805,
                          0.1398723564
                        ]
                      },
                      {
                        "learn": [
                          0.1403245677
                        ],
                        "iteration": 21,
                        "passed_time": 0.2870375219,
                        "remaining_time": 12.76012257,
                        "test": [
                          0.9903488192,
                          0.1389024983
                        ]
                      },
                      {
                        "learn": [
                          0.139088378
                        ],
                        "iteration": 22,
                        "passed_time": 0.2992876474,
                        "remaining_time": 12.71321876,
                        "test": [
                          0.9904842709,
                          0.1375943416
                        ]
                      },
                      {
                        "learn": [
                          0.1342695552
                        ],
                        "iteration": 23,
                        "passed_time": 0.3112679237,
                        "remaining_time": 12.6582289,
                        "test": [
                          0.9910413852,
                          0.1327970402
                        ]
                      },
                      {
                        "learn": [
                          0.1334960056
                        ],
                        "iteration": 24,
                        "passed_time": 0.324499578,
                        "remaining_time": 12.65548354,
                        "test": [
                          0.9910519537,
                          0.1320181598
                        ]
                      },
                      {
                        "learn": [
                          0.1328210198
                        ],
                        "iteration": 25,
                        "passed_time": 0.3375917354,
                        "remaining_time": 12.64670578,
                        "test": [
                          0.9910685591,
                          0.1312800605
                        ]
                      },
                      {
                        "learn": [
                          0.1304808554
                        ],
                        "iteration": 26,
                        "passed_time": 0.3498777308,
                        "remaining_time": 12.60855674,
                        "test": [
                          0.991357235,
                          0.1290054983
                        ]
                      },
                      {
                        "learn": [
                          0.1291586989
                        ],
                        "iteration": 27,
                        "passed_time": 0.361825936,
                        "remaining_time": 12.56052892,
                        "test": [
                          0.99141121,
                          0.1276957357
                        ]
                      },
                      {
                        "learn": [
                          0.1286986955
                        ],
                        "iteration": 28,
                        "passed_time": 0.3745366486,
                        "remaining_time": 12.5405202,
                        "test": [
                          0.9913970481,
                          0.1272661865
                        ]
                      },
                      {
                        "learn": [
                          0.1277508899
                        ],
                        "iteration": 29,
                        "passed_time": 0.3862814556,
                        "remaining_time": 12.48976707,
                        "test": [
                          0.9914803064,
                          0.1263198111
                        ]
                      },
                      {
                        "learn": [
                          0.1274311756
                        ],
                        "iteration": 30,
                        "passed_time": 0.398088357,
                        "remaining_time": 12.44347155,
                        "test": [
                          0.9914902838,
                          0.1259994412
                        ]
                      },
                      {
                        "learn": [
                          0.1269298166
                        ],
                        "iteration": 31,
                        "passed_time": 0.4096142588,
                        "remaining_time": 12.39083133,
                        "test": [
                          0.9914925774,
                          0.1255698369
                        ]
                      },
                      {
                        "learn": [
                          0.125110388
                        ],
                        "iteration": 32,
                        "passed_time": 0.4217726217,
                        "remaining_time": 12.35921591,
                        "test": [
                          0.9916451677,
                          0.1237470888
                        ]
                      },
                      {
                        "learn": [
                          0.1245055023
                        ],
                        "iteration": 33,
                        "passed_time": 0.4340250831,
                        "remaining_time": 12.33141854,
                        "test": [
                          0.991698419,
                          0.1231354366
                        ]
                      },
                      {
                        "learn": [
                          0.1241981632
                        ],
                        "iteration": 34,
                        "passed_time": 0.4467538097,
                        "remaining_time": 12.31764075,
                        "test": [
                          0.9916991856,
                          0.1228072163
                        ]
                      },
                      {
                        "learn": [
                          0.123704866
                        ],
                        "iteration": 35,
                        "passed_time": 0.4595487994,
                        "remaining_time": 12.30569563,
                        "test": [
                          0.9917044131,
                          0.1223265985
                        ]
                      },
                      {
                        "learn": [
                          0.1231764413
                        ],
                        "iteration": 36,
                        "passed_time": 0.4714569519,
                        "remaining_time": 12.27062283,
                        "test": [
                          0.9917590606,
                          0.1217709253
                        ]
                      },
                      {
                        "learn": [
                          0.1227111191
                        ],
                        "iteration": 37,
                        "passed_time": 0.4832958434,
                        "remaining_time": 12.23501583,
                        "test": [
                          0.9917836389,
                          0.1213147075
                        ]
                      },
                      {
                        "learn": [
                          0.121639453
                        ],
                        "iteration": 38,
                        "passed_time": 0.4947750729,
                        "remaining_time": 12.19176526,
                        "test": [
                          0.9918913428,
                          0.1202945453
                        ]
                      },
                      {
                        "learn": [
                          0.1193781478
                        ],
                        "iteration": 39,
                        "passed_time": 0.5070960433,
                        "remaining_time": 12.17030504,
                        "test": [
                          0.9923179096,
                          0.1177219437
                        ]
                      },
                      {
                        "learn": [
                          0.117018472
                        ],
                        "iteration": 40,
                        "passed_time": 0.5192650366,
                        "remaining_time": 12.14573585,
                        "test": [
                          0.9926182075,
                          0.115337637
                        ]
                      },
                      {
                        "learn": [
                          0.1153077382
                        ],
                        "iteration": 41,
                        "passed_time": 0.5316269856,
                        "remaining_time": 12.12615838,
                        "test": [
                          0.9927352934,
                          0.1136687504
                        ]
                      },
                      {
                        "learn": [
                          0.1143388536
                        ],
                        "iteration": 42,
                        "passed_time": 0.5439768813,
                        "remaining_time": 12.10664826,
                        "test": [
                          0.9928129645,
                          0.1127414618
                        ]
                      },
                      {
                        "learn": [
                          0.1141537027
                        ],
                        "iteration": 43,
                        "passed_time": 0.5570365746,
                        "remaining_time": 12.10288557,
                        "test": [
                          0.9928146713,
                          0.1125806123
                        ]
                      },
                      {
                        "learn": [
                          0.1135648318
                        ],
                        "iteration": 44,
                        "passed_time": 0.5686314993,
                        "remaining_time": 12.06762404,
                        "test": [
                          0.9928562234,
                          0.1119843759
                        ]
                      },
                      {
                        "learn": [
                          0.1133062784
                        ],
                        "iteration": 45,
                        "passed_time": 0.5802295769,
                        "remaining_time": 12.03345688,
                        "test": [
                          0.9928727646,
                          0.1117706371
                        ]
                      },
                      {
                        "learn": [
                          0.1112847076
                        ],
                        "iteration": 46,
                        "passed_time": 0.5927640108,
                        "remaining_time": 12.01923622,
                        "test": [
                          0.9931749021,
                          0.1096546634
                        ]
                      },
                      {
                        "learn": [
                          0.1103378677
                        ],
                        "iteration": 47,
                        "passed_time": 0.6054792132,
                        "remaining_time": 12.00867106,
                        "test": [
                          0.9932134025,
                          0.1087348213
                        ]
                      },
                      {
                        "learn": [
                          0.1086702043
                        ],
                        "iteration": 48,
                        "passed_time": 0.6177342555,
                        "remaining_time": 11.98908728,
                        "test": [
                          0.9934704159,
                          0.1068058221
                        ]
                      },
                      {
                        "learn": [
                          0.1085355275
                        ],
                        "iteration": 49,
                        "passed_time": 0.6310510478,
                        "remaining_time": 11.98996991,
                        "test": [
                          0.9934761295,
                          0.1066831409
                        ]
                      },
                      {
                        "learn": [
                          0.1080903715
                        ],
                        "iteration": 50,
                        "passed_time": 0.6430290542,
                        "remaining_time": 11.96538377,
                        "test": [
                          0.9935136897,
                          0.1062354989
                        ]
                      },
                      {
                        "learn": [
                          0.1080605346
                        ],
                        "iteration": 51,
                        "passed_time": 0.6504722001,
                        "remaining_time": 11.85860857,
                        "test": [
                          0.9935128588,
                          0.1062004801
                        ]
                      },
                      {
                        "learn": [
                          0.107126391
                        ],
                        "iteration": 52,
                        "passed_time": 0.6623734159,
                        "remaining_time": 11.83523821,
                        "test": [
                          0.9935924851,
                          0.1052533003
                        ]
                      },
                      {
                        "learn": [
                          0.1067657703
                        ],
                        "iteration": 53,
                        "passed_time": 0.6743270028,
                        "remaining_time": 11.81321009,
                        "test": [
                          0.9936121315,
                          0.1048867367
                        ]
                      },
                      {
                        "learn": [
                          0.1063712576
                        ],
                        "iteration": 54,
                        "passed_time": 0.6862668764,
                        "remaining_time": 11.79131269,
                        "test": [
                          0.9936272122,
                          0.1045248688
                        ]
                      },
                      {
                        "learn": [
                          0.1061736852
                        ],
                        "iteration": 55,
                        "passed_time": 0.6970119937,
                        "remaining_time": 11.74963075,
                        "test": [
                          0.9936422114,
                          0.1043358389
                        ]
                      },
                      {
                        "learn": [
                          0.1052751193
                        ],
                        "iteration": 56,
                        "passed_time": 0.7096296448,
                        "remaining_time": 11.74001325,
                        "test": [
                          0.99375507,
                          0.1032770574
                        ]
                      },
                      {
                        "learn": [
                          0.1041787371
                        ],
                        "iteration": 57,
                        "passed_time": 0.7221693254,
                        "remaining_time": 11.72902594,
                        "test": [
                          0.9938349019,
                          0.1020472015
                        ]
                      },
                      {
                        "learn": [
                          0.1036056101
                        ],
                        "iteration": 58,
                        "passed_time": 0.7341082771,
                        "remaining_time": 11.70840489,
                        "test": [
                          0.9938679671,
                          0.1014756723
                        ]
                      },
                      {
                        "learn": [
                          0.1034049949
                        ],
                        "iteration": 59,
                        "passed_time": 0.7461925213,
                        "remaining_time": 11.6903495,
                        "test": [
                          0.9938833668,
                          0.1012642769
                        ]
                      },
                      {
                        "learn": [
                          0.1032961983
                        ],
                        "iteration": 60,
                        "passed_time": 0.7582242456,
                        "remaining_time": 11.67168142,
                        "test": [
                          0.9939029596,
                          0.1011112428
                        ]
                      },
                      {
                        "learn": [
                          0.1031841797
                        ],
                        "iteration": 61,
                        "passed_time": 0.7696612155,
                        "remaining_time": 11.64422936,
                        "test": [
                          0.9939052982,
                          0.1010200804
                        ]
                      },
                      {
                        "learn": [
                          0.1025609219
                        ],
                        "iteration": 62,
                        "passed_time": 0.7821623124,
                        "remaining_time": 11.63311249,
                        "test": [
                          0.9939878541,
                          0.1003482797
                        ]
                      },
                      {
                        "learn": [
                          0.1024361881
                        ],
                        "iteration": 63,
                        "passed_time": 0.7935606006,
                        "remaining_time": 11.60582378,
                        "test": [
                          0.9939915268,
                          0.1002508988
                        ]
                      },
                      {
                        "learn": [
                          0.1016655089
                        ],
                        "iteration": 64,
                        "passed_time": 0.8057422801,
                        "remaining_time": 11.5902928,
                        "test": [
                          0.994057351,
                          0.09939966891
                        ]
                      },
                      {
                        "learn": [
                          0.1015282482
                        ],
                        "iteration": 65,
                        "passed_time": 0.8173629604,
                        "remaining_time": 11.56692432,
                        "test": [
                          0.9940673669,
                          0.09925275929
                        ]
                      },
                      {
                        "learn": [
                          0.1008915396
                        ],
                        "iteration": 66,
                        "passed_time": 0.8293842743,
                        "remaining_time": 11.54948549,
                        "test": [
                          0.994104668,
                          0.09858563648
                        ]
                      },
                      {
                        "learn": [
                          0.1006984276
                        ],
                        "iteration": 67,
                        "passed_time": 0.8420547523,
                        "remaining_time": 11.54110337,
                        "test": [
                          0.9941196909,
                          0.09836692503
                        ]
                      },
                      {
                        "learn": [
                          0.1002366004
                        ],
                        "iteration": 68,
                        "passed_time": 0.8548958223,
                        "remaining_time": 11.5348987,
                        "test": [
                          0.9941690745,
                          0.09788231161
                        ]
                      },
                      {
                        "learn": [
                          0.100133851
                        ],
                        "iteration": 69,
                        "passed_time": 0.8671617979,
                        "remaining_time": 11.52086389,
                        "test": [
                          0.9941748802,
                          0.09779606471
                        ]
                      },
                      {
                        "learn": [
                          0.1000452057
                        ],
                        "iteration": 70,
                        "passed_time": 0.877053555,
                        "remaining_time": 11.47581342,
                        "test": [
                          0.994182247,
                          0.09770841483
                        ]
                      },
                      {
                        "learn": [
                          0.09996787162
                        ],
                        "iteration": 71,
                        "passed_time": 0.8889197489,
                        "remaining_time": 11.45718788,
                        "test": [
                          0.9941870591,
                          0.0976525319
                        ]
                      },
                      {
                        "learn": [
                          0.09950624645
                        ],
                        "iteration": 72,
                        "passed_time": 0.9007421954,
                        "remaining_time": 11.43819199,
                        "test": [
                          0.9942026751,
                          0.09719210305
                        ]
                      },
                      {
                        "learn": [
                          0.09943289355
                        ],
                        "iteration": 73,
                        "passed_time": 0.9129636726,
                        "remaining_time": 11.42438325,
                        "test": [
                          0.99420859,
                          0.09714958639
                        ]
                      },
                      {
                        "learn": [
                          0.09936454519
                        ],
                        "iteration": 74,
                        "passed_time": 0.9248780287,
                        "remaining_time": 11.40682902,
                        "test": [
                          0.9942219403,
                          0.0970416656
                        ]
                      },
                      {
                        "learn": [
                          0.0989565158
                        ],
                        "iteration": 75,
                        "passed_time": 0.9370378485,
                        "remaining_time": 11.39240753,
                        "test": [
                          0.9942656681,
                          0.09658696374
                        ]
                      },
                      {
                        "learn": [
                          0.09889770189
                        ],
                        "iteration": 76,
                        "passed_time": 0.948224962,
                        "remaining_time": 11.36638493,
                        "test": [
                          0.9942680966,
                          0.09653839723
                        ]
                      },
                      {
                        "learn": [
                          0.09868755512
                        ],
                        "iteration": 77,
                        "passed_time": 0.9646868859,
                        "remaining_time": 11.4030937,
                        "test": [
                          0.9942775922,
                          0.09634164671
                        ]
                      },
                      {
                        "learn": [
                          0.09863853901
                        ],
                        "iteration": 78,
                        "passed_time": 0.976687712,
                        "remaining_time": 11.38644788,
                        "test": [
                          0.9942768812,
                          0.09631234169
                        ]
                      },
                      {
                        "learn": [
                          0.09845163036
                        ],
                        "iteration": 79,
                        "passed_time": 0.9889822639,
                        "remaining_time": 11.37329604,
                        "test": [
                          0.9942895612,
                          0.09612346284
                        ]
                      },
                      {
                        "learn": [
                          0.09823507855
                        ],
                        "iteration": 80,
                        "passed_time": 1.001057234,
                        "remaining_time": 11.35767405,
                        "test": [
                          0.9943038923,
                          0.09588642567
                        ]
                      },
                      {
                        "learn": [
                          0.09814263779
                        ],
                        "iteration": 81,
                        "passed_time": 1.012952286,
                        "remaining_time": 11.34012437,
                        "test": [
                          0.9943144029,
                          0.09578435788
                        ]
                      },
                      {
                        "learn": [
                          0.09810733178
                        ],
                        "iteration": 82,
                        "passed_time": 1.025023525,
                        "remaining_time": 11.3246575,
                        "test": [
                          0.9943132829,
                          0.09576586609
                        ]
                      },
                      {
                        "learn": [
                          0.09782554707
                        ],
                        "iteration": 83,
                        "passed_time": 1.037400231,
                        "remaining_time": 11.31260252,
                        "test": [
                          0.9943149875,
                          0.09551303725
                        ]
                      },
                      {
                        "learn": [
                          0.09782456414
                        ],
                        "iteration": 84,
                        "passed_time": 1.044601572,
                        "remaining_time": 11.24482869,
                        "test": [
                          0.9943146963,
                          0.09551198275
                        ]
                      },
                      {
                        "learn": [
                          0.09774931428
                        ],
                        "iteration": 85,
                        "passed_time": 1.056408959,
                        "remaining_time": 11.22741615,
                        "test": [
                          0.994319791,
                          0.09546923012
                        ]
                      },
                      {
                        "learn": [
                          0.09768012265
                        ],
                        "iteration": 86,
                        "passed_time": 1.068047544,
                        "remaining_time": 11.208361,
                        "test": [
                          0.9943202643,
                          0.09545517454
                        ]
                      },
                      {
                        "learn": [
                          0.09756997987
                        ],
                        "iteration": 87,
                        "passed_time": 1.079829137,
                        "remaining_time": 11.19095651,
                        "test": [
                          0.9943264704,
                          0.09534012302
                        ]
                      },
                      {
                        "learn": [
                          0.09752999966
                        ],
                        "iteration": 88,
                        "passed_time": 1.091332602,
                        "remaining_time": 11.17083147,
                        "test": [
                          0.9943318371,
                          0.09530383073
                        ]
                      },
                      {
                        "learn": [
                          0.09749032053
                        ],
                        "iteration": 89,
                        "passed_time": 1.102224304,
                        "remaining_time": 11.14471241,
                        "test": [
                          0.9943324346,
                          0.09528883502
                        ]
                      },
                      {
                        "learn": [
                          0.09738021903
                        ],
                        "iteration": 90,
                        "passed_time": 1.112668428,
                        "remaining_time": 11.11445716,
                        "test": [
                          0.99434214,
                          0.09516916621
                        ]
                      },
                      {
                        "learn": [
                          0.09731702287
                        ],
                        "iteration": 91,
                        "passed_time": 1.125295426,
                        "remaining_time": 11.10617659,
                        "test": [
                          0.9943460311,
                          0.09512587602
                        ]
                      },
                      {
                        "learn": [
                          0.09725206071
                        ],
                        "iteration": 92,
                        "passed_time": 1.13719662,
                        "remaining_time": 11.09072402,
                        "test": [
                          0.9943439367,
                          0.09510620522
                        ]
                      },
                      {
                        "learn": [
                          0.09702168881
                        ],
                        "iteration": 93,
                        "passed_time": 1.149185906,
                        "remaining_time": 11.07619608,
                        "test": [
                          0.9943452173,
                          0.0949051391
                        ]
                      },
                      {
                        "learn": [
                          0.09685568737
                        ],
                        "iteration": 94,
                        "passed_time": 1.161102108,
                        "remaining_time": 11.06102535,
                        "test": [
                          0.9943598654,
                          0.09474775464
                        ]
                      },
                      {
                        "learn": [
                          0.09676572285
                        ],
                        "iteration": 95,
                        "passed_time": 1.173167322,
                        "remaining_time": 11.04732561,
                        "test": [
                          0.9943618056,
                          0.09467115222
                        ]
                      },
                      {
                        "learn": [
                          0.0967158576
                        ],
                        "iteration": 96,
                        "passed_time": 1.183463705,
                        "remaining_time": 11.01719305,
                        "test": [
                          0.9943675128,
                          0.09462874446
                        ]
                      },
                      {
                        "learn": [
                          0.09634959226
                        ],
                        "iteration": 97,
                        "passed_time": 1.196015318,
                        "remaining_time": 11.00822262,
                        "test": [
                          0.9943933482,
                          0.09421180469
                        ]
                      },
                      {
                        "learn": [
                          0.09614900527
                        ],
                        "iteration": 98,
                        "passed_time": 1.208952334,
                        "remaining_time": 11.00268741,
                        "test": [
                          0.9944054264,
                          0.09405255385
                        ]
                      },
                      {
                        "learn": [
                          0.09610627351
                        ],
                        "iteration": 99,
                        "passed_time": 1.22190416,
                        "remaining_time": 10.99713744,
                        "test": [
                          0.9944094439,
                          0.09402415397
                        ]
                      },
                      {
                        "learn": [
                          0.09588622337
                        ],
                        "iteration": 100,
                        "passed_time": 1.234327445,
                        "remaining_time": 10.98673637,
                        "test": [
                          0.9944194363,
                          0.09379671489
                        ]
                      },
                      {
                        "learn": [
                          0.09569079166
                        ],
                        "iteration": 101,
                        "passed_time": 1.247692492,
                        "remaining_time": 10.98458684,
                        "test": [
                          0.9944360695,
                          0.09357617629
                        ]
                      },
                      {
                        "learn": [
                          0.09562256657
                        ],
                        "iteration": 102,
                        "passed_time": 1.259397036,
                        "remaining_time": 10.96775866,
                        "test": [
                          0.9944372859,
                          0.09354309821
                        ]
                      },
                      {
                        "learn": [
                          0.09560903389
                        ],
                        "iteration": 103,
                        "passed_time": 1.26879228,
                        "remaining_time": 10.93113349,
                        "test": [
                          0.9944382967,
                          0.09352495953
                        ]
                      },
                      {
                        "learn": [
                          0.09543030963
                        ],
                        "iteration": 104,
                        "passed_time": 1.280821879,
                        "remaining_time": 10.91748173,
                        "test": [
                          0.9944493128,
                          0.09337294966
                        ]
                      },
                      {
                        "learn": [
                          0.09530256545
                        ],
                        "iteration": 105,
                        "passed_time": 1.293298638,
                        "remaining_time": 10.90763191,
                        "test": [
                          0.9944595578,
                          0.09325750393
                        ]
                      },
                      {
                        "learn": [
                          0.09513765706
                        ],
                        "iteration": 106,
                        "passed_time": 1.30528689,
                        "remaining_time": 10.89365601,
                        "test": [
                          0.994467096,
                          0.0931078469
                        ]
                      },
                      {
                        "learn": [
                          0.09511481288
                        ],
                        "iteration": 107,
                        "passed_time": 1.317173045,
                        "remaining_time": 10.87887366,
                        "test": [
                          0.9944664043,
                          0.09310812745
                        ]
                      },
                      {
                        "learn": [
                          0.09499643009
                        ],
                        "iteration": 108,
                        "passed_time": 1.328939339,
                        "remaining_time": 10.86316469,
                        "test": [
                          0.9944762682,
                          0.09296746141
                        ]
                      },
                      {
                        "learn": [
                          0.09495978872
                        ],
                        "iteration": 109,
                        "passed_time": 1.34141509,
                        "remaining_time": 10.85326754,
                        "test": [
                          0.9944804056,
                          0.09292288524
                        ]
                      },
                      {
                        "learn": [
                          0.09488646596
                        ],
                        "iteration": 110,
                        "passed_time": 1.353472528,
                        "remaining_time": 10.83997367,
                        "test": [
                          0.994481894,
                          0.09285772418
                        ]
                      },
                      {
                        "learn": [
                          0.09472044118
                        ],
                        "iteration": 111,
                        "passed_time": 1.365489958,
                        "remaining_time": 10.82638466,
                        "test": [
                          0.9944907984,
                          0.09271251939
                        ]
                      },
                      {
                        "learn": [
                          0.09467542818
                        ],
                        "iteration": 112,
                        "passed_time": 1.378480394,
                        "remaining_time": 10.82046115,
                        "test": [
                          0.9944941821,
                          0.09268215696
                        ]
                      },
                      {
                        "learn": [
                          0.09459586477
                        ],
                        "iteration": 113,
                        "passed_time": 1.390824202,
                        "remaining_time": 10.8093881,
                        "test": [
                          0.9944983966,
                          0.09260141462
                        ]
                      },
                      {
                        "learn": [
                          0.09453766139
                        ],
                        "iteration": 114,
                        "passed_time": 1.400893856,
                        "remaining_time": 10.78079185,
                        "test": [
                          0.9945010863,
                          0.09257311192
                        ]
                      },
                      {
                        "learn": [
                          0.09450809549
                        ],
                        "iteration": 115,
                        "passed_time": 1.413000656,
                        "remaining_time": 10.76803948,
                        "test": [
                          0.9945023134,
                          0.09255646773
                        ]
                      },
                      {
                        "learn": [
                          0.09446907193
                        ],
                        "iteration": 116,
                        "passed_time": 1.423737569,
                        "remaining_time": 10.7449596,
                        "test": [
                          0.9945033949,
                          0.09253600589
                        ]
                      },
                      {
                        "learn": [
                          0.09436331318
                        ],
                        "iteration": 117,
                        "passed_time": 1.436589428,
                        "remaining_time": 10.73789725,
                        "test": [
                          0.9945076544,
                          0.09245561275
                        ]
                      },
                      {
                        "learn": [
                          0.09433280794
                        ],
                        "iteration": 118,
                        "passed_time": 1.448372631,
                        "remaining_time": 10.72282595,
                        "test": [
                          0.9945071854,
                          0.09245047678
                        ]
                      },
                      {
                        "learn": [
                          0.09425143568
                        ],
                        "iteration": 119,
                        "passed_time": 1.460084815,
                        "remaining_time": 10.70728865,
                        "test": [
                          0.9945080634,
                          0.09240169416
                        ]
                      },
                      {
                        "learn": [
                          0.09403284276
                        ],
                        "iteration": 120,
                        "passed_time": 1.472049317,
                        "remaining_time": 10.69364752,
                        "test": [
                          0.9945294445,
                          0.0921504225
                        ]
                      },
                      {
                        "learn": [
                          0.09389817968
                        ],
                        "iteration": 121,
                        "passed_time": 1.483959524,
                        "remaining_time": 10.67964313,
                        "test": [
                          0.9945352352,
                          0.09202302197
                        ]
                      },
                      {
                        "learn": [
                          0.09386518116
                        ],
                        "iteration": 122,
                        "passed_time": 1.496092516,
                        "remaining_time": 10.66726128,
                        "test": [
                          0.9945328581,
                          0.09204347482
                        ]
                      },
                      {
                        "learn": [
                          0.09381032269
                        ],
                        "iteration": 123,
                        "passed_time": 1.507284835,
                        "remaining_time": 10.64823803,
                        "test": [
                          0.994539848,
                          0.09198127648
                        ]
                      },
                      {
                        "learn": [
                          0.09373833231
                        ],
                        "iteration": 124,
                        "passed_time": 1.518892257,
                        "remaining_time": 10.6322458,
                        "test": [
                          0.9945392527,
                          0.09193832286
                        ]
                      },
                      {
                        "learn": [
                          0.09369823999
                        ],
                        "iteration": 125,
                        "passed_time": 1.530231148,
                        "remaining_time": 10.6144605,
                        "test": [
                          0.9945430175,
                          0.09190118035
                        ]
                      },
                      {
                        "learn": [
                          0.09367046822
                        ],
                        "iteration": 126,
                        "passed_time": 1.542074361,
                        "remaining_time": 10.60024344,
                        "test": [
                          0.9945461527,
                          0.09187647668
                        ]
                      },
                      {
                        "learn": [
                          0.09359395521
                        ],
                        "iteration": 127,
                        "passed_time": 1.553627308,
                        "remaining_time": 10.58408603,
                        "test": [
                          0.9945496948,
                          0.0918004846
                        ]
                      },
                      {
                        "learn": [
                          0.09344511663
                        ],
                        "iteration": 128,
                        "passed_time": 1.565477671,
                        "remaining_time": 10.57000815,
                        "test": [
                          0.994548594,
                          0.09167702789
                        ]
                      },
                      {
                        "learn": [
                          0.09336645759
                        ],
                        "iteration": 129,
                        "passed_time": 1.577506417,
                        "remaining_time": 10.55715833,
                        "test": [
                          0.9945539435,
                          0.09159106659
                        ]
                      },
                      {
                        "learn": [
                          0.09330929507
                        ],
                        "iteration": 130,
                        "passed_time": 1.589839915,
                        "remaining_time": 10.54634264,
                        "test": [
                          0.9945578026,
                          0.09152975683
                        ]
                      },
                      {
                        "learn": [
                          0.09325086715
                        ],
                        "iteration": 131,
                        "passed_time": 1.600583586,
                        "remaining_time": 10.52504964,
                        "test": [
                          0.994564013,
                          0.09146600104
                        ]
                      },
                      {
                        "learn": [
                          0.09302967901
                        ],
                        "iteration": 132,
                        "passed_time": 1.612818858,
                        "remaining_time": 10.51363872,
                        "test": [
                          0.9945701849,
                          0.09124237219
                        ]
                      },
                      {
                        "learn": [
                          0.0929880146
                        ],
                        "iteration": 133,
                        "passed_time": 1.62485202,
                        "remaining_time": 10.50090932,
                        "test": [
                          0.9945766009,
                          0.09119726118
                        ]
                      },
                      {
                        "learn": [
                          0.09294266045
                        ],
                        "iteration": 134,
                        "passed_time": 1.636994245,
                        "remaining_time": 10.48888905,
                        "test": [
                          0.9945774682,
                          0.09118352766
                        ]
                      },
                      {
                        "learn": [
                          0.09284359927
                        ],
                        "iteration": 135,
                        "passed_time": 1.649323047,
                        "remaining_time": 10.4780523,
                        "test": [
                          0.9945828478,
                          0.09106639076
                        ]
                      },
                      {
                        "learn": [
                          0.09279925736
                        ],
                        "iteration": 136,
                        "passed_time": 1.661735208,
                        "remaining_time": 10.46771887,
                        "test": [
                          0.9945849936,
                          0.09102879703
                        ]
                      },
                      {
                        "learn": [
                          0.09277211852
                        ],
                        "iteration": 137,
                        "passed_time": 1.671799845,
                        "remaining_time": 10.44269179,
                        "test": [
                          0.9945863834,
                          0.09101040015
                        ]
                      },
                      {
                        "learn": [
                          0.09267210513
                        ],
                        "iteration": 138,
                        "passed_time": 1.683998847,
                        "remaining_time": 10.43110077,
                        "test": [
                          0.9945898484,
                          0.09090522464
                        ]
                      },
                      {
                        "learn": [
                          0.09256785526
                        ],
                        "iteration": 139,
                        "passed_time": 1.695666571,
                        "remaining_time": 10.41623751,
                        "test": [
                          0.9945965857,
                          0.09077890615
                        ]
                      },
                      {
                        "learn": [
                          0.09250092702
                        ],
                        "iteration": 140,
                        "passed_time": 1.707598791,
                        "remaining_time": 10.40303093,
                        "test": [
                          0.9945989114,
                          0.09072891256
                        ]
                      },
                      {
                        "learn": [
                          0.09245635312
                        ],
                        "iteration": 141,
                        "passed_time": 1.719627424,
                        "remaining_time": 10.39042486,
                        "test": [
                          0.9945952151,
                          0.09075189589
                        ]
                      },
                      {
                        "learn": [
                          0.0924226277
                        ],
                        "iteration": 142,
                        "passed_time": 1.731222485,
                        "remaining_time": 10.37522846,
                        "test": [
                          0.9945977806,
                          0.09072366222
                        ]
                      },
                      {
                        "learn": [
                          0.09233837021
                        ],
                        "iteration": 143,
                        "passed_time": 1.743423087,
                        "remaining_time": 10.36368168,
                        "test": [
                          0.994599436,
                          0.09063692987
                        ]
                      },
                      {
                        "learn": [
                          0.09225710492
                        ],
                        "iteration": 144,
                        "passed_time": 1.75596011,
                        "remaining_time": 10.35410961,
                        "test": [
                          0.9946055437,
                          0.09053630814
                        ]
                      },
                      {
                        "learn": [
                          0.09222042569
                        ],
                        "iteration": 145,
                        "passed_time": 1.767834934,
                        "remaining_time": 10.34062352,
                        "test": [
                          0.9946072398,
                          0.09051962633
                        ]
                      },
                      {
                        "learn": [
                          0.09218420386
                        ],
                        "iteration": 146,
                        "passed_time": 1.779480038,
                        "remaining_time": 10.32582634,
                        "test": [
                          0.9946047342,
                          0.09053319965
                        ]
                      },
                      {
                        "learn": [
                          0.09214444538
                        ],
                        "iteration": 147,
                        "passed_time": 1.789664349,
                        "remaining_time": 10.30266233,
                        "test": [
                          0.9946074668,
                          0.09048917408
                        ]
                      },
                      {
                        "learn": [
                          0.09210206865
                        ],
                        "iteration": 148,
                        "passed_time": 1.8018463,
                        "remaining_time": 10.29108189,
                        "test": [
                          0.994604293,
                          0.09050508907
                        ]
                      },
                      {
                        "learn": [
                          0.0920828416
                        ],
                        "iteration": 149,
                        "passed_time": 1.813465221,
                        "remaining_time": 10.27630292,
                        "test": [
                          0.9946054323,
                          0.09049233354
                        ]
                      },
                      {
                        "learn": [
                          0.09198794097
                        ],
                        "iteration": 150,
                        "passed_time": 1.824851896,
                        "remaining_time": 10.26026,
                        "test": [
                          0.9946062568,
                          0.09041088339
                        ]
                      },
                      {
                        "learn": [
                          0.09196018348
                        ],
                        "iteration": 151,
                        "passed_time": 1.836920547,
                        "remaining_time": 10.24808305,
                        "test": [
                          0.9946069592,
                          0.0903947512
                        ]
                      },
                      {
                        "learn": [
                          0.09192694329
                        ],
                        "iteration": 152,
                        "passed_time": 1.848519836,
                        "remaining_time": 10.23330915,
                        "test": [
                          0.994606366,
                          0.09038875753
                        ]
                      },
                      {
                        "learn": [
                          0.09190019662
                        ],
                        "iteration": 153,
                        "passed_time": 1.860115663,
                        "remaining_time": 10.21855747,
                        "test": [
                          0.9946062932,
                          0.09038208389
                        ]
                      },
                      {
                        "learn": [
                          0.09188265892
                        ],
                        "iteration": 154,
                        "passed_time": 1.871852514,
                        "remaining_time": 10.20461532,
                        "test": [
                          0.994607047,
                          0.0903736054
                        ]
                      },
                      {
                        "learn": [
                          0.09185989675
                        ],
                        "iteration": 155,
                        "passed_time": 1.883470924,
                        "remaining_time": 10.19006064,
                        "test": [
                          0.9946078822,
                          0.09036256474
                        ]
                      },
                      {
                        "learn": [
                          0.09182787847
                        ],
                        "iteration": 156,
                        "passed_time": 1.895431488,
                        "remaining_time": 10.17738054,
                        "test": [
                          0.9946050554,
                          0.09038122731
                        ]
                      },
                      {
                        "learn": [
                          0.09180805422
                        ],
                        "iteration": 157,
                        "passed_time": 1.907276951,
                        "remaining_time": 10.16409615,
                        "test": [
                          0.9946054794,
                          0.09037093767
                        ]
                      },
                      {
                        "learn": [
                          0.09177474405
                        ],
                        "iteration": 158,
                        "passed_time": 1.919213657,
                        "remaining_time": 10.15131249,
                        "test": [
                          0.9946062247,
                          0.09036110746
                        ]
                      },
                      {
                        "learn": [
                          0.09170031017
                        ],
                        "iteration": 159,
                        "passed_time": 1.931656641,
                        "remaining_time": 10.14119736,
                        "test": [
                          0.9946119554,
                          0.09029119128
                        ]
                      },
                      {
                        "learn": [
                          0.09164240181
                        ],
                        "iteration": 160,
                        "passed_time": 1.943514726,
                        "remaining_time": 10.12800531,
                        "test": [
                          0.9946110131,
                          0.09026197851
                        ]
                      },
                      {
                        "learn": [
                          0.09162181704
                        ],
                        "iteration": 161,
                        "passed_time": 1.960320525,
                        "remaining_time": 10.14042346,
                        "test": [
                          0.9946115999,
                          0.09025345683
                        ]
                      },
                      {
                        "learn": [
                          0.0915960609
                        ],
                        "iteration": 162,
                        "passed_time": 1.972640654,
                        "remaining_time": 10.12944925,
                        "test": [
                          0.9946111652,
                          0.0902493841
                        ]
                      },
                      {
                        "learn": [
                          0.09151541225
                        ],
                        "iteration": 163,
                        "passed_time": 1.98432784,
                        "remaining_time": 10.11523216,
                        "test": [
                          0.9946115207,
                          0.09018447763
                        ]
                      },
                      {
                        "learn": [
                          0.09149395053
                        ],
                        "iteration": 164,
                        "passed_time": 1.996381482,
                        "remaining_time": 10.10290023,
                        "test": [
                          0.9946116535,
                          0.09017599112
                        ]
                      },
                      {
                        "learn": [
                          0.09144274016
                        ],
                        "iteration": 165,
                        "passed_time": 2.007089676,
                        "remaining_time": 10.08381199,
                        "test": [
                          0.9946141548,
                          0.09014607089
                        ]
                      },
                      {
                        "learn": [
                          0.09140664237
                        ],
                        "iteration": 166,
                        "passed_time": 2.019168225,
                        "remaining_time": 10.07165947,
                        "test": [
                          0.9946127628,
                          0.09015464881
                        ]
                      },
                      {
                        "learn": [
                          0.09137868367
                        ],
                        "iteration": 167,
                        "passed_time": 2.031309737,
                        "remaining_time": 10.05981965,
                        "test": [
                          0.9946127328,
                          0.0901538157
                        ]
                      },
                      {
                        "learn": [
                          0.09134213443
                        ],
                        "iteration": 168,
                        "passed_time": 2.041544809,
                        "remaining_time": 10.03860199,
                        "test": [
                          0.9946137522,
                          0.09013601141
                        ]
                      },
                      {
                        "learn": [
                          0.09131248129
                        ],
                        "iteration": 169,
                        "passed_time": 2.053678522,
                        "remaining_time": 10.02678337,
                        "test": [
                          0.9946129298,
                          0.09013992888
                        ]
                      },
                      {
                        "learn": [
                          0.09127181938
                        ],
                        "iteration": 170,
                        "passed_time": 2.066147515,
                        "remaining_time": 10.01658649,
                        "test": [
                          0.9946142704,
                          0.09012529629
                        ]
                      },
                      {
                        "learn": [
                          0.0912342444
                        ],
                        "iteration": 171,
                        "passed_time": 2.078160215,
                        "remaining_time": 10.00416662,
                        "test": [
                          0.9946166325,
                          0.09009852528
                        ]
                      },
                      {
                        "learn": [
                          0.0912066134
                        ],
                        "iteration": 172,
                        "passed_time": 2.089564442,
                        "remaining_time": 9.988842737,
                        "test": [
                          0.9946198405,
                          0.09006991127
                        ]
                      },
                      {
                        "learn": [
                          0.09117583039
                        ],
                        "iteration": 173,
                        "passed_time": 2.100605752,
                        "remaining_time": 9.971841098,
                        "test": [
                          0.9946214167,
                          0.09004222297
                        ]
                      },
                      {
                        "learn": [
                          0.09114584553
                        ],
                        "iteration": 174,
                        "passed_time": 2.112347074,
                        "remaining_time": 9.958207635,
                        "test": [
                          0.9946238495,
                          0.09002227287
                        ]
                      },
                      {
                        "learn": [
                          0.09111225437
                        ],
                        "iteration": 175,
                        "passed_time": 2.124258551,
                        "remaining_time": 9.945392309,
                        "test": [
                          0.994628972,
                          0.08998669522
                        ]
                      },
                      {
                        "learn": [
                          0.09108221312
                        ],
                        "iteration": 176,
                        "passed_time": 2.135879656,
                        "remaining_time": 9.931237043,
                        "test": [
                          0.9946284666,
                          0.08998676921
                        ]
                      },
                      {
                        "learn": [
                          0.09105402692
                        ],
                        "iteration": 177,
                        "passed_time": 2.147148125,
                        "remaining_time": 9.915481793,
                        "test": [
                          0.9946306638,
                          0.08997860718
                        ]
                      },
                      {
                        "learn": [
                          0.09102541103
                        ],
                        "iteration": 178,
                        "passed_time": 2.158935862,
                        "remaining_time": 9.902158339,
                        "test": [
                          0.9946297387,
                          0.08998676671
                        ]
                      },
                      {
                        "learn": [
                          0.09100881919
                        ],
                        "iteration": 179,
                        "passed_time": 2.170572724,
                        "remaining_time": 9.888164633,
                        "test": [
                          0.9946311906,
                          0.08997996026
                        ]
                      },
                      {
                        "learn": [
                          0.09098443436
                        ],
                        "iteration": 180,
                        "passed_time": 2.182526719,
                        "remaining_time": 9.87563195,
                        "test": [
                          0.9946304839,
                          0.08996827045
                        ]
                      },
                      {
                        "learn": [
                          0.09095927169
                        ],
                        "iteration": 181,
                        "passed_time": 2.194560931,
                        "remaining_time": 9.863466163,
                        "test": [
                          0.9946314455,
                          0.08995339652
                        ]
                      },
                      {
                        "learn": [
                          0.09094050737
                        ],
                        "iteration": 182,
                        "passed_time": 2.206957765,
                        "remaining_time": 9.852920733,
                        "test": [
                          0.9946324049,
                          0.08993880538
                        ]
                      },
                      {
                        "learn": [
                          0.09091824457
                        ],
                        "iteration": 183,
                        "passed_time": 2.218801594,
                        "remaining_time": 9.839902723,
                        "test": [
                          0.9946318309,
                          0.08994019392
                        ]
                      },
                      {
                        "learn": [
                          0.09088513782
                        ],
                        "iteration": 184,
                        "passed_time": 2.230966924,
                        "remaining_time": 9.828313745,
                        "test": [
                          0.9946320194,
                          0.0899326763
                        ]
                      },
                      {
                        "learn": [
                          0.09086496719
                        ],
                        "iteration": 185,
                        "passed_time": 2.242755927,
                        "remaining_time": 9.815071639,
                        "test": [
                          0.9946328717,
                          0.08991866424
                        ]
                      },
                      {
                        "learn": [
                          0.09084427699
                        ],
                        "iteration": 186,
                        "passed_time": 2.254212653,
                        "remaining_time": 9.800400465,
                        "test": [
                          0.9946357414,
                          0.08989674438
                        ]
                      },
                      {
                        "learn": [
                          0.09081354778
                        ],
                        "iteration": 187,
                        "passed_time": 2.266509453,
                        "remaining_time": 9.789391892,
                        "test": [
                          0.9946358527,
                          0.0898916158
                        ]
                      },
                      {
                        "learn": [
                          0.09078370887
                        ],
                        "iteration": 188,
                        "passed_time": 2.278631648,
                        "remaining_time": 9.777620457,
                        "test": [
                          0.9946340496,
                          0.08990438486
                        ]
                      },
                      {
                        "learn": [
                          0.09074620699
                        ],
                        "iteration": 189,
                        "passed_time": 2.290358199,
                        "remaining_time": 9.764158637,
                        "test": [
                          0.9946345036,
                          0.08989125972
                        ]
                      },
                      {
                        "learn": [
                          0.09071315511
                        ],
                        "iteration": 190,
                        "passed_time": 2.302319606,
                        "remaining_time": 9.751709746,
                        "test": [
                          0.9946336191,
                          0.08988658012
                        ]
                      },
                      {
                        "learn": [
                          0.09066772284
                        ],
                        "iteration": 191,
                        "passed_time": 2.314305237,
                        "remaining_time": 9.739367873,
                        "test": [
                          0.9946325483,
                          0.08986519296
                        ]
                      },
                      {
                        "learn": [
                          0.09054700942
                        ],
                        "iteration": 192,
                        "passed_time": 2.326059395,
                        "remaining_time": 9.726061821,
                        "test": [
                          0.9946348398,
                          0.08975456719
                        ]
                      },
                      {
                        "learn": [
                          0.09048612751
                        ],
                        "iteration": 193,
                        "passed_time": 2.337883556,
                        "remaining_time": 9.713062609,
                        "test": [
                          0.9946378037,
                          0.08968965397
                        ]
                      },
                      {
                        "learn": [
                          0.09046068486
                        ],
                        "iteration": 194,
                        "passed_time": 2.349604641,
                        "remaining_time": 9.69964993,
                        "test": [
                          0.9946390714,
                          0.08967809858
                        ]
                      },
                      {
                        "learn": [
                          0.09041447639
                        ],
                        "iteration": 195,
                        "passed_time": 2.361617674,
                        "remaining_time": 9.68745209,
                        "test": [
                          0.9946405041,
                          0.08964272363
                        ]
                      },
                      {
                        "learn": [
                          0.09038677466
                        ],
                        "iteration": 196,
                        "passed_time": 2.373256312,
                        "remaining_time": 9.673730043,
                        "test": [
                          0.9946445088,
                          0.08961675722
                        ]
                      },
                      {
                        "learn": [
                          0.09035763547
                        ],
                        "iteration": 197,
                        "passed_time": 2.384861757,
                        "remaining_time": 9.659894592,
                        "test": [
                          0.9946447358,
                          0.08961322767
                        ]
                      },
                      {
                        "learn": [
                          0.09033852432
                        ],
                        "iteration": 198,
                        "passed_time": 2.396183904,
                        "remaining_time": 9.644941241,
                        "test": [
                          0.9946432581,
                          0.08961923042
                        ]
                      },
                      {
                        "learn": [
                          0.09031795922
                        ],
                        "iteration": 199,
                        "passed_time": 2.407716788,
                        "remaining_time": 9.630867152,
                        "test": [
                          0.994642243,
                          0.08962026027
                        ]
                      },
                      {
                        "learn": [
                          0.09029078649
                        ],
                        "iteration": 200,
                        "passed_time": 2.419206171,
                        "remaining_time": 9.616645426,
                        "test": [
                          0.9946417676,
                          0.08961879203
                        ]
                      },
                      {
                        "learn": [
                          0.09021481538
                        ],
                        "iteration": 201,
                        "passed_time": 2.431625753,
                        "remaining_time": 9.606125498,
                        "test": [
                          0.9946443203,
                          0.08954853941
                        ]
                      },
                      {
                        "learn": [
                          0.09019571706
                        ],
                        "iteration": 202,
                        "passed_time": 2.44355006,
                        "remaining_time": 9.593642354,
                        "test": [
                          0.9946443889,
                          0.08955130993
                        ]
                      },
                      {
                        "learn": [
                          0.09015973469
                        ],
                        "iteration": 203,
                        "passed_time": 2.455553386,
                        "remaining_time": 9.581473016,
                        "test": [
                          0.9946444617,
                          0.08954213781
                        ]
                      },
                      {
                        "learn": [
                          0.09014253203
                        ],
                        "iteration": 204,
                        "passed_time": 2.46756807,
                        "remaining_time": 9.569349346,
                        "test": [
                          0.994645511,
                          0.08952772329
                        ]
                      },
                      {
                        "learn": [
                          0.09011390723
                        ],
                        "iteration": 205,
                        "passed_time": 2.479606624,
                        "remaining_time": 9.557318736,
                        "test": [
                          0.9946451298,
                          0.08952131935
                        ]
                      },
                      {
                        "learn": [
                          0.09006223905
                        ],
                        "iteration": 206,
                        "passed_time": 2.491376492,
                        "remaining_time": 9.544258734,
                        "test": [
                          0.9946453311,
                          0.08948185316
                        ]
                      },
                      {
                        "learn": [
                          0.09004196253
                        ],
                        "iteration": 207,
                        "passed_time": 2.502097781,
                        "remaining_time": 9.527218476,
                        "test": [
                          0.9946457423,
                          0.08947815825
                        ]
                      },
                      {
                        "learn": [
                          0.09002451845
                        ],
                        "iteration": 208,
                        "passed_time": 2.51408911,
                        "remaining_time": 9.515045388,
                        "test": [
                          0.9946475712,
                          0.08946222144
                        ]
                      },
                      {
                        "learn": [
                          0.09000598622
                        ],
                        "iteration": 209,
                        "passed_time": 2.526293089,
                        "remaining_time": 9.503674003,
                        "test": [
                          0.9946502309,
                          0.0894389298
                        ]
                      },
                      {
                        "learn": [
                          0.08998546824
                        ],
                        "iteration": 210,
                        "passed_time": 2.538210651,
                        "remaining_time": 9.491223715,
                        "test": [
                          0.9946519827,
                          0.08943030612
                        ]
                      },
                      {
                        "learn": [
                          0.08992873794
                        ],
                        "iteration": 211,
                        "passed_time": 2.550805812,
                        "remaining_time": 9.481297073,
                        "test": [
                          0.9946531991,
                          0.08938307349
                        ]
                      },
                      {
                        "learn": [
                          0.08990725822
                        ],
                        "iteration": 212,
                        "passed_time": 2.562363543,
                        "remaining_time": 9.467512244,
                        "test": [
                          0.9946522611,
                          0.08938787034
                        ]
                      },
                      {
                        "learn": [
                          0.08987222497
                        ],
                        "iteration": 213,
                        "passed_time": 2.576313425,
                        "remaining_time": 9.462534355,
                        "test": [
                          0.9946525224,
                          0.08939241024
                        ]
                      },
                      {
                        "learn": [
                          0.08985527566
                        ],
                        "iteration": 214,
                        "passed_time": 2.588874303,
                        "remaining_time": 9.452401526,
                        "test": [
                          0.9946531734,
                          0.08938370736
                        ]
                      },
                      {
                        "learn": [
                          0.08983611802
                        ],
                        "iteration": 215,
                        "passed_time": 2.600860754,
                        "remaining_time": 9.440161256,
                        "test": [
                          0.9946532976,
                          0.08938288194
                        ]
                      },
                      {
                        "learn": [
                          0.08980573295
                        ],
                        "iteration": 216,
                        "passed_time": 2.612562188,
                        "remaining_time": 9.426894899,
                        "test": [
                          0.9946547324,
                          0.08938062854
                        ]
                      },
                      {
                        "learn": [
                          0.08976706032
                        ],
                        "iteration": 217,
                        "passed_time": 2.624663752,
                        "remaining_time": 9.41507823,
                        "test": [
                          0.9946539101,
                          0.0893526612
                        ]
                      },
                      {
                        "learn": [
                          0.0897452495
                        ],
                        "iteration": 218,
                        "passed_time": 2.636602649,
                        "remaining_time": 9.402678852,
                        "test": [
                          0.9946550023,
                          0.0893418916
                        ]
                      },
                      {
                        "learn": [
                          0.08972495879
                        ],
                        "iteration": 219,
                        "passed_time": 2.64858848,
                        "remaining_time": 9.390450064,
                        "test": [
                          0.9946545611,
                          0.08934833289
                        ]
                      },
                      {
                        "learn": [
                          0.08962561129
                        ],
                        "iteration": 220,
                        "passed_time": 2.660381684,
                        "remaining_time": 9.377544487,
                        "test": [
                          0.9946590626,
                          0.08923131551
                        ]
                      },
                      {
                        "learn": [
                          0.08960195
                        ],
                        "iteration": 221,
                        "passed_time": 2.672331226,
                        "remaining_time": 9.365196818,
                        "test": [
                          0.9946578034,
                          0.08922786342
                        ]
                      },
                      {
                        "learn": [
                          0.08957955645
                        ],
                        "iteration": 222,
                        "passed_time": 2.68368959,
                        "remaining_time": 9.350792878,
                        "test": [
                          0.9946566941,
                          0.08923765411
                        ]
                      },
                      {
                        "learn": [
                          0.08954243393
                        ],
                        "iteration": 223,
                        "passed_time": 2.695593002,
                        "remaining_time": 9.338304329,
                        "test": [
                          0.994657495,
                          0.08921961139
                        ]
                      },
                      {
                        "learn": [
                          0.08952709784
                        ],
                        "iteration": 224,
                        "passed_time": 2.707347605,
                        "remaining_time": 9.325308416,
                        "test": [
                          0.9946561458,
                          0.08922755355
                        ]
                      },
                      {
                        "learn": [
                          0.08949660012
                        ],
                        "iteration": 225,
                        "passed_time": 2.718313269,
                        "remaining_time": 9.309621549,
                        "test": [
                          0.9946577606,
                          0.08921277756
                        ]
                      },
                      {
                        "learn": [
                          0.08946247983
                        ],
                        "iteration": 226,
                        "passed_time": 2.730180392,
                        "remaining_time": 9.297046004,
                        "test": [
                          0.9946572723,
                          0.08919551759
                        ]
                      },
                      {
                        "learn": [
                          0.08942502945
                        ],
                        "iteration": 227,
                        "passed_time": 2.742147805,
                        "remaining_time": 9.284816252,
                        "test": [
                          0.9946565613,
                          0.08917952833
                        ]
                      },
                      {
                        "learn": [
                          0.08939565118
                        ],
                        "iteration": 228,
                        "passed_time": 2.754018429,
                        "remaining_time": 9.272262919,
                        "test": [
                          0.9946555805,
                          0.08918953176
                        ]
                      },
                      {
                        "learn": [
                          0.08934186375
                        ],
                        "iteration": 229,
                        "passed_time": 2.765946553,
                        "remaining_time": 9.259908025,
                        "test": [
                          0.9946559702,
                          0.08914802067
                        ]
                      },
                      {
                        "learn": [
                          0.08930743475
                        ],
                        "iteration": 230,
                        "passed_time": 2.777866239,
                        "remaining_time": 9.247528734,
                        "test": [
                          0.9946552593,
                          0.08915174469
                        ]
                      },
                      {
                        "learn": [
                          0.08927607318
                        ],
                        "iteration": 231,
                        "passed_time": 2.789839791,
                        "remaining_time": 9.235331723,
                        "test": [
                          0.9946523725,
                          0.08915988371
                        ]
                      },
                      {
                        "learn": [
                          0.08925696402
                        ],
                        "iteration": 232,
                        "passed_time": 2.801910131,
                        "remaining_time": 9.223455239,
                        "test": [
                          0.994653304,
                          0.08915261994
                        ]
                      },
                      {
                        "learn": [
                          0.08923737801
                        ],
                        "iteration": 233,
                        "passed_time": 2.813765722,
                        "remaining_time": 9.210874115,
                        "test": [
                          0.9946543363,
                          0.08914340394
                        ]
                      },
                      {
                        "learn": [
                          0.08921715802
                        ],
                        "iteration": 234,
                        "passed_time": 2.826055709,
                        "remaining_time": 9.199713266,
                        "test": [
                          0.9946514452,
                          0.08916056826
                        ]
                      },
                      {
                        "learn": [
                          0.08920586067
                        ],
                        "iteration": 235,
                        "passed_time": 2.837931736,
                        "remaining_time": 9.18720274,
                        "test": [
                          0.9946497705,
                          0.08917099491
                        ]
                      },
                      {
                        "learn": [
                          0.08917920574
                        ],
                        "iteration": 236,
                        "passed_time": 2.850192227,
                        "remaining_time": 9.175935314,
                        "test": [
                          0.9946488111,
                          0.08917933994
                        ]
                      },
                      {
                        "learn": [
                          0.08915609462
                        ],
                        "iteration": 237,
                        "passed_time": 2.862219294,
                        "remaining_time": 9.163912193,
                        "test": [
                          0.9946492822,
                          0.08916416226
                        ]
                      },
                      {
                        "learn": [
                          0.08913463858
                        ],
                        "iteration": 238,
                        "passed_time": 2.873895131,
                        "remaining_time": 9.150770689,
                        "test": [
                          0.9946473891,
                          0.08917295626
                        ]
                      },
                      {
                        "learn": [
                          0.08911719667
                        ],
                        "iteration": 239,
                        "passed_time": 2.885065958,
                        "remaining_time": 9.136042201,
                        "test": [
                          0.9946470037,
                          0.08917642779
                        ]
                      },
                      {
                        "learn": [
                          0.08907550063
                        ],
                        "iteration": 240,
                        "passed_time": 2.896751251,
                        "remaining_time": 9.122963483,
                        "test": [
                          0.9946470722,
                          0.0891518654
                        ]
                      },
                      {
                        "learn": [
                          0.08905352809
                        ],
                        "iteration": 241,
                        "passed_time": 2.908808419,
                        "remaining_time": 9.11106108,
                        "test": [
                          0.9946471921,
                          0.08914942936
                        ]
                      },
                      {
                        "learn": [
                          0.08903511341
                        ],
                        "iteration": 242,
                        "passed_time": 2.92052441,
                        "remaining_time": 9.098094562,
                        "test": [
                          0.9946475797,
                          0.08914477433
                        ]
                      },
                      {
                        "learn": [
                          0.08901970097
                        ],
                        "iteration": 243,
                        "passed_time": 2.932328828,
                        "remaining_time": 9.08541227,
                        "test": [
                          0.994648295,
                          0.08913930231
                        ]
                      },
                      {
                        "learn": [
                          0.08898374536
                        ],
                        "iteration": 244,
                        "passed_time": 2.949371165,
                        "remaining_time": 9.088878488,
                        "test": [
                          0.9946499097,
                          0.08912310396
                        ]
                      },
                      {
                        "learn": [
                          0.0889641294
                        ],
                        "iteration": 245,
                        "passed_time": 2.962153556,
                        "remaining_time": 9.079121063,
                        "test": [
                          0.9946494643,
                          0.0891232608
                        ]
                      },
                      {
                        "learn": [
                          0.08895443259
                        ],
                        "iteration": 246,
                        "passed_time": 2.973590166,
                        "remaining_time": 9.065236418,
                        "test": [
                          0.994649036,
                          0.08912706199
                        ]
                      },
                      {
                        "learn": [
                          0.08893111448
                        ],
                        "iteration": 247,
                        "passed_time": 2.98527851,
                        "remaining_time": 9.052134836,
                        "test": [
                          0.9946486034,
                          0.08913114173
                        ]
                      },
                      {
                        "learn": [
                          0.08891354903
                        ],
                        "iteration": 248,
                        "passed_time": 2.995786957,
                        "remaining_time": 9.035485962,
                        "test": [
                          0.9946480851,
                          0.08913320895
                        ]
                      },
                      {
                        "learn": [
                          0.08884757366
                        ],
                        "iteration": 249,
                        "passed_time": 3.007771429,
                        "remaining_time": 9.023314286,
                        "test": [
                          0.9946512246,
                          0.08905408052
                        ]
                      },
                      {
                        "learn": [
                          0.08883188801
                        ],
                        "iteration": 250,
                        "passed_time": 3.017392073,
                        "remaining_time": 9.004090288,
                        "test": [
                          0.9946495671,
                          0.08905984474
                        ]
                      },
                      {
                        "learn": [
                          0.08880388061
                        ],
                        "iteration": 251,
                        "passed_time": 3.029627126,
                        "remaining_time": 8.992702739,
                        "test": [
                          0.9946486334,
                          0.08906658272
                        ]
                      },
                      {
                        "learn": [
                          0.0887455832
                        ],
                        "iteration": 252,
                        "passed_time": 3.04196512,
                        "remaining_time": 8.981612431,
                        "test": [
                          0.9946510233,
                          0.0890032214
                        ]
                      },
                      {
                        "learn": [
                          0.08870424315
                        ],
                        "iteration": 253,
                        "passed_time": 3.053793528,
                        "remaining_time": 8.969015636,
                        "test": [
                          0.9946567626,
                          0.08896420891
                        ]
                      },
                      {
                        "learn": [
                          0.08865542265
                        ],
                        "iteration": 254,
                        "passed_time": 3.065911754,
                        "remaining_time": 8.957271594,
                        "test": [
                          0.9946599792,
                          0.08890243321
                        ]
                      },
                      {
                        "learn": [
                          0.08863020538
                        ],
                        "iteration": 255,
                        "passed_time": 3.077265596,
                        "remaining_time": 8.943303137,
                        "test": [
                          0.9946594823,
                          0.08890279027
                        ]
                      },
                      {
                        "learn": [
                          0.08860801172
                        ],
                        "iteration": 256,
                        "passed_time": 3.088963222,
                        "remaining_time": 8.930348927,
                        "test": [
                          0.9946593067,
                          0.08890515112
                        ]
                      },
                      {
                        "learn": [
                          0.08857805849
                        ],
                        "iteration": 257,
                        "passed_time": 3.101365669,
                        "remaining_time": 8.919431498,
                        "test": [
                          0.9946572252,
                          0.08892017426
                        ]
                      },
                      {
                        "learn": [
                          0.0885571523
                        ],
                        "iteration": 258,
                        "passed_time": 3.114702033,
                        "remaining_time": 8.911174543,
                        "test": [
                          0.9946567755,
                          0.08892242827
                        ]
                      },
                      {
                        "learn": [
                          0.08852598492
                        ],
                        "iteration": 259,
                        "passed_time": 3.128037612,
                        "remaining_time": 8.902876281,
                        "test": [
                          0.9946576321,
                          0.08890229649
                        ]
                      },
                      {
                        "learn": [
                          0.08850869866
                        ],
                        "iteration": 260,
                        "passed_time": 3.13960723,
                        "remaining_time": 8.889539244,
                        "test": [
                          0.9946580689,
                          0.08889526759
                        ]
                      },
                      {
                        "learn": [
                          0.08848250944
                        ],
                        "iteration": 261,
                        "passed_time": 3.151494424,
                        "remaining_time": 8.877110248,
                        "test": [
                          0.9946574693,
                          0.08888383004
                        ]
                      },
                      {
                        "learn": [
                          0.0884415849
                        ],
                        "iteration": 262,
                        "passed_time": 3.163121769,
                        "remaining_time": 8.863957201,
                        "test": [
                          0.9946565442,
                          0.08885828871
                        ]
                      },
                      {
                        "learn": [
                          0.08842300488
                        ],
                        "iteration": 263,
                        "passed_time": 3.175152429,
                        "remaining_time": 8.851940106,
                        "test": [
                          0.9946555291,
                          0.08885943827
                        ]
                      },
                      {
                        "learn": [
                          0.08838868909
                        ],
                        "iteration": 264,
                        "passed_time": 3.187222508,
                        "remaining_time": 8.84003224,
                        "test": [
                          0.9946571138,
                          0.08882434616
                        ]
                      },
                      {
                        "learn": [
                          0.08835981721
                        ],
                        "iteration": 265,
                        "passed_time": 3.199609769,
                        "remaining_time": 8.828998385,
                        "test": [
                          0.9946571309,
                          0.08882496312
                        ]
                      },
                      {
                        "learn": [
                          0.0883296379
                        ],
                        "iteration": 266,
                        "passed_time": 3.210205239,
                        "remaining_time": 8.813035357,
                        "test": [
                          0.9946594995,
                          0.0888120298
                        ]
                      },
                      {
                        "learn": [
                          0.08829708346
                        ],
                        "iteration": 267,
                        "passed_time": 3.222789404,
                        "remaining_time": 8.802544193,
                        "test": [
                          0.9946617567,
                          0.08879951388
                        ]
                      },
                      {
                        "learn": [
                          0.08826781058
                        ],
                        "iteration": 268,
                        "passed_time": 3.235361283,
                        "remaining_time": 8.792004081,
                        "test": [
                          0.99466553,
                          0.08877102235
                        ]
                      },
                      {
                        "learn": [
                          0.08824254839
                        ],
                        "iteration": 269,
                        "passed_time": 3.247377865,
                        "remaining_time": 8.779947561,
                        "test": [
                          0.9946634956,
                          0.08878240253
                        ]
                      },
                      {
                        "learn": [
                          0.0882268851
                        ],
                        "iteration": 270,
                        "passed_time": 3.258944542,
                        "remaining_time": 8.766681075,
                        "test": [
                          0.9946638896,
                          0.08878129332
                        ]
                      },
                      {
                        "learn": [
                          0.08820604324
                        ],
                        "iteration": 271,
                        "passed_time": 3.270358956,
                        "remaining_time": 8.753019558,
                        "test": [
                          0.9946605488,
                          0.08879944002
                        ]
                      },
                      {
                        "learn": [
                          0.08818007181
                        ],
                        "iteration": 272,
                        "passed_time": 3.282372426,
                        "remaining_time": 8.740969794,
                        "test": [
                          0.9946656842,
                          0.08876595303
                        ]
                      },
                      {
                        "learn": [
                          0.08815807033
                        ],
                        "iteration": 273,
                        "passed_time": 3.294428353,
                        "remaining_time": 8.729032789,
                        "test": [
                          0.9946675345,
                          0.08874583677
                        ]
                      },
                      {
                        "learn": [
                          0.08814670185
                        ],
                        "iteration": 274,
                        "passed_time": 3.306355102,
                        "remaining_time": 8.71675436,
                        "test": [
                          0.9946682326,
                          0.08874415617
                        ]
                      },
                      {
                        "learn": [
                          0.08811988365
                        ],
                        "iteration": 275,
                        "passed_time": 3.31860219,
                        "remaining_time": 8.705318788,
                        "test": [
                          0.9946695347,
                          0.08871715797
                        ]
                      },
                      {
                        "learn": [
                          0.08810386337
                        ],
                        "iteration": 276,
                        "passed_time": 3.329947617,
                        "remaining_time": 8.691523925,
                        "test": [
                          0.9946679842,
                          0.08872115792
                        ]
                      },
                      {
                        "learn": [
                          0.08808428954
                        ],
                        "iteration": 277,
                        "passed_time": 3.340308397,
                        "remaining_time": 8.675189434,
                        "test": [
                          0.9946680356,
                          0.08871257236
                        ]
                      },
                      {
                        "learn": [
                          0.08807016275
                        ],
                        "iteration": 278,
                        "passed_time": 3.351817154,
                        "remaining_time": 8.661864401,
                        "test": [
                          0.9946673246,
                          0.08871383649
                        ]
                      },
                      {
                        "learn": [
                          0.08805979404
                        ],
                        "iteration": 279,
                        "passed_time": 3.363272427,
                        "remaining_time": 8.648414811,
                        "test": [
                          0.9946675773,
                          0.08871135507
                        ]
                      },
                      {
                        "learn": [
                          0.08803361961
                        ],
                        "iteration": 280,
                        "passed_time": 3.374921622,
                        "remaining_time": 8.63547561,
                        "test": [
                          0.9946662025,
                          0.08872234619
                        ]
                      },
                      {
                        "learn": [
                          0.08800803179
                        ],
                        "iteration": 281,
                        "passed_time": 3.387567205,
                        "remaining_time": 8.625082457,
                        "test": [
                          0.9946650246,
                          0.08873771532
                        ]
                      },
                      {
                        "learn": [
                          0.08798126951
                        ],
                        "iteration": 282,
                        "passed_time": 3.399275396,
                        "remaining_time": 8.612298441,
                        "test": [
                          0.9946642194,
                          0.08873241534
                        ]
                      },
                      {
                        "learn": [
                          0.08795628636
                        ],
                        "iteration": 283,
                        "passed_time": 3.410634519,
                        "remaining_time": 8.598641957,
                        "test": [
                          0.9946635084,
                          0.0887377607
                        ]
                      },
                      {
                        "learn": [
                          0.08792592966
                        ],
                        "iteration": 284,
                        "passed_time": 3.422877799,
                        "remaining_time": 8.587219742,
                        "test": [
                          0.9946622728,
                          0.08874168206
                        ]
                      },
                      {
                        "learn": [
                          0.08789176026
                        ],
                        "iteration": 285,
                        "passed_time": 3.434644621,
                        "remaining_time": 8.574602305,
                        "test": [
                          0.9946627182,
                          0.08874002458
                        ]
                      },
                      {
                        "learn": [
                          0.0878772592
                        ],
                        "iteration": 286,
                        "passed_time": 3.446318049,
                        "remaining_time": 8.561758777,
                        "test": [
                          0.9946621785,
                          0.08874540971
                        ]
                      },
                      {
                        "learn": [
                          0.08785965183
                        ],
                        "iteration": 287,
                        "passed_time": 3.458092344,
                        "remaining_time": 8.54917274,
                        "test": [
                          0.9946600584,
                          0.08875092241
                        ]
                      },
                      {
                        "learn": [
                          0.08781577537
                        ],
                        "iteration": 288,
                        "passed_time": 3.47001966,
                        "remaining_time": 8.536968782,
                        "test": [
                          0.994661823,
                          0.08870420646
                        ]
                      },
                      {
                        "learn": [
                          0.08778793188
                        ],
                        "iteration": 289,
                        "passed_time": 3.481836262,
                        "remaining_time": 8.524495675,
                        "test": [
                          0.9946615189,
                          0.08870619971
                        ]
                      },
                      {
                        "learn": [
                          0.08776521786
                        ],
                        "iteration": 290,
                        "passed_time": 3.493506271,
                        "remaining_time": 8.511669918,
                        "test": [
                          0.9946616688,
                          0.08868890299
                        ]
                      },
                      {
                        "learn": [
                          0.08774706331
                        ],
                        "iteration": 291,
                        "passed_time": 3.504042591,
                        "remaining_time": 8.496103269,
                        "test": [
                          0.9946608679,
                          0.08869238641
                        ]
                      },
                      {
                        "learn": [
                          0.08772682509
                        ],
                        "iteration": 292,
                        "passed_time": 3.515507176,
                        "remaining_time": 8.48281083,
                        "test": [
                          0.9946589448,
                          0.08870324854
                        ]
                      },
                      {
                        "learn": [
                          0.08769840214
                        ],
                        "iteration": 293,
                        "passed_time": 3.527838065,
                        "remaining_time": 8.471611135,
                        "test": [
                          0.9946587906,
                          0.08868549635
                        ]
                      },
                      {
                        "learn": [
                          0.08768383742
                        ],
                        "iteration": 294,
                        "passed_time": 3.539573701,
                        "remaining_time": 8.458981218,
                        "test": [
                          0.9946581739,
                          0.08868651673
                        ]
                      },
                      {
                        "learn": [
                          0.08766345724
                        ],
                        "iteration": 295,
                        "passed_time": 3.551789027,
                        "remaining_time": 8.447498225,
                        "test": [
                          0.9946571202,
                          0.08870262742
                        ]
                      },
                      {
                        "learn": [
                          0.08761477436
                        ],
                        "iteration": 296,
                        "passed_time": 3.564392603,
                        "remaining_time": 8.436929291,
                        "test": [
                          0.9946580111,
                          0.08867228357
                        ]
                      },
                      {
                        "learn": [
                          0.08757971021
                        ],
                        "iteration": 297,
                        "passed_time": 3.576709399,
                        "remaining_time": 8.425671135,
                        "test": [
                          0.9946589448,
                          0.08864692593
                        ]
                      },
                      {
                        "learn": [
                          0.08756469595
                        ],
                        "iteration": 298,
                        "passed_time": 3.589008046,
                        "remaining_time": 8.414363345,
                        "test": [
                          0.9946558525,
                          0.08866612936
                        ]
                      },
                      {
                        "learn": [
                          0.08753887074
                        ],
                        "iteration": 299,
                        "passed_time": 3.601279241,
                        "remaining_time": 8.402984896,
                        "test": [
                          0.9946550044,
                          0.08867422633
                        ]
                      },
                      {
                        "learn": [
                          0.08751827912
                        ],
                        "iteration": 300,
                        "passed_time": 3.613380221,
                        "remaining_time": 8.391205232,
                        "test": [
                          0.9946545675,
                          0.08868341125
                        ]
                      },
                      {
                        "learn": [
                          0.08748342192
                        ],
                        "iteration": 301,
                        "passed_time": 3.626049719,
                        "remaining_time": 8.380737431,
                        "test": [
                          0.994654983,
                          0.0886861919
                        ]
                      },
                      {
                        "learn": [
                          0.0874530418
                        ],
                        "iteration": 302,
                        "passed_time": 3.637936574,
                        "remaining_time": 8.36845476,
                        "test": [
                          0.9946546618,
                          0.08868022217
                        ]
                      },
                      {
                        "learn": [
                          0.08743391156
                        ],
                        "iteration": 303,
                        "passed_time": 3.649416219,
                        "remaining_time": 8.355242395,
                        "test": [
                          0.9946542249,
                          0.08869053201
                        ]
                      },
                      {
                        "learn": [
                          0.08741049011
                        ],
                        "iteration": 304,
                        "passed_time": 3.660692832,
                        "remaining_time": 8.341578748,
                        "test": [
                          0.9946543662,
                          0.0886906651
                        ]
                      },
                      {
                        "learn": [
                          0.08738796037
                        ],
                        "iteration": 305,
                        "passed_time": 3.672716912,
                        "remaining_time": 8.329625937,
                        "test": [
                          0.9946540236,
                          0.08869013976
                        ]
                      },
                      {
                        "learn": [
                          0.08736495663
                        ],
                        "iteration": 306,
                        "passed_time": 3.684380122,
                        "remaining_time": 8.316858061,
                        "test": [
                          0.9946552357,
                          0.08868628278
                        ]
                      },
                      {
                        "learn": [
                          0.0873434581
                        ],
                        "iteration": 307,
                        "passed_time": 3.696185695,
                        "remaining_time": 8.304417211,
                        "test": [
                          0.9946541264,
                          0.08869157057
                        ]
                      },
                      {
                        "learn": [
                          0.0873249198
                        ],
                        "iteration": 308,
                        "passed_time": 3.707664497,
                        "remaining_time": 8.291249734,
                        "test": [
                          0.9946534925,
                          0.08868961462
                        ]
                      },
                      {
                        "learn": [
                          0.0873168386
                        ],
                        "iteration": 309,
                        "passed_time": 3.719280951,
                        "remaining_time": 8.278399536,
                        "test": [
                          0.9946545076,
                          0.08868572343
                        ]
                      },
                      {
                        "learn": [
                          0.08730249611
                        ],
                        "iteration": 310,
                        "passed_time": 3.731086137,
                        "remaining_time": 8.265975398,
                        "test": [
                          0.9946541392,
                          0.08868980538
                        ]
                      },
                      {
                        "learn": [
                          0.0872803041
                        ],
                        "iteration": 311,
                        "passed_time": 3.742362001,
                        "remaining_time": 8.252388002,
                        "test": [
                          0.994655891,
                          0.0886764858
                        ]
                      },
                      {
                        "learn": [
                          0.08726647602
                        ],
                        "iteration": 312,
                        "passed_time": 3.753971316,
                        "remaining_time": 8.239547265,
                        "test": [
                          0.9946561994,
                          0.08867207324
                        ]
                      },
                      {
                        "learn": [
                          0.08725039451
                        ],
                        "iteration": 313,
                        "passed_time": 3.7655476,
                        "remaining_time": 8.22664221,
                        "test": [
                          0.9946551971,
                          0.08867755556
                        ]
                      },
                      {
                        "learn": [
                          0.08723649508
                        ],
                        "iteration": 314,
                        "passed_time": 3.776810354,
                        "remaining_time": 8.213063785,
                        "test": [
                          0.9946560837,
                          0.08867288579
                        ]
                      },
                      {
                        "learn": [
                          0.08721526597
                        ],
                        "iteration": 315,
                        "passed_time": 3.788847103,
                        "remaining_time": 8.201175374,
                        "test": [
                          0.9946542249,
                          0.08868051125
                        ]
                      },
                      {
                        "learn": [
                          0.08719410878
                        ],
                        "iteration": 316,
                        "passed_time": 3.800787057,
                        "remaining_time": 8.189077476,
                        "test": [
                          0.9946530985,
                          0.08868544146
                        ]
                      },
                      {
                        "learn": [
                          0.08717180372
                        ],
                        "iteration": 317,
                        "passed_time": 3.813046218,
                        "remaining_time": 8.17766516,
                        "test": [
                          0.9946528286,
                          0.08869092184
                        ]
                      },
                      {
                        "learn": [
                          0.08715422046
                        ],
                        "iteration": 318,
                        "passed_time": 3.825662636,
                        "remaining_time": 8.167010205,
                        "test": [
                          0.9946521647,
                          0.08869131296
                        ]
                      },
                      {
                        "learn": [
                          0.08713395989
                        ],
                        "iteration": 319,
                        "passed_time": 3.836820174,
                        "remaining_time": 8.153242869,
                        "test": [
                          0.9946531027,
                          0.08868812342
                        ]
                      },
                      {
                        "learn": [
                          0.08712298492
                        ],
                        "iteration": 320,
                        "passed_time": 3.848189257,
                        "remaining_time": 8.13993927,
                        "test": [
                          0.9946529443,
                          0.08868916998
                        ]
                      },
                      {
                        "learn": [
                          0.08708702892
                        ],
                        "iteration": 321,
                        "passed_time": 3.859782666,
                        "remaining_time": 8.127120024,
                        "test": [
                          0.9946552528,
                          0.08865372813
                        ]
                      },
                      {
                        "learn": [
                          0.0870720729
                        ],
                        "iteration": 322,
                        "passed_time": 3.871833178,
                        "remaining_time": 8.115266445,
                        "test": [
                          0.9946527258,
                          0.08867974102
                        ]
                      },
                      {
                        "learn": [
                          0.08705629086
                        ],
                        "iteration": 323,
                        "passed_time": 3.883839862,
                        "remaining_time": 8.103320206,
                        "test": [
                          0.9946531863,
                          0.08867148887
                        ]
                      },
                      {
                        "learn": [
                          0.08703860475
                        ],
                        "iteration": 324,
                        "passed_time": 3.895938048,
                        "remaining_time": 8.091563637,
                        "test": [
                          0.9946525095,
                          0.08867929552
                        ]
                      },
                      {
                        "learn": [
                          0.08701271843
                        ],
                        "iteration": 325,
                        "passed_time": 3.908193001,
                        "remaining_time": 8.080129088,
                        "test": [
                          0.9946519998,
                          0.08865997557
                        ]
                      }
                    ],
                    "meta": {
                      "test_sets": [
                        "test"
                      ],
                      "test_metrics": [
                        {
                          "best_value": "Max",
                          "name": "AUC"
                        },
                        {
                          "best_value": "Min",
                          "name": "Logloss"
                        }
                      ],
                      "learn_metrics": [
                        {
                          "best_value": "Min",
                          "name": "Logloss"
                        }
                      ],
                      "launch_mode": "Train",
                      "parameters": "",
                      "iteration_count": 1000,
                      "learn_sets": [
                        "learn"
                      ],
                      "name": "experiment"
                    }
                  }
                }
              }
            },
            "layout": "IPY_MODEL_d1059a22449f4b48bfc32653df75352e"
          }
        },
        "79ab5a6d9575479bbd773d5729ae5c7a": {
          "model_module": "@jupyter-widgets/controls",
          "model_name": "HBoxModel",
          "model_module_version": "1.5.0",
          "state": {
            "_dom_classes": [],
            "_model_module": "@jupyter-widgets/controls",
            "_model_module_version": "1.5.0",
            "_model_name": "HBoxModel",
            "_view_count": null,
            "_view_module": "@jupyter-widgets/controls",
            "_view_module_version": "1.5.0",
            "_view_name": "HBoxView",
            "box_style": "",
            "children": [
              "IPY_MODEL_7ec718c6f9f94b78b378ee784bb8f1dd",
              "IPY_MODEL_15444a05312241dc935acfcd3d24dfb5",
              "IPY_MODEL_0159480c56fa46e6863abf29d35c83cf"
            ],
            "layout": "IPY_MODEL_50e9e4529443438bb284af6bf165ce30"
          }
        },
        "7ec718c6f9f94b78b378ee784bb8f1dd": {
          "model_module": "@jupyter-widgets/controls",
          "model_name": "HTMLModel",
          "model_module_version": "1.5.0",
          "state": {
            "_dom_classes": [],
            "_model_module": "@jupyter-widgets/controls",
            "_model_module_version": "1.5.0",
            "_model_name": "HTMLModel",
            "_view_count": null,
            "_view_module": "@jupyter-widgets/controls",
            "_view_module_version": "1.5.0",
            "_view_name": "HTMLView",
            "description": "",
            "description_tooltip": null,
            "layout": "IPY_MODEL_f227e3eddf4742bcba814b70ae40a694",
            "placeholder": "​",
            "style": "IPY_MODEL_8b85d8e626b64983b32c62708e0ecac4",
            "value": "Model export complete: 100%"
          }
        },
        "15444a05312241dc935acfcd3d24dfb5": {
          "model_module": "@jupyter-widgets/controls",
          "model_name": "FloatProgressModel",
          "model_module_version": "1.5.0",
          "state": {
            "_dom_classes": [],
            "_model_module": "@jupyter-widgets/controls",
            "_model_module_version": "1.5.0",
            "_model_name": "FloatProgressModel",
            "_view_count": null,
            "_view_module": "@jupyter-widgets/controls",
            "_view_module_version": "1.5.0",
            "_view_name": "ProgressView",
            "bar_style": "success",
            "description": "",
            "description_tooltip": null,
            "layout": "IPY_MODEL_4778de16cb844ee49496d896446c17d4",
            "max": 6,
            "min": 0,
            "orientation": "horizontal",
            "style": "IPY_MODEL_50d2f30d1d444210adfac5d58fc74173",
            "value": 6
          }
        },
        "0159480c56fa46e6863abf29d35c83cf": {
          "model_module": "@jupyter-widgets/controls",
          "model_name": "HTMLModel",
          "model_module_version": "1.5.0",
          "state": {
            "_dom_classes": [],
            "_model_module": "@jupyter-widgets/controls",
            "_model_module_version": "1.5.0",
            "_model_name": "HTMLModel",
            "_view_count": null,
            "_view_module": "@jupyter-widgets/controls",
            "_view_module_version": "1.5.0",
            "_view_name": "HTMLView",
            "description": "",
            "description_tooltip": null,
            "layout": "IPY_MODEL_2fe5caf8235d4842ac3db7e297ef4cf3",
            "placeholder": "​",
            "style": "IPY_MODEL_504f8cb5a0614e72ae19974d8a667ad4",
            "value": " 6/6 [00:37&lt;00:00,  7.27s/it]"
          }
        },
        "50e9e4529443438bb284af6bf165ce30": {
          "model_module": "@jupyter-widgets/base",
          "model_name": "LayoutModel",
          "model_module_version": "1.2.0",
          "state": {
            "_model_module": "@jupyter-widgets/base",
            "_model_module_version": "1.2.0",
            "_model_name": "LayoutModel",
            "_view_count": null,
            "_view_module": "@jupyter-widgets/base",
            "_view_module_version": "1.2.0",
            "_view_name": "LayoutView",
            "align_content": null,
            "align_items": null,
            "align_self": null,
            "border": null,
            "bottom": null,
            "display": null,
            "flex": null,
            "flex_flow": null,
            "grid_area": null,
            "grid_auto_columns": null,
            "grid_auto_flow": null,
            "grid_auto_rows": null,
            "grid_column": null,
            "grid_gap": null,
            "grid_row": null,
            "grid_template_areas": null,
            "grid_template_columns": null,
            "grid_template_rows": null,
            "height": null,
            "justify_content": null,
            "justify_items": null,
            "left": null,
            "margin": null,
            "max_height": null,
            "max_width": null,
            "min_height": null,
            "min_width": null,
            "object_fit": null,
            "object_position": null,
            "order": null,
            "overflow": null,
            "overflow_x": null,
            "overflow_y": null,
            "padding": null,
            "right": null,
            "top": null,
            "visibility": null,
            "width": null
          }
        },
        "f227e3eddf4742bcba814b70ae40a694": {
          "model_module": "@jupyter-widgets/base",
          "model_name": "LayoutModel",
          "model_module_version": "1.2.0",
          "state": {
            "_model_module": "@jupyter-widgets/base",
            "_model_module_version": "1.2.0",
            "_model_name": "LayoutModel",
            "_view_count": null,
            "_view_module": "@jupyter-widgets/base",
            "_view_module_version": "1.2.0",
            "_view_name": "LayoutView",
            "align_content": null,
            "align_items": null,
            "align_self": null,
            "border": null,
            "bottom": null,
            "display": null,
            "flex": null,
            "flex_flow": null,
            "grid_area": null,
            "grid_auto_columns": null,
            "grid_auto_flow": null,
            "grid_auto_rows": null,
            "grid_column": null,
            "grid_gap": null,
            "grid_row": null,
            "grid_template_areas": null,
            "grid_template_columns": null,
            "grid_template_rows": null,
            "height": null,
            "justify_content": null,
            "justify_items": null,
            "left": null,
            "margin": null,
            "max_height": null,
            "max_width": null,
            "min_height": null,
            "min_width": null,
            "object_fit": null,
            "object_position": null,
            "order": null,
            "overflow": null,
            "overflow_x": null,
            "overflow_y": null,
            "padding": null,
            "right": null,
            "top": null,
            "visibility": null,
            "width": null
          }
        },
        "8b85d8e626b64983b32c62708e0ecac4": {
          "model_module": "@jupyter-widgets/controls",
          "model_name": "DescriptionStyleModel",
          "model_module_version": "1.5.0",
          "state": {
            "_model_module": "@jupyter-widgets/controls",
            "_model_module_version": "1.5.0",
            "_model_name": "DescriptionStyleModel",
            "_view_count": null,
            "_view_module": "@jupyter-widgets/base",
            "_view_module_version": "1.2.0",
            "_view_name": "StyleView",
            "description_width": ""
          }
        },
        "4778de16cb844ee49496d896446c17d4": {
          "model_module": "@jupyter-widgets/base",
          "model_name": "LayoutModel",
          "model_module_version": "1.2.0",
          "state": {
            "_model_module": "@jupyter-widgets/base",
            "_model_module_version": "1.2.0",
            "_model_name": "LayoutModel",
            "_view_count": null,
            "_view_module": "@jupyter-widgets/base",
            "_view_module_version": "1.2.0",
            "_view_name": "LayoutView",
            "align_content": null,
            "align_items": null,
            "align_self": null,
            "border": null,
            "bottom": null,
            "display": null,
            "flex": null,
            "flex_flow": null,
            "grid_area": null,
            "grid_auto_columns": null,
            "grid_auto_flow": null,
            "grid_auto_rows": null,
            "grid_column": null,
            "grid_gap": null,
            "grid_row": null,
            "grid_template_areas": null,
            "grid_template_columns": null,
            "grid_template_rows": null,
            "height": null,
            "justify_content": null,
            "justify_items": null,
            "left": null,
            "margin": null,
            "max_height": null,
            "max_width": null,
            "min_height": null,
            "min_width": null,
            "object_fit": null,
            "object_position": null,
            "order": null,
            "overflow": null,
            "overflow_x": null,
            "overflow_y": null,
            "padding": null,
            "right": null,
            "top": null,
            "visibility": null,
            "width": null
          }
        },
        "50d2f30d1d444210adfac5d58fc74173": {
          "model_module": "@jupyter-widgets/controls",
          "model_name": "ProgressStyleModel",
          "model_module_version": "1.5.0",
          "state": {
            "_model_module": "@jupyter-widgets/controls",
            "_model_module_version": "1.5.0",
            "_model_name": "ProgressStyleModel",
            "_view_count": null,
            "_view_module": "@jupyter-widgets/base",
            "_view_module_version": "1.2.0",
            "_view_name": "StyleView",
            "bar_color": null,
            "description_width": ""
          }
        },
        "2fe5caf8235d4842ac3db7e297ef4cf3": {
          "model_module": "@jupyter-widgets/base",
          "model_name": "LayoutModel",
          "model_module_version": "1.2.0",
          "state": {
            "_model_module": "@jupyter-widgets/base",
            "_model_module_version": "1.2.0",
            "_model_name": "LayoutModel",
            "_view_count": null,
            "_view_module": "@jupyter-widgets/base",
            "_view_module_version": "1.2.0",
            "_view_name": "LayoutView",
            "align_content": null,
            "align_items": null,
            "align_self": null,
            "border": null,
            "bottom": null,
            "display": null,
            "flex": null,
            "flex_flow": null,
            "grid_area": null,
            "grid_auto_columns": null,
            "grid_auto_flow": null,
            "grid_auto_rows": null,
            "grid_column": null,
            "grid_gap": null,
            "grid_row": null,
            "grid_template_areas": null,
            "grid_template_columns": null,
            "grid_template_rows": null,
            "height": null,
            "justify_content": null,
            "justify_items": null,
            "left": null,
            "margin": null,
            "max_height": null,
            "max_width": null,
            "min_height": null,
            "min_width": null,
            "object_fit": null,
            "object_position": null,
            "order": null,
            "overflow": null,
            "overflow_x": null,
            "overflow_y": null,
            "padding": null,
            "right": null,
            "top": null,
            "visibility": null,
            "width": null
          }
        },
        "504f8cb5a0614e72ae19974d8a667ad4": {
          "model_module": "@jupyter-widgets/controls",
          "model_name": "DescriptionStyleModel",
          "model_module_version": "1.5.0",
          "state": {
            "_model_module": "@jupyter-widgets/controls",
            "_model_module_version": "1.5.0",
            "_model_name": "DescriptionStyleModel",
            "_view_count": null,
            "_view_module": "@jupyter-widgets/base",
            "_view_module_version": "1.2.0",
            "_view_name": "StyleView",
            "description_width": ""
          }
        },
        "43a33f7df4714147bea7bb987d7a2348": {
          "model_module": "@jupyter-widgets/controls",
          "model_name": "HBoxModel",
          "model_module_version": "1.5.0",
          "state": {
            "_dom_classes": [],
            "_model_module": "@jupyter-widgets/controls",
            "_model_module_version": "1.5.0",
            "_model_name": "HBoxModel",
            "_view_count": null,
            "_view_module": "@jupyter-widgets/controls",
            "_view_module_version": "1.5.0",
            "_view_name": "HBoxView",
            "box_style": "",
            "children": [
              "IPY_MODEL_fb729489a52a43af90a2506895da848c",
              "IPY_MODEL_622e5e0bd37944cd944f279d62ede261",
              "IPY_MODEL_0840cb85172448c0a77eccaa6f9038b3"
            ],
            "layout": "IPY_MODEL_066607f3419c41aca71b26946fd29107"
          }
        },
        "fb729489a52a43af90a2506895da848c": {
          "model_module": "@jupyter-widgets/controls",
          "model_name": "HTMLModel",
          "model_module_version": "1.5.0",
          "state": {
            "_dom_classes": [],
            "_model_module": "@jupyter-widgets/controls",
            "_model_module_version": "1.5.0",
            "_model_name": "HTMLModel",
            "_view_count": null,
            "_view_module": "@jupyter-widgets/controls",
            "_view_module_version": "1.5.0",
            "_view_name": "HTMLView",
            "description": "",
            "description_tooltip": null,
            "layout": "IPY_MODEL_46f3e5d11a8e4e5a85cbf4b193735919",
            "placeholder": "​",
            "style": "IPY_MODEL_8a16836d96234c66879e2df71e26019d",
            "value": "Uploading: 100.000%"
          }
        },
        "622e5e0bd37944cd944f279d62ede261": {
          "model_module": "@jupyter-widgets/controls",
          "model_name": "FloatProgressModel",
          "model_module_version": "1.5.0",
          "state": {
            "_dom_classes": [],
            "_model_module": "@jupyter-widgets/controls",
            "_model_module_version": "1.5.0",
            "_model_name": "FloatProgressModel",
            "_view_count": null,
            "_view_module": "@jupyter-widgets/controls",
            "_view_module_version": "1.5.0",
            "_view_name": "ProgressView",
            "bar_style": "success",
            "description": "",
            "description_tooltip": null,
            "layout": "IPY_MODEL_8e8655d5cb6c4b04be5f21a58a698ea2",
            "max": 607765,
            "min": 0,
            "orientation": "horizontal",
            "style": "IPY_MODEL_da0b994e47f04ab582f6898b4211b6cb",
            "value": 607765
          }
        },
        "0840cb85172448c0a77eccaa6f9038b3": {
          "model_module": "@jupyter-widgets/controls",
          "model_name": "HTMLModel",
          "model_module_version": "1.5.0",
          "state": {
            "_dom_classes": [],
            "_model_module": "@jupyter-widgets/controls",
            "_model_module_version": "1.5.0",
            "_model_name": "HTMLModel",
            "_view_count": null,
            "_view_module": "@jupyter-widgets/controls",
            "_view_module_version": "1.5.0",
            "_view_name": "HTMLView",
            "description": "",
            "description_tooltip": null,
            "layout": "IPY_MODEL_c701fd82456544a7aad3b8ba753ceab7",
            "placeholder": "​",
            "style": "IPY_MODEL_e67181944ae2445aa8da78aea8748cc4",
            "value": " 607765/607765 elapsed&lt;00:04 remaining&lt;00:00"
          }
        },
        "066607f3419c41aca71b26946fd29107": {
          "model_module": "@jupyter-widgets/base",
          "model_name": "LayoutModel",
          "model_module_version": "1.2.0",
          "state": {
            "_model_module": "@jupyter-widgets/base",
            "_model_module_version": "1.2.0",
            "_model_name": "LayoutModel",
            "_view_count": null,
            "_view_module": "@jupyter-widgets/base",
            "_view_module_version": "1.2.0",
            "_view_name": "LayoutView",
            "align_content": null,
            "align_items": null,
            "align_self": null,
            "border": null,
            "bottom": null,
            "display": null,
            "flex": null,
            "flex_flow": null,
            "grid_area": null,
            "grid_auto_columns": null,
            "grid_auto_flow": null,
            "grid_auto_rows": null,
            "grid_column": null,
            "grid_gap": null,
            "grid_row": null,
            "grid_template_areas": null,
            "grid_template_columns": null,
            "grid_template_rows": null,
            "height": null,
            "justify_content": null,
            "justify_items": null,
            "left": null,
            "margin": null,
            "max_height": null,
            "max_width": null,
            "min_height": null,
            "min_width": null,
            "object_fit": null,
            "object_position": null,
            "order": null,
            "overflow": null,
            "overflow_x": null,
            "overflow_y": null,
            "padding": null,
            "right": null,
            "top": null,
            "visibility": null,
            "width": null
          }
        },
        "46f3e5d11a8e4e5a85cbf4b193735919": {
          "model_module": "@jupyter-widgets/base",
          "model_name": "LayoutModel",
          "model_module_version": "1.2.0",
          "state": {
            "_model_module": "@jupyter-widgets/base",
            "_model_module_version": "1.2.0",
            "_model_name": "LayoutModel",
            "_view_count": null,
            "_view_module": "@jupyter-widgets/base",
            "_view_module_version": "1.2.0",
            "_view_name": "LayoutView",
            "align_content": null,
            "align_items": null,
            "align_self": null,
            "border": null,
            "bottom": null,
            "display": null,
            "flex": null,
            "flex_flow": null,
            "grid_area": null,
            "grid_auto_columns": null,
            "grid_auto_flow": null,
            "grid_auto_rows": null,
            "grid_column": null,
            "grid_gap": null,
            "grid_row": null,
            "grid_template_areas": null,
            "grid_template_columns": null,
            "grid_template_rows": null,
            "height": null,
            "justify_content": null,
            "justify_items": null,
            "left": null,
            "margin": null,
            "max_height": null,
            "max_width": null,
            "min_height": null,
            "min_width": null,
            "object_fit": null,
            "object_position": null,
            "order": null,
            "overflow": null,
            "overflow_x": null,
            "overflow_y": null,
            "padding": null,
            "right": null,
            "top": null,
            "visibility": null,
            "width": null
          }
        },
        "8a16836d96234c66879e2df71e26019d": {
          "model_module": "@jupyter-widgets/controls",
          "model_name": "DescriptionStyleModel",
          "model_module_version": "1.5.0",
          "state": {
            "_model_module": "@jupyter-widgets/controls",
            "_model_module_version": "1.5.0",
            "_model_name": "DescriptionStyleModel",
            "_view_count": null,
            "_view_module": "@jupyter-widgets/base",
            "_view_module_version": "1.2.0",
            "_view_name": "StyleView",
            "description_width": ""
          }
        },
        "8e8655d5cb6c4b04be5f21a58a698ea2": {
          "model_module": "@jupyter-widgets/base",
          "model_name": "LayoutModel",
          "model_module_version": "1.2.0",
          "state": {
            "_model_module": "@jupyter-widgets/base",
            "_model_module_version": "1.2.0",
            "_model_name": "LayoutModel",
            "_view_count": null,
            "_view_module": "@jupyter-widgets/base",
            "_view_module_version": "1.2.0",
            "_view_name": "LayoutView",
            "align_content": null,
            "align_items": null,
            "align_self": null,
            "border": null,
            "bottom": null,
            "display": null,
            "flex": null,
            "flex_flow": null,
            "grid_area": null,
            "grid_auto_columns": null,
            "grid_auto_flow": null,
            "grid_auto_rows": null,
            "grid_column": null,
            "grid_gap": null,
            "grid_row": null,
            "grid_template_areas": null,
            "grid_template_columns": null,
            "grid_template_rows": null,
            "height": null,
            "justify_content": null,
            "justify_items": null,
            "left": null,
            "margin": null,
            "max_height": null,
            "max_width": null,
            "min_height": null,
            "min_width": null,
            "object_fit": null,
            "object_position": null,
            "order": null,
            "overflow": null,
            "overflow_x": null,
            "overflow_y": null,
            "padding": null,
            "right": null,
            "top": null,
            "visibility": null,
            "width": null
          }
        },
        "da0b994e47f04ab582f6898b4211b6cb": {
          "model_module": "@jupyter-widgets/controls",
          "model_name": "ProgressStyleModel",
          "model_module_version": "1.5.0",
          "state": {
            "_model_module": "@jupyter-widgets/controls",
            "_model_module_version": "1.5.0",
            "_model_name": "ProgressStyleModel",
            "_view_count": null,
            "_view_module": "@jupyter-widgets/base",
            "_view_module_version": "1.2.0",
            "_view_name": "StyleView",
            "bar_color": null,
            "description_width": ""
          }
        },
        "c701fd82456544a7aad3b8ba753ceab7": {
          "model_module": "@jupyter-widgets/base",
          "model_name": "LayoutModel",
          "model_module_version": "1.2.0",
          "state": {
            "_model_module": "@jupyter-widgets/base",
            "_model_module_version": "1.2.0",
            "_model_name": "LayoutModel",
            "_view_count": null,
            "_view_module": "@jupyter-widgets/base",
            "_view_module_version": "1.2.0",
            "_view_name": "LayoutView",
            "align_content": null,
            "align_items": null,
            "align_self": null,
            "border": null,
            "bottom": null,
            "display": null,
            "flex": null,
            "flex_flow": null,
            "grid_area": null,
            "grid_auto_columns": null,
            "grid_auto_flow": null,
            "grid_auto_rows": null,
            "grid_column": null,
            "grid_gap": null,
            "grid_row": null,
            "grid_template_areas": null,
            "grid_template_columns": null,
            "grid_template_rows": null,
            "height": null,
            "justify_content": null,
            "justify_items": null,
            "left": null,
            "margin": null,
            "max_height": null,
            "max_width": null,
            "min_height": null,
            "min_width": null,
            "object_fit": null,
            "object_position": null,
            "order": null,
            "overflow": null,
            "overflow_x": null,
            "overflow_y": null,
            "padding": null,
            "right": null,
            "top": null,
            "visibility": null,
            "width": null
          }
        },
        "e67181944ae2445aa8da78aea8748cc4": {
          "model_module": "@jupyter-widgets/controls",
          "model_name": "DescriptionStyleModel",
          "model_module_version": "1.5.0",
          "state": {
            "_model_module": "@jupyter-widgets/controls",
            "_model_module_version": "1.5.0",
            "_model_name": "DescriptionStyleModel",
            "_view_count": null,
            "_view_module": "@jupyter-widgets/base",
            "_view_module_version": "1.2.0",
            "_view_name": "StyleView",
            "description_width": ""
          }
        },
        "a49468313d6044ab95835206bea8fd44": {
          "model_module": "@jupyter-widgets/controls",
          "model_name": "HBoxModel",
          "model_module_version": "1.5.0",
          "state": {
            "_dom_classes": [],
            "_model_module": "@jupyter-widgets/controls",
            "_model_module_version": "1.5.0",
            "_model_name": "HBoxModel",
            "_view_count": null,
            "_view_module": "@jupyter-widgets/controls",
            "_view_module_version": "1.5.0",
            "_view_name": "HBoxView",
            "box_style": "",
            "children": [
              "IPY_MODEL_79bc5e0bae2c4562993c86a43ac967b7",
              "IPY_MODEL_56b017ce3d724cc6bf285624b0f92afe",
              "IPY_MODEL_fe48501d6e0f465da85103f4f0d66f94"
            ],
            "layout": "IPY_MODEL_6acf5a1112a24f43a97b9427c44f570b"
          }
        },
        "79bc5e0bae2c4562993c86a43ac967b7": {
          "model_module": "@jupyter-widgets/controls",
          "model_name": "HTMLModel",
          "model_module_version": "1.5.0",
          "state": {
            "_dom_classes": [],
            "_model_module": "@jupyter-widgets/controls",
            "_model_module_version": "1.5.0",
            "_model_name": "HTMLModel",
            "_view_count": null,
            "_view_module": "@jupyter-widgets/controls",
            "_view_module_version": "1.5.0",
            "_view_name": "HTMLView",
            "description": "",
            "description_tooltip": null,
            "layout": "IPY_MODEL_37b8b9b5eaba435c82f5c104bd8a8544",
            "placeholder": "​",
            "style": "IPY_MODEL_50ee48332c4843cfb92166590260f5a2",
            "value": "Uploading: 100.000%"
          }
        },
        "56b017ce3d724cc6bf285624b0f92afe": {
          "model_module": "@jupyter-widgets/controls",
          "model_name": "FloatProgressModel",
          "model_module_version": "1.5.0",
          "state": {
            "_dom_classes": [],
            "_model_module": "@jupyter-widgets/controls",
            "_model_module_version": "1.5.0",
            "_model_name": "FloatProgressModel",
            "_view_count": null,
            "_view_module": "@jupyter-widgets/controls",
            "_view_module_version": "1.5.0",
            "_view_name": "ProgressView",
            "bar_style": "success",
            "description": "",
            "description_tooltip": null,
            "layout": "IPY_MODEL_022c2b9a098442adbe9b7cd6e047648e",
            "max": 35,
            "min": 0,
            "orientation": "horizontal",
            "style": "IPY_MODEL_df22721a8f2a41a49662f2b22dad8bc1",
            "value": 35
          }
        },
        "fe48501d6e0f465da85103f4f0d66f94": {
          "model_module": "@jupyter-widgets/controls",
          "model_name": "HTMLModel",
          "model_module_version": "1.5.0",
          "state": {
            "_dom_classes": [],
            "_model_module": "@jupyter-widgets/controls",
            "_model_module_version": "1.5.0",
            "_model_name": "HTMLModel",
            "_view_count": null,
            "_view_module": "@jupyter-widgets/controls",
            "_view_module_version": "1.5.0",
            "_view_name": "HTMLView",
            "description": "",
            "description_tooltip": null,
            "layout": "IPY_MODEL_9e93fbaf9690466d82ef68e4e36c58fe",
            "placeholder": "​",
            "style": "IPY_MODEL_1ede2a374c60498babf35ef3ec318ffa",
            "value": " 35/35 elapsed&lt;00:25 remaining&lt;00:00"
          }
        },
        "6acf5a1112a24f43a97b9427c44f570b": {
          "model_module": "@jupyter-widgets/base",
          "model_name": "LayoutModel",
          "model_module_version": "1.2.0",
          "state": {
            "_model_module": "@jupyter-widgets/base",
            "_model_module_version": "1.2.0",
            "_model_name": "LayoutModel",
            "_view_count": null,
            "_view_module": "@jupyter-widgets/base",
            "_view_module_version": "1.2.0",
            "_view_name": "LayoutView",
            "align_content": null,
            "align_items": null,
            "align_self": null,
            "border": null,
            "bottom": null,
            "display": null,
            "flex": null,
            "flex_flow": null,
            "grid_area": null,
            "grid_auto_columns": null,
            "grid_auto_flow": null,
            "grid_auto_rows": null,
            "grid_column": null,
            "grid_gap": null,
            "grid_row": null,
            "grid_template_areas": null,
            "grid_template_columns": null,
            "grid_template_rows": null,
            "height": null,
            "justify_content": null,
            "justify_items": null,
            "left": null,
            "margin": null,
            "max_height": null,
            "max_width": null,
            "min_height": null,
            "min_width": null,
            "object_fit": null,
            "object_position": null,
            "order": null,
            "overflow": null,
            "overflow_x": null,
            "overflow_y": null,
            "padding": null,
            "right": null,
            "top": null,
            "visibility": null,
            "width": null
          }
        },
        "37b8b9b5eaba435c82f5c104bd8a8544": {
          "model_module": "@jupyter-widgets/base",
          "model_name": "LayoutModel",
          "model_module_version": "1.2.0",
          "state": {
            "_model_module": "@jupyter-widgets/base",
            "_model_module_version": "1.2.0",
            "_model_name": "LayoutModel",
            "_view_count": null,
            "_view_module": "@jupyter-widgets/base",
            "_view_module_version": "1.2.0",
            "_view_name": "LayoutView",
            "align_content": null,
            "align_items": null,
            "align_self": null,
            "border": null,
            "bottom": null,
            "display": null,
            "flex": null,
            "flex_flow": null,
            "grid_area": null,
            "grid_auto_columns": null,
            "grid_auto_flow": null,
            "grid_auto_rows": null,
            "grid_column": null,
            "grid_gap": null,
            "grid_row": null,
            "grid_template_areas": null,
            "grid_template_columns": null,
            "grid_template_rows": null,
            "height": null,
            "justify_content": null,
            "justify_items": null,
            "left": null,
            "margin": null,
            "max_height": null,
            "max_width": null,
            "min_height": null,
            "min_width": null,
            "object_fit": null,
            "object_position": null,
            "order": null,
            "overflow": null,
            "overflow_x": null,
            "overflow_y": null,
            "padding": null,
            "right": null,
            "top": null,
            "visibility": null,
            "width": null
          }
        },
        "50ee48332c4843cfb92166590260f5a2": {
          "model_module": "@jupyter-widgets/controls",
          "model_name": "DescriptionStyleModel",
          "model_module_version": "1.5.0",
          "state": {
            "_model_module": "@jupyter-widgets/controls",
            "_model_module_version": "1.5.0",
            "_model_name": "DescriptionStyleModel",
            "_view_count": null,
            "_view_module": "@jupyter-widgets/base",
            "_view_module_version": "1.2.0",
            "_view_name": "StyleView",
            "description_width": ""
          }
        },
        "022c2b9a098442adbe9b7cd6e047648e": {
          "model_module": "@jupyter-widgets/base",
          "model_name": "LayoutModel",
          "model_module_version": "1.2.0",
          "state": {
            "_model_module": "@jupyter-widgets/base",
            "_model_module_version": "1.2.0",
            "_model_name": "LayoutModel",
            "_view_count": null,
            "_view_module": "@jupyter-widgets/base",
            "_view_module_version": "1.2.0",
            "_view_name": "LayoutView",
            "align_content": null,
            "align_items": null,
            "align_self": null,
            "border": null,
            "bottom": null,
            "display": null,
            "flex": null,
            "flex_flow": null,
            "grid_area": null,
            "grid_auto_columns": null,
            "grid_auto_flow": null,
            "grid_auto_rows": null,
            "grid_column": null,
            "grid_gap": null,
            "grid_row": null,
            "grid_template_areas": null,
            "grid_template_columns": null,
            "grid_template_rows": null,
            "height": null,
            "justify_content": null,
            "justify_items": null,
            "left": null,
            "margin": null,
            "max_height": null,
            "max_width": null,
            "min_height": null,
            "min_width": null,
            "object_fit": null,
            "object_position": null,
            "order": null,
            "overflow": null,
            "overflow_x": null,
            "overflow_y": null,
            "padding": null,
            "right": null,
            "top": null,
            "visibility": null,
            "width": null
          }
        },
        "df22721a8f2a41a49662f2b22dad8bc1": {
          "model_module": "@jupyter-widgets/controls",
          "model_name": "ProgressStyleModel",
          "model_module_version": "1.5.0",
          "state": {
            "_model_module": "@jupyter-widgets/controls",
            "_model_module_version": "1.5.0",
            "_model_name": "ProgressStyleModel",
            "_view_count": null,
            "_view_module": "@jupyter-widgets/base",
            "_view_module_version": "1.2.0",
            "_view_name": "StyleView",
            "bar_color": null,
            "description_width": ""
          }
        },
        "9e93fbaf9690466d82ef68e4e36c58fe": {
          "model_module": "@jupyter-widgets/base",
          "model_name": "LayoutModel",
          "model_module_version": "1.2.0",
          "state": {
            "_model_module": "@jupyter-widgets/base",
            "_model_module_version": "1.2.0",
            "_model_name": "LayoutModel",
            "_view_count": null,
            "_view_module": "@jupyter-widgets/base",
            "_view_module_version": "1.2.0",
            "_view_name": "LayoutView",
            "align_content": null,
            "align_items": null,
            "align_self": null,
            "border": null,
            "bottom": null,
            "display": null,
            "flex": null,
            "flex_flow": null,
            "grid_area": null,
            "grid_auto_columns": null,
            "grid_auto_flow": null,
            "grid_auto_rows": null,
            "grid_column": null,
            "grid_gap": null,
            "grid_row": null,
            "grid_template_areas": null,
            "grid_template_columns": null,
            "grid_template_rows": null,
            "height": null,
            "justify_content": null,
            "justify_items": null,
            "left": null,
            "margin": null,
            "max_height": null,
            "max_width": null,
            "min_height": null,
            "min_width": null,
            "object_fit": null,
            "object_position": null,
            "order": null,
            "overflow": null,
            "overflow_x": null,
            "overflow_y": null,
            "padding": null,
            "right": null,
            "top": null,
            "visibility": null,
            "width": null
          }
        },
        "1ede2a374c60498babf35ef3ec318ffa": {
          "model_module": "@jupyter-widgets/controls",
          "model_name": "DescriptionStyleModel",
          "model_module_version": "1.5.0",
          "state": {
            "_model_module": "@jupyter-widgets/controls",
            "_model_module_version": "1.5.0",
            "_model_name": "DescriptionStyleModel",
            "_view_count": null,
            "_view_module": "@jupyter-widgets/base",
            "_view_module_version": "1.2.0",
            "_view_name": "StyleView",
            "description_width": ""
          }
        },
        "939b146c46e14236850ec3ca7f0791df": {
          "model_module": "@jupyter-widgets/controls",
          "model_name": "HBoxModel",
          "model_module_version": "1.5.0",
          "state": {
            "_dom_classes": [],
            "_model_module": "@jupyter-widgets/controls",
            "_model_module_version": "1.5.0",
            "_model_name": "HBoxModel",
            "_view_count": null,
            "_view_module": "@jupyter-widgets/controls",
            "_view_module_version": "1.5.0",
            "_view_name": "HBoxView",
            "box_style": "",
            "children": [
              "IPY_MODEL_35fd30f73e94409884ec76b85e8ced37",
              "IPY_MODEL_de1cac949fe940de8e823ad70e5333e4",
              "IPY_MODEL_de65515516fe448288f7e30129564a9b"
            ],
            "layout": "IPY_MODEL_209ed4dbd9094e8c88ce324313d9831f"
          }
        },
        "35fd30f73e94409884ec76b85e8ced37": {
          "model_module": "@jupyter-widgets/controls",
          "model_name": "HTMLModel",
          "model_module_version": "1.5.0",
          "state": {
            "_dom_classes": [],
            "_model_module": "@jupyter-widgets/controls",
            "_model_module_version": "1.5.0",
            "_model_name": "HTMLModel",
            "_view_count": null,
            "_view_module": "@jupyter-widgets/controls",
            "_view_module_version": "1.5.0",
            "_view_name": "HTMLView",
            "description": "",
            "description_tooltip": null,
            "layout": "IPY_MODEL_a62cedb021f74a0b8e5f9ea0e4df4fa2",
            "placeholder": "​",
            "style": "IPY_MODEL_6f0925aae8e9467285f62f09941abeca",
            "value": "Uploading: 100.000%"
          }
        },
        "de1cac949fe940de8e823ad70e5333e4": {
          "model_module": "@jupyter-widgets/controls",
          "model_name": "FloatProgressModel",
          "model_module_version": "1.5.0",
          "state": {
            "_dom_classes": [],
            "_model_module": "@jupyter-widgets/controls",
            "_model_module_version": "1.5.0",
            "_model_name": "FloatProgressModel",
            "_view_count": null,
            "_view_module": "@jupyter-widgets/controls",
            "_view_module_version": "1.5.0",
            "_view_name": "ProgressView",
            "bar_style": "success",
            "description": "",
            "description_tooltip": null,
            "layout": "IPY_MODEL_da65a99f534a4a37b0a627ac34042b71",
            "max": 613,
            "min": 0,
            "orientation": "horizontal",
            "style": "IPY_MODEL_55dbdd312d224abe8994714fb80198f5",
            "value": 613
          }
        },
        "de65515516fe448288f7e30129564a9b": {
          "model_module": "@jupyter-widgets/controls",
          "model_name": "HTMLModel",
          "model_module_version": "1.5.0",
          "state": {
            "_dom_classes": [],
            "_model_module": "@jupyter-widgets/controls",
            "_model_module_version": "1.5.0",
            "_model_name": "HTMLModel",
            "_view_count": null,
            "_view_module": "@jupyter-widgets/controls",
            "_view_module_version": "1.5.0",
            "_view_name": "HTMLView",
            "description": "",
            "description_tooltip": null,
            "layout": "IPY_MODEL_0da716aed9e84f2c905066f58ee8ca65",
            "placeholder": "​",
            "style": "IPY_MODEL_238d49a9c63d4d839a09fc6e06576e78",
            "value": " 613/613 elapsed&lt;00:01 remaining&lt;00:00"
          }
        },
        "209ed4dbd9094e8c88ce324313d9831f": {
          "model_module": "@jupyter-widgets/base",
          "model_name": "LayoutModel",
          "model_module_version": "1.2.0",
          "state": {
            "_model_module": "@jupyter-widgets/base",
            "_model_module_version": "1.2.0",
            "_model_name": "LayoutModel",
            "_view_count": null,
            "_view_module": "@jupyter-widgets/base",
            "_view_module_version": "1.2.0",
            "_view_name": "LayoutView",
            "align_content": null,
            "align_items": null,
            "align_self": null,
            "border": null,
            "bottom": null,
            "display": null,
            "flex": null,
            "flex_flow": null,
            "grid_area": null,
            "grid_auto_columns": null,
            "grid_auto_flow": null,
            "grid_auto_rows": null,
            "grid_column": null,
            "grid_gap": null,
            "grid_row": null,
            "grid_template_areas": null,
            "grid_template_columns": null,
            "grid_template_rows": null,
            "height": null,
            "justify_content": null,
            "justify_items": null,
            "left": null,
            "margin": null,
            "max_height": null,
            "max_width": null,
            "min_height": null,
            "min_width": null,
            "object_fit": null,
            "object_position": null,
            "order": null,
            "overflow": null,
            "overflow_x": null,
            "overflow_y": null,
            "padding": null,
            "right": null,
            "top": null,
            "visibility": null,
            "width": null
          }
        },
        "a62cedb021f74a0b8e5f9ea0e4df4fa2": {
          "model_module": "@jupyter-widgets/base",
          "model_name": "LayoutModel",
          "model_module_version": "1.2.0",
          "state": {
            "_model_module": "@jupyter-widgets/base",
            "_model_module_version": "1.2.0",
            "_model_name": "LayoutModel",
            "_view_count": null,
            "_view_module": "@jupyter-widgets/base",
            "_view_module_version": "1.2.0",
            "_view_name": "LayoutView",
            "align_content": null,
            "align_items": null,
            "align_self": null,
            "border": null,
            "bottom": null,
            "display": null,
            "flex": null,
            "flex_flow": null,
            "grid_area": null,
            "grid_auto_columns": null,
            "grid_auto_flow": null,
            "grid_auto_rows": null,
            "grid_column": null,
            "grid_gap": null,
            "grid_row": null,
            "grid_template_areas": null,
            "grid_template_columns": null,
            "grid_template_rows": null,
            "height": null,
            "justify_content": null,
            "justify_items": null,
            "left": null,
            "margin": null,
            "max_height": null,
            "max_width": null,
            "min_height": null,
            "min_width": null,
            "object_fit": null,
            "object_position": null,
            "order": null,
            "overflow": null,
            "overflow_x": null,
            "overflow_y": null,
            "padding": null,
            "right": null,
            "top": null,
            "visibility": null,
            "width": null
          }
        },
        "6f0925aae8e9467285f62f09941abeca": {
          "model_module": "@jupyter-widgets/controls",
          "model_name": "DescriptionStyleModel",
          "model_module_version": "1.5.0",
          "state": {
            "_model_module": "@jupyter-widgets/controls",
            "_model_module_version": "1.5.0",
            "_model_name": "DescriptionStyleModel",
            "_view_count": null,
            "_view_module": "@jupyter-widgets/base",
            "_view_module_version": "1.2.0",
            "_view_name": "StyleView",
            "description_width": ""
          }
        },
        "da65a99f534a4a37b0a627ac34042b71": {
          "model_module": "@jupyter-widgets/base",
          "model_name": "LayoutModel",
          "model_module_version": "1.2.0",
          "state": {
            "_model_module": "@jupyter-widgets/base",
            "_model_module_version": "1.2.0",
            "_model_name": "LayoutModel",
            "_view_count": null,
            "_view_module": "@jupyter-widgets/base",
            "_view_module_version": "1.2.0",
            "_view_name": "LayoutView",
            "align_content": null,
            "align_items": null,
            "align_self": null,
            "border": null,
            "bottom": null,
            "display": null,
            "flex": null,
            "flex_flow": null,
            "grid_area": null,
            "grid_auto_columns": null,
            "grid_auto_flow": null,
            "grid_auto_rows": null,
            "grid_column": null,
            "grid_gap": null,
            "grid_row": null,
            "grid_template_areas": null,
            "grid_template_columns": null,
            "grid_template_rows": null,
            "height": null,
            "justify_content": null,
            "justify_items": null,
            "left": null,
            "margin": null,
            "max_height": null,
            "max_width": null,
            "min_height": null,
            "min_width": null,
            "object_fit": null,
            "object_position": null,
            "order": null,
            "overflow": null,
            "overflow_x": null,
            "overflow_y": null,
            "padding": null,
            "right": null,
            "top": null,
            "visibility": null,
            "width": null
          }
        },
        "55dbdd312d224abe8994714fb80198f5": {
          "model_module": "@jupyter-widgets/controls",
          "model_name": "ProgressStyleModel",
          "model_module_version": "1.5.0",
          "state": {
            "_model_module": "@jupyter-widgets/controls",
            "_model_module_version": "1.5.0",
            "_model_name": "ProgressStyleModel",
            "_view_count": null,
            "_view_module": "@jupyter-widgets/base",
            "_view_module_version": "1.2.0",
            "_view_name": "StyleView",
            "bar_color": null,
            "description_width": ""
          }
        },
        "0da716aed9e84f2c905066f58ee8ca65": {
          "model_module": "@jupyter-widgets/base",
          "model_name": "LayoutModel",
          "model_module_version": "1.2.0",
          "state": {
            "_model_module": "@jupyter-widgets/base",
            "_model_module_version": "1.2.0",
            "_model_name": "LayoutModel",
            "_view_count": null,
            "_view_module": "@jupyter-widgets/base",
            "_view_module_version": "1.2.0",
            "_view_name": "LayoutView",
            "align_content": null,
            "align_items": null,
            "align_self": null,
            "border": null,
            "bottom": null,
            "display": null,
            "flex": null,
            "flex_flow": null,
            "grid_area": null,
            "grid_auto_columns": null,
            "grid_auto_flow": null,
            "grid_auto_rows": null,
            "grid_column": null,
            "grid_gap": null,
            "grid_row": null,
            "grid_template_areas": null,
            "grid_template_columns": null,
            "grid_template_rows": null,
            "height": null,
            "justify_content": null,
            "justify_items": null,
            "left": null,
            "margin": null,
            "max_height": null,
            "max_width": null,
            "min_height": null,
            "min_width": null,
            "object_fit": null,
            "object_position": null,
            "order": null,
            "overflow": null,
            "overflow_x": null,
            "overflow_y": null,
            "padding": null,
            "right": null,
            "top": null,
            "visibility": null,
            "width": null
          }
        },
        "238d49a9c63d4d839a09fc6e06576e78": {
          "model_module": "@jupyter-widgets/controls",
          "model_name": "DescriptionStyleModel",
          "model_module_version": "1.5.0",
          "state": {
            "_model_module": "@jupyter-widgets/controls",
            "_model_module_version": "1.5.0",
            "_model_name": "DescriptionStyleModel",
            "_view_count": null,
            "_view_module": "@jupyter-widgets/base",
            "_view_module_version": "1.2.0",
            "_view_name": "StyleView",
            "description_width": ""
          }
        }
      }
    }
  },
  "nbformat": 4,
  "nbformat_minor": 0
}