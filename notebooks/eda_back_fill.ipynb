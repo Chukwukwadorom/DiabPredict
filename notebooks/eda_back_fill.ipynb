{
  "cells": [
    {
      "cell_type": "code",
      "execution_count": 1,
      "metadata": {},
      "outputs": [],
      "source": [
        "import sys\n",
        "import os\n",
        "sys.path.append(os.path.abspath(os.path.join('..', 'src')))"
      ]
    },
    {
      "cell_type": "code",
      "execution_count": 1,
      "metadata": {
        "id": "U9AhInAeQs0G"
      },
      "outputs": [],
      "source": [
        "import pandas as pd"
      ]
    },
    {
      "cell_type": "code",
      "execution_count": 3,
      "metadata": {
        "id": "VxNkeYmWQ4Nv"
      },
      "outputs": [
        {
          "data": {
            "text/html": [
              "<div>\n",
              "<style scoped>\n",
              "    .dataframe tbody tr th:only-of-type {\n",
              "        vertical-align: middle;\n",
              "    }\n",
              "\n",
              "    .dataframe tbody tr th {\n",
              "        vertical-align: top;\n",
              "    }\n",
              "\n",
              "    .dataframe thead th {\n",
              "        text-align: right;\n",
              "    }\n",
              "</style>\n",
              "<table border=\"1\" class=\"dataframe\">\n",
              "  <thead>\n",
              "    <tr style=\"text-align: right;\">\n",
              "      <th></th>\n",
              "      <th>gender</th>\n",
              "      <th>age</th>\n",
              "      <th>hypertension</th>\n",
              "      <th>heart_disease</th>\n",
              "      <th>smoking_history</th>\n",
              "      <th>bmi</th>\n",
              "      <th>HbA1c_level</th>\n",
              "      <th>blood_glucose_level</th>\n",
              "      <th>diabetes</th>\n",
              "    </tr>\n",
              "  </thead>\n",
              "  <tbody>\n",
              "    <tr>\n",
              "      <th>0</th>\n",
              "      <td>Female</td>\n",
              "      <td>80.0</td>\n",
              "      <td>0</td>\n",
              "      <td>1</td>\n",
              "      <td>never</td>\n",
              "      <td>25.19</td>\n",
              "      <td>6.6</td>\n",
              "      <td>140</td>\n",
              "      <td>0</td>\n",
              "    </tr>\n",
              "    <tr>\n",
              "      <th>1</th>\n",
              "      <td>Female</td>\n",
              "      <td>54.0</td>\n",
              "      <td>0</td>\n",
              "      <td>0</td>\n",
              "      <td>No Info</td>\n",
              "      <td>27.32</td>\n",
              "      <td>6.6</td>\n",
              "      <td>80</td>\n",
              "      <td>0</td>\n",
              "    </tr>\n",
              "    <tr>\n",
              "      <th>2</th>\n",
              "      <td>Male</td>\n",
              "      <td>28.0</td>\n",
              "      <td>0</td>\n",
              "      <td>0</td>\n",
              "      <td>never</td>\n",
              "      <td>27.32</td>\n",
              "      <td>5.7</td>\n",
              "      <td>158</td>\n",
              "      <td>0</td>\n",
              "    </tr>\n",
              "    <tr>\n",
              "      <th>3</th>\n",
              "      <td>Female</td>\n",
              "      <td>36.0</td>\n",
              "      <td>0</td>\n",
              "      <td>0</td>\n",
              "      <td>current</td>\n",
              "      <td>23.45</td>\n",
              "      <td>5.0</td>\n",
              "      <td>155</td>\n",
              "      <td>0</td>\n",
              "    </tr>\n",
              "    <tr>\n",
              "      <th>4</th>\n",
              "      <td>Male</td>\n",
              "      <td>76.0</td>\n",
              "      <td>1</td>\n",
              "      <td>1</td>\n",
              "      <td>current</td>\n",
              "      <td>20.14</td>\n",
              "      <td>4.8</td>\n",
              "      <td>155</td>\n",
              "      <td>0</td>\n",
              "    </tr>\n",
              "  </tbody>\n",
              "</table>\n",
              "</div>"
            ],
            "text/plain": [
              "   gender   age  hypertension  heart_disease smoking_history    bmi  \\\n",
              "0  Female  80.0             0              1           never  25.19   \n",
              "1  Female  54.0             0              0         No Info  27.32   \n",
              "2    Male  28.0             0              0           never  27.32   \n",
              "3  Female  36.0             0              0         current  23.45   \n",
              "4    Male  76.0             1              1         current  20.14   \n",
              "\n",
              "   HbA1c_level  blood_glucose_level  diabetes  \n",
              "0          6.6                  140         0  \n",
              "1          6.6                   80         0  \n",
              "2          5.7                  158         0  \n",
              "3          5.0                  155         0  \n",
              "4          4.8                  155         0  "
            ]
          },
          "execution_count": 3,
          "metadata": {},
          "output_type": "execute_result"
        }
      ],
      "source": [
        "diabetes_df = pd.read_csv(\"assets/diabetes_prediction_dataset.csv\")\n",
        "diabetes_df.head()"
      ]
    },
    {
      "cell_type": "code",
      "execution_count": 3,
      "metadata": {
        "colab": {
          "base_uri": "https://localhost:8080/"
        },
        "id": "hKGhD972Szh2",
        "outputId": "e4330d1d-a26d-409b-b999-be6c2b6030a0"
      },
      "outputs": [
        {
          "name": "stdout",
          "output_type": "stream",
          "text": [
            "<class 'pandas.core.frame.DataFrame'>\n",
            "RangeIndex: 100000 entries, 0 to 99999\n",
            "Data columns (total 9 columns):\n",
            " #   Column               Non-Null Count   Dtype  \n",
            "---  ------               --------------   -----  \n",
            " 0   gender               100000 non-null  object \n",
            " 1   age                  100000 non-null  float64\n",
            " 2   hypertension         100000 non-null  int64  \n",
            " 3   heart_disease        100000 non-null  int64  \n",
            " 4   smoking_history      100000 non-null  object \n",
            " 5   bmi                  100000 non-null  float64\n",
            " 6   HbA1c_level          100000 non-null  float64\n",
            " 7   blood_glucose_level  100000 non-null  int64  \n",
            " 8   diabetes             100000 non-null  int64  \n",
            "dtypes: float64(3), int64(4), object(2)\n",
            "memory usage: 6.9+ MB\n"
          ]
        }
      ],
      "source": [
        "diabetes_df.info()"
      ]
    },
    {
      "cell_type": "code",
      "execution_count": 4,
      "metadata": {},
      "outputs": [],
      "source": [
        "diabetes_df['age'] = diabetes_df['age'].astype(int)"
      ]
    },
    {
      "cell_type": "code",
      "execution_count": 5,
      "metadata": {
        "colab": {
          "base_uri": "https://localhost:8080/"
        },
        "id": "DQAGWqQ6S1oJ",
        "outputId": "69f03f6c-0622-4108-b309-e71272d5f3f6"
      },
      "outputs": [
        {
          "data": {
            "text/plain": [
              "gender                 False\n",
              "age                    False\n",
              "hypertension           False\n",
              "heart_disease          False\n",
              "smoking_history        False\n",
              "bmi                    False\n",
              "HbA1c_level            False\n",
              "blood_glucose_level    False\n",
              "diabetes               False\n",
              "dtype: bool"
            ]
          },
          "execution_count": 5,
          "metadata": {},
          "output_type": "execute_result"
        }
      ],
      "source": [
        "diabetes_df.isnull().any()"
      ]
    },
    {
      "cell_type": "code",
      "execution_count": 6,
      "metadata": {
        "colab": {
          "base_uri": "https://localhost:8080/",
          "height": 320
        },
        "id": "kKhStyDCS67P",
        "outputId": "8fa01331-ef42-409a-94b4-4cda0383fa7b"
      },
      "outputs": [
        {
          "data": {
            "text/html": [
              "<div>\n",
              "<style scoped>\n",
              "    .dataframe tbody tr th:only-of-type {\n",
              "        vertical-align: middle;\n",
              "    }\n",
              "\n",
              "    .dataframe tbody tr th {\n",
              "        vertical-align: top;\n",
              "    }\n",
              "\n",
              "    .dataframe thead th {\n",
              "        text-align: right;\n",
              "    }\n",
              "</style>\n",
              "<table border=\"1\" class=\"dataframe\">\n",
              "  <thead>\n",
              "    <tr style=\"text-align: right;\">\n",
              "      <th></th>\n",
              "      <th>age</th>\n",
              "      <th>hypertension</th>\n",
              "      <th>heart_disease</th>\n",
              "      <th>bmi</th>\n",
              "      <th>HbA1c_level</th>\n",
              "      <th>blood_glucose_level</th>\n",
              "      <th>diabetes</th>\n",
              "    </tr>\n",
              "  </thead>\n",
              "  <tbody>\n",
              "    <tr>\n",
              "      <th>count</th>\n",
              "      <td>100000.000000</td>\n",
              "      <td>100000.00000</td>\n",
              "      <td>100000.000000</td>\n",
              "      <td>100000.000000</td>\n",
              "      <td>100000.000000</td>\n",
              "      <td>100000.000000</td>\n",
              "      <td>100000.000000</td>\n",
              "    </tr>\n",
              "    <tr>\n",
              "      <th>mean</th>\n",
              "      <td>41.875660</td>\n",
              "      <td>0.07485</td>\n",
              "      <td>0.039420</td>\n",
              "      <td>27.320767</td>\n",
              "      <td>5.527507</td>\n",
              "      <td>138.058060</td>\n",
              "      <td>0.085000</td>\n",
              "    </tr>\n",
              "    <tr>\n",
              "      <th>std</th>\n",
              "      <td>22.535417</td>\n",
              "      <td>0.26315</td>\n",
              "      <td>0.194593</td>\n",
              "      <td>6.636783</td>\n",
              "      <td>1.070672</td>\n",
              "      <td>40.708136</td>\n",
              "      <td>0.278883</td>\n",
              "    </tr>\n",
              "    <tr>\n",
              "      <th>min</th>\n",
              "      <td>0.000000</td>\n",
              "      <td>0.00000</td>\n",
              "      <td>0.000000</td>\n",
              "      <td>10.010000</td>\n",
              "      <td>3.500000</td>\n",
              "      <td>80.000000</td>\n",
              "      <td>0.000000</td>\n",
              "    </tr>\n",
              "    <tr>\n",
              "      <th>25%</th>\n",
              "      <td>24.000000</td>\n",
              "      <td>0.00000</td>\n",
              "      <td>0.000000</td>\n",
              "      <td>23.630000</td>\n",
              "      <td>4.800000</td>\n",
              "      <td>100.000000</td>\n",
              "      <td>0.000000</td>\n",
              "    </tr>\n",
              "    <tr>\n",
              "      <th>50%</th>\n",
              "      <td>43.000000</td>\n",
              "      <td>0.00000</td>\n",
              "      <td>0.000000</td>\n",
              "      <td>27.320000</td>\n",
              "      <td>5.800000</td>\n",
              "      <td>140.000000</td>\n",
              "      <td>0.000000</td>\n",
              "    </tr>\n",
              "    <tr>\n",
              "      <th>75%</th>\n",
              "      <td>60.000000</td>\n",
              "      <td>0.00000</td>\n",
              "      <td>0.000000</td>\n",
              "      <td>29.580000</td>\n",
              "      <td>6.200000</td>\n",
              "      <td>159.000000</td>\n",
              "      <td>0.000000</td>\n",
              "    </tr>\n",
              "    <tr>\n",
              "      <th>max</th>\n",
              "      <td>80.000000</td>\n",
              "      <td>1.00000</td>\n",
              "      <td>1.000000</td>\n",
              "      <td>95.690000</td>\n",
              "      <td>9.000000</td>\n",
              "      <td>300.000000</td>\n",
              "      <td>1.000000</td>\n",
              "    </tr>\n",
              "  </tbody>\n",
              "</table>\n",
              "</div>"
            ],
            "text/plain": [
              "                 age  hypertension  heart_disease            bmi  \\\n",
              "count  100000.000000  100000.00000  100000.000000  100000.000000   \n",
              "mean       41.875660       0.07485       0.039420      27.320767   \n",
              "std        22.535417       0.26315       0.194593       6.636783   \n",
              "min         0.000000       0.00000       0.000000      10.010000   \n",
              "25%        24.000000       0.00000       0.000000      23.630000   \n",
              "50%        43.000000       0.00000       0.000000      27.320000   \n",
              "75%        60.000000       0.00000       0.000000      29.580000   \n",
              "max        80.000000       1.00000       1.000000      95.690000   \n",
              "\n",
              "         HbA1c_level  blood_glucose_level       diabetes  \n",
              "count  100000.000000        100000.000000  100000.000000  \n",
              "mean        5.527507           138.058060       0.085000  \n",
              "std         1.070672            40.708136       0.278883  \n",
              "min         3.500000            80.000000       0.000000  \n",
              "25%         4.800000           100.000000       0.000000  \n",
              "50%         5.800000           140.000000       0.000000  \n",
              "75%         6.200000           159.000000       0.000000  \n",
              "max         9.000000           300.000000       1.000000  "
            ]
          },
          "execution_count": 6,
          "metadata": {},
          "output_type": "execute_result"
        }
      ],
      "source": [
        "diabetes_df.describe()"
      ]
    },
    {
      "cell_type": "code",
      "execution_count": 7,
      "metadata": {
        "colab": {
          "base_uri": "https://localhost:8080/"
        },
        "id": "3DHemLzWTCP-",
        "outputId": "331aa4a2-8cd7-41e3-8ab1-12fa311611bb"
      },
      "outputs": [
        {
          "name": "stdout",
          "output_type": "stream",
          "text": [
            "(100000, 9)\n",
            "3888\n",
            "(96112, 9)\n"
          ]
        }
      ],
      "source": [
        "## removing duplicated rows\n",
        "print(diabetes_df.shape)\n",
        "duplicates = diabetes_df.duplicated()\n",
        "print(duplicates.sum())\n",
        "diabetes_df = diabetes_df[~duplicates]\n",
        "print(diabetes_df.shape)"
      ]
    },
    {
      "cell_type": "code",
      "execution_count": 8,
      "metadata": {
        "colab": {
          "base_uri": "https://localhost:8080/"
        },
        "id": "mB7nhMWhTLny",
        "outputId": "3146d250-a88b-4708-dfe5-69878c247b21"
      },
      "outputs": [
        {
          "data": {
            "text/plain": [
              "diabetes\n",
              "0    87630\n",
              "1     8482\n",
              "Name: count, dtype: int64"
            ]
          },
          "execution_count": 8,
          "metadata": {},
          "output_type": "execute_result"
        }
      ],
      "source": [
        "diabetes_df[\"diabetes\"].value_counts()"
      ]
    },
    {
      "cell_type": "code",
      "execution_count": 9,
      "metadata": {
        "colab": {
          "base_uri": "https://localhost:8080/",
          "height": 428
        },
        "id": "ZvHtyMxsT-e3",
        "outputId": "3f588a09-9702-45ec-9578-ac9404067170"
      },
      "outputs": [
        {
          "data": {
            "image/png": "[encoded data removed]",
            "text/plain": [
              "<Figure size 640x480 with 1 Axes>"
            ]
          },
          "metadata": {},
          "output_type": "display_data"
        }
      ],
      "source": [
        "import matplotlib.pyplot as plt\n",
        "import seaborn as sns\n",
        "\n",
        "def plot_distribution(df):\n",
        "  fig, ax = plt.subplots()\n",
        "  ax.pie(df[\"diabetes\"].value_counts(), labels = [\"Not Diabetic\", \"Diabetic\"], autopct='%1.1f%%')\n",
        "  ax.set_title(\"Diabetes Distribution\")\n",
        "  plt.show()\n",
        "plot_distribution(diabetes_df)"
      ]
    },
    {
      "cell_type": "code",
      "execution_count": 10,
      "metadata": {
        "id": "8zDDfH3qUX7F"
      },
      "outputs": [],
      "source": [
        "cat_features = diabetes_df.columns[diabetes_df.dtypes == \"object\"].tolist()\n",
        "num_features = diabetes_df.columns[(diabetes_df.dtypes == \"float64\" )|( diabetes_df.dtypes == \"int64\") ].tolist()"
      ]
    },
    {
      "cell_type": "code",
      "execution_count": 11,
      "metadata": {},
      "outputs": [
        {
          "data": {
            "text/plain": [
              "(95212, 9)"
            ]
          },
          "execution_count": 11,
          "metadata": {},
          "output_type": "execute_result"
        }
      ],
      "source": [
        "#removing rows with age less than 1 year.\n",
        "diabetes_df = diabetes_df[diabetes_df[\"age\"] >= 1]\n",
        "diabetes_df.shape"
      ]
    },
    {
      "cell_type": "code",
      "execution_count": 12,
      "metadata": {
        "colab": {
          "base_uri": "https://localhost:8080/",
          "height": 289
        },
        "id": "-MrDIMe9YZ6n",
        "outputId": "3693f6ca-7175-4ef4-e013-20c856e524b7"
      },
      "outputs": [
        {
          "data": {
            "text/html": [
              "<div>\n",
              "<style scoped>\n",
              "    .dataframe tbody tr th:only-of-type {\n",
              "        vertical-align: middle;\n",
              "    }\n",
              "\n",
              "    .dataframe tbody tr th {\n",
              "        vertical-align: top;\n",
              "    }\n",
              "\n",
              "    .dataframe thead th {\n",
              "        text-align: right;\n",
              "    }\n",
              "</style>\n",
              "<table border=\"1\" class=\"dataframe\">\n",
              "  <thead>\n",
              "    <tr style=\"text-align: right;\">\n",
              "      <th></th>\n",
              "      <th>age</th>\n",
              "      <th>hypertension</th>\n",
              "      <th>heart_disease</th>\n",
              "      <th>bmi</th>\n",
              "      <th>HbA1c_level</th>\n",
              "      <th>blood_glucose_level</th>\n",
              "      <th>diabetes</th>\n",
              "    </tr>\n",
              "  </thead>\n",
              "  <tbody>\n",
              "    <tr>\n",
              "      <th>age</th>\n",
              "      <td>1.000000</td>\n",
              "      <td>0.256417</td>\n",
              "      <td>0.238709</td>\n",
              "      <td>0.328268</td>\n",
              "      <td>0.106017</td>\n",
              "      <td>0.114224</td>\n",
              "      <td>0.263804</td>\n",
              "    </tr>\n",
              "    <tr>\n",
              "      <th>hypertension</th>\n",
              "      <td>0.256417</td>\n",
              "      <td>1.000000</td>\n",
              "      <td>0.119469</td>\n",
              "      <td>0.145824</td>\n",
              "      <td>0.081362</td>\n",
              "      <td>0.084789</td>\n",
              "      <td>0.194998</td>\n",
              "    </tr>\n",
              "    <tr>\n",
              "      <th>heart_disease</th>\n",
              "      <td>0.238709</td>\n",
              "      <td>0.119469</td>\n",
              "      <td>1.000000</td>\n",
              "      <td>0.059178</td>\n",
              "      <td>0.068118</td>\n",
              "      <td>0.070826</td>\n",
              "      <td>0.170198</td>\n",
              "    </tr>\n",
              "    <tr>\n",
              "      <th>bmi</th>\n",
              "      <td>0.328268</td>\n",
              "      <td>0.145824</td>\n",
              "      <td>0.059178</td>\n",
              "      <td>1.000000</td>\n",
              "      <td>0.083333</td>\n",
              "      <td>0.092161</td>\n",
              "      <td>0.213206</td>\n",
              "    </tr>\n",
              "    <tr>\n",
              "      <th>HbA1c_level</th>\n",
              "      <td>0.106017</td>\n",
              "      <td>0.081362</td>\n",
              "      <td>0.068118</td>\n",
              "      <td>0.083333</td>\n",
              "      <td>1.000000</td>\n",
              "      <td>0.173050</td>\n",
              "      <td>0.407838</td>\n",
              "    </tr>\n",
              "    <tr>\n",
              "      <th>blood_glucose_level</th>\n",
              "      <td>0.114224</td>\n",
              "      <td>0.084789</td>\n",
              "      <td>0.070826</td>\n",
              "      <td>0.092161</td>\n",
              "      <td>0.173050</td>\n",
              "      <td>1.000000</td>\n",
              "      <td>0.425606</td>\n",
              "    </tr>\n",
              "    <tr>\n",
              "      <th>diabetes</th>\n",
              "      <td>0.263804</td>\n",
              "      <td>0.194998</td>\n",
              "      <td>0.170198</td>\n",
              "      <td>0.213206</td>\n",
              "      <td>0.407838</td>\n",
              "      <td>0.425606</td>\n",
              "      <td>1.000000</td>\n",
              "    </tr>\n",
              "  </tbody>\n",
              "</table>\n",
              "</div>"
            ],
            "text/plain": [
              "                          age  hypertension  heart_disease       bmi  \\\n",
              "age                  1.000000      0.256417       0.238709  0.328268   \n",
              "hypertension         0.256417      1.000000       0.119469  0.145824   \n",
              "heart_disease        0.238709      0.119469       1.000000  0.059178   \n",
              "bmi                  0.328268      0.145824       0.059178  1.000000   \n",
              "HbA1c_level          0.106017      0.081362       0.068118  0.083333   \n",
              "blood_glucose_level  0.114224      0.084789       0.070826  0.092161   \n",
              "diabetes             0.263804      0.194998       0.170198  0.213206   \n",
              "\n",
              "                     HbA1c_level  blood_glucose_level  diabetes  \n",
              "age                     0.106017             0.114224  0.263804  \n",
              "hypertension            0.081362             0.084789  0.194998  \n",
              "heart_disease           0.068118             0.070826  0.170198  \n",
              "bmi                     0.083333             0.092161  0.213206  \n",
              "HbA1c_level             1.000000             0.173050  0.407838  \n",
              "blood_glucose_level     0.173050             1.000000  0.425606  \n",
              "diabetes                0.407838             0.425606  1.000000  "
            ]
          },
          "execution_count": 12,
          "metadata": {},
          "output_type": "execute_result"
        }
      ],
      "source": [
        "diabetes_df[num_features].corr()"
      ]
    },
    {
      "cell_type": "code",
      "execution_count": 13,
      "metadata": {
        "colab": {
          "base_uri": "https://localhost:8080/",
          "height": 669
        },
        "id": "4utiiXieYdTc",
        "outputId": "b246fa14-ae73-4c9d-b4d6-9822cb35c1eb"
      },
      "outputs": [
        {
          "data": {
            "image/png": "[encoded data removed]",
            "text/plain": [
              "<Figure size 800x600 with 2 Axes>"
            ]
          },
          "metadata": {},
          "output_type": "display_data"
        }
      ],
      "source": [
        "plt.figure(figsize=(8, 6))\n",
        "sns.heatmap(diabetes_df[num_features].corr(), annot=True, cmap=\"coolwarm\",  fmt=\".2f\", linewidths=0.5)\n",
        "plt.title(\"Correlation Heatmap\")\n",
        "plt.show()"
      ]
    },
    {
      "cell_type": "code",
      "execution_count": 14,
      "metadata": {
        "id": "Jx3TwAuiZWF-"
      },
      "outputs": [],
      "source": [
        "#dropping categorical variables\n",
        "diabetes_df.drop(cat_features,axis=1, inplace = True)"
      ]
    },
    {
      "cell_type": "code",
      "execution_count": 15,
      "metadata": {
        "colab": {
          "base_uri": "https://localhost:8080/"
        },
        "id": "xiK15x20cRDS",
        "outputId": "e837e0f3-a81b-4b60-bd4b-85dc7083f352"
      },
      "outputs": [
        {
          "name": "stdout",
          "output_type": "stream",
          "text": [
            "(95212, 7)\n",
            "9071\n",
            "(86141, 7)\n"
          ]
        }
      ],
      "source": [
        "## categorical variables often provide uniqueness. correcting for some duplication\n",
        "# that might happen because the categorical features were dropped\n",
        "print(diabetes_df.shape)\n",
        "duplicates = diabetes_df.duplicated()\n",
        "print(duplicates.sum())\n",
        "diabetes_df = diabetes_df[~duplicates]\n",
        "print(diabetes_df.shape)"
      ]
    },
    {
      "cell_type": "code",
      "execution_count": 16,
      "metadata": {
        "colab": {
          "base_uri": "https://localhost:8080/"
        },
        "id": "Q6HGeTELyaKY",
        "outputId": "18d32c09-07fe-4926-afd6-f443df3ad68a"
      },
      "outputs": [
        {
          "data": {
            "text/plain": [
              "diabetes\n",
              "0    77742\n",
              "1     8399\n",
              "Name: count, dtype: int64"
            ]
          },
          "execution_count": 16,
          "metadata": {},
          "output_type": "execute_result"
        }
      ],
      "source": [
        "diabetes_df.diabetes.value_counts()"
      ]
    },
    {
      "cell_type": "markdown",
      "metadata": {
        "id": "5u7a8AMUnLQh"
      },
      "source": [
        "## HANDLING CLASS IMBALANCE"
      ]
    },
    {
      "cell_type": "code",
      "execution_count": 17,
      "metadata": {
        "colab": {
          "base_uri": "https://localhost:8080/",
          "height": 206
        },
        "id": "tcXE1moqnYWC",
        "outputId": "e0bf93d4-2f41-4a77-bb54-6e7e046aa97c"
      },
      "outputs": [
        {
          "name": "stderr",
          "output_type": "stream",
          "text": [
            "2024-07-18 10:56:21.910489: I external/local_tsl/tsl/cuda/cudart_stub.cc:31] Could not find cuda drivers on your machine, GPU will not be used.\n",
            "2024-07-18 10:56:24.845664: E external/local_xla/xla/stream_executor/cuda/cuda_dnn.cc:9261] Unable to register cuDNN factory: Attempting to register factory for plugin cuDNN when one has already been registered\n",
            "2024-07-18 10:56:24.845865: E external/local_xla/xla/stream_executor/cuda/cuda_fft.cc:607] Unable to register cuFFT factory: Attempting to register factory for plugin cuFFT when one has already been registered\n",
            "2024-07-18 10:56:25.454494: E external/local_xla/xla/stream_executor/cuda/cuda_blas.cc:1515] Unable to register cuBLAS factory: Attempting to register factory for plugin cuBLAS when one has already been registered\n",
            "2024-07-18 10:56:26.739116: I external/local_tsl/tsl/cuda/cudart_stub.cc:31] Could not find cuda drivers on your machine, GPU will not be used.\n",
            "2024-07-18 10:56:26.750303: I tensorflow/core/platform/cpu_feature_guard.cc:182] This TensorFlow binary is optimized to use available CPU instructions in performance-critical operations.\n",
            "To enable the following instructions: AVX2 FMA, in other operations, rebuild TensorFlow with the appropriate compiler flags.\n",
            "2024-07-18 10:56:30.292484: W tensorflow/compiler/tf2tensorrt/utils/py_utils.cc:38] TF-TRT Warning: Could not find TensorRT\n"
          ]
        },
        {
          "data": {
            "text/html": [
              "<div>\n",
              "<style scoped>\n",
              "    .dataframe tbody tr th:only-of-type {\n",
              "        vertical-align: middle;\n",
              "    }\n",
              "\n",
              "    .dataframe tbody tr th {\n",
              "        vertical-align: top;\n",
              "    }\n",
              "\n",
              "    .dataframe thead th {\n",
              "        text-align: right;\n",
              "    }\n",
              "</style>\n",
              "<table border=\"1\" class=\"dataframe\">\n",
              "  <thead>\n",
              "    <tr style=\"text-align: right;\">\n",
              "      <th></th>\n",
              "      <th>age</th>\n",
              "      <th>hypertension</th>\n",
              "      <th>heart_disease</th>\n",
              "      <th>bmi</th>\n",
              "      <th>HbA1c_level</th>\n",
              "      <th>blood_glucose_level</th>\n",
              "      <th>diabetes</th>\n",
              "    </tr>\n",
              "  </thead>\n",
              "  <tbody>\n",
              "    <tr>\n",
              "      <th>6</th>\n",
              "      <td>44</td>\n",
              "      <td>0</td>\n",
              "      <td>0</td>\n",
              "      <td>19.31</td>\n",
              "      <td>6.5</td>\n",
              "      <td>200</td>\n",
              "      <td>1</td>\n",
              "    </tr>\n",
              "    <tr>\n",
              "      <th>26</th>\n",
              "      <td>67</td>\n",
              "      <td>0</td>\n",
              "      <td>1</td>\n",
              "      <td>27.32</td>\n",
              "      <td>6.5</td>\n",
              "      <td>200</td>\n",
              "      <td>1</td>\n",
              "    </tr>\n",
              "    <tr>\n",
              "      <th>38</th>\n",
              "      <td>50</td>\n",
              "      <td>1</td>\n",
              "      <td>0</td>\n",
              "      <td>27.32</td>\n",
              "      <td>5.7</td>\n",
              "      <td>260</td>\n",
              "      <td>1</td>\n",
              "    </tr>\n",
              "    <tr>\n",
              "      <th>40</th>\n",
              "      <td>73</td>\n",
              "      <td>0</td>\n",
              "      <td>0</td>\n",
              "      <td>25.91</td>\n",
              "      <td>9.0</td>\n",
              "      <td>160</td>\n",
              "      <td>1</td>\n",
              "    </tr>\n",
              "    <tr>\n",
              "      <th>53</th>\n",
              "      <td>53</td>\n",
              "      <td>0</td>\n",
              "      <td>0</td>\n",
              "      <td>27.32</td>\n",
              "      <td>7.0</td>\n",
              "      <td>159</td>\n",
              "      <td>1</td>\n",
              "    </tr>\n",
              "  </tbody>\n",
              "</table>\n",
              "</div>"
            ],
            "text/plain": [
              "    age  hypertension  heart_disease    bmi  HbA1c_level  blood_glucose_level  \\\n",
              "6    44             0              0  19.31          6.5                  200   \n",
              "26   67             0              1  27.32          6.5                  200   \n",
              "38   50             1              0  27.32          5.7                  260   \n",
              "40   73             0              0  25.91          9.0                  160   \n",
              "53   53             0              0  27.32          7.0                  159   \n",
              "\n",
              "    diabetes  \n",
              "6          1  \n",
              "26         1  \n",
              "38         1  \n",
              "40         1  \n",
              "53         1  "
            ]
          },
          "execution_count": 17,
          "metadata": {},
          "output_type": "execute_result"
        }
      ],
      "source": [
        "# solving unbalanced dataset problem using ydata_synthetic.synthesizers\n",
        "from helper_functions import generate_data, synthetic_data_model, patient_id_and_date, clean_up\n",
        "\n",
        "#Synthesize the minority class\n",
        "training_df = diabetes_df.loc[diabetes_df['diabetes'] == 1].copy()\n",
        "training_df.head()"
      ]
    },
    {
      "cell_type": "code",
      "execution_count": 18,
      "metadata": {
        "colab": {
          "base_uri": "https://localhost:8080/"
        },
        "id": "zvm0cpi8nndk",
        "outputId": "5225f92a-1616-44ab-e7a4-2e2f5dfca685"
      },
      "outputs": [
        {
          "name": "stdout",
          "output_type": "stream",
          "text": [
            "Epoch: 0 | critic_loss: 0.12047974765300751 | generator_loss: -0.03910485655069351\n",
            "Epoch: 1 | critic_loss: 0.09897996485233307 | generator_loss: 0.012554535642266273\n",
            "Epoch: 2 | critic_loss: 0.6302741169929504 | generator_loss: -0.8295647501945496\n",
            "Epoch: 3 | critic_loss: 0.12116822600364685 | generator_loss: -0.2912102937698364\n",
            "Epoch: 4 | critic_loss: -0.074551060795784 | generator_loss: 0.10876497626304626\n",
            "Epoch: 5 | critic_loss: -0.10492357611656189 | generator_loss: -0.25841259956359863\n",
            "Epoch: 6 | critic_loss: 0.2604188919067383 | generator_loss: -0.7375150918960571\n",
            "Epoch: 7 | critic_loss: 0.2971113920211792 | generator_loss: -0.7414510250091553\n",
            "Epoch: 8 | critic_loss: 0.05112189054489136 | generator_loss: -0.5111925005912781\n",
            "Epoch: 9 | critic_loss: 0.2417934536933899 | generator_loss: -0.3601129949092865\n",
            "Epoch: 10 | critic_loss: 0.20314514636993408 | generator_loss: -1.125754475593567\n",
            "Epoch: 11 | critic_loss: 0.3287113308906555 | generator_loss: -0.7892115116119385\n",
            "Epoch: 12 | critic_loss: 0.22913163900375366 | generator_loss: -0.6316272020339966\n",
            "Epoch: 13 | critic_loss: -0.0029799193143844604 | generator_loss: -0.2612443268299103\n",
            "Epoch: 14 | critic_loss: 0.006919965147972107 | generator_loss: -0.1938110738992691\n",
            "Epoch: 15 | critic_loss: 0.040095776319503784 | generator_loss: -0.20940186083316803\n",
            "Epoch: 16 | critic_loss: 0.537342369556427 | generator_loss: -0.8762985467910767\n",
            "Epoch: 17 | critic_loss: 0.48589855432510376 | generator_loss: -0.9150371551513672\n",
            "Epoch: 18 | critic_loss: 0.39441657066345215 | generator_loss: -0.589703381061554\n",
            "Epoch: 19 | critic_loss: 0.12639282643795013 | generator_loss: -0.5367188453674316\n",
            "Epoch: 20 | critic_loss: 0.17151744663715363 | generator_loss: 0.24711297452449799\n",
            "Epoch: 21 | critic_loss: 0.16645459830760956 | generator_loss: -0.9869920611381531\n",
            "Epoch: 22 | critic_loss: 0.0014500021934509277 | generator_loss: -0.5194284915924072\n",
            "Epoch: 23 | critic_loss: 0.17276406288146973 | generator_loss: -0.39576613903045654\n",
            "Epoch: 24 | critic_loss: 0.08437848091125488 | generator_loss: -0.5773302316665649\n",
            "Epoch: 25 | critic_loss: 0.1255873441696167 | generator_loss: -0.36509037017822266\n",
            "Epoch: 26 | critic_loss: 0.3083357512950897 | generator_loss: -0.8311205506324768\n",
            "Epoch: 27 | critic_loss: 0.05436462163925171 | generator_loss: -0.36634886264801025\n",
            "Epoch: 28 | critic_loss: 0.24277274310588837 | generator_loss: -1.427364706993103\n",
            "Epoch: 29 | critic_loss: 0.1492518037557602 | generator_loss: -1.5377696752548218\n",
            "Epoch: 30 | critic_loss: 0.28508198261260986 | generator_loss: -1.1955363750457764\n",
            "Epoch: 31 | critic_loss: 0.12079267203807831 | generator_loss: -1.2891334295272827\n",
            "Epoch: 32 | critic_loss: 0.07975557446479797 | generator_loss: -1.4736140966415405\n",
            "Epoch: 33 | critic_loss: 0.15494416654109955 | generator_loss: -1.1726889610290527\n",
            "Epoch: 34 | critic_loss: -0.06453564763069153 | generator_loss: -1.161736011505127\n",
            "Epoch: 35 | critic_loss: 0.16419516503810883 | generator_loss: -1.7572579383850098\n",
            "Epoch: 36 | critic_loss: 0.06002308428287506 | generator_loss: -1.0871269702911377\n",
            "Epoch: 37 | critic_loss: 0.25000637769699097 | generator_loss: -1.667148470878601\n",
            "Epoch: 38 | critic_loss: 0.10647901892662048 | generator_loss: -1.5293163061141968\n",
            "Epoch: 39 | critic_loss: 0.14469283819198608 | generator_loss: -1.5350065231323242\n"
          ]
        }
      ],
      "source": [
        "synth, train_args = generate_data()\n",
        "synth.fit(data=training_df, train_arguments=train_args, num_cols=num_features, cat_cols=['diabetes'])\n"
      ]
    },
    {
      "cell_type": "code",
      "execution_count": 19,
      "metadata": {
        "id": "urqLgwZ7n_zr"
      },
      "outputs": [
        {
          "data": {
            "text/html": [
              "<div>\n",
              "<style scoped>\n",
              "    .dataframe tbody tr th:only-of-type {\n",
              "        vertical-align: middle;\n",
              "    }\n",
              "\n",
              "    .dataframe tbody tr th {\n",
              "        vertical-align: top;\n",
              "    }\n",
              "\n",
              "    .dataframe thead th {\n",
              "        text-align: right;\n",
              "    }\n",
              "</style>\n",
              "<table border=\"1\" class=\"dataframe\">\n",
              "  <thead>\n",
              "    <tr style=\"text-align: right;\">\n",
              "      <th></th>\n",
              "      <th>age</th>\n",
              "      <th>hypertension</th>\n",
              "      <th>heart_disease</th>\n",
              "      <th>bmi</th>\n",
              "      <th>HbA1c_level</th>\n",
              "      <th>blood_glucose_level</th>\n",
              "      <th>diabetes</th>\n",
              "    </tr>\n",
              "  </thead>\n",
              "  <tbody>\n",
              "    <tr>\n",
              "      <th>0</th>\n",
              "      <td>71</td>\n",
              "      <td>1</td>\n",
              "      <td>1</td>\n",
              "      <td>25.595065</td>\n",
              "      <td>5.679669</td>\n",
              "      <td>240</td>\n",
              "      <td>1</td>\n",
              "    </tr>\n",
              "    <tr>\n",
              "      <th>1</th>\n",
              "      <td>78</td>\n",
              "      <td>0</td>\n",
              "      <td>0</td>\n",
              "      <td>33.015374</td>\n",
              "      <td>6.045406</td>\n",
              "      <td>130</td>\n",
              "      <td>1</td>\n",
              "    </tr>\n",
              "    <tr>\n",
              "      <th>2</th>\n",
              "      <td>81</td>\n",
              "      <td>0</td>\n",
              "      <td>0</td>\n",
              "      <td>33.558924</td>\n",
              "      <td>5.718630</td>\n",
              "      <td>160</td>\n",
              "      <td>1</td>\n",
              "    </tr>\n",
              "    <tr>\n",
              "      <th>3</th>\n",
              "      <td>24</td>\n",
              "      <td>0</td>\n",
              "      <td>1</td>\n",
              "      <td>38.313226</td>\n",
              "      <td>5.655360</td>\n",
              "      <td>128</td>\n",
              "      <td>1</td>\n",
              "    </tr>\n",
              "    <tr>\n",
              "      <th>4</th>\n",
              "      <td>67</td>\n",
              "      <td>0</td>\n",
              "      <td>0</td>\n",
              "      <td>46.175598</td>\n",
              "      <td>8.765496</td>\n",
              "      <td>238</td>\n",
              "      <td>1</td>\n",
              "    </tr>\n",
              "  </tbody>\n",
              "</table>\n",
              "</div>"
            ],
            "text/plain": [
              "   age  hypertension  heart_disease        bmi  HbA1c_level  \\\n",
              "0   71             1              1  25.595065     5.679669   \n",
              "1   78             0              0  33.015374     6.045406   \n",
              "2   81             0              0  33.558924     5.718630   \n",
              "3   24             0              1  38.313226     5.655360   \n",
              "4   67             0              0  46.175598     8.765496   \n",
              "\n",
              "   blood_glucose_level  diabetes  \n",
              "0                  240         1  \n",
              "1                  130         1  \n",
              "2                  160         1  \n",
              "3                  128         1  \n",
              "4                  238         1  "
            ]
          },
          "execution_count": 19,
          "metadata": {},
          "output_type": "execute_result"
        }
      ],
      "source": [
        "synth_data = synth.sample(67000)\n",
        "synth_data.head()"
      ]
    },
    {
      "cell_type": "code",
      "execution_count": 20,
      "metadata": {},
      "outputs": [],
      "source": [
        "synth_data[\"bmi\"] = synth_data[\"bmi\"].round(2)\n",
        "synth_data[\"HbA1c_level\"] = synth_data[\"HbA1c_level\"].round(1)"
      ]
    },
    {
      "cell_type": "code",
      "execution_count": 21,
      "metadata": {
        "colab": {
          "base_uri": "https://localhost:8080/"
        },
        "id": "llYeFDY_y1Yw",
        "outputId": "9a39bc6e-5c00-4694-e82b-b6f328e7c80c"
      },
      "outputs": [
        {
          "data": {
            "text/plain": [
              "(153141, 7)"
            ]
          },
          "execution_count": 21,
          "metadata": {},
          "output_type": "execute_result"
        }
      ],
      "source": [
        "combined_data = pd.concat([diabetes_df, synth_data], ignore_index=True)\n",
        "combined_data.shape"
      ]
    },
    {
      "cell_type": "code",
      "execution_count": 22,
      "metadata": {
        "colab": {
          "base_uri": "https://localhost:8080/"
        },
        "id": "sZkceE5Pzj-v",
        "outputId": "95b27efc-9ef6-445b-f838-0aacca4bfda2"
      },
      "outputs": [
        {
          "data": {
            "text/plain": [
              "(153104, 7)"
            ]
          },
          "execution_count": 22,
          "metadata": {},
          "output_type": "execute_result"
        }
      ],
      "source": [
        "duplicates = combined_data.duplicated()\n",
        "combined_data = combined_data[~duplicates]\n",
        "combined_data.shape"
      ]
    },
    {
      "cell_type": "code",
      "execution_count": 23,
      "metadata": {},
      "outputs": [
        {
          "data": {
            "text/plain": [
              "(153101, 7)"
            ]
          },
          "execution_count": 23,
          "metadata": {},
          "output_type": "execute_result"
        }
      ],
      "source": [
        "#drop rows with unrealistic data eg negative age etc\n",
        "combined_data = clean_up(combined_data)\n",
        "combined_data.shape"
      ]
    },
    {
      "cell_type": "code",
      "execution_count": 24,
      "metadata": {
        "colab": {
          "base_uri": "https://localhost:8080/",
          "height": 428
        },
        "id": "VXW9jiXbznWc",
        "outputId": "513afe77-ad20-4601-bba1-126432e38be1"
      },
      "outputs": [
        {
          "data": {
            "image/png": "[encoded data removed]",
            "text/plain": [
              "<Figure size 640x480 with 1 Axes>"
            ]
          },
          "metadata": {},
          "output_type": "display_data"
        }
      ],
      "source": [
        "plot_distribution(combined_data)"
      ]
    },
    {
      "cell_type": "code",
      "execution_count": 25,
      "metadata": {},
      "outputs": [
        {
          "name": "stdout",
          "output_type": "stream",
          "text": [
            "diabetes\n",
            "0    77742\n",
            "1    75359\n",
            "Name: count, dtype: int64\n"
          ]
        },
        {
          "data": {
            "text/html": [
              "<div>\n",
              "<style scoped>\n",
              "    .dataframe tbody tr th:only-of-type {\n",
              "        vertical-align: middle;\n",
              "    }\n",
              "\n",
              "    .dataframe tbody tr th {\n",
              "        vertical-align: top;\n",
              "    }\n",
              "\n",
              "    .dataframe thead th {\n",
              "        text-align: right;\n",
              "    }\n",
              "</style>\n",
              "<table border=\"1\" class=\"dataframe\">\n",
              "  <thead>\n",
              "    <tr style=\"text-align: right;\">\n",
              "      <th></th>\n",
              "      <th>age</th>\n",
              "      <th>hypertension</th>\n",
              "      <th>heart_disease</th>\n",
              "      <th>bmi</th>\n",
              "      <th>HbA1c_level</th>\n",
              "      <th>blood_glucose_level</th>\n",
              "      <th>diabetes</th>\n",
              "    </tr>\n",
              "  </thead>\n",
              "  <tbody>\n",
              "    <tr>\n",
              "      <th>0</th>\n",
              "      <td>54</td>\n",
              "      <td>0</td>\n",
              "      <td>1</td>\n",
              "      <td>38.36</td>\n",
              "      <td>5.7</td>\n",
              "      <td>254</td>\n",
              "      <td>1</td>\n",
              "    </tr>\n",
              "    <tr>\n",
              "      <th>1</th>\n",
              "      <td>51</td>\n",
              "      <td>0</td>\n",
              "      <td>0</td>\n",
              "      <td>23.04</td>\n",
              "      <td>6.2</td>\n",
              "      <td>155</td>\n",
              "      <td>0</td>\n",
              "    </tr>\n",
              "    <tr>\n",
              "      <th>2</th>\n",
              "      <td>8</td>\n",
              "      <td>0</td>\n",
              "      <td>0</td>\n",
              "      <td>19.10</td>\n",
              "      <td>4.5</td>\n",
              "      <td>85</td>\n",
              "      <td>0</td>\n",
              "    </tr>\n",
              "    <tr>\n",
              "      <th>3</th>\n",
              "      <td>59</td>\n",
              "      <td>0</td>\n",
              "      <td>0</td>\n",
              "      <td>33.42</td>\n",
              "      <td>6.1</td>\n",
              "      <td>260</td>\n",
              "      <td>1</td>\n",
              "    </tr>\n",
              "    <tr>\n",
              "      <th>4</th>\n",
              "      <td>72</td>\n",
              "      <td>0</td>\n",
              "      <td>1</td>\n",
              "      <td>34.44</td>\n",
              "      <td>5.8</td>\n",
              "      <td>160</td>\n",
              "      <td>0</td>\n",
              "    </tr>\n",
              "    <tr>\n",
              "      <th>5</th>\n",
              "      <td>52</td>\n",
              "      <td>0</td>\n",
              "      <td>0</td>\n",
              "      <td>26.55</td>\n",
              "      <td>6.6</td>\n",
              "      <td>80</td>\n",
              "      <td>0</td>\n",
              "    </tr>\n",
              "    <tr>\n",
              "      <th>6</th>\n",
              "      <td>59</td>\n",
              "      <td>0</td>\n",
              "      <td>0</td>\n",
              "      <td>19.46</td>\n",
              "      <td>5.8</td>\n",
              "      <td>200</td>\n",
              "      <td>1</td>\n",
              "    </tr>\n",
              "    <tr>\n",
              "      <th>7</th>\n",
              "      <td>20</td>\n",
              "      <td>0</td>\n",
              "      <td>0</td>\n",
              "      <td>25.22</td>\n",
              "      <td>6.5</td>\n",
              "      <td>130</td>\n",
              "      <td>0</td>\n",
              "    </tr>\n",
              "    <tr>\n",
              "      <th>8</th>\n",
              "      <td>80</td>\n",
              "      <td>0</td>\n",
              "      <td>0</td>\n",
              "      <td>23.46</td>\n",
              "      <td>6.5</td>\n",
              "      <td>200</td>\n",
              "      <td>0</td>\n",
              "    </tr>\n",
              "    <tr>\n",
              "      <th>9</th>\n",
              "      <td>29</td>\n",
              "      <td>0</td>\n",
              "      <td>0</td>\n",
              "      <td>26.39</td>\n",
              "      <td>3.5</td>\n",
              "      <td>145</td>\n",
              "      <td>0</td>\n",
              "    </tr>\n",
              "  </tbody>\n",
              "</table>\n",
              "</div>"
            ],
            "text/plain": [
              "   age  hypertension  heart_disease    bmi  HbA1c_level  blood_glucose_level  \\\n",
              "0   54             0              1  38.36          5.7                  254   \n",
              "1   51             0              0  23.04          6.2                  155   \n",
              "2    8             0              0  19.10          4.5                   85   \n",
              "3   59             0              0  33.42          6.1                  260   \n",
              "4   72             0              1  34.44          5.8                  160   \n",
              "5   52             0              0  26.55          6.6                   80   \n",
              "6   59             0              0  19.46          5.8                  200   \n",
              "7   20             0              0  25.22          6.5                  130   \n",
              "8   80             0              0  23.46          6.5                  200   \n",
              "9   29             0              0  26.39          3.5                  145   \n",
              "\n",
              "   diabetes  \n",
              "0         1  \n",
              "1         0  \n",
              "2         0  \n",
              "3         1  \n",
              "4         0  \n",
              "5         0  \n",
              "6         1  \n",
              "7         0  \n",
              "8         0  \n",
              "9         0  "
            ]
          },
          "execution_count": 25,
          "metadata": {},
          "output_type": "execute_result"
        }
      ],
      "source": [
        "combined_data = combined_data.sample(frac=1).reset_index(drop=True)\n",
        "print(combined_data.diabetes.value_counts())\n",
        "combined_data.head(10)"
      ]
    },
    {
      "cell_type": "markdown",
      "metadata": {},
      "source": [
        "<h2>creating a model to synthesize data for feature pipeline</h2>"
      ]
    },
    {
      "cell_type": "code",
      "execution_count": 26,
      "metadata": {},
      "outputs": [
        {
          "name": "stdout",
          "output_type": "stream",
          "text": [
            "Epoch: 0 | critic_loss: -0.050653815269470215 | generator_loss: -0.5078874230384827\n",
            "Epoch: 1 | critic_loss: 0.1863432675600052 | generator_loss: -1.4848711490631104\n",
            "Epoch: 2 | critic_loss: 0.038906216621398926 | generator_loss: -1.9827600717544556\n",
            "Epoch: 3 | critic_loss: 0.16665604710578918 | generator_loss: -2.267357587814331\n",
            "Epoch: 4 | critic_loss: 0.0956108570098877 | generator_loss: -1.7912636995315552\n",
            "Epoch: 5 | critic_loss: 0.15086978673934937 | generator_loss: -2.019153594970703\n",
            "Epoch: 6 | critic_loss: 0.1553225964307785 | generator_loss: -2.099614143371582\n",
            "Epoch: 7 | critic_loss: 0.1472136229276657 | generator_loss: -2.0409140586853027\n",
            "Epoch: 8 | critic_loss: 0.08294496685266495 | generator_loss: -2.112948179244995\n",
            "Epoch: 9 | critic_loss: 0.06536047160625458 | generator_loss: -2.155154228210449\n",
            "Epoch: 10 | critic_loss: 0.06269769370555878 | generator_loss: -2.0963525772094727\n",
            "Epoch: 11 | critic_loss: 0.1320376992225647 | generator_loss: -2.1419036388397217\n",
            "Epoch: 12 | critic_loss: 0.04407908022403717 | generator_loss: -2.272510528564453\n",
            "Epoch: 13 | critic_loss: 0.12119127810001373 | generator_loss: -2.1268553733825684\n",
            "Epoch: 14 | critic_loss: 0.15716445446014404 | generator_loss: -2.136945962905884\n",
            "Epoch: 15 | critic_loss: 0.032255619764328 | generator_loss: -2.259995460510254\n",
            "Epoch: 16 | critic_loss: 0.16482235491275787 | generator_loss: -2.1470303535461426\n",
            "Epoch: 17 | critic_loss: 0.1570681780576706 | generator_loss: -2.1570520401000977\n",
            "Epoch: 18 | critic_loss: 0.2343815118074417 | generator_loss: -2.006526470184326\n",
            "Epoch: 19 | critic_loss: 0.18268391489982605 | generator_loss: -2.326087474822998\n",
            "Epoch: 20 | critic_loss: 0.10312869399785995 | generator_loss: -2.172980308532715\n",
            "Epoch: 21 | critic_loss: 0.12223711609840393 | generator_loss: -1.9688934087753296\n",
            "Epoch: 22 | critic_loss: 0.16962072253227234 | generator_loss: -2.173915386199951\n",
            "Epoch: 23 | critic_loss: 0.10185294598340988 | generator_loss: -2.102715492248535\n",
            "Epoch: 24 | critic_loss: 0.04188704490661621 | generator_loss: -2.2555456161499023\n",
            "Epoch: 25 | critic_loss: 0.0631571114063263 | generator_loss: -2.156876564025879\n",
            "Epoch: 26 | critic_loss: 0.12302295863628387 | generator_loss: -2.130807638168335\n",
            "Epoch: 27 | critic_loss: 0.14267823100090027 | generator_loss: -2.196213722229004\n",
            "Epoch: 28 | critic_loss: 0.07088499516248703 | generator_loss: -2.333479881286621\n",
            "Epoch: 29 | critic_loss: 0.2654562294483185 | generator_loss: -2.0817174911499023\n",
            "Epoch: 30 | critic_loss: 0.11293517053127289 | generator_loss: -2.1923725605010986\n",
            "Epoch: 31 | critic_loss: 0.04487206041812897 | generator_loss: -2.0707998275756836\n",
            "Epoch: 32 | critic_loss: 0.08916310966014862 | generator_loss: -2.1286396980285645\n",
            "Epoch: 33 | critic_loss: 0.1528913825750351 | generator_loss: -2.0983104705810547\n",
            "Epoch: 34 | critic_loss: 0.08191314339637756 | generator_loss: -2.142524242401123\n",
            "Epoch: 35 | critic_loss: 0.18403126299381256 | generator_loss: -1.9319531917572021\n",
            "Epoch: 36 | critic_loss: 0.10510211437940598 | generator_loss: -2.241347074508667\n",
            "Epoch: 37 | critic_loss: 0.15078413486480713 | generator_loss: -2.0833487510681152\n",
            "Epoch: 38 | critic_loss: 0.0719611644744873 | generator_loss: -2.1796109676361084\n",
            "Epoch: 39 | critic_loss: 0.20959439873695374 | generator_loss: -1.892123818397522\n"
          ]
        }
      ],
      "source": [
        "synth,_ = generate_data()\n",
        "synth.fit(data=combined_data, train_arguments=train_args, num_cols=num_features, cat_cols=['diabetes'])"
      ]
    },
    {
      "cell_type": "code",
      "execution_count": 27,
      "metadata": {},
      "outputs": [],
      "source": [
        "# saving the model\n",
        "import os\n",
        "model_dir=\"synth_data_model\"\n",
        "if not os.path.isdir(model_dir): \n",
        "    os.mkdir(model_dir)\n",
        "\n",
        "model_path = os.path.join(model_dir, \"synth_data_model.pkl\")\n",
        "\n",
        "synth.save(model_path)"
      ]
    },
    {
      "cell_type": "code",
      "execution_count": 28,
      "metadata": {},
      "outputs": [
        {
          "data": {
            "text/plain": [
              "diabetes\n",
              "0    55\n",
              "1    45\n",
              "Name: count, dtype: int64"
            ]
          },
          "execution_count": 28,
          "metadata": {},
          "output_type": "execute_result"
        }
      ],
      "source": [
        "#loading and testing synthetic_data_model for \n",
        "model = synthetic_data_model(model_path)\n",
        "new_synth_data = model.sample(100)\n",
        "new_synth_data.diabetes.value_counts()"
      ]
    },
    {
      "cell_type": "markdown",
      "metadata": {},
      "source": [
        "<h3>Writing features to a feature store </h3>"
      ]
    },
    {
      "cell_type": "code",
      "execution_count": 29,
      "metadata": {},
      "outputs": [
        {
          "data": {
            "text/html": [
              "<div>\n",
              "<style scoped>\n",
              "    .dataframe tbody tr th:only-of-type {\n",
              "        vertical-align: middle;\n",
              "    }\n",
              "\n",
              "    .dataframe tbody tr th {\n",
              "        vertical-align: top;\n",
              "    }\n",
              "\n",
              "    .dataframe thead th {\n",
              "        text-align: right;\n",
              "    }\n",
              "</style>\n",
              "<table border=\"1\" class=\"dataframe\">\n",
              "  <thead>\n",
              "    <tr style=\"text-align: right;\">\n",
              "      <th></th>\n",
              "      <th>patient_id</th>\n",
              "      <th>age</th>\n",
              "      <th>hypertension</th>\n",
              "      <th>heart_disease</th>\n",
              "      <th>bmi</th>\n",
              "      <th>HbA1c_level</th>\n",
              "      <th>blood_glucose_level</th>\n",
              "      <th>diabetes</th>\n",
              "      <th>datetime</th>\n",
              "    </tr>\n",
              "  </thead>\n",
              "  <tbody>\n",
              "    <tr>\n",
              "      <th>0</th>\n",
              "      <td>0</td>\n",
              "      <td>54</td>\n",
              "      <td>0</td>\n",
              "      <td>1</td>\n",
              "      <td>38.36</td>\n",
              "      <td>5.7</td>\n",
              "      <td>254</td>\n",
              "      <td>1</td>\n",
              "      <td>2024-07-18 12:24:25.622299</td>\n",
              "    </tr>\n",
              "    <tr>\n",
              "      <th>1</th>\n",
              "      <td>1</td>\n",
              "      <td>51</td>\n",
              "      <td>0</td>\n",
              "      <td>0</td>\n",
              "      <td>23.04</td>\n",
              "      <td>6.2</td>\n",
              "      <td>155</td>\n",
              "      <td>0</td>\n",
              "      <td>2024-07-18 12:24:25.622299</td>\n",
              "    </tr>\n",
              "    <tr>\n",
              "      <th>2</th>\n",
              "      <td>2</td>\n",
              "      <td>8</td>\n",
              "      <td>0</td>\n",
              "      <td>0</td>\n",
              "      <td>19.10</td>\n",
              "      <td>4.5</td>\n",
              "      <td>85</td>\n",
              "      <td>0</td>\n",
              "      <td>2024-07-18 12:24:25.622299</td>\n",
              "    </tr>\n",
              "  </tbody>\n",
              "</table>\n",
              "</div>"
            ],
            "text/plain": [
              "   patient_id  age  hypertension  heart_disease    bmi  HbA1c_level  \\\n",
              "0           0   54             0              1  38.36          5.7   \n",
              "1           1   51             0              0  23.04          6.2   \n",
              "2           2    8             0              0  19.10          4.5   \n",
              "\n",
              "   blood_glucose_level  diabetes                   datetime  \n",
              "0                  254         1 2024-07-18 12:24:25.622299  \n",
              "1                  155         0 2024-07-18 12:24:25.622299  \n",
              "2                   85         0 2024-07-18 12:24:25.622299  "
            ]
          },
          "execution_count": 29,
          "metadata": {},
          "output_type": "execute_result"
        }
      ],
      "source": [
        "##adding a datetime column to the dataframe before saving it in feature store \n",
        "combined_data = patient_id_and_date(combined_data)\n",
        "combined_data.head(3)"
      ]
    },
    {
      "cell_type": "code",
      "execution_count": 30,
      "metadata": {},
      "outputs": [
        {
          "data": {
            "text/html": [
              "<div>\n",
              "<style scoped>\n",
              "    .dataframe tbody tr th:only-of-type {\n",
              "        vertical-align: middle;\n",
              "    }\n",
              "\n",
              "    .dataframe tbody tr th {\n",
              "        vertical-align: top;\n",
              "    }\n",
              "\n",
              "    .dataframe thead th {\n",
              "        text-align: right;\n",
              "    }\n",
              "</style>\n",
              "<table border=\"1\" class=\"dataframe\">\n",
              "  <thead>\n",
              "    <tr style=\"text-align: right;\">\n",
              "      <th></th>\n",
              "      <th>patient_id</th>\n",
              "      <th>age</th>\n",
              "      <th>hypertension</th>\n",
              "      <th>heart_disease</th>\n",
              "      <th>bmi</th>\n",
              "      <th>HbA1c_level</th>\n",
              "      <th>blood_glucose_level</th>\n",
              "      <th>diabetes</th>\n",
              "      <th>datetime</th>\n",
              "    </tr>\n",
              "  </thead>\n",
              "  <tbody>\n",
              "    <tr>\n",
              "      <th>0</th>\n",
              "      <td>32483</td>\n",
              "      <td>18</td>\n",
              "      <td>0</td>\n",
              "      <td>0</td>\n",
              "      <td>18.27</td>\n",
              "      <td>5.7</td>\n",
              "      <td>159</td>\n",
              "      <td>0</td>\n",
              "      <td>2024-07-18 12:24:25.622299</td>\n",
              "    </tr>\n",
              "    <tr>\n",
              "      <th>1</th>\n",
              "      <td>85923</td>\n",
              "      <td>64</td>\n",
              "      <td>0</td>\n",
              "      <td>0</td>\n",
              "      <td>35.00</td>\n",
              "      <td>3.5</td>\n",
              "      <td>158</td>\n",
              "      <td>0</td>\n",
              "      <td>2024-07-18 12:24:25.622299</td>\n",
              "    </tr>\n",
              "    <tr>\n",
              "      <th>2</th>\n",
              "      <td>127794</td>\n",
              "      <td>64</td>\n",
              "      <td>0</td>\n",
              "      <td>0</td>\n",
              "      <td>38.28</td>\n",
              "      <td>5.7</td>\n",
              "      <td>260</td>\n",
              "      <td>1</td>\n",
              "      <td>2024-07-18 12:24:25.622299</td>\n",
              "    </tr>\n",
              "  </tbody>\n",
              "</table>\n",
              "</div>"
            ],
            "text/plain": [
              "   patient_id  age  hypertension  heart_disease    bmi  HbA1c_level  \\\n",
              "0       32483   18             0              0  18.27          5.7   \n",
              "1       85923   64             0              0  35.00          3.5   \n",
              "2      127794   64             0              0  38.28          5.7   \n",
              "\n",
              "   blood_glucose_level  diabetes                   datetime  \n",
              "0                  159         0 2024-07-18 12:24:25.622299  \n",
              "1                  158         0 2024-07-18 12:24:25.622299  \n",
              "2                  260         1 2024-07-18 12:24:25.622299  "
            ]
          },
          "execution_count": 30,
          "metadata": {},
          "output_type": "execute_result"
        }
      ],
      "source": [
        "combined_data = combined_data.sample(frac=1).reset_index(drop=True)\n",
        "combined_data.head(3)"
      ]
    },
    {
      "cell_type": "code",
      "execution_count": 32,
      "metadata": {},
      "outputs": [],
      "source": [
        "# duplicates = combined_data.duplicated()\n",
        "# combined_data[duplicates]"
      ]
    },
    {
      "cell_type": "code",
      "execution_count": 33,
      "metadata": {},
      "outputs": [],
      "source": [
        "from dotenv import load_dotenv\n",
        "load_dotenv()\n",
        "hopswork_key = os.getenv(\"HOPSWORK_KEY\")"
      ]
    },
    {
      "cell_type": "code",
      "execution_count": 34,
      "metadata": {},
      "outputs": [
        {
          "name": "stdout",
          "output_type": "stream",
          "text": [
            "Connected. Call `.close()` to terminate connection gracefully.\n",
            "\n",
            "Logged in to project, explore it here https://c.app.hopsworks.ai:443/p/112801\n",
            "Connected. Call `.close()` to terminate connection gracefully.\n"
          ]
        }
      ],
      "source": [
        "import hopsworks\n",
        "project = hopsworks.login(api_key_value=hopswork_key)\n",
        "fs = project.get_feature_store()"
      ]
    },
    {
      "cell_type": "code",
      "execution_count": 36,
      "metadata": {},
      "outputs": [],
      "source": [
        "fg = fs.get_or_create_feature_group(\n",
        "    name=\"diabetes_features_backfill\",\n",
        "    version=1,\n",
        "    primary_key=['patient_id', 'datetime'],  \n",
        "    event_time='datetime',\n",
        "    description=\"Historical data for diabetes prediction\"\n",
        ")"
      ]
    },
    {
      "cell_type": "code",
      "execution_count": 37,
      "metadata": {},
      "outputs": [
        {
          "name": "stdout",
          "output_type": "stream",
          "text": [
            "2024-07-18 14:02:51,294 WARNING: FeatureGroupWarning: The ingested dataframe contains upper case letters in feature names: `['HbA1c_level']`. Feature names are sanitized to lower case in the feature store.\n",
            "\n",
            "Feature Group created successfully, explore it at \n",
            "https://c.app.hopsworks.ai:443/p/112801/fs/112720/fg/1014104\n"
          ]
        },
        {
          "data": {
            "application/vnd.jupyter.widget-view+json": {
              "model_id": "2d575bac14d74e1d9356090eb58c3cdb",
              "version_major": 2,
              "version_minor": 0
            },
            "text/plain": [
              "Uploading Dataframe: 0.00% |          | Rows 0/153101 | Elapsed Time: 00:00 | Remaining Time: ?"
            ]
          },
          "metadata": {},
          "output_type": "display_data"
        },
        {
          "name": "stdout",
          "output_type": "stream",
          "text": [
            "Launching job: diabetes_features_backfill_1_offline_fg_materialization\n",
            "Job started successfully, you can follow the progress at \n",
            "https://c.app.hopsworks.ai/p/112801/jobs/named/diabetes_features_backfill_1_offline_fg_materialization/executions\n"
          ]
        },
        {
          "data": {
            "text/plain": [
              "(<hsfs.core.job.Job at 0x7f066e70d7e0>, None)"
            ]
          },
          "execution_count": 37,
          "metadata": {},
          "output_type": "execute_result"
        }
      ],
      "source": [
        "fg.insert(combined_data)"
      ]
    },
    {
      "cell_type": "code",
      "execution_count": null,
      "metadata": {},
      "outputs": [],
      "source": []
    }
  ],
  "metadata": {
    "colab": {
      "provenance": []
    },
    "kernelspec": {
      "display_name": "Python 3",
      "name": "python3"
    },
    "language_info": {
      "codemirror_mode": {
        "name": "ipython",
        "version": 3
      },
      "file_extension": ".py",
      "mimetype": "text/x-python",
      "name": "python",
      "nbconvert_exporter": "python",
      "pygments_lexer": "ipython3",
      "version": "3.10.14"
    }
  },
  "nbformat": 4,
  "nbformat_minor": 0
}
