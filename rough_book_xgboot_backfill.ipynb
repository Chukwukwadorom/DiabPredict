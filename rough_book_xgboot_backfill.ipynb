{
  "cells": [
    {
      "cell_type": "markdown",
      "metadata": {
        "id": "QNPF6wibOYmO"
      },
      "source": [
        "# Rough Book: To inform features, model type to be used in backfill and training pipeline"
      ]
    },
    {
      "cell_type": "code",
      "execution_count": 1,
      "metadata": {
        "id": "aOwYLmI8CWJg"
      },
      "outputs": [],
      "source": [
        "import pandas as pd"
      ]
    },
    {
      "cell_type": "code",
      "execution_count": 2,
      "metadata": {
        "id": "Cm05WgwnCYoI"
      },
      "outputs": [],
      "source": [
        "diabetes_df = pd.read_csv(\"/content/diabetes_prediction_dataset.csv\")"
      ]
    },
    {
      "cell_type": "code",
      "execution_count": 3,
      "metadata": {
        "colab": {
          "base_uri": "https://localhost:8080/",
          "height": 226
        },
        "id": "wi601l9iDPw7",
        "outputId": "6147824e-dab2-47db-a3f5-3f9c5808cd2b"
      },
      "outputs": [
        {
          "data": {
            "application/vnd.google.colaboratory.intrinsic+json": {
              "summary": "{\n  \"name\": \"diabetes_df\",\n  \"rows\": 100000,\n  \"fields\": [\n    {\n      \"column\": \"gender\",\n      \"properties\": {\n        \"dtype\": \"category\",\n        \"num_unique_values\": 3,\n        \"samples\": [\n          \"Female\",\n          \"Male\",\n          \"Other\"\n        ],\n        \"semantic_type\": \"\",\n        \"description\": \"\"\n      }\n    },\n    {\n      \"column\": \"age\",\n      \"properties\": {\n        \"dtype\": \"number\",\n        \"std\": 22.516839871617023,\n        \"min\": 0.08,\n        \"max\": 80.0,\n        \"num_unique_values\": 102,\n        \"samples\": [\n          29.0,\n          39.0,\n          16.0\n        ],\n        \"semantic_type\": \"\",\n        \"description\": \"\"\n      }\n    },\n    {\n      \"column\": \"hypertension\",\n      \"properties\": {\n        \"dtype\": \"number\",\n        \"std\": 0,\n        \"min\": 0,\n        \"max\": 1,\n        \"num_unique_values\": 2,\n        \"samples\": [\n          1,\n          0\n        ],\n        \"semantic_type\": \"\",\n        \"description\": \"\"\n      }\n    },\n    {\n      \"column\": \"heart_disease\",\n      \"properties\": {\n        \"dtype\": \"number\",\n        \"std\": 0,\n        \"min\": 0,\n        \"max\": 1,\n        \"num_unique_values\": 2,\n        \"samples\": [\n          0,\n          1\n        ],\n        \"semantic_type\": \"\",\n        \"description\": \"\"\n      }\n    },\n    {\n      \"column\": \"smoking_history\",\n      \"properties\": {\n        \"dtype\": \"category\",\n        \"num_unique_values\": 6,\n        \"samples\": [\n          \"never\",\n          \"No Info\"\n        ],\n        \"semantic_type\": \"\",\n        \"description\": \"\"\n      }\n    },\n    {\n      \"column\": \"bmi\",\n      \"properties\": {\n        \"dtype\": \"number\",\n        \"std\": 6.636783416648369,\n        \"min\": 10.01,\n        \"max\": 95.69,\n        \"num_unique_values\": 4247,\n        \"samples\": [\n          53.27,\n          32.33\n        ],\n        \"semantic_type\": \"\",\n        \"description\": \"\"\n      }\n    },\n    {\n      \"column\": \"HbA1c_level\",\n      \"properties\": {\n        \"dtype\": \"number\",\n        \"std\": 1.0706720918835437,\n        \"min\": 3.5,\n        \"max\": 9.0,\n        \"num_unique_values\": 18,\n        \"samples\": [\n          6.6,\n          5.7\n        ],\n        \"semantic_type\": \"\",\n        \"description\": \"\"\n      }\n    },\n    {\n      \"column\": \"blood_glucose_level\",\n      \"properties\": {\n        \"dtype\": \"number\",\n        \"std\": 40,\n        \"min\": 80,\n        \"max\": 300,\n        \"num_unique_values\": 18,\n        \"samples\": [\n          140,\n          80\n        ],\n        \"semantic_type\": \"\",\n        \"description\": \"\"\n      }\n    },\n    {\n      \"column\": \"diabetes\",\n      \"properties\": {\n        \"dtype\": \"number\",\n        \"std\": 0,\n        \"min\": 0,\n        \"max\": 1,\n        \"num_unique_values\": 2,\n        \"samples\": [\n          1,\n          0\n        ],\n        \"semantic_type\": \"\",\n        \"description\": \"\"\n      }\n    }\n  ]\n}",
              "type": "dataframe",
              "variable_name": "diabetes_df"
            },
            "text/html": [
              "\n",
              "  <div id=\"df-c6886500-4a80-471e-8c43-435cf905f157\" class=\"colab-df-container\">\n",
              "    <div>\n",
              "<style scoped>\n",
              "    .dataframe tbody tr th:only-of-type {\n",
              "        vertical-align: middle;\n",
              "    }\n",
              "\n",
              "    .dataframe tbody tr th {\n",
              "        vertical-align: top;\n",
              "    }\n",
              "\n",
              "    .dataframe thead th {\n",
              "        text-align: right;\n",
              "    }\n",
              "</style>\n",
              "<table border=\"1\" class=\"dataframe\">\n",
              "  <thead>\n",
              "    <tr style=\"text-align: right;\">\n",
              "      <th></th>\n",
              "      <th>gender</th>\n",
              "      <th>age</th>\n",
              "      <th>hypertension</th>\n",
              "      <th>heart_disease</th>\n",
              "      <th>smoking_history</th>\n",
              "      <th>bmi</th>\n",
              "      <th>HbA1c_level</th>\n",
              "      <th>blood_glucose_level</th>\n",
              "      <th>diabetes</th>\n",
              "    </tr>\n",
              "  </thead>\n",
              "  <tbody>\n",
              "    <tr>\n",
              "      <th>0</th>\n",
              "      <td>Female</td>\n",
              "      <td>80.0</td>\n",
              "      <td>0</td>\n",
              "      <td>1</td>\n",
              "      <td>never</td>\n",
              "      <td>25.19</td>\n",
              "      <td>6.6</td>\n",
              "      <td>140</td>\n",
              "      <td>0</td>\n",
              "    </tr>\n",
              "    <tr>\n",
              "      <th>1</th>\n",
              "      <td>Female</td>\n",
              "      <td>54.0</td>\n",
              "      <td>0</td>\n",
              "      <td>0</td>\n",
              "      <td>No Info</td>\n",
              "      <td>27.32</td>\n",
              "      <td>6.6</td>\n",
              "      <td>80</td>\n",
              "      <td>0</td>\n",
              "    </tr>\n",
              "    <tr>\n",
              "      <th>2</th>\n",
              "      <td>Male</td>\n",
              "      <td>28.0</td>\n",
              "      <td>0</td>\n",
              "      <td>0</td>\n",
              "      <td>never</td>\n",
              "      <td>27.32</td>\n",
              "      <td>5.7</td>\n",
              "      <td>158</td>\n",
              "      <td>0</td>\n",
              "    </tr>\n",
              "    <tr>\n",
              "      <th>3</th>\n",
              "      <td>Female</td>\n",
              "      <td>36.0</td>\n",
              "      <td>0</td>\n",
              "      <td>0</td>\n",
              "      <td>current</td>\n",
              "      <td>23.45</td>\n",
              "      <td>5.0</td>\n",
              "      <td>155</td>\n",
              "      <td>0</td>\n",
              "    </tr>\n",
              "    <tr>\n",
              "      <th>4</th>\n",
              "      <td>Male</td>\n",
              "      <td>76.0</td>\n",
              "      <td>1</td>\n",
              "      <td>1</td>\n",
              "      <td>current</td>\n",
              "      <td>20.14</td>\n",
              "      <td>4.8</td>\n",
              "      <td>155</td>\n",
              "      <td>0</td>\n",
              "    </tr>\n",
              "  </tbody>\n",
              "</table>\n",
              "</div>\n",
              "    <div class=\"colab-df-buttons\">\n",
              "\n",
              "  <div class=\"colab-df-container\">\n",
              "    <button class=\"colab-df-convert\" onclick=\"convertToInteractive('df-c6886500-4a80-471e-8c43-435cf905f157')\"\n",
              "            title=\"Convert this dataframe to an interactive table.\"\n",
              "            style=\"display:none;\">\n",
              "\n",
              "  <svg xmlns=\"http://www.w3.org/2000/svg\" height=\"24px\" viewBox=\"0 -960 960 960\">\n",
              "    <path d=\"M120-120v-720h720v720H120Zm60-500h600v-160H180v160Zm220 220h160v-160H400v160Zm0 220h160v-160H400v160ZM180-400h160v-160H180v160Zm440 0h160v-160H620v160ZM180-180h160v-160H180v160Zm440 0h160v-160H620v160Z\"/>\n",
              "  </svg>\n",
              "    </button>\n",
              "\n",
              "  <style>\n",
              "    .colab-df-container {\n",
              "      display:flex;\n",
              "      gap: 12px;\n",
              "    }\n",
              "\n",
              "    .colab-df-convert {\n",
              "      background-color: #E8F0FE;\n",
              "      border: none;\n",
              "      border-radius: 50%;\n",
              "      cursor: pointer;\n",
              "      display: none;\n",
              "      fill: #1967D2;\n",
              "      height: 32px;\n",
              "      padding: 0 0 0 0;\n",
              "      width: 32px;\n",
              "    }\n",
              "\n",
              "    .colab-df-convert:hover {\n",
              "      background-color: #E2EBFA;\n",
              "      box-shadow: 0px 1px 2px rgba(60, 64, 67, 0.3), 0px 1px 3px 1px rgba(60, 64, 67, 0.15);\n",
              "      fill: #174EA6;\n",
              "    }\n",
              "\n",
              "    .colab-df-buttons div {\n",
              "      margin-bottom: 4px;\n",
              "    }\n",
              "\n",
              "    [theme=dark] .colab-df-convert {\n",
              "      background-color: #3B4455;\n",
              "      fill: #D2E3FC;\n",
              "    }\n",
              "\n",
              "    [theme=dark] .colab-df-convert:hover {\n",
              "      background-color: #434B5C;\n",
              "      box-shadow: 0px 1px 3px 1px rgba(0, 0, 0, 0.15);\n",
              "      filter: drop-shadow(0px 1px 2px rgba(0, 0, 0, 0.3));\n",
              "      fill: #FFFFFF;\n",
              "    }\n",
              "  </style>\n",
              "\n",
              "    <script>\n",
              "      const buttonEl =\n",
              "        document.querySelector('#df-c6886500-4a80-471e-8c43-435cf905f157 button.colab-df-convert');\n",
              "      buttonEl.style.display =\n",
              "        google.colab.kernel.accessAllowed ? 'block' : 'none';\n",
              "\n",
              "      async function convertToInteractive(key) {\n",
              "        const element = document.querySelector('#df-c6886500-4a80-471e-8c43-435cf905f157');\n",
              "        const dataTable =\n",
              "          await google.colab.kernel.invokeFunction('convertToInteractive',\n",
              "                                                    [key], {});\n",
              "        if (!dataTable) return;\n",
              "\n",
              "        const docLinkHtml = 'Like what you see? Visit the ' +\n",
              "          '<a target=\"_blank\" href=https://colab.research.google.com/notebooks/data_table.ipynb>data table notebook</a>'\n",
              "          + ' to learn more about interactive tables.';\n",
              "        element.innerHTML = '';\n",
              "        dataTable['output_type'] = 'display_data';\n",
              "        await google.colab.output.renderOutput(dataTable, element);\n",
              "        const docLink = document.createElement('div');\n",
              "        docLink.innerHTML = docLinkHtml;\n",
              "        element.appendChild(docLink);\n",
              "      }\n",
              "    </script>\n",
              "  </div>\n",
              "\n",
              "\n",
              "<div id=\"df-8a1fb7e6-b7a7-4dd1-8943-d1ec472dbe9f\">\n",
              "  <button class=\"colab-df-quickchart\" onclick=\"quickchart('df-8a1fb7e6-b7a7-4dd1-8943-d1ec472dbe9f')\"\n",
              "            title=\"Suggest charts\"\n",
              "            style=\"display:none;\">\n",
              "\n",
              "<svg xmlns=\"http://www.w3.org/2000/svg\" height=\"24px\"viewBox=\"0 0 24 24\"\n",
              "     width=\"24px\">\n",
              "    <g>\n",
              "        <path d=\"M19 3H5c-1.1 0-2 .9-2 2v14c0 1.1.9 2 2 2h14c1.1 0 2-.9 2-2V5c0-1.1-.9-2-2-2zM9 17H7v-7h2v7zm4 0h-2V7h2v10zm4 0h-2v-4h2v4z\"/>\n",
              "    </g>\n",
              "</svg>\n",
              "  </button>\n",
              "\n",
              "<style>\n",
              "  .colab-df-quickchart {\n",
              "      --bg-color: #E8F0FE;\n",
              "      --fill-color: #1967D2;\n",
              "      --hover-bg-color: #E2EBFA;\n",
              "      --hover-fill-color: #174EA6;\n",
              "      --disabled-fill-color: #AAA;\n",
              "      --disabled-bg-color: #DDD;\n",
              "  }\n",
              "\n",
              "  [theme=dark] .colab-df-quickchart {\n",
              "      --bg-color: #3B4455;\n",
              "      --fill-color: #D2E3FC;\n",
              "      --hover-bg-color: #434B5C;\n",
              "      --hover-fill-color: #FFFFFF;\n",
              "      --disabled-bg-color: #3B4455;\n",
              "      --disabled-fill-color: #666;\n",
              "  }\n",
              "\n",
              "  .colab-df-quickchart {\n",
              "    background-color: var(--bg-color);\n",
              "    border: none;\n",
              "    border-radius: 50%;\n",
              "    cursor: pointer;\n",
              "    display: none;\n",
              "    fill: var(--fill-color);\n",
              "    height: 32px;\n",
              "    padding: 0;\n",
              "    width: 32px;\n",
              "  }\n",
              "\n",
              "  .colab-df-quickchart:hover {\n",
              "    background-color: var(--hover-bg-color);\n",
              "    box-shadow: 0 1px 2px rgba(60, 64, 67, 0.3), 0 1px 3px 1px rgba(60, 64, 67, 0.15);\n",
              "    fill: var(--button-hover-fill-color);\n",
              "  }\n",
              "\n",
              "  .colab-df-quickchart-complete:disabled,\n",
              "  .colab-df-quickchart-complete:disabled:hover {\n",
              "    background-color: var(--disabled-bg-color);\n",
              "    fill: var(--disabled-fill-color);\n",
              "    box-shadow: none;\n",
              "  }\n",
              "\n",
              "  .colab-df-spinner {\n",
              "    border: 2px solid var(--fill-color);\n",
              "    border-color: transparent;\n",
              "    border-bottom-color: var(--fill-color);\n",
              "    animation:\n",
              "      spin 1s steps(1) infinite;\n",
              "  }\n",
              "\n",
              "  @keyframes spin {\n",
              "    0% {\n",
              "      border-color: transparent;\n",
              "      border-bottom-color: var(--fill-color);\n",
              "      border-left-color: var(--fill-color);\n",
              "    }\n",
              "    20% {\n",
              "      border-color: transparent;\n",
              "      border-left-color: var(--fill-color);\n",
              "      border-top-color: var(--fill-color);\n",
              "    }\n",
              "    30% {\n",
              "      border-color: transparent;\n",
              "      border-left-color: var(--fill-color);\n",
              "      border-top-color: var(--fill-color);\n",
              "      border-right-color: var(--fill-color);\n",
              "    }\n",
              "    40% {\n",
              "      border-color: transparent;\n",
              "      border-right-color: var(--fill-color);\n",
              "      border-top-color: var(--fill-color);\n",
              "    }\n",
              "    60% {\n",
              "      border-color: transparent;\n",
              "      border-right-color: var(--fill-color);\n",
              "    }\n",
              "    80% {\n",
              "      border-color: transparent;\n",
              "      border-right-color: var(--fill-color);\n",
              "      border-bottom-color: var(--fill-color);\n",
              "    }\n",
              "    90% {\n",
              "      border-color: transparent;\n",
              "      border-bottom-color: var(--fill-color);\n",
              "    }\n",
              "  }\n",
              "</style>\n",
              "\n",
              "  <script>\n",
              "    async function quickchart(key) {\n",
              "      const quickchartButtonEl =\n",
              "        document.querySelector('#' + key + ' button');\n",
              "      quickchartButtonEl.disabled = true;  // To prevent multiple clicks.\n",
              "      quickchartButtonEl.classList.add('colab-df-spinner');\n",
              "      try {\n",
              "        const charts = await google.colab.kernel.invokeFunction(\n",
              "            'suggestCharts', [key], {});\n",
              "      } catch (error) {\n",
              "        console.error('Error during call to suggestCharts:', error);\n",
              "      }\n",
              "      quickchartButtonEl.classList.remove('colab-df-spinner');\n",
              "      quickchartButtonEl.classList.add('colab-df-quickchart-complete');\n",
              "    }\n",
              "    (() => {\n",
              "      let quickchartButtonEl =\n",
              "        document.querySelector('#df-8a1fb7e6-b7a7-4dd1-8943-d1ec472dbe9f button');\n",
              "      quickchartButtonEl.style.display =\n",
              "        google.colab.kernel.accessAllowed ? 'block' : 'none';\n",
              "    })();\n",
              "  </script>\n",
              "</div>\n",
              "\n",
              "    </div>\n",
              "  </div>\n"
            ],
            "text/plain": [
              "   gender   age  hypertension  heart_disease smoking_history    bmi  \\\n",
              "0  Female  80.0             0              1           never  25.19   \n",
              "1  Female  54.0             0              0         No Info  27.32   \n",
              "2    Male  28.0             0              0           never  27.32   \n",
              "3  Female  36.0             0              0         current  23.45   \n",
              "4    Male  76.0             1              1         current  20.14   \n",
              "\n",
              "   HbA1c_level  blood_glucose_level  diabetes  \n",
              "0          6.6                  140         0  \n",
              "1          6.6                   80         0  \n",
              "2          5.7                  158         0  \n",
              "3          5.0                  155         0  \n",
              "4          4.8                  155         0  "
            ]
          },
          "execution_count": 3,
          "metadata": {},
          "output_type": "execute_result"
        }
      ],
      "source": [
        "diabetes_df.head()"
      ]
    },
    {
      "cell_type": "code",
      "execution_count": 4,
      "metadata": {
        "colab": {
          "base_uri": "https://localhost:8080/",
          "height": 320
        },
        "id": "clhJRsyHDThb",
        "outputId": "e04eda23-a4f1-4955-9286-e09cbca244b2"
      },
      "outputs": [
        {
          "data": {
            "application/vnd.google.colaboratory.intrinsic+json": {
              "summary": "{\n  \"name\": \"diabetes_df\",\n  \"rows\": 8,\n  \"fields\": [\n    {\n      \"column\": \"age\",\n      \"properties\": {\n        \"dtype\": \"number\",\n        \"std\": 35341.63551512144,\n        \"min\": 0.08,\n        \"max\": 100000.0,\n        \"num_unique_values\": 8,\n        \"samples\": [\n          41.885856,\n          43.0,\n          100000.0\n        ],\n        \"semantic_type\": \"\",\n        \"description\": \"\"\n      }\n    },\n    {\n      \"column\": \"hypertension\",\n      \"properties\": {\n        \"dtype\": \"number\",\n        \"std\": 35355.27148175323,\n        \"min\": 0.0,\n        \"max\": 100000.0,\n        \"num_unique_values\": 5,\n        \"samples\": [\n          0.07485,\n          1.0,\n          0.2631504702289164\n        ],\n        \"semantic_type\": \"\",\n        \"description\": \"\"\n      }\n    },\n    {\n      \"column\": \"heart_disease\",\n      \"properties\": {\n        \"dtype\": \"number\",\n        \"std\": 35355.27673391837,\n        \"min\": 0.0,\n        \"max\": 100000.0,\n        \"num_unique_values\": 5,\n        \"samples\": [\n          0.03942,\n          1.0,\n          0.1945930169980995\n        ],\n        \"semantic_type\": \"\",\n        \"description\": \"\"\n      }\n    },\n    {\n      \"column\": \"bmi\",\n      \"properties\": {\n        \"dtype\": \"number\",\n        \"std\": 35344.22862141613,\n        \"min\": 6.636783416648369,\n        \"max\": 100000.0,\n        \"num_unique_values\": 8,\n        \"samples\": [\n          27.3207671,\n          27.32,\n          100000.0\n        ],\n        \"semantic_type\": \"\",\n        \"description\": \"\"\n      }\n    },\n    {\n      \"column\": \"HbA1c_level\",\n      \"properties\": {\n        \"dtype\": \"number\",\n        \"std\": 35353.52600015908,\n        \"min\": 1.0706720918835437,\n        \"max\": 100000.0,\n        \"num_unique_values\": 8,\n        \"samples\": [\n          5.527507,\n          5.8,\n          100000.0\n        ],\n        \"semantic_type\": \"\",\n        \"description\": \"\"\n      }\n    },\n    {\n      \"column\": \"blood_glucose_level\",\n      \"properties\": {\n        \"dtype\": \"number\",\n        \"std\": 35307.04741219372,\n        \"min\": 40.708136048704134,\n        \"max\": 100000.0,\n        \"num_unique_values\": 8,\n        \"samples\": [\n          138.05806,\n          140.0,\n          100000.0\n        ],\n        \"semantic_type\": \"\",\n        \"description\": \"\"\n      }\n    },\n    {\n      \"column\": \"diabetes\",\n      \"properties\": {\n        \"dtype\": \"number\",\n        \"std\": 35355.270174483856,\n        \"min\": 0.0,\n        \"max\": 100000.0,\n        \"num_unique_values\": 5,\n        \"samples\": [\n          0.085,\n          1.0,\n          0.27888308976662174\n        ],\n        \"semantic_type\": \"\",\n        \"description\": \"\"\n      }\n    }\n  ]\n}",
              "type": "dataframe"
            },
            "text/html": [
              "\n",
              "  <div id=\"df-a3453427-00f2-4695-bb0b-bcc8145aa0e6\" class=\"colab-df-container\">\n",
              "    <div>\n",
              "<style scoped>\n",
              "    .dataframe tbody tr th:only-of-type {\n",
              "        vertical-align: middle;\n",
              "    }\n",
              "\n",
              "    .dataframe tbody tr th {\n",
              "        vertical-align: top;\n",
              "    }\n",
              "\n",
              "    .dataframe thead th {\n",
              "        text-align: right;\n",
              "    }\n",
              "</style>\n",
              "<table border=\"1\" class=\"dataframe\">\n",
              "  <thead>\n",
              "    <tr style=\"text-align: right;\">\n",
              "      <th></th>\n",
              "      <th>age</th>\n",
              "      <th>hypertension</th>\n",
              "      <th>heart_disease</th>\n",
              "      <th>bmi</th>\n",
              "      <th>HbA1c_level</th>\n",
              "      <th>blood_glucose_level</th>\n",
              "      <th>diabetes</th>\n",
              "    </tr>\n",
              "  </thead>\n",
              "  <tbody>\n",
              "    <tr>\n",
              "      <th>count</th>\n",
              "      <td>100000.000000</td>\n",
              "      <td>100000.00000</td>\n",
              "      <td>100000.000000</td>\n",
              "      <td>100000.000000</td>\n",
              "      <td>100000.000000</td>\n",
              "      <td>100000.000000</td>\n",
              "      <td>100000.000000</td>\n",
              "    </tr>\n",
              "    <tr>\n",
              "      <th>mean</th>\n",
              "      <td>41.885856</td>\n",
              "      <td>0.07485</td>\n",
              "      <td>0.039420</td>\n",
              "      <td>27.320767</td>\n",
              "      <td>5.527507</td>\n",
              "      <td>138.058060</td>\n",
              "      <td>0.085000</td>\n",
              "    </tr>\n",
              "    <tr>\n",
              "      <th>std</th>\n",
              "      <td>22.516840</td>\n",
              "      <td>0.26315</td>\n",
              "      <td>0.194593</td>\n",
              "      <td>6.636783</td>\n",
              "      <td>1.070672</td>\n",
              "      <td>40.708136</td>\n",
              "      <td>0.278883</td>\n",
              "    </tr>\n",
              "    <tr>\n",
              "      <th>min</th>\n",
              "      <td>0.080000</td>\n",
              "      <td>0.00000</td>\n",
              "      <td>0.000000</td>\n",
              "      <td>10.010000</td>\n",
              "      <td>3.500000</td>\n",
              "      <td>80.000000</td>\n",
              "      <td>0.000000</td>\n",
              "    </tr>\n",
              "    <tr>\n",
              "      <th>25%</th>\n",
              "      <td>24.000000</td>\n",
              "      <td>0.00000</td>\n",
              "      <td>0.000000</td>\n",
              "      <td>23.630000</td>\n",
              "      <td>4.800000</td>\n",
              "      <td>100.000000</td>\n",
              "      <td>0.000000</td>\n",
              "    </tr>\n",
              "    <tr>\n",
              "      <th>50%</th>\n",
              "      <td>43.000000</td>\n",
              "      <td>0.00000</td>\n",
              "      <td>0.000000</td>\n",
              "      <td>27.320000</td>\n",
              "      <td>5.800000</td>\n",
              "      <td>140.000000</td>\n",
              "      <td>0.000000</td>\n",
              "    </tr>\n",
              "    <tr>\n",
              "      <th>75%</th>\n",
              "      <td>60.000000</td>\n",
              "      <td>0.00000</td>\n",
              "      <td>0.000000</td>\n",
              "      <td>29.580000</td>\n",
              "      <td>6.200000</td>\n",
              "      <td>159.000000</td>\n",
              "      <td>0.000000</td>\n",
              "    </tr>\n",
              "    <tr>\n",
              "      <th>max</th>\n",
              "      <td>80.000000</td>\n",
              "      <td>1.00000</td>\n",
              "      <td>1.000000</td>\n",
              "      <td>95.690000</td>\n",
              "      <td>9.000000</td>\n",
              "      <td>300.000000</td>\n",
              "      <td>1.000000</td>\n",
              "    </tr>\n",
              "  </tbody>\n",
              "</table>\n",
              "</div>\n",
              "    <div class=\"colab-df-buttons\">\n",
              "\n",
              "  <div class=\"colab-df-container\">\n",
              "    <button class=\"colab-df-convert\" onclick=\"convertToInteractive('df-a3453427-00f2-4695-bb0b-bcc8145aa0e6')\"\n",
              "            title=\"Convert this dataframe to an interactive table.\"\n",
              "            style=\"display:none;\">\n",
              "\n",
              "  <svg xmlns=\"http://www.w3.org/2000/svg\" height=\"24px\" viewBox=\"0 -960 960 960\">\n",
              "    <path d=\"M120-120v-720h720v720H120Zm60-500h600v-160H180v160Zm220 220h160v-160H400v160Zm0 220h160v-160H400v160ZM180-400h160v-160H180v160Zm440 0h160v-160H620v160ZM180-180h160v-160H180v160Zm440 0h160v-160H620v160Z\"/>\n",
              "  </svg>\n",
              "    </button>\n",
              "\n",
              "  <style>\n",
              "    .colab-df-container {\n",
              "      display:flex;\n",
              "      gap: 12px;\n",
              "    }\n",
              "\n",
              "    .colab-df-convert {\n",
              "      background-color: #E8F0FE;\n",
              "      border: none;\n",
              "      border-radius: 50%;\n",
              "      cursor: pointer;\n",
              "      display: none;\n",
              "      fill: #1967D2;\n",
              "      height: 32px;\n",
              "      padding: 0 0 0 0;\n",
              "      width: 32px;\n",
              "    }\n",
              "\n",
              "    .colab-df-convert:hover {\n",
              "      background-color: #E2EBFA;\n",
              "      box-shadow: 0px 1px 2px rgba(60, 64, 67, 0.3), 0px 1px 3px 1px rgba(60, 64, 67, 0.15);\n",
              "      fill: #174EA6;\n",
              "    }\n",
              "\n",
              "    .colab-df-buttons div {\n",
              "      margin-bottom: 4px;\n",
              "    }\n",
              "\n",
              "    [theme=dark] .colab-df-convert {\n",
              "      background-color: #3B4455;\n",
              "      fill: #D2E3FC;\n",
              "    }\n",
              "\n",
              "    [theme=dark] .colab-df-convert:hover {\n",
              "      background-color: #434B5C;\n",
              "      box-shadow: 0px 1px 3px 1px rgba(0, 0, 0, 0.15);\n",
              "      filter: drop-shadow(0px 1px 2px rgba(0, 0, 0, 0.3));\n",
              "      fill: #FFFFFF;\n",
              "    }\n",
              "  </style>\n",
              "\n",
              "    <script>\n",
              "      const buttonEl =\n",
              "        document.querySelector('#df-a3453427-00f2-4695-bb0b-bcc8145aa0e6 button.colab-df-convert');\n",
              "      buttonEl.style.display =\n",
              "        google.colab.kernel.accessAllowed ? 'block' : 'none';\n",
              "\n",
              "      async function convertToInteractive(key) {\n",
              "        const element = document.querySelector('#df-a3453427-00f2-4695-bb0b-bcc8145aa0e6');\n",
              "        const dataTable =\n",
              "          await google.colab.kernel.invokeFunction('convertToInteractive',\n",
              "                                                    [key], {});\n",
              "        if (!dataTable) return;\n",
              "\n",
              "        const docLinkHtml = 'Like what you see? Visit the ' +\n",
              "          '<a target=\"_blank\" href=https://colab.research.google.com/notebooks/data_table.ipynb>data table notebook</a>'\n",
              "          + ' to learn more about interactive tables.';\n",
              "        element.innerHTML = '';\n",
              "        dataTable['output_type'] = 'display_data';\n",
              "        await google.colab.output.renderOutput(dataTable, element);\n",
              "        const docLink = document.createElement('div');\n",
              "        docLink.innerHTML = docLinkHtml;\n",
              "        element.appendChild(docLink);\n",
              "      }\n",
              "    </script>\n",
              "  </div>\n",
              "\n",
              "\n",
              "<div id=\"df-ce019449-953f-4e10-bbf0-15556b7fe205\">\n",
              "  <button class=\"colab-df-quickchart\" onclick=\"quickchart('df-ce019449-953f-4e10-bbf0-15556b7fe205')\"\n",
              "            title=\"Suggest charts\"\n",
              "            style=\"display:none;\">\n",
              "\n",
              "<svg xmlns=\"http://www.w3.org/2000/svg\" height=\"24px\"viewBox=\"0 0 24 24\"\n",
              "     width=\"24px\">\n",
              "    <g>\n",
              "        <path d=\"M19 3H5c-1.1 0-2 .9-2 2v14c0 1.1.9 2 2 2h14c1.1 0 2-.9 2-2V5c0-1.1-.9-2-2-2zM9 17H7v-7h2v7zm4 0h-2V7h2v10zm4 0h-2v-4h2v4z\"/>\n",
              "    </g>\n",
              "</svg>\n",
              "  </button>\n",
              "\n",
              "<style>\n",
              "  .colab-df-quickchart {\n",
              "      --bg-color: #E8F0FE;\n",
              "      --fill-color: #1967D2;\n",
              "      --hover-bg-color: #E2EBFA;\n",
              "      --hover-fill-color: #174EA6;\n",
              "      --disabled-fill-color: #AAA;\n",
              "      --disabled-bg-color: #DDD;\n",
              "  }\n",
              "\n",
              "  [theme=dark] .colab-df-quickchart {\n",
              "      --bg-color: #3B4455;\n",
              "      --fill-color: #D2E3FC;\n",
              "      --hover-bg-color: #434B5C;\n",
              "      --hover-fill-color: #FFFFFF;\n",
              "      --disabled-bg-color: #3B4455;\n",
              "      --disabled-fill-color: #666;\n",
              "  }\n",
              "\n",
              "  .colab-df-quickchart {\n",
              "    background-color: var(--bg-color);\n",
              "    border: none;\n",
              "    border-radius: 50%;\n",
              "    cursor: pointer;\n",
              "    display: none;\n",
              "    fill: var(--fill-color);\n",
              "    height: 32px;\n",
              "    padding: 0;\n",
              "    width: 32px;\n",
              "  }\n",
              "\n",
              "  .colab-df-quickchart:hover {\n",
              "    background-color: var(--hover-bg-color);\n",
              "    box-shadow: 0 1px 2px rgba(60, 64, 67, 0.3), 0 1px 3px 1px rgba(60, 64, 67, 0.15);\n",
              "    fill: var(--button-hover-fill-color);\n",
              "  }\n",
              "\n",
              "  .colab-df-quickchart-complete:disabled,\n",
              "  .colab-df-quickchart-complete:disabled:hover {\n",
              "    background-color: var(--disabled-bg-color);\n",
              "    fill: var(--disabled-fill-color);\n",
              "    box-shadow: none;\n",
              "  }\n",
              "\n",
              "  .colab-df-spinner {\n",
              "    border: 2px solid var(--fill-color);\n",
              "    border-color: transparent;\n",
              "    border-bottom-color: var(--fill-color);\n",
              "    animation:\n",
              "      spin 1s steps(1) infinite;\n",
              "  }\n",
              "\n",
              "  @keyframes spin {\n",
              "    0% {\n",
              "      border-color: transparent;\n",
              "      border-bottom-color: var(--fill-color);\n",
              "      border-left-color: var(--fill-color);\n",
              "    }\n",
              "    20% {\n",
              "      border-color: transparent;\n",
              "      border-left-color: var(--fill-color);\n",
              "      border-top-color: var(--fill-color);\n",
              "    }\n",
              "    30% {\n",
              "      border-color: transparent;\n",
              "      border-left-color: var(--fill-color);\n",
              "      border-top-color: var(--fill-color);\n",
              "      border-right-color: var(--fill-color);\n",
              "    }\n",
              "    40% {\n",
              "      border-color: transparent;\n",
              "      border-right-color: var(--fill-color);\n",
              "      border-top-color: var(--fill-color);\n",
              "    }\n",
              "    60% {\n",
              "      border-color: transparent;\n",
              "      border-right-color: var(--fill-color);\n",
              "    }\n",
              "    80% {\n",
              "      border-color: transparent;\n",
              "      border-right-color: var(--fill-color);\n",
              "      border-bottom-color: var(--fill-color);\n",
              "    }\n",
              "    90% {\n",
              "      border-color: transparent;\n",
              "      border-bottom-color: var(--fill-color);\n",
              "    }\n",
              "  }\n",
              "</style>\n",
              "\n",
              "  <script>\n",
              "    async function quickchart(key) {\n",
              "      const quickchartButtonEl =\n",
              "        document.querySelector('#' + key + ' button');\n",
              "      quickchartButtonEl.disabled = true;  // To prevent multiple clicks.\n",
              "      quickchartButtonEl.classList.add('colab-df-spinner');\n",
              "      try {\n",
              "        const charts = await google.colab.kernel.invokeFunction(\n",
              "            'suggestCharts', [key], {});\n",
              "      } catch (error) {\n",
              "        console.error('Error during call to suggestCharts:', error);\n",
              "      }\n",
              "      quickchartButtonEl.classList.remove('colab-df-spinner');\n",
              "      quickchartButtonEl.classList.add('colab-df-quickchart-complete');\n",
              "    }\n",
              "    (() => {\n",
              "      let quickchartButtonEl =\n",
              "        document.querySelector('#df-ce019449-953f-4e10-bbf0-15556b7fe205 button');\n",
              "      quickchartButtonEl.style.display =\n",
              "        google.colab.kernel.accessAllowed ? 'block' : 'none';\n",
              "    })();\n",
              "  </script>\n",
              "</div>\n",
              "\n",
              "    </div>\n",
              "  </div>\n"
            ],
            "text/plain": [
              "                 age  hypertension  heart_disease            bmi  \\\n",
              "count  100000.000000  100000.00000  100000.000000  100000.000000   \n",
              "mean       41.885856       0.07485       0.039420      27.320767   \n",
              "std        22.516840       0.26315       0.194593       6.636783   \n",
              "min         0.080000       0.00000       0.000000      10.010000   \n",
              "25%        24.000000       0.00000       0.000000      23.630000   \n",
              "50%        43.000000       0.00000       0.000000      27.320000   \n",
              "75%        60.000000       0.00000       0.000000      29.580000   \n",
              "max        80.000000       1.00000       1.000000      95.690000   \n",
              "\n",
              "         HbA1c_level  blood_glucose_level       diabetes  \n",
              "count  100000.000000        100000.000000  100000.000000  \n",
              "mean        5.527507           138.058060       0.085000  \n",
              "std         1.070672            40.708136       0.278883  \n",
              "min         3.500000            80.000000       0.000000  \n",
              "25%         4.800000           100.000000       0.000000  \n",
              "50%         5.800000           140.000000       0.000000  \n",
              "75%         6.200000           159.000000       0.000000  \n",
              "max         9.000000           300.000000       1.000000  "
            ]
          },
          "execution_count": 4,
          "metadata": {},
          "output_type": "execute_result"
        }
      ],
      "source": [
        "diabetes_df.describe()"
      ]
    },
    {
      "cell_type": "code",
      "execution_count": 5,
      "metadata": {
        "colab": {
          "base_uri": "https://localhost:8080/"
        },
        "id": "rRWJ8TMODZWF",
        "outputId": "908f557c-9672-47d2-f809-3486d69848a2"
      },
      "outputs": [
        {
          "name": "stdout",
          "output_type": "stream",
          "text": [
            "<class 'pandas.core.frame.DataFrame'>\n",
            "RangeIndex: 100000 entries, 0 to 99999\n",
            "Data columns (total 9 columns):\n",
            " #   Column               Non-Null Count   Dtype  \n",
            "---  ------               --------------   -----  \n",
            " 0   gender               100000 non-null  object \n",
            " 1   age                  100000 non-null  float64\n",
            " 2   hypertension         100000 non-null  int64  \n",
            " 3   heart_disease        100000 non-null  int64  \n",
            " 4   smoking_history      100000 non-null  object \n",
            " 5   bmi                  100000 non-null  float64\n",
            " 6   HbA1c_level          100000 non-null  float64\n",
            " 7   blood_glucose_level  100000 non-null  int64  \n",
            " 8   diabetes             100000 non-null  int64  \n",
            "dtypes: float64(3), int64(4), object(2)\n",
            "memory usage: 6.9+ MB\n"
          ]
        }
      ],
      "source": [
        "diabetes_df.info()"
      ]
    },
    {
      "cell_type": "code",
      "execution_count": 6,
      "metadata": {
        "colab": {
          "base_uri": "https://localhost:8080/"
        },
        "id": "BEtKgJoEDcQ1",
        "outputId": "89ad42f3-96ee-48ff-ae63-47f44b8c517a"
      },
      "outputs": [
        {
          "data": {
            "text/plain": [
              "gender                 False\n",
              "age                    False\n",
              "hypertension           False\n",
              "heart_disease          False\n",
              "smoking_history        False\n",
              "bmi                    False\n",
              "HbA1c_level            False\n",
              "blood_glucose_level    False\n",
              "diabetes               False\n",
              "dtype: bool"
            ]
          },
          "execution_count": 6,
          "metadata": {},
          "output_type": "execute_result"
        }
      ],
      "source": [
        "diabetes_df.isnull().any()"
      ]
    },
    {
      "cell_type": "code",
      "execution_count": 7,
      "metadata": {
        "colab": {
          "base_uri": "https://localhost:8080/"
        },
        "id": "y8DRH3o0Ehvs",
        "outputId": "8837c114-a801-455f-eb50-905792f237ca"
      },
      "outputs": [
        {
          "data": {
            "text/plain": [
              "(100000, 9)"
            ]
          },
          "execution_count": 7,
          "metadata": {},
          "output_type": "execute_result"
        }
      ],
      "source": [
        "diabetes_df.shape"
      ]
    },
    {
      "cell_type": "code",
      "execution_count": 8,
      "metadata": {
        "colab": {
          "base_uri": "https://localhost:8080/",
          "height": 444
        },
        "id": "viww8rp3Dfhy",
        "outputId": "60f98bdf-bc0d-4b0f-9328-2d20476fcf4a"
      },
      "outputs": [
        {
          "data": {
            "application/vnd.google.colaboratory.intrinsic+json": {
              "summary": "{\n  \"name\": \"diabetes_df[duplicates]\",\n  \"rows\": 3854,\n  \"fields\": [\n    {\n      \"column\": \"gender\",\n      \"properties\": {\n        \"dtype\": \"category\",\n        \"num_unique_values\": 2,\n        \"samples\": [\n          \"Female\",\n          \"Male\"\n        ],\n        \"semantic_type\": \"\",\n        \"description\": \"\"\n      }\n    },\n    {\n      \"column\": \"age\",\n      \"properties\": {\n        \"dtype\": \"number\",\n        \"std\": 23.710833788927637,\n        \"min\": 0.72,\n        \"max\": 80.0,\n        \"num_unique_values\": 84,\n        \"samples\": [\n          7.0,\n          80.0\n        ],\n        \"semantic_type\": \"\",\n        \"description\": \"\"\n      }\n    },\n    {\n      \"column\": \"hypertension\",\n      \"properties\": {\n        \"dtype\": \"number\",\n        \"std\": 0,\n        \"min\": 0,\n        \"max\": 1,\n        \"num_unique_values\": 2,\n        \"samples\": [\n          1,\n          0\n        ],\n        \"semantic_type\": \"\",\n        \"description\": \"\"\n      }\n    },\n    {\n      \"column\": \"heart_disease\",\n      \"properties\": {\n        \"dtype\": \"number\",\n        \"std\": 0,\n        \"min\": 0,\n        \"max\": 1,\n        \"num_unique_values\": 2,\n        \"samples\": [\n          1,\n          0\n        ],\n        \"semantic_type\": \"\",\n        \"description\": \"\"\n      }\n    },\n    {\n      \"column\": \"smoking_history\",\n      \"properties\": {\n        \"dtype\": \"category\",\n        \"num_unique_values\": 6,\n        \"samples\": [\n          \"No Info\",\n          \"former\"\n        ],\n        \"semantic_type\": \"\",\n        \"description\": \"\"\n      }\n    },\n    {\n      \"column\": \"bmi\",\n      \"properties\": {\n        \"dtype\": \"number\",\n        \"std\": 0.5128461706027146,\n        \"min\": 15.24,\n        \"max\": 36.76,\n        \"num_unique_values\": 26,\n        \"samples\": [\n          15.24,\n          21.79\n        ],\n        \"semantic_type\": \"\",\n        \"description\": \"\"\n      }\n    },\n    {\n      \"column\": \"HbA1c_level\",\n      \"properties\": {\n        \"dtype\": \"number\",\n        \"std\": 0.996410608462348,\n        \"min\": 3.5,\n        \"max\": 9.0,\n        \"num_unique_values\": 17,\n        \"samples\": [\n          6.6,\n          3.5\n        ],\n        \"semantic_type\": \"\",\n        \"description\": \"\"\n      }\n    },\n    {\n      \"column\": \"blood_glucose_level\",\n      \"properties\": {\n        \"dtype\": \"number\",\n        \"std\": 35,\n        \"min\": 80,\n        \"max\": 300,\n        \"num_unique_values\": 18,\n        \"samples\": [\n          159,\n          80\n        ],\n        \"semantic_type\": \"\",\n        \"description\": \"\"\n      }\n    },\n    {\n      \"column\": \"diabetes\",\n      \"properties\": {\n        \"dtype\": \"number\",\n        \"std\": 0,\n        \"min\": 0,\n        \"max\": 1,\n        \"num_unique_values\": 2,\n        \"samples\": [\n          1,\n          0\n        ],\n        \"semantic_type\": \"\",\n        \"description\": \"\"\n      }\n    }\n  ]\n}",
              "type": "dataframe"
            },
            "text/html": [
              "\n",
              "  <div id=\"df-2c4bd480-4391-416a-b0a9-669eeea1a239\" class=\"colab-df-container\">\n",
              "    <div>\n",
              "<style scoped>\n",
              "    .dataframe tbody tr th:only-of-type {\n",
              "        vertical-align: middle;\n",
              "    }\n",
              "\n",
              "    .dataframe tbody tr th {\n",
              "        vertical-align: top;\n",
              "    }\n",
              "\n",
              "    .dataframe thead th {\n",
              "        text-align: right;\n",
              "    }\n",
              "</style>\n",
              "<table border=\"1\" class=\"dataframe\">\n",
              "  <thead>\n",
              "    <tr style=\"text-align: right;\">\n",
              "      <th></th>\n",
              "      <th>gender</th>\n",
              "      <th>age</th>\n",
              "      <th>hypertension</th>\n",
              "      <th>heart_disease</th>\n",
              "      <th>smoking_history</th>\n",
              "      <th>bmi</th>\n",
              "      <th>HbA1c_level</th>\n",
              "      <th>blood_glucose_level</th>\n",
              "      <th>diabetes</th>\n",
              "    </tr>\n",
              "  </thead>\n",
              "  <tbody>\n",
              "    <tr>\n",
              "      <th>2756</th>\n",
              "      <td>Male</td>\n",
              "      <td>80.0</td>\n",
              "      <td>0</td>\n",
              "      <td>0</td>\n",
              "      <td>No Info</td>\n",
              "      <td>27.32</td>\n",
              "      <td>6.6</td>\n",
              "      <td>159</td>\n",
              "      <td>0</td>\n",
              "    </tr>\n",
              "    <tr>\n",
              "      <th>3272</th>\n",
              "      <td>Female</td>\n",
              "      <td>80.0</td>\n",
              "      <td>0</td>\n",
              "      <td>0</td>\n",
              "      <td>No Info</td>\n",
              "      <td>27.32</td>\n",
              "      <td>3.5</td>\n",
              "      <td>80</td>\n",
              "      <td>0</td>\n",
              "    </tr>\n",
              "    <tr>\n",
              "      <th>3418</th>\n",
              "      <td>Female</td>\n",
              "      <td>19.0</td>\n",
              "      <td>0</td>\n",
              "      <td>0</td>\n",
              "      <td>No Info</td>\n",
              "      <td>27.32</td>\n",
              "      <td>6.5</td>\n",
              "      <td>100</td>\n",
              "      <td>0</td>\n",
              "    </tr>\n",
              "    <tr>\n",
              "      <th>3939</th>\n",
              "      <td>Female</td>\n",
              "      <td>78.0</td>\n",
              "      <td>1</td>\n",
              "      <td>0</td>\n",
              "      <td>former</td>\n",
              "      <td>27.32</td>\n",
              "      <td>3.5</td>\n",
              "      <td>130</td>\n",
              "      <td>0</td>\n",
              "    </tr>\n",
              "    <tr>\n",
              "      <th>3960</th>\n",
              "      <td>Male</td>\n",
              "      <td>47.0</td>\n",
              "      <td>0</td>\n",
              "      <td>0</td>\n",
              "      <td>No Info</td>\n",
              "      <td>27.32</td>\n",
              "      <td>6.0</td>\n",
              "      <td>200</td>\n",
              "      <td>0</td>\n",
              "    </tr>\n",
              "    <tr>\n",
              "      <th>...</th>\n",
              "      <td>...</td>\n",
              "      <td>...</td>\n",
              "      <td>...</td>\n",
              "      <td>...</td>\n",
              "      <td>...</td>\n",
              "      <td>...</td>\n",
              "      <td>...</td>\n",
              "      <td>...</td>\n",
              "      <td>...</td>\n",
              "    </tr>\n",
              "    <tr>\n",
              "      <th>99980</th>\n",
              "      <td>Female</td>\n",
              "      <td>52.0</td>\n",
              "      <td>0</td>\n",
              "      <td>0</td>\n",
              "      <td>never</td>\n",
              "      <td>27.32</td>\n",
              "      <td>6.1</td>\n",
              "      <td>145</td>\n",
              "      <td>0</td>\n",
              "    </tr>\n",
              "    <tr>\n",
              "      <th>99985</th>\n",
              "      <td>Male</td>\n",
              "      <td>25.0</td>\n",
              "      <td>0</td>\n",
              "      <td>0</td>\n",
              "      <td>No Info</td>\n",
              "      <td>27.32</td>\n",
              "      <td>5.8</td>\n",
              "      <td>145</td>\n",
              "      <td>0</td>\n",
              "    </tr>\n",
              "    <tr>\n",
              "      <th>99989</th>\n",
              "      <td>Female</td>\n",
              "      <td>26.0</td>\n",
              "      <td>0</td>\n",
              "      <td>0</td>\n",
              "      <td>No Info</td>\n",
              "      <td>27.32</td>\n",
              "      <td>5.0</td>\n",
              "      <td>158</td>\n",
              "      <td>0</td>\n",
              "    </tr>\n",
              "    <tr>\n",
              "      <th>99990</th>\n",
              "      <td>Male</td>\n",
              "      <td>39.0</td>\n",
              "      <td>0</td>\n",
              "      <td>0</td>\n",
              "      <td>No Info</td>\n",
              "      <td>27.32</td>\n",
              "      <td>6.1</td>\n",
              "      <td>100</td>\n",
              "      <td>0</td>\n",
              "    </tr>\n",
              "    <tr>\n",
              "      <th>99995</th>\n",
              "      <td>Female</td>\n",
              "      <td>80.0</td>\n",
              "      <td>0</td>\n",
              "      <td>0</td>\n",
              "      <td>No Info</td>\n",
              "      <td>27.32</td>\n",
              "      <td>6.2</td>\n",
              "      <td>90</td>\n",
              "      <td>0</td>\n",
              "    </tr>\n",
              "  </tbody>\n",
              "</table>\n",
              "<p>3854 rows × 9 columns</p>\n",
              "</div>\n",
              "    <div class=\"colab-df-buttons\">\n",
              "\n",
              "  <div class=\"colab-df-container\">\n",
              "    <button class=\"colab-df-convert\" onclick=\"convertToInteractive('df-2c4bd480-4391-416a-b0a9-669eeea1a239')\"\n",
              "            title=\"Convert this dataframe to an interactive table.\"\n",
              "            style=\"display:none;\">\n",
              "\n",
              "  <svg xmlns=\"http://www.w3.org/2000/svg\" height=\"24px\" viewBox=\"0 -960 960 960\">\n",
              "    <path d=\"M120-120v-720h720v720H120Zm60-500h600v-160H180v160Zm220 220h160v-160H400v160Zm0 220h160v-160H400v160ZM180-400h160v-160H180v160Zm440 0h160v-160H620v160ZM180-180h160v-160H180v160Zm440 0h160v-160H620v160Z\"/>\n",
              "  </svg>\n",
              "    </button>\n",
              "\n",
              "  <style>\n",
              "    .colab-df-container {\n",
              "      display:flex;\n",
              "      gap: 12px;\n",
              "    }\n",
              "\n",
              "    .colab-df-convert {\n",
              "      background-color: #E8F0FE;\n",
              "      border: none;\n",
              "      border-radius: 50%;\n",
              "      cursor: pointer;\n",
              "      display: none;\n",
              "      fill: #1967D2;\n",
              "      height: 32px;\n",
              "      padding: 0 0 0 0;\n",
              "      width: 32px;\n",
              "    }\n",
              "\n",
              "    .colab-df-convert:hover {\n",
              "      background-color: #E2EBFA;\n",
              "      box-shadow: 0px 1px 2px rgba(60, 64, 67, 0.3), 0px 1px 3px 1px rgba(60, 64, 67, 0.15);\n",
              "      fill: #174EA6;\n",
              "    }\n",
              "\n",
              "    .colab-df-buttons div {\n",
              "      margin-bottom: 4px;\n",
              "    }\n",
              "\n",
              "    [theme=dark] .colab-df-convert {\n",
              "      background-color: #3B4455;\n",
              "      fill: #D2E3FC;\n",
              "    }\n",
              "\n",
              "    [theme=dark] .colab-df-convert:hover {\n",
              "      background-color: #434B5C;\n",
              "      box-shadow: 0px 1px 3px 1px rgba(0, 0, 0, 0.15);\n",
              "      filter: drop-shadow(0px 1px 2px rgba(0, 0, 0, 0.3));\n",
              "      fill: #FFFFFF;\n",
              "    }\n",
              "  </style>\n",
              "\n",
              "    <script>\n",
              "      const buttonEl =\n",
              "        document.querySelector('#df-2c4bd480-4391-416a-b0a9-669eeea1a239 button.colab-df-convert');\n",
              "      buttonEl.style.display =\n",
              "        google.colab.kernel.accessAllowed ? 'block' : 'none';\n",
              "\n",
              "      async function convertToInteractive(key) {\n",
              "        const element = document.querySelector('#df-2c4bd480-4391-416a-b0a9-669eeea1a239');\n",
              "        const dataTable =\n",
              "          await google.colab.kernel.invokeFunction('convertToInteractive',\n",
              "                                                    [key], {});\n",
              "        if (!dataTable) return;\n",
              "\n",
              "        const docLinkHtml = 'Like what you see? Visit the ' +\n",
              "          '<a target=\"_blank\" href=https://colab.research.google.com/notebooks/data_table.ipynb>data table notebook</a>'\n",
              "          + ' to learn more about interactive tables.';\n",
              "        element.innerHTML = '';\n",
              "        dataTable['output_type'] = 'display_data';\n",
              "        await google.colab.output.renderOutput(dataTable, element);\n",
              "        const docLink = document.createElement('div');\n",
              "        docLink.innerHTML = docLinkHtml;\n",
              "        element.appendChild(docLink);\n",
              "      }\n",
              "    </script>\n",
              "  </div>\n",
              "\n",
              "\n",
              "<div id=\"df-fefe15c1-70c2-4276-b1ea-eb1eef3c12e8\">\n",
              "  <button class=\"colab-df-quickchart\" onclick=\"quickchart('df-fefe15c1-70c2-4276-b1ea-eb1eef3c12e8')\"\n",
              "            title=\"Suggest charts\"\n",
              "            style=\"display:none;\">\n",
              "\n",
              "<svg xmlns=\"http://www.w3.org/2000/svg\" height=\"24px\"viewBox=\"0 0 24 24\"\n",
              "     width=\"24px\">\n",
              "    <g>\n",
              "        <path d=\"M19 3H5c-1.1 0-2 .9-2 2v14c0 1.1.9 2 2 2h14c1.1 0 2-.9 2-2V5c0-1.1-.9-2-2-2zM9 17H7v-7h2v7zm4 0h-2V7h2v10zm4 0h-2v-4h2v4z\"/>\n",
              "    </g>\n",
              "</svg>\n",
              "  </button>\n",
              "\n",
              "<style>\n",
              "  .colab-df-quickchart {\n",
              "      --bg-color: #E8F0FE;\n",
              "      --fill-color: #1967D2;\n",
              "      --hover-bg-color: #E2EBFA;\n",
              "      --hover-fill-color: #174EA6;\n",
              "      --disabled-fill-color: #AAA;\n",
              "      --disabled-bg-color: #DDD;\n",
              "  }\n",
              "\n",
              "  [theme=dark] .colab-df-quickchart {\n",
              "      --bg-color: #3B4455;\n",
              "      --fill-color: #D2E3FC;\n",
              "      --hover-bg-color: #434B5C;\n",
              "      --hover-fill-color: #FFFFFF;\n",
              "      --disabled-bg-color: #3B4455;\n",
              "      --disabled-fill-color: #666;\n",
              "  }\n",
              "\n",
              "  .colab-df-quickchart {\n",
              "    background-color: var(--bg-color);\n",
              "    border: none;\n",
              "    border-radius: 50%;\n",
              "    cursor: pointer;\n",
              "    display: none;\n",
              "    fill: var(--fill-color);\n",
              "    height: 32px;\n",
              "    padding: 0;\n",
              "    width: 32px;\n",
              "  }\n",
              "\n",
              "  .colab-df-quickchart:hover {\n",
              "    background-color: var(--hover-bg-color);\n",
              "    box-shadow: 0 1px 2px rgba(60, 64, 67, 0.3), 0 1px 3px 1px rgba(60, 64, 67, 0.15);\n",
              "    fill: var(--button-hover-fill-color);\n",
              "  }\n",
              "\n",
              "  .colab-df-quickchart-complete:disabled,\n",
              "  .colab-df-quickchart-complete:disabled:hover {\n",
              "    background-color: var(--disabled-bg-color);\n",
              "    fill: var(--disabled-fill-color);\n",
              "    box-shadow: none;\n",
              "  }\n",
              "\n",
              "  .colab-df-spinner {\n",
              "    border: 2px solid var(--fill-color);\n",
              "    border-color: transparent;\n",
              "    border-bottom-color: var(--fill-color);\n",
              "    animation:\n",
              "      spin 1s steps(1) infinite;\n",
              "  }\n",
              "\n",
              "  @keyframes spin {\n",
              "    0% {\n",
              "      border-color: transparent;\n",
              "      border-bottom-color: var(--fill-color);\n",
              "      border-left-color: var(--fill-color);\n",
              "    }\n",
              "    20% {\n",
              "      border-color: transparent;\n",
              "      border-left-color: var(--fill-color);\n",
              "      border-top-color: var(--fill-color);\n",
              "    }\n",
              "    30% {\n",
              "      border-color: transparent;\n",
              "      border-left-color: var(--fill-color);\n",
              "      border-top-color: var(--fill-color);\n",
              "      border-right-color: var(--fill-color);\n",
              "    }\n",
              "    40% {\n",
              "      border-color: transparent;\n",
              "      border-right-color: var(--fill-color);\n",
              "      border-top-color: var(--fill-color);\n",
              "    }\n",
              "    60% {\n",
              "      border-color: transparent;\n",
              "      border-right-color: var(--fill-color);\n",
              "    }\n",
              "    80% {\n",
              "      border-color: transparent;\n",
              "      border-right-color: var(--fill-color);\n",
              "      border-bottom-color: var(--fill-color);\n",
              "    }\n",
              "    90% {\n",
              "      border-color: transparent;\n",
              "      border-bottom-color: var(--fill-color);\n",
              "    }\n",
              "  }\n",
              "</style>\n",
              "\n",
              "  <script>\n",
              "    async function quickchart(key) {\n",
              "      const quickchartButtonEl =\n",
              "        document.querySelector('#' + key + ' button');\n",
              "      quickchartButtonEl.disabled = true;  // To prevent multiple clicks.\n",
              "      quickchartButtonEl.classList.add('colab-df-spinner');\n",
              "      try {\n",
              "        const charts = await google.colab.kernel.invokeFunction(\n",
              "            'suggestCharts', [key], {});\n",
              "      } catch (error) {\n",
              "        console.error('Error during call to suggestCharts:', error);\n",
              "      }\n",
              "      quickchartButtonEl.classList.remove('colab-df-spinner');\n",
              "      quickchartButtonEl.classList.add('colab-df-quickchart-complete');\n",
              "    }\n",
              "    (() => {\n",
              "      let quickchartButtonEl =\n",
              "        document.querySelector('#df-fefe15c1-70c2-4276-b1ea-eb1eef3c12e8 button');\n",
              "      quickchartButtonEl.style.display =\n",
              "        google.colab.kernel.accessAllowed ? 'block' : 'none';\n",
              "    })();\n",
              "  </script>\n",
              "</div>\n",
              "\n",
              "    </div>\n",
              "  </div>\n"
            ],
            "text/plain": [
              "       gender   age  hypertension  heart_disease smoking_history    bmi  \\\n",
              "2756     Male  80.0             0              0         No Info  27.32   \n",
              "3272   Female  80.0             0              0         No Info  27.32   \n",
              "3418   Female  19.0             0              0         No Info  27.32   \n",
              "3939   Female  78.0             1              0          former  27.32   \n",
              "3960     Male  47.0             0              0         No Info  27.32   \n",
              "...       ...   ...           ...            ...             ...    ...   \n",
              "99980  Female  52.0             0              0           never  27.32   \n",
              "99985    Male  25.0             0              0         No Info  27.32   \n",
              "99989  Female  26.0             0              0         No Info  27.32   \n",
              "99990    Male  39.0             0              0         No Info  27.32   \n",
              "99995  Female  80.0             0              0         No Info  27.32   \n",
              "\n",
              "       HbA1c_level  blood_glucose_level  diabetes  \n",
              "2756           6.6                  159         0  \n",
              "3272           3.5                   80         0  \n",
              "3418           6.5                  100         0  \n",
              "3939           3.5                  130         0  \n",
              "3960           6.0                  200         0  \n",
              "...            ...                  ...       ...  \n",
              "99980          6.1                  145         0  \n",
              "99985          5.8                  145         0  \n",
              "99989          5.0                  158         0  \n",
              "99990          6.1                  100         0  \n",
              "99995          6.2                   90         0  \n",
              "\n",
              "[3854 rows x 9 columns]"
            ]
          },
          "execution_count": 8,
          "metadata": {},
          "output_type": "execute_result"
        }
      ],
      "source": [
        "duplicates = diabetes_df.duplicated()\n",
        "diabetes_df[duplicates]"
      ]
    },
    {
      "cell_type": "code",
      "execution_count": 9,
      "metadata": {
        "id": "E1BzhsL_cpqr"
      },
      "outputs": [],
      "source": [
        "###feature engineering some new features\n",
        "# diabetes_df[\"bmi_age_ratio\"] = diabetes_df[\"bmi\"] / diabetes_df[\"age\"]\n",
        "# diabetes_df[\"blood_glucose_level_age_ratio\"] = diabetes_df[\"blood_glucose_level\"] / diabetes_df[\"age\"]\n",
        "# diabetes_df['hypertension_heart_disease'] = diabetes_df['hypertension'] * diabetes_df['heart_disease']\n",
        "# diabetes_df['hba1c_glucose_ratio'] = diabetes_df['HbA1c_level'] / diabetes_df['blood_glucose_level']\n",
        "# diabetes_df['health_risk_score'] =  diabetes_df['hypertension'] +  diabetes_df['heart_disease']\n",
        "# diabetes_df[\"HbA1c_level_blood_glucose_level_interaction\"]  = diabetes_df[\"HbA1c_level\"] *\tdiabetes_df[\"blood_glucose_level\"]\n",
        "# diabetes_df['HbA1c_glucose_interaction'] = diabetes_df['HbA1c_level'] * diabetes_df['blood_glucose_level']\n",
        "# diabetes_df['bmi_age_interaction'] = diabetes_df['bmi'] * diabetes_df['age']"
      ]
    },
    {
      "cell_type": "code",
      "execution_count": 10,
      "metadata": {
        "colab": {
          "base_uri": "https://localhost:8080/"
        },
        "id": "DBb0IWzoESCw",
        "outputId": "8d92fa95-1e07-48f8-ada0-26e9bd6af912"
      },
      "outputs": [
        {
          "name": "stdout",
          "output_type": "stream",
          "text": [
            "(96146, 9)\n"
          ]
        }
      ],
      "source": [
        "diabetes_df = diabetes_df.drop_duplicates()\n",
        "print(diabetes_df.shape)\n",
        "total_data = diabetes_df.shape[0]"
      ]
    },
    {
      "cell_type": "code",
      "execution_count": 11,
      "metadata": {
        "id": "CCLaRX43FRTj"
      },
      "outputs": [],
      "source": [
        "cat_features = diabetes_df.columns[diabetes_df.dtypes == 'object'].tolist()\n",
        "num_features = diabetes_df.columns[(diabetes_df.dtypes == 'int64') | (diabetes_df.dtypes == 'float64')].tolist()\n"
      ]
    },
    {
      "cell_type": "code",
      "execution_count": 12,
      "metadata": {
        "colab": {
          "base_uri": "https://localhost:8080/",
          "height": 669
        },
        "id": "TqVs90wbc_Sg",
        "outputId": "6c2b33e8-f5c9-4c99-b070-f7fbc45202c6"
      },
      "outputs": [
        {
          "data": {
            "image/png": "[encoded data removed]",
            "text/plain": [
              "<Figure size 800x600 with 2 Axes>"
            ]
          },
          "metadata": {},
          "output_type": "display_data"
        }
      ],
      "source": [
        "#correlation matrix of numerical features\n",
        "import matplotlib.pyplot as plt\n",
        "import seaborn as sns\n",
        "\n",
        "correlation_matrix = diabetes_df[num_features].corr()\n",
        "\n",
        "plt.figure(figsize=(8, 6))\n",
        "sns.heatmap(correlation_matrix, annot=True, cmap='coolwarm', fmt=\".2f\", linewidths=0.5)\n",
        "plt.title('Correlation Matrix')\n",
        "plt.show()"
      ]
    },
    {
      "cell_type": "code",
      "execution_count": 13,
      "metadata": {
        "id": "mG_wIzVHrWU_"
      },
      "outputs": [],
      "source": [
        "diabetes_df.drop(cat_features, axis=1, inplace=True)"
      ]
    },
    {
      "cell_type": "code",
      "execution_count": 14,
      "metadata": {
        "colab": {
          "base_uri": "https://localhost:8080/"
        },
        "id": "DztVMyQtM-rc",
        "outputId": "9764c42d-e2cf-423d-c5e3-2023689d7f27"
      },
      "outputs": [
        {
          "data": {
            "text/plain": [
              "2"
            ]
          },
          "execution_count": 14,
          "metadata": {},
          "output_type": "execute_result"
        }
      ],
      "source": [
        "target_dict = diabetes_df[\"diabetes\"].value_counts().to_dict()\n",
        "len(target_dict)"
      ]
    },
    {
      "cell_type": "code",
      "execution_count": 15,
      "metadata": {
        "colab": {
          "base_uri": "https://localhost:8080/",
          "height": 428
        },
        "id": "u02-rYFoVsjj",
        "outputId": "ac3c93e5-9546-49bd-d46e-31f5de4bac00"
      },
      "outputs": [
        {
          "data": {
            "image/png": "[encoded data removed]",
            "text/plain": [
              "<Figure size 640x480 with 1 Axes>"
            ]
          },
          "metadata": {},
          "output_type": "display_data"
        }
      ],
      "source": [
        "import matplotlib.pyplot as plt\n",
        "import seaborn as sns\n",
        "\n",
        "fig, ax = plt.subplots()\n",
        "ax.pie(target_dict.values(), labels=[\"No diabetes\", \"diabetes\"], autopct='%1.1f%%')\n",
        "ax.set_title(\"Diabetes Distribution\")\n",
        "plt.show()"
      ]
    },
    {
      "cell_type": "code",
      "execution_count": 16,
      "metadata": {
        "colab": {
          "base_uri": "https://localhost:8080/"
        },
        "id": "IKNg_h9B8RiE",
        "outputId": "72d03c00-a6a6-4154-abb8-c16683175638"
      },
      "outputs": [
        {
          "data": {
            "text/plain": [
              "diabetes\n",
              "0    87664\n",
              "1     8482\n",
              "Name: count, dtype: int64"
            ]
          },
          "execution_count": 16,
          "metadata": {},
          "output_type": "execute_result"
        }
      ],
      "source": [
        "diabetes_df[\"diabetes\"].value_counts()"
      ]
    },
    {
      "cell_type": "code",
      "execution_count": 17,
      "metadata": {
        "id": "NRIIsGFrUpBO"
      },
      "outputs": [],
      "source": [
        "#using catboostgradient to classify\n",
        "!pip install catboost --quiet"
      ]
    },
    {
      "cell_type": "code",
      "execution_count": 18,
      "metadata": {
        "id": "renEVV6SVmIZ"
      },
      "outputs": [],
      "source": [
        "from catboost import CatBoostClassifier, Pool\n",
        "from sklearn.model_selection import train_test_split, RandomizedSearchCV\n",
        "from sklearn.metrics import classification_report, confusion_matrix"
      ]
    },
    {
      "cell_type": "code",
      "execution_count": 19,
      "metadata": {
        "id": "RUbVpCtYafrs"
      },
      "outputs": [],
      "source": [
        "# Y_all = diabetes_df[\"diabetes\"]\n",
        "# X_all = diabetes_df.drop(\"diabetes\", axis=1)"
      ]
    },
    {
      "cell_type": "code",
      "execution_count": 20,
      "metadata": {
        "id": "kY6V6R2Yas1q"
      },
      "outputs": [],
      "source": [
        "# X_train, X_eval, y_train, y_eval = train_test_split(X_all, Y_all, test_size=0.2, random_state=42)"
      ]
    },
    {
      "cell_type": "code",
      "execution_count": 21,
      "metadata": {
        "id": "FEoi87WrUyDM"
      },
      "outputs": [],
      "source": [
        "# solving unbalanced dataset problem with smote\n",
        "# from imblearn.over_sampling import SMOTE\n",
        "\n",
        "# smote = SMOTE(random_state=42)\n",
        "# X_train, y_train = smote.fit_resample(X_train, y_train)"
      ]
    },
    {
      "cell_type": "code",
      "execution_count": 19,
      "metadata": {
        "colab": {
          "base_uri": "https://localhost:8080/"
        },
        "id": "GFD0-TaD28yB",
        "outputId": "61e268f2-5fd6-4d27-d184-009c16d3dc9c"
      },
      "outputs": [
        {
          "name": "stdout",
          "output_type": "stream",
          "text": [
            "\u001b[33mWARNING: tensorflow-probability 0.23.0 does not provide the extra 'tf'\u001b[0m\u001b[33m\n",
            "\u001b[0m"
          ]
        }
      ],
      "source": [
        "!pip install ydata-synthetic --quiet"
      ]
    },
    {
      "cell_type": "code",
      "execution_count": 20,
      "metadata": {
        "colab": {
          "base_uri": "https://localhost:8080/",
          "height": 424
        },
        "id": "bJvJXv7v2zWI",
        "outputId": "f11306d4-2b1b-4ef8-9ad1-6f95e4e89e05"
      },
      "outputs": [
        {
          "data": {
            "application/vnd.google.colaboratory.intrinsic+json": {
              "summary": "{\n  \"name\": \"training_df\",\n  \"rows\": 8482,\n  \"fields\": [\n    {\n      \"column\": \"age\",\n      \"properties\": {\n        \"dtype\": \"number\",\n        \"std\": 14.545301458931263,\n        \"min\": 3.0,\n        \"max\": 80.0,\n        \"num_unique_values\": 78,\n        \"samples\": [\n          38.0,\n          44.0,\n          62.0\n        ],\n        \"semantic_type\": \"\",\n        \"description\": \"\"\n      }\n    },\n    {\n      \"column\": \"hypertension\",\n      \"properties\": {\n        \"dtype\": \"number\",\n        \"std\": 0,\n        \"min\": 0,\n        \"max\": 1,\n        \"num_unique_values\": 2,\n        \"samples\": [\n          1,\n          0\n        ],\n        \"semantic_type\": \"\",\n        \"description\": \"\"\n      }\n    },\n    {\n      \"column\": \"heart_disease\",\n      \"properties\": {\n        \"dtype\": \"number\",\n        \"std\": 0,\n        \"min\": 0,\n        \"max\": 1,\n        \"num_unique_values\": 2,\n        \"samples\": [\n          1,\n          0\n        ],\n        \"semantic_type\": \"\",\n        \"description\": \"\"\n      }\n    },\n    {\n      \"column\": \"bmi\",\n      \"properties\": {\n        \"dtype\": \"number\",\n        \"std\": 7.563494010911501,\n        \"min\": 10.98,\n        \"max\": 88.72,\n        \"num_unique_values\": 2581,\n        \"samples\": [\n          27.6,\n          25.95\n        ],\n        \"semantic_type\": \"\",\n        \"description\": \"\"\n      }\n    },\n    {\n      \"column\": \"HbA1c_level\",\n      \"properties\": {\n        \"dtype\": \"number\",\n        \"std\": 1.0764620063133103,\n        \"min\": 5.7,\n        \"max\": 9.0,\n        \"num_unique_values\": 13,\n        \"samples\": [\n          6.1,\n          6.6\n        ],\n        \"semantic_type\": \"\",\n        \"description\": \"\"\n      }\n    },\n    {\n      \"column\": \"blood_glucose_level\",\n      \"properties\": {\n        \"dtype\": \"number\",\n        \"std\": 58,\n        \"min\": 126,\n        \"max\": 300,\n        \"num_unique_values\": 13,\n        \"samples\": [\n          145,\n          140\n        ],\n        \"semantic_type\": \"\",\n        \"description\": \"\"\n      }\n    },\n    {\n      \"column\": \"diabetes\",\n      \"properties\": {\n        \"dtype\": \"number\",\n        \"std\": 0,\n        \"min\": 1,\n        \"max\": 1,\n        \"num_unique_values\": 1,\n        \"samples\": [\n          1\n        ],\n        \"semantic_type\": \"\",\n        \"description\": \"\"\n      }\n    }\n  ]\n}",
              "type": "dataframe",
              "variable_name": "training_df"
            },
            "text/html": [
              "\n",
              "  <div id=\"df-17028e50-7a19-43b3-89ff-0a77a6319204\" class=\"colab-df-container\">\n",
              "    <div>\n",
              "<style scoped>\n",
              "    .dataframe tbody tr th:only-of-type {\n",
              "        vertical-align: middle;\n",
              "    }\n",
              "\n",
              "    .dataframe tbody tr th {\n",
              "        vertical-align: top;\n",
              "    }\n",
              "\n",
              "    .dataframe thead th {\n",
              "        text-align: right;\n",
              "    }\n",
              "</style>\n",
              "<table border=\"1\" class=\"dataframe\">\n",
              "  <thead>\n",
              "    <tr style=\"text-align: right;\">\n",
              "      <th></th>\n",
              "      <th>age</th>\n",
              "      <th>hypertension</th>\n",
              "      <th>heart_disease</th>\n",
              "      <th>bmi</th>\n",
              "      <th>HbA1c_level</th>\n",
              "      <th>blood_glucose_level</th>\n",
              "      <th>diabetes</th>\n",
              "    </tr>\n",
              "  </thead>\n",
              "  <tbody>\n",
              "    <tr>\n",
              "      <th>6</th>\n",
              "      <td>44.0</td>\n",
              "      <td>0</td>\n",
              "      <td>0</td>\n",
              "      <td>19.31</td>\n",
              "      <td>6.5</td>\n",
              "      <td>200</td>\n",
              "      <td>1</td>\n",
              "    </tr>\n",
              "    <tr>\n",
              "      <th>26</th>\n",
              "      <td>67.0</td>\n",
              "      <td>0</td>\n",
              "      <td>1</td>\n",
              "      <td>27.32</td>\n",
              "      <td>6.5</td>\n",
              "      <td>200</td>\n",
              "      <td>1</td>\n",
              "    </tr>\n",
              "    <tr>\n",
              "      <th>38</th>\n",
              "      <td>50.0</td>\n",
              "      <td>1</td>\n",
              "      <td>0</td>\n",
              "      <td>27.32</td>\n",
              "      <td>5.7</td>\n",
              "      <td>260</td>\n",
              "      <td>1</td>\n",
              "    </tr>\n",
              "    <tr>\n",
              "      <th>40</th>\n",
              "      <td>73.0</td>\n",
              "      <td>0</td>\n",
              "      <td>0</td>\n",
              "      <td>25.91</td>\n",
              "      <td>9.0</td>\n",
              "      <td>160</td>\n",
              "      <td>1</td>\n",
              "    </tr>\n",
              "    <tr>\n",
              "      <th>53</th>\n",
              "      <td>53.0</td>\n",
              "      <td>0</td>\n",
              "      <td>0</td>\n",
              "      <td>27.32</td>\n",
              "      <td>7.0</td>\n",
              "      <td>159</td>\n",
              "      <td>1</td>\n",
              "    </tr>\n",
              "    <tr>\n",
              "      <th>...</th>\n",
              "      <td>...</td>\n",
              "      <td>...</td>\n",
              "      <td>...</td>\n",
              "      <td>...</td>\n",
              "      <td>...</td>\n",
              "      <td>...</td>\n",
              "      <td>...</td>\n",
              "    </tr>\n",
              "    <tr>\n",
              "      <th>99935</th>\n",
              "      <td>65.0</td>\n",
              "      <td>1</td>\n",
              "      <td>1</td>\n",
              "      <td>33.55</td>\n",
              "      <td>8.2</td>\n",
              "      <td>140</td>\n",
              "      <td>1</td>\n",
              "    </tr>\n",
              "    <tr>\n",
              "      <th>99938</th>\n",
              "      <td>55.0</td>\n",
              "      <td>0</td>\n",
              "      <td>1</td>\n",
              "      <td>30.42</td>\n",
              "      <td>6.2</td>\n",
              "      <td>300</td>\n",
              "      <td>1</td>\n",
              "    </tr>\n",
              "    <tr>\n",
              "      <th>99957</th>\n",
              "      <td>61.0</td>\n",
              "      <td>0</td>\n",
              "      <td>0</td>\n",
              "      <td>34.45</td>\n",
              "      <td>6.5</td>\n",
              "      <td>280</td>\n",
              "      <td>1</td>\n",
              "    </tr>\n",
              "    <tr>\n",
              "      <th>99962</th>\n",
              "      <td>58.0</td>\n",
              "      <td>1</td>\n",
              "      <td>0</td>\n",
              "      <td>38.31</td>\n",
              "      <td>7.0</td>\n",
              "      <td>200</td>\n",
              "      <td>1</td>\n",
              "    </tr>\n",
              "    <tr>\n",
              "      <th>99979</th>\n",
              "      <td>61.0</td>\n",
              "      <td>0</td>\n",
              "      <td>0</td>\n",
              "      <td>30.11</td>\n",
              "      <td>6.2</td>\n",
              "      <td>240</td>\n",
              "      <td>1</td>\n",
              "    </tr>\n",
              "  </tbody>\n",
              "</table>\n",
              "<p>8482 rows × 7 columns</p>\n",
              "</div>\n",
              "    <div class=\"colab-df-buttons\">\n",
              "\n",
              "  <div class=\"colab-df-container\">\n",
              "    <button class=\"colab-df-convert\" onclick=\"convertToInteractive('df-17028e50-7a19-43b3-89ff-0a77a6319204')\"\n",
              "            title=\"Convert this dataframe to an interactive table.\"\n",
              "            style=\"display:none;\">\n",
              "\n",
              "  <svg xmlns=\"http://www.w3.org/2000/svg\" height=\"24px\" viewBox=\"0 -960 960 960\">\n",
              "    <path d=\"M120-120v-720h720v720H120Zm60-500h600v-160H180v160Zm220 220h160v-160H400v160Zm0 220h160v-160H400v160ZM180-400h160v-160H180v160Zm440 0h160v-160H620v160ZM180-180h160v-160H180v160Zm440 0h160v-160H620v160Z\"/>\n",
              "  </svg>\n",
              "    </button>\n",
              "\n",
              "  <style>\n",
              "    .colab-df-container {\n",
              "      display:flex;\n",
              "      gap: 12px;\n",
              "    }\n",
              "\n",
              "    .colab-df-convert {\n",
              "      background-color: #E8F0FE;\n",
              "      border: none;\n",
              "      border-radius: 50%;\n",
              "      cursor: pointer;\n",
              "      display: none;\n",
              "      fill: #1967D2;\n",
              "      height: 32px;\n",
              "      padding: 0 0 0 0;\n",
              "      width: 32px;\n",
              "    }\n",
              "\n",
              "    .colab-df-convert:hover {\n",
              "      background-color: #E2EBFA;\n",
              "      box-shadow: 0px 1px 2px rgba(60, 64, 67, 0.3), 0px 1px 3px 1px rgba(60, 64, 67, 0.15);\n",
              "      fill: #174EA6;\n",
              "    }\n",
              "\n",
              "    .colab-df-buttons div {\n",
              "      margin-bottom: 4px;\n",
              "    }\n",
              "\n",
              "    [theme=dark] .colab-df-convert {\n",
              "      background-color: #3B4455;\n",
              "      fill: #D2E3FC;\n",
              "    }\n",
              "\n",
              "    [theme=dark] .colab-df-convert:hover {\n",
              "      background-color: #434B5C;\n",
              "      box-shadow: 0px 1px 3px 1px rgba(0, 0, 0, 0.15);\n",
              "      filter: drop-shadow(0px 1px 2px rgba(0, 0, 0, 0.3));\n",
              "      fill: #FFFFFF;\n",
              "    }\n",
              "  </style>\n",
              "\n",
              "    <script>\n",
              "      const buttonEl =\n",
              "        document.querySelector('#df-17028e50-7a19-43b3-89ff-0a77a6319204 button.colab-df-convert');\n",
              "      buttonEl.style.display =\n",
              "        google.colab.kernel.accessAllowed ? 'block' : 'none';\n",
              "\n",
              "      async function convertToInteractive(key) {\n",
              "        const element = document.querySelector('#df-17028e50-7a19-43b3-89ff-0a77a6319204');\n",
              "        const dataTable =\n",
              "          await google.colab.kernel.invokeFunction('convertToInteractive',\n",
              "                                                    [key], {});\n",
              "        if (!dataTable) return;\n",
              "\n",
              "        const docLinkHtml = 'Like what you see? Visit the ' +\n",
              "          '<a target=\"_blank\" href=https://colab.research.google.com/notebooks/data_table.ipynb>data table notebook</a>'\n",
              "          + ' to learn more about interactive tables.';\n",
              "        element.innerHTML = '';\n",
              "        dataTable['output_type'] = 'display_data';\n",
              "        await google.colab.output.renderOutput(dataTable, element);\n",
              "        const docLink = document.createElement('div');\n",
              "        docLink.innerHTML = docLinkHtml;\n",
              "        element.appendChild(docLink);\n",
              "      }\n",
              "    </script>\n",
              "  </div>\n",
              "\n",
              "\n",
              "<div id=\"df-51afe70b-1562-4b9f-9f84-c278a47da6fe\">\n",
              "  <button class=\"colab-df-quickchart\" onclick=\"quickchart('df-51afe70b-1562-4b9f-9f84-c278a47da6fe')\"\n",
              "            title=\"Suggest charts\"\n",
              "            style=\"display:none;\">\n",
              "\n",
              "<svg xmlns=\"http://www.w3.org/2000/svg\" height=\"24px\"viewBox=\"0 0 24 24\"\n",
              "     width=\"24px\">\n",
              "    <g>\n",
              "        <path d=\"M19 3H5c-1.1 0-2 .9-2 2v14c0 1.1.9 2 2 2h14c1.1 0 2-.9 2-2V5c0-1.1-.9-2-2-2zM9 17H7v-7h2v7zm4 0h-2V7h2v10zm4 0h-2v-4h2v4z\"/>\n",
              "    </g>\n",
              "</svg>\n",
              "  </button>\n",
              "\n",
              "<style>\n",
              "  .colab-df-quickchart {\n",
              "      --bg-color: #E8F0FE;\n",
              "      --fill-color: #1967D2;\n",
              "      --hover-bg-color: #E2EBFA;\n",
              "      --hover-fill-color: #174EA6;\n",
              "      --disabled-fill-color: #AAA;\n",
              "      --disabled-bg-color: #DDD;\n",
              "  }\n",
              "\n",
              "  [theme=dark] .colab-df-quickchart {\n",
              "      --bg-color: #3B4455;\n",
              "      --fill-color: #D2E3FC;\n",
              "      --hover-bg-color: #434B5C;\n",
              "      --hover-fill-color: #FFFFFF;\n",
              "      --disabled-bg-color: #3B4455;\n",
              "      --disabled-fill-color: #666;\n",
              "  }\n",
              "\n",
              "  .colab-df-quickchart {\n",
              "    background-color: var(--bg-color);\n",
              "    border: none;\n",
              "    border-radius: 50%;\n",
              "    cursor: pointer;\n",
              "    display: none;\n",
              "    fill: var(--fill-color);\n",
              "    height: 32px;\n",
              "    padding: 0;\n",
              "    width: 32px;\n",
              "  }\n",
              "\n",
              "  .colab-df-quickchart:hover {\n",
              "    background-color: var(--hover-bg-color);\n",
              "    box-shadow: 0 1px 2px rgba(60, 64, 67, 0.3), 0 1px 3px 1px rgba(60, 64, 67, 0.15);\n",
              "    fill: var(--button-hover-fill-color);\n",
              "  }\n",
              "\n",
              "  .colab-df-quickchart-complete:disabled,\n",
              "  .colab-df-quickchart-complete:disabled:hover {\n",
              "    background-color: var(--disabled-bg-color);\n",
              "    fill: var(--disabled-fill-color);\n",
              "    box-shadow: none;\n",
              "  }\n",
              "\n",
              "  .colab-df-spinner {\n",
              "    border: 2px solid var(--fill-color);\n",
              "    border-color: transparent;\n",
              "    border-bottom-color: var(--fill-color);\n",
              "    animation:\n",
              "      spin 1s steps(1) infinite;\n",
              "  }\n",
              "\n",
              "  @keyframes spin {\n",
              "    0% {\n",
              "      border-color: transparent;\n",
              "      border-bottom-color: var(--fill-color);\n",
              "      border-left-color: var(--fill-color);\n",
              "    }\n",
              "    20% {\n",
              "      border-color: transparent;\n",
              "      border-left-color: var(--fill-color);\n",
              "      border-top-color: var(--fill-color);\n",
              "    }\n",
              "    30% {\n",
              "      border-color: transparent;\n",
              "      border-left-color: var(--fill-color);\n",
              "      border-top-color: var(--fill-color);\n",
              "      border-right-color: var(--fill-color);\n",
              "    }\n",
              "    40% {\n",
              "      border-color: transparent;\n",
              "      border-right-color: var(--fill-color);\n",
              "      border-top-color: var(--fill-color);\n",
              "    }\n",
              "    60% {\n",
              "      border-color: transparent;\n",
              "      border-right-color: var(--fill-color);\n",
              "    }\n",
              "    80% {\n",
              "      border-color: transparent;\n",
              "      border-right-color: var(--fill-color);\n",
              "      border-bottom-color: var(--fill-color);\n",
              "    }\n",
              "    90% {\n",
              "      border-color: transparent;\n",
              "      border-bottom-color: var(--fill-color);\n",
              "    }\n",
              "  }\n",
              "</style>\n",
              "\n",
              "  <script>\n",
              "    async function quickchart(key) {\n",
              "      const quickchartButtonEl =\n",
              "        document.querySelector('#' + key + ' button');\n",
              "      quickchartButtonEl.disabled = true;  // To prevent multiple clicks.\n",
              "      quickchartButtonEl.classList.add('colab-df-spinner');\n",
              "      try {\n",
              "        const charts = await google.colab.kernel.invokeFunction(\n",
              "            'suggestCharts', [key], {});\n",
              "      } catch (error) {\n",
              "        console.error('Error during call to suggestCharts:', error);\n",
              "      }\n",
              "      quickchartButtonEl.classList.remove('colab-df-spinner');\n",
              "      quickchartButtonEl.classList.add('colab-df-quickchart-complete');\n",
              "    }\n",
              "    (() => {\n",
              "      let quickchartButtonEl =\n",
              "        document.querySelector('#df-51afe70b-1562-4b9f-9f84-c278a47da6fe button');\n",
              "      quickchartButtonEl.style.display =\n",
              "        google.colab.kernel.accessAllowed ? 'block' : 'none';\n",
              "    })();\n",
              "  </script>\n",
              "</div>\n",
              "\n",
              "  <div id=\"id_b203c410-a599-4789-ba7a-35b1fb729f3d\">\n",
              "    <style>\n",
              "      .colab-df-generate {\n",
              "        background-color: #E8F0FE;\n",
              "        border: none;\n",
              "        border-radius: 50%;\n",
              "        cursor: pointer;\n",
              "        display: none;\n",
              "        fill: #1967D2;\n",
              "        height: 32px;\n",
              "        padding: 0 0 0 0;\n",
              "        width: 32px;\n",
              "      }\n",
              "\n",
              "      .colab-df-generate:hover {\n",
              "        background-color: #E2EBFA;\n",
              "        box-shadow: 0px 1px 2px rgba(60, 64, 67, 0.3), 0px 1px 3px 1px rgba(60, 64, 67, 0.15);\n",
              "        fill: #174EA6;\n",
              "      }\n",
              "\n",
              "      [theme=dark] .colab-df-generate {\n",
              "        background-color: #3B4455;\n",
              "        fill: #D2E3FC;\n",
              "      }\n",
              "\n",
              "      [theme=dark] .colab-df-generate:hover {\n",
              "        background-color: #434B5C;\n",
              "        box-shadow: 0px 1px 3px 1px rgba(0, 0, 0, 0.15);\n",
              "        filter: drop-shadow(0px 1px 2px rgba(0, 0, 0, 0.3));\n",
              "        fill: #FFFFFF;\n",
              "      }\n",
              "    </style>\n",
              "    <button class=\"colab-df-generate\" onclick=\"generateWithVariable('training_df')\"\n",
              "            title=\"Generate code using this dataframe.\"\n",
              "            style=\"display:none;\">\n",
              "\n",
              "  <svg xmlns=\"http://www.w3.org/2000/svg\" height=\"24px\"viewBox=\"0 0 24 24\"\n",
              "       width=\"24px\">\n",
              "    <path d=\"M7,19H8.4L18.45,9,17,7.55,7,17.6ZM5,21V16.75L18.45,3.32a2,2,0,0,1,2.83,0l1.4,1.43a1.91,1.91,0,0,1,.58,1.4,1.91,1.91,0,0,1-.58,1.4L9.25,21ZM18.45,9,17,7.55Zm-12,3A5.31,5.31,0,0,0,4.9,8.1,5.31,5.31,0,0,0,1,6.5,5.31,5.31,0,0,0,4.9,4.9,5.31,5.31,0,0,0,6.5,1,5.31,5.31,0,0,0,8.1,4.9,5.31,5.31,0,0,0,12,6.5,5.46,5.46,0,0,0,6.5,12Z\"/>\n",
              "  </svg>\n",
              "    </button>\n",
              "    <script>\n",
              "      (() => {\n",
              "      const buttonEl =\n",
              "        document.querySelector('#id_b203c410-a599-4789-ba7a-35b1fb729f3d button.colab-df-generate');\n",
              "      buttonEl.style.display =\n",
              "        google.colab.kernel.accessAllowed ? 'block' : 'none';\n",
              "\n",
              "      buttonEl.onclick = () => {\n",
              "        google.colab.notebook.generateWithVariable('training_df');\n",
              "      }\n",
              "      })();\n",
              "    </script>\n",
              "  </div>\n",
              "\n",
              "    </div>\n",
              "  </div>\n"
            ],
            "text/plain": [
              "        age  hypertension  heart_disease    bmi  HbA1c_level  \\\n",
              "6      44.0             0              0  19.31          6.5   \n",
              "26     67.0             0              1  27.32          6.5   \n",
              "38     50.0             1              0  27.32          5.7   \n",
              "40     73.0             0              0  25.91          9.0   \n",
              "53     53.0             0              0  27.32          7.0   \n",
              "...     ...           ...            ...    ...          ...   \n",
              "99935  65.0             1              1  33.55          8.2   \n",
              "99938  55.0             0              1  30.42          6.2   \n",
              "99957  61.0             0              0  34.45          6.5   \n",
              "99962  58.0             1              0  38.31          7.0   \n",
              "99979  61.0             0              0  30.11          6.2   \n",
              "\n",
              "       blood_glucose_level  diabetes  \n",
              "6                      200         1  \n",
              "26                     200         1  \n",
              "38                     260         1  \n",
              "40                     160         1  \n",
              "53                     159         1  \n",
              "...                    ...       ...  \n",
              "99935                  140         1  \n",
              "99938                  300         1  \n",
              "99957                  280         1  \n",
              "99962                  200         1  \n",
              "99979                  240         1  \n",
              "\n",
              "[8482 rows x 7 columns]"
            ]
          },
          "execution_count": 20,
          "metadata": {},
          "output_type": "execute_result"
        }
      ],
      "source": [
        "# solving unbalanced dataset problem using ydata_synthetic.synthesizers\n",
        "from ydata_synthetic.synthesizers import ModelParameters, TrainParameters\n",
        "from ydata_synthetic.synthesizers.regular import RegularSynthesizer\n",
        "\n",
        "#Synthesize the minority class\n",
        "training_df = diabetes_df.loc[diabetes_df['diabetes'] == 1].copy()\n",
        "training_df"
      ]
    },
    {
      "cell_type": "code",
      "execution_count": 21,
      "metadata": {
        "colab": {
          "base_uri": "https://localhost:8080/"
        },
        "id": "Jf5VB9GJ2_bs",
        "outputId": "044cf9b1-91ed-4d6e-a590-2d969701b508"
      },
      "outputs": [
        {
          "name": "stdout",
          "output_type": "stream",
          "text": [
            "Epoch: 0 | critic_loss: 0.28476446866989136 | generator_loss: -0.35731711983680725\n",
            "Epoch: 1 | critic_loss: -0.08590717613697052 | generator_loss: 0.058459263294935226\n",
            "Epoch: 2 | critic_loss: 0.539433479309082 | generator_loss: -0.6477953195571899\n",
            "Epoch: 3 | critic_loss: -0.030946925282478333 | generator_loss: -0.2687406837940216\n",
            "Epoch: 4 | critic_loss: 0.10834142565727234 | generator_loss: -0.8534377813339233\n",
            "Epoch: 5 | critic_loss: 0.3838915228843689 | generator_loss: -0.23276886343955994\n",
            "Epoch: 6 | critic_loss: -0.0905962586402893 | generator_loss: -0.015214962884783745\n",
            "Epoch: 7 | critic_loss: -0.09342597424983978 | generator_loss: -0.19457760453224182\n",
            "Epoch: 8 | critic_loss: 0.19805015623569489 | generator_loss: -0.7952404618263245\n",
            "Epoch: 9 | critic_loss: -0.00719219446182251 | generator_loss: -0.43117213249206543\n",
            "Epoch: 10 | critic_loss: 0.10344891250133514 | generator_loss: -1.0635919570922852\n",
            "Epoch: 11 | critic_loss: 0.1663719266653061 | generator_loss: -0.35553500056266785\n",
            "Epoch: 12 | critic_loss: 0.6314775943756104 | generator_loss: -0.8881440162658691\n",
            "Epoch: 13 | critic_loss: -0.10678674280643463 | generator_loss: -0.24499668180942535\n",
            "Epoch: 14 | critic_loss: 0.02395930141210556 | generator_loss: -0.8164936900138855\n",
            "Epoch: 15 | critic_loss: -0.1350950002670288 | generator_loss: -0.4019039571285248\n",
            "Epoch: 16 | critic_loss: -0.05389091372489929 | generator_loss: -0.6450326442718506\n",
            "Epoch: 17 | critic_loss: 0.3927533030509949 | generator_loss: -0.5622382164001465\n",
            "Epoch: 18 | critic_loss: -0.11748885363340378 | generator_loss: -0.3671098053455353\n",
            "Epoch: 19 | critic_loss: -0.028928056359291077 | generator_loss: -0.22492298483848572\n",
            "Epoch: 20 | critic_loss: 0.32015156745910645 | generator_loss: -0.8592600226402283\n",
            "Epoch: 21 | critic_loss: 0.07689306139945984 | generator_loss: -0.43375346064567566\n",
            "Epoch: 22 | critic_loss: 0.20851550996303558 | generator_loss: -0.6209316849708557\n",
            "Epoch: 23 | critic_loss: 0.14128269255161285 | generator_loss: -0.18385322391986847\n",
            "Epoch: 24 | critic_loss: -0.07529802620410919 | generator_loss: -0.48093220591545105\n",
            "Epoch: 25 | critic_loss: 0.3702152371406555 | generator_loss: -0.8484640717506409\n",
            "Epoch: 26 | critic_loss: 0.2426186501979828 | generator_loss: -1.0501190423965454\n",
            "Epoch: 27 | critic_loss: 0.30831074714660645 | generator_loss: -1.0790350437164307\n",
            "Epoch: 28 | critic_loss: -0.05316321551799774 | generator_loss: -0.800955593585968\n",
            "Epoch: 29 | critic_loss: 0.3252371549606323 | generator_loss: -1.1741580963134766\n",
            "Epoch: 30 | critic_loss: 0.12293797731399536 | generator_loss: -1.6249808073043823\n",
            "Epoch: 31 | critic_loss: 0.2859710454940796 | generator_loss: -1.4657894372940063\n",
            "Epoch: 32 | critic_loss: 0.2548094391822815 | generator_loss: -1.0160614252090454\n",
            "Epoch: 33 | critic_loss: 0.2466733306646347 | generator_loss: -1.3161152601242065\n",
            "Epoch: 34 | critic_loss: 0.2936592698097229 | generator_loss: -1.1788864135742188\n",
            "Epoch: 35 | critic_loss: 0.0911928117275238 | generator_loss: -1.3715341091156006\n",
            "Epoch: 36 | critic_loss: 0.2041836529970169 | generator_loss: -1.5702600479125977\n",
            "Epoch: 37 | critic_loss: 0.1844344288110733 | generator_loss: -1.4121239185333252\n",
            "Epoch: 38 | critic_loss: 0.2065468281507492 | generator_loss: -1.4860235452651978\n",
            "Epoch: 39 | critic_loss: -0.1245102733373642 | generator_loss: -1.684669852256775\n"
          ]
        }
      ],
      "source": [
        "ctgan_args = ModelParameters(batch_size=500, lr=5e-4, betas=(0.5, 0.9), noise_dim=32, layers_dim=128)\n",
        "train_args = TrainParameters(epochs=40)\n",
        "\n",
        "# Train the generator model\n",
        "synth = RegularSynthesizer(modelname='ctgan', model_parameters=ctgan_args)\n",
        "synth.fit(data=training_df, train_arguments=train_args, num_cols=num_features, cat_cols=['diabetes'])\n"
      ]
    },
    {
      "cell_type": "code",
      "execution_count": 22,
      "metadata": {
        "id": "zsxZr-Ia7ysp"
      },
      "outputs": [],
      "source": [
        "synth_data = synth.sample(67000)"
      ]
    },
    {
      "cell_type": "code",
      "execution_count": 23,
      "metadata": {
        "colab": {
          "base_uri": "https://localhost:8080/",
          "height": 206
        },
        "id": "LZz9jHiF79tr",
        "outputId": "0687dec7-07a8-4682-aa1a-903ba911cc1d"
      },
      "outputs": [
        {
          "data": {
            "application/vnd.google.colaboratory.intrinsic+json": {
              "summary": "{\n  \"name\": \"synth_data\",\n  \"rows\": 67000,\n  \"fields\": [\n    {\n      \"column\": \"age\",\n      \"properties\": {\n        \"dtype\": \"number\",\n        \"std\": 17.483190693938997,\n        \"min\": -10.477828860488323,\n        \"max\": 81.78148917188983,\n        \"num_unique_values\": 66981,\n        \"samples\": [\n          79.39087681676995,\n          58.98380014461789,\n          78.48212118060165\n        ],\n        \"semantic_type\": \"\",\n        \"description\": \"\"\n      }\n    },\n    {\n      \"column\": \"hypertension\",\n      \"properties\": {\n        \"dtype\": \"number\",\n        \"std\": 0,\n        \"min\": 0,\n        \"max\": 1,\n        \"num_unique_values\": 2,\n        \"samples\": [\n          1,\n          0\n        ],\n        \"semantic_type\": \"\",\n        \"description\": \"\"\n      }\n    },\n    {\n      \"column\": \"heart_disease\",\n      \"properties\": {\n        \"dtype\": \"number\",\n        \"std\": 0,\n        \"min\": 0,\n        \"max\": 1,\n        \"num_unique_values\": 2,\n        \"samples\": [\n          1,\n          0\n        ],\n        \"semantic_type\": \"\",\n        \"description\": \"\"\n      }\n    },\n    {\n      \"column\": \"bmi\",\n      \"properties\": {\n        \"dtype\": \"number\",\n        \"std\": 6.467417775821729,\n        \"min\": 12.952671214659604,\n        \"max\": 73.91823502696458,\n        \"num_unique_values\": 66981,\n        \"samples\": [\n          37.98451539134323,\n          30.046704151891777\n        ],\n        \"semantic_type\": \"\",\n        \"description\": \"\"\n      }\n    },\n    {\n      \"column\": \"HbA1c_level\",\n      \"properties\": {\n        \"dtype\": \"number\",\n        \"std\": 0.9161107767737616,\n        \"min\": 5.531962054556125,\n        \"max\": 9.201965709574623,\n        \"num_unique_values\": 66981,\n        \"samples\": [\n          6.833258293808629,\n          6.057399451091319\n        ],\n        \"semantic_type\": \"\",\n        \"description\": \"\"\n      }\n    },\n    {\n      \"column\": \"blood_glucose_level\",\n      \"properties\": {\n        \"dtype\": \"number\",\n        \"std\": 61,\n        \"min\": 117,\n        \"max\": 310,\n        \"num_unique_values\": 157,\n        \"samples\": [\n          193,\n          200\n        ],\n        \"semantic_type\": \"\",\n        \"description\": \"\"\n      }\n    },\n    {\n      \"column\": \"diabetes\",\n      \"properties\": {\n        \"dtype\": \"number\",\n        \"std\": 0,\n        \"min\": 1,\n        \"max\": 1,\n        \"num_unique_values\": 1,\n        \"samples\": [\n          1\n        ],\n        \"semantic_type\": \"\",\n        \"description\": \"\"\n      }\n    }\n  ]\n}",
              "type": "dataframe",
              "variable_name": "synth_data"
            },
            "text/html": [
              "\n",
              "  <div id=\"df-8ff43b83-a5ff-4acc-9e3d-079a88c2ec8b\" class=\"colab-df-container\">\n",
              "    <div>\n",
              "<style scoped>\n",
              "    .dataframe tbody tr th:only-of-type {\n",
              "        vertical-align: middle;\n",
              "    }\n",
              "\n",
              "    .dataframe tbody tr th {\n",
              "        vertical-align: top;\n",
              "    }\n",
              "\n",
              "    .dataframe thead th {\n",
              "        text-align: right;\n",
              "    }\n",
              "</style>\n",
              "<table border=\"1\" class=\"dataframe\">\n",
              "  <thead>\n",
              "    <tr style=\"text-align: right;\">\n",
              "      <th></th>\n",
              "      <th>age</th>\n",
              "      <th>hypertension</th>\n",
              "      <th>heart_disease</th>\n",
              "      <th>bmi</th>\n",
              "      <th>HbA1c_level</th>\n",
              "      <th>blood_glucose_level</th>\n",
              "      <th>diabetes</th>\n",
              "    </tr>\n",
              "  </thead>\n",
              "  <tbody>\n",
              "    <tr>\n",
              "      <th>0</th>\n",
              "      <td>79.319329</td>\n",
              "      <td>0</td>\n",
              "      <td>0</td>\n",
              "      <td>38.135074</td>\n",
              "      <td>8.169386</td>\n",
              "      <td>216</td>\n",
              "      <td>1</td>\n",
              "    </tr>\n",
              "    <tr>\n",
              "      <th>1</th>\n",
              "      <td>79.263271</td>\n",
              "      <td>0</td>\n",
              "      <td>0</td>\n",
              "      <td>28.642383</td>\n",
              "      <td>6.825512</td>\n",
              "      <td>299</td>\n",
              "      <td>1</td>\n",
              "    </tr>\n",
              "    <tr>\n",
              "      <th>2</th>\n",
              "      <td>79.688182</td>\n",
              "      <td>0</td>\n",
              "      <td>0</td>\n",
              "      <td>34.010971</td>\n",
              "      <td>5.679890</td>\n",
              "      <td>253</td>\n",
              "      <td>1</td>\n",
              "    </tr>\n",
              "    <tr>\n",
              "      <th>3</th>\n",
              "      <td>78.975719</td>\n",
              "      <td>0</td>\n",
              "      <td>0</td>\n",
              "      <td>32.473522</td>\n",
              "      <td>5.717253</td>\n",
              "      <td>282</td>\n",
              "      <td>1</td>\n",
              "    </tr>\n",
              "    <tr>\n",
              "      <th>4</th>\n",
              "      <td>77.566006</td>\n",
              "      <td>0</td>\n",
              "      <td>0</td>\n",
              "      <td>30.266252</td>\n",
              "      <td>7.511460</td>\n",
              "      <td>125</td>\n",
              "      <td>1</td>\n",
              "    </tr>\n",
              "  </tbody>\n",
              "</table>\n",
              "</div>\n",
              "    <div class=\"colab-df-buttons\">\n",
              "\n",
              "  <div class=\"colab-df-container\">\n",
              "    <button class=\"colab-df-convert\" onclick=\"convertToInteractive('df-8ff43b83-a5ff-4acc-9e3d-079a88c2ec8b')\"\n",
              "            title=\"Convert this dataframe to an interactive table.\"\n",
              "            style=\"display:none;\">\n",
              "\n",
              "  <svg xmlns=\"http://www.w3.org/2000/svg\" height=\"24px\" viewBox=\"0 -960 960 960\">\n",
              "    <path d=\"M120-120v-720h720v720H120Zm60-500h600v-160H180v160Zm220 220h160v-160H400v160Zm0 220h160v-160H400v160ZM180-400h160v-160H180v160Zm440 0h160v-160H620v160ZM180-180h160v-160H180v160Zm440 0h160v-160H620v160Z\"/>\n",
              "  </svg>\n",
              "    </button>\n",
              "\n",
              "  <style>\n",
              "    .colab-df-container {\n",
              "      display:flex;\n",
              "      gap: 12px;\n",
              "    }\n",
              "\n",
              "    .colab-df-convert {\n",
              "      background-color: #E8F0FE;\n",
              "      border: none;\n",
              "      border-radius: 50%;\n",
              "      cursor: pointer;\n",
              "      display: none;\n",
              "      fill: #1967D2;\n",
              "      height: 32px;\n",
              "      padding: 0 0 0 0;\n",
              "      width: 32px;\n",
              "    }\n",
              "\n",
              "    .colab-df-convert:hover {\n",
              "      background-color: #E2EBFA;\n",
              "      box-shadow: 0px 1px 2px rgba(60, 64, 67, 0.3), 0px 1px 3px 1px rgba(60, 64, 67, 0.15);\n",
              "      fill: #174EA6;\n",
              "    }\n",
              "\n",
              "    .colab-df-buttons div {\n",
              "      margin-bottom: 4px;\n",
              "    }\n",
              "\n",
              "    [theme=dark] .colab-df-convert {\n",
              "      background-color: #3B4455;\n",
              "      fill: #D2E3FC;\n",
              "    }\n",
              "\n",
              "    [theme=dark] .colab-df-convert:hover {\n",
              "      background-color: #434B5C;\n",
              "      box-shadow: 0px 1px 3px 1px rgba(0, 0, 0, 0.15);\n",
              "      filter: drop-shadow(0px 1px 2px rgba(0, 0, 0, 0.3));\n",
              "      fill: #FFFFFF;\n",
              "    }\n",
              "  </style>\n",
              "\n",
              "    <script>\n",
              "      const buttonEl =\n",
              "        document.querySelector('#df-8ff43b83-a5ff-4acc-9e3d-079a88c2ec8b button.colab-df-convert');\n",
              "      buttonEl.style.display =\n",
              "        google.colab.kernel.accessAllowed ? 'block' : 'none';\n",
              "\n",
              "      async function convertToInteractive(key) {\n",
              "        const element = document.querySelector('#df-8ff43b83-a5ff-4acc-9e3d-079a88c2ec8b');\n",
              "        const dataTable =\n",
              "          await google.colab.kernel.invokeFunction('convertToInteractive',\n",
              "                                                    [key], {});\n",
              "        if (!dataTable) return;\n",
              "\n",
              "        const docLinkHtml = 'Like what you see? Visit the ' +\n",
              "          '<a target=\"_blank\" href=https://colab.research.google.com/notebooks/data_table.ipynb>data table notebook</a>'\n",
              "          + ' to learn more about interactive tables.';\n",
              "        element.innerHTML = '';\n",
              "        dataTable['output_type'] = 'display_data';\n",
              "        await google.colab.output.renderOutput(dataTable, element);\n",
              "        const docLink = document.createElement('div');\n",
              "        docLink.innerHTML = docLinkHtml;\n",
              "        element.appendChild(docLink);\n",
              "      }\n",
              "    </script>\n",
              "  </div>\n",
              "\n",
              "\n",
              "<div id=\"df-7a0f36f9-008e-4045-8219-f159fdd1b1ec\">\n",
              "  <button class=\"colab-df-quickchart\" onclick=\"quickchart('df-7a0f36f9-008e-4045-8219-f159fdd1b1ec')\"\n",
              "            title=\"Suggest charts\"\n",
              "            style=\"display:none;\">\n",
              "\n",
              "<svg xmlns=\"http://www.w3.org/2000/svg\" height=\"24px\"viewBox=\"0 0 24 24\"\n",
              "     width=\"24px\">\n",
              "    <g>\n",
              "        <path d=\"M19 3H5c-1.1 0-2 .9-2 2v14c0 1.1.9 2 2 2h14c1.1 0 2-.9 2-2V5c0-1.1-.9-2-2-2zM9 17H7v-7h2v7zm4 0h-2V7h2v10zm4 0h-2v-4h2v4z\"/>\n",
              "    </g>\n",
              "</svg>\n",
              "  </button>\n",
              "\n",
              "<style>\n",
              "  .colab-df-quickchart {\n",
              "      --bg-color: #E8F0FE;\n",
              "      --fill-color: #1967D2;\n",
              "      --hover-bg-color: #E2EBFA;\n",
              "      --hover-fill-color: #174EA6;\n",
              "      --disabled-fill-color: #AAA;\n",
              "      --disabled-bg-color: #DDD;\n",
              "  }\n",
              "\n",
              "  [theme=dark] .colab-df-quickchart {\n",
              "      --bg-color: #3B4455;\n",
              "      --fill-color: #D2E3FC;\n",
              "      --hover-bg-color: #434B5C;\n",
              "      --hover-fill-color: #FFFFFF;\n",
              "      --disabled-bg-color: #3B4455;\n",
              "      --disabled-fill-color: #666;\n",
              "  }\n",
              "\n",
              "  .colab-df-quickchart {\n",
              "    background-color: var(--bg-color);\n",
              "    border: none;\n",
              "    border-radius: 50%;\n",
              "    cursor: pointer;\n",
              "    display: none;\n",
              "    fill: var(--fill-color);\n",
              "    height: 32px;\n",
              "    padding: 0;\n",
              "    width: 32px;\n",
              "  }\n",
              "\n",
              "  .colab-df-quickchart:hover {\n",
              "    background-color: var(--hover-bg-color);\n",
              "    box-shadow: 0 1px 2px rgba(60, 64, 67, 0.3), 0 1px 3px 1px rgba(60, 64, 67, 0.15);\n",
              "    fill: var(--button-hover-fill-color);\n",
              "  }\n",
              "\n",
              "  .colab-df-quickchart-complete:disabled,\n",
              "  .colab-df-quickchart-complete:disabled:hover {\n",
              "    background-color: var(--disabled-bg-color);\n",
              "    fill: var(--disabled-fill-color);\n",
              "    box-shadow: none;\n",
              "  }\n",
              "\n",
              "  .colab-df-spinner {\n",
              "    border: 2px solid var(--fill-color);\n",
              "    border-color: transparent;\n",
              "    border-bottom-color: var(--fill-color);\n",
              "    animation:\n",
              "      spin 1s steps(1) infinite;\n",
              "  }\n",
              "\n",
              "  @keyframes spin {\n",
              "    0% {\n",
              "      border-color: transparent;\n",
              "      border-bottom-color: var(--fill-color);\n",
              "      border-left-color: var(--fill-color);\n",
              "    }\n",
              "    20% {\n",
              "      border-color: transparent;\n",
              "      border-left-color: var(--fill-color);\n",
              "      border-top-color: var(--fill-color);\n",
              "    }\n",
              "    30% {\n",
              "      border-color: transparent;\n",
              "      border-left-color: var(--fill-color);\n",
              "      border-top-color: var(--fill-color);\n",
              "      border-right-color: var(--fill-color);\n",
              "    }\n",
              "    40% {\n",
              "      border-color: transparent;\n",
              "      border-right-color: var(--fill-color);\n",
              "      border-top-color: var(--fill-color);\n",
              "    }\n",
              "    60% {\n",
              "      border-color: transparent;\n",
              "      border-right-color: var(--fill-color);\n",
              "    }\n",
              "    80% {\n",
              "      border-color: transparent;\n",
              "      border-right-color: var(--fill-color);\n",
              "      border-bottom-color: var(--fill-color);\n",
              "    }\n",
              "    90% {\n",
              "      border-color: transparent;\n",
              "      border-bottom-color: var(--fill-color);\n",
              "    }\n",
              "  }\n",
              "</style>\n",
              "\n",
              "  <script>\n",
              "    async function quickchart(key) {\n",
              "      const quickchartButtonEl =\n",
              "        document.querySelector('#' + key + ' button');\n",
              "      quickchartButtonEl.disabled = true;  // To prevent multiple clicks.\n",
              "      quickchartButtonEl.classList.add('colab-df-spinner');\n",
              "      try {\n",
              "        const charts = await google.colab.kernel.invokeFunction(\n",
              "            'suggestCharts', [key], {});\n",
              "      } catch (error) {\n",
              "        console.error('Error during call to suggestCharts:', error);\n",
              "      }\n",
              "      quickchartButtonEl.classList.remove('colab-df-spinner');\n",
              "      quickchartButtonEl.classList.add('colab-df-quickchart-complete');\n",
              "    }\n",
              "    (() => {\n",
              "      let quickchartButtonEl =\n",
              "        document.querySelector('#df-7a0f36f9-008e-4045-8219-f159fdd1b1ec button');\n",
              "      quickchartButtonEl.style.display =\n",
              "        google.colab.kernel.accessAllowed ? 'block' : 'none';\n",
              "    })();\n",
              "  </script>\n",
              "</div>\n",
              "\n",
              "    </div>\n",
              "  </div>\n"
            ],
            "text/plain": [
              "         age  hypertension  heart_disease        bmi  HbA1c_level  \\\n",
              "0  79.319329             0              0  38.135074     8.169386   \n",
              "1  79.263271             0              0  28.642383     6.825512   \n",
              "2  79.688182             0              0  34.010971     5.679890   \n",
              "3  78.975719             0              0  32.473522     5.717253   \n",
              "4  77.566006             0              0  30.266252     7.511460   \n",
              "\n",
              "   blood_glucose_level  diabetes  \n",
              "0                  216         1  \n",
              "1                  299         1  \n",
              "2                  253         1  \n",
              "3                  282         1  \n",
              "4                  125         1  "
            ]
          },
          "execution_count": 23,
          "metadata": {},
          "output_type": "execute_result"
        }
      ],
      "source": [
        "synth_data['diabetes'] = 1\n",
        "synth_data.head()"
      ]
    },
    {
      "cell_type": "code",
      "execution_count": 24,
      "metadata": {
        "colab": {
          "base_uri": "https://localhost:8080/"
        },
        "id": "G6FwYfSf8h7M",
        "outputId": "a4e4d71f-b39e-4822-ce38-6ace43bd7250"
      },
      "outputs": [
        {
          "name": "stdout",
          "output_type": "stream",
          "text": [
            "(163146, 7)\n",
            "<class 'pandas.core.frame.DataFrame'>\n",
            "RangeIndex: 163146 entries, 0 to 163145\n",
            "Data columns (total 7 columns):\n",
            " #   Column               Non-Null Count   Dtype  \n",
            "---  ------               --------------   -----  \n",
            " 0   age                  163146 non-null  float64\n",
            " 1   hypertension         163146 non-null  int64  \n",
            " 2   heart_disease        163146 non-null  int64  \n",
            " 3   bmi                  163146 non-null  float64\n",
            " 4   HbA1c_level          163146 non-null  float64\n",
            " 5   blood_glucose_level  163146 non-null  int64  \n",
            " 6   diabetes             163146 non-null  int64  \n",
            "dtypes: float64(3), int64(4)\n",
            "memory usage: 8.7 MB\n"
          ]
        }
      ],
      "source": [
        "combined_data = pd.concat([diabetes_df, synth_data], ignore_index=True)\n",
        "print(combined_data.shape)\n",
        "combined_data.info()"
      ]
    },
    {
      "cell_type": "code",
      "execution_count": 25,
      "metadata": {
        "colab": {
          "base_uri": "https://localhost:8080/"
        },
        "id": "Fq1MWjNvhqhG",
        "outputId": "d74f48e5-af1a-4e49-8c18-4538d5e22cd2"
      },
      "outputs": [
        {
          "data": {
            "text/plain": [
              "9054"
            ]
          },
          "execution_count": 25,
          "metadata": {},
          "output_type": "execute_result"
        }
      ],
      "source": [
        "duplicates = combined_data.duplicated()\n",
        "duplicates.sum()"
      ]
    },
    {
      "cell_type": "code",
      "execution_count": 26,
      "metadata": {
        "colab": {
          "base_uri": "https://localhost:8080/"
        },
        "id": "pJHnyZvzkIs5",
        "outputId": "5c16999a-782f-4a60-aed2-1806d6c01b35"
      },
      "outputs": [
        {
          "name": "stdout",
          "output_type": "stream",
          "text": [
            "(154092, 7)\n"
          ]
        }
      ],
      "source": [
        "combined_data = combined_data.drop_duplicates()\n",
        "print(combined_data.shape)"
      ]
    },
    {
      "cell_type": "code",
      "execution_count": 27,
      "metadata": {
        "id": "UdQY4bPe8n8I"
      },
      "outputs": [],
      "source": [
        "Y_all = combined_data[\"diabetes\"]\n",
        "X_all = combined_data.drop(\"diabetes\", axis=1)"
      ]
    },
    {
      "cell_type": "code",
      "execution_count": 28,
      "metadata": {
        "id": "mqncEPAv8_N-"
      },
      "outputs": [],
      "source": [
        "X_train, X_eval, y_train, y_eval = train_test_split(X_all, Y_all, test_size=0.2, random_state=42)"
      ]
    },
    {
      "cell_type": "code",
      "execution_count": 29,
      "metadata": {
        "colab": {
          "base_uri": "https://localhost:8080/"
        },
        "id": "NFomoFNtcfnL",
        "outputId": "b6a35c58-3454-481f-9cb7-32d214276536"
      },
      "outputs": [
        {
          "data": {
            "text/plain": [
              "((123273, 6), (154092, 6))"
            ]
          },
          "execution_count": 29,
          "metadata": {},
          "output_type": "execute_result"
        }
      ],
      "source": [
        "X_train.shape, X_all.shape"
      ]
    },
    {
      "cell_type": "code",
      "execution_count": 30,
      "metadata": {
        "id": "4o2AulV9cJCt"
      },
      "outputs": [],
      "source": [
        "#getting test data set\n",
        "X_eval, X_test, y_eval, y_test = train_test_split(X_eval, y_eval, test_size=0.5, random_state=42)"
      ]
    },
    {
      "cell_type": "code",
      "execution_count": 31,
      "metadata": {
        "colab": {
          "base_uri": "https://localhost:8080/"
        },
        "id": "3IRvjHcRc1Xy",
        "outputId": "379c69b1-ecf9-48b6-b32d-3f7f501ae4d4"
      },
      "outputs": [
        {
          "data": {
            "text/plain": [
              "((123273, 6), (15409, 6), (15410, 6))"
            ]
          },
          "execution_count": 31,
          "metadata": {},
          "output_type": "execute_result"
        }
      ],
      "source": [
        "X_train.shape, X_eval.shape, X_test.shape"
      ]
    },
    {
      "cell_type": "code",
      "execution_count": 44,
      "metadata": {
        "id": "52Nl3-vobAPW"
      },
      "outputs": [],
      "source": [
        "class_count = len(target_dict)\n",
        "count_0 = combined_data[combined_data[\"diabetes\"] == 0].shape[0]\n",
        "count_1 = combined_data[combined_data[\"diabetes\"] == 1].shape[0]"
      ]
    },
    {
      "cell_type": "code",
      "execution_count": 45,
      "metadata": {
        "id": "4myX2pylcR25"
      },
      "outputs": [],
      "source": [
        "class_weight = {\"class_0\": (round(total_data/(class_count * count_0), 3)),\n",
        "                \"class_1\": (round(total_data/(class_count*count_1),3))}"
      ]
    },
    {
      "cell_type": "code",
      "execution_count": 46,
      "metadata": {
        "colab": {
          "base_uri": "https://localhost:8080/"
        },
        "id": "KQS9YnMRcXMH",
        "outputId": "2ba58a13-a84d-40f0-e637-f2cc48e78acd"
      },
      "outputs": [
        {
          "data": {
            "text/plain": [
              "{'class_0': 0.611, 'class_1': 0.638}"
            ]
          },
          "execution_count": 46,
          "metadata": {},
          "output_type": "execute_result"
        }
      ],
      "source": [
        "class_weight"
      ]
    },
    {
      "cell_type": "code",
      "execution_count": 47,
      "metadata": {
        "id": "oZ6HmVI9d2bg"
      },
      "outputs": [],
      "source": [
        "list_class_weight =  [value for key, value in class_weight.items()]"
      ]
    },
    {
      "cell_type": "code",
      "execution_count": 48,
      "metadata": {
        "id": "_c1hZemyfE1a"
      },
      "outputs": [],
      "source": [
        "train_pool = Pool(X_train, y_train, cat_features=None)\n",
        "eval_pool = Pool(X_eval, y_eval, cat_features=None)"
      ]
    },
    {
      "cell_type": "code",
      "execution_count": 49,
      "metadata": {
        "id": "vaYmpPemZkNA"
      },
      "outputs": [],
      "source": [
        "# param_grid = {\n",
        "#     'iterations': [500, 1000, 1500],\n",
        "#     'learning_rate': [0.01, 0.05, 0.1],\n",
        "#     'depth': [4, 6, 8, 10],\n",
        "#     'l2_leaf_reg': [1, 3, 5, 7, 9],\n",
        "#     'bagging_temperature': [0.1, 0.5, 1, 2, 5],\n",
        "#     'random_strength': [1, 2, 5, 10],\n",
        "#     'border_count': [32, 50, 100],\n",
        "#     'class_weights': [list_class_weight]\n",
        "# }"
      ]
    },
    {
      "cell_type": "code",
      "execution_count": 50,
      "metadata": {
        "id": "oEehG19If61d"
      },
      "outputs": [],
      "source": [
        "model = CatBoostClassifier(\n",
        "    iterations=1000,\n",
        "    learning_rate=0.1,\n",
        "    depth=6,\n",
        "    loss_function='Logloss',\n",
        "    eval_metric='AUC',\n",
        "    class_weights=list_class_weight,\n",
        "    random_seed=42,\n",
        "    early_stopping_rounds=50\n",
        ")"
      ]
    },
    {
      "cell_type": "code",
      "execution_count": 51,
      "metadata": {
        "id": "vNulAzV7aL9d"
      },
      "outputs": [],
      "source": [
        "# random_search = RandomizedSearchCV(\n",
        "#     estimator=model,\n",
        "#     param_distributions=param_grid,\n",
        "#     n_iter=50,\n",
        "#     scoring='f1',\n",
        "#     cv=3,\n",
        "#     verbose=3,\n",
        "#     random_state=42,\n",
        "#     n_jobs=-1\n",
        "# )"
      ]
    },
    {
      "cell_type": "code",
      "execution_count": 52,
      "metadata": {
        "id": "DgsT4rW1abfU"
      },
      "outputs": [],
      "source": [
        "# random_search.fit(X_train, y_train, cat_features=None)"
      ]
    },
    {
      "cell_type": "code",
      "execution_count": 53,
      "metadata": {
        "id": "BSXqQBDcapHZ"
      },
      "outputs": [],
      "source": [
        "# best_model = random_search.best_estimator_\n",
        "\n",
        "# # Make predictions\n",
        "# y_pred = best_model.predict(X_eval)\n",
        "# y_proba = best_model.predict_proba(X_eval)[:, 1]\n",
        "\n",
        "# # Evaluate the model\n",
        "# print(classification_report(y_eval, y_pred))"
      ]
    },
    {
      "cell_type": "code",
      "execution_count": 54,
      "metadata": {
        "colab": {
          "base_uri": "https://localhost:8080/",
          "height": 191,
          "referenced_widgets": [
            "672b5ef9914640428c8b52c7fec6aa2f"
          ]
        },
        "id": "n350FvVIje_i",
        "outputId": "e467819d-de88-491c-9daa-baca53f860a4"
      },
      "outputs": [
        {
          "data": {
            "application/vnd.jupyter.widget-view+json": {
              "model_id": "672b5ef9914640428c8b52c7fec6aa2f",
              "version_major": 2,
              "version_minor": 0
            },
            "text/plain": [
              "MetricVisualizer(layout=Layout(align_self='stretch', height='500px'))"
            ]
          },
          "metadata": {},
          "output_type": "display_data"
        },
        {
          "name": "stdout",
          "output_type": "stream",
          "text": [
            "0:\ttest: 0.9819230\tbest: 0.9819230 (0)\ttotal: 32.3ms\tremaining: 32.3s\n",
            "100:\ttest: 0.9974879\tbest: 0.9974879 (100)\ttotal: 3.31s\tremaining: 29.5s\n",
            "200:\ttest: 0.9975394\tbest: 0.9975554 (174)\ttotal: 8.29s\tremaining: 32.9s\n",
            "Stopped by overfitting detector  (50 iterations wait)\n",
            "\n",
            "bestTest = 0.9975553524\n",
            "bestIteration = 174\n",
            "\n",
            "Shrink model to first 175 iterations.\n"
          ]
        },
        {
          "data": {
            "text/plain": [
              "<catboost.core.CatBoostClassifier at 0x7e94205725c0>"
            ]
          },
          "execution_count": 54,
          "metadata": {},
          "output_type": "execute_result"
        }
      ],
      "source": [
        "model.fit(train_pool, eval_set=eval_pool, verbose=100, plot=True)"
      ]
    },
    {
      "cell_type": "code",
      "execution_count": 55,
      "metadata": {
        "id": "P_V4Gdlojf2J"
      },
      "outputs": [],
      "source": [
        "y_pred = model.predict(X_eval)"
      ]
    },
    {
      "cell_type": "markdown",
      "metadata": {
        "id": "INFMjRi7q2H2"
      },
      "source": [
        "Support for third party widgets will remain active for the duration of the session. To disable support:"
      ]
    },
    {
      "cell_type": "code",
      "execution_count": 56,
      "metadata": {
        "colab": {
          "base_uri": "https://localhost:8080/"
        },
        "id": "xIEtqC8kmw0n",
        "outputId": "bdddda65-9950-4f82-ac2f-a86586d7b0dd"
      },
      "outputs": [
        {
          "name": "stdout",
          "output_type": "stream",
          "text": [
            "              precision    recall  f1-score   support\n",
            "\n",
            "           0       0.97      1.00      0.98      7831\n",
            "           1       1.00      0.96      0.98      7578\n",
            "\n",
            "    accuracy                           0.98     15409\n",
            "   macro avg       0.98      0.98      0.98     15409\n",
            "weighted avg       0.98      0.98      0.98     15409\n",
            "\n"
          ]
        }
      ],
      "source": [
        "print(classification_report(y_eval, y_pred))"
      ]
    },
    {
      "cell_type": "code",
      "execution_count": 57,
      "metadata": {
        "colab": {
          "base_uri": "https://localhost:8080/",
          "height": 472
        },
        "id": "usKMDXQfuqiP",
        "outputId": "0d66b3a8-601a-44a2-837d-2349529af440"
      },
      "outputs": [
        {
          "data": {
            "image/png": "[encoded data removed]",
            "text/plain": [
              "<Figure size 640x480 with 2 Axes>"
            ]
          },
          "metadata": {},
          "output_type": "display_data"
        }
      ],
      "source": [
        "from sklearn.metrics import confusion_matrix,precision_score, recall_score, classification_report\n",
        "import seaborn as sns\n",
        "def plot_confusion_matrix(y_true, y_pred):\n",
        "  class_names = ['No Diabetes', 'Diabetes']\n",
        "  cm = confusion_matrix(y_true, y_pred)\n",
        "  sns.heatmap(cm, annot=True, fmt=\"d\", cmap=\"Blues\", xticklabels=class_names, yticklabels=class_names)\n",
        "  plt.xlabel('Predicted labels')\n",
        "  plt.ylabel('True labels')\n",
        "  plt.title('Confusion Matrix')\n",
        "  plt.show()\n",
        "plot_confusion_matrix(y_eval, y_pred)"
      ]
    },
    {
      "cell_type": "code",
      "execution_count": 60,
      "metadata": {
        "id": "D5fSJMYhbNJ_"
      },
      "outputs": [],
      "source": [
        "y_test_pred  = model.predict(X_test)"
      ]
    },
    {
      "cell_type": "code",
      "execution_count": 61,
      "metadata": {
        "colab": {
          "base_uri": "https://localhost:8080/"
        },
        "id": "cBkDZ_EuhHDx",
        "outputId": "8ad1bd99-bc2b-49be-a980-96e6705bb8b0"
      },
      "outputs": [
        {
          "name": "stdout",
          "output_type": "stream",
          "text": [
            "              precision    recall  f1-score   support\n",
            "\n",
            "           0       0.97      1.00      0.98      7841\n",
            "           1       1.00      0.97      0.98      7569\n",
            "\n",
            "    accuracy                           0.98     15410\n",
            "   macro avg       0.98      0.98      0.98     15410\n",
            "weighted avg       0.98      0.98      0.98     15410\n",
            "\n"
          ]
        }
      ],
      "source": [
        "print(classification_report(y_test, y_test_pred))"
      ]
    },
    {
      "cell_type": "code",
      "execution_count": 62,
      "metadata": {
        "colab": {
          "base_uri": "https://localhost:8080/",
          "height": 472
        },
        "id": "EkGoQWP_hLAs",
        "outputId": "bc0297c6-c35b-409d-87a5-ff816687cf0f"
      },
      "outputs": [
        {
          "data": {
            "image/png": "[encoded data removed]",
            "text/plain": [
              "<Figure size 640x480 with 2 Axes>"
            ]
          },
          "metadata": {},
          "output_type": "display_data"
        }
      ],
      "source": [
        "plot_confusion_matrix(y_test, y_test_pred)"
      ]
    },
    {
      "cell_type": "code",
      "execution_count": 63,
      "metadata": {
        "id": "tePpK18miE9h"
      },
      "outputs": [],
      "source": [
        "!pip freeze > requirements.txt\n"
      ]
    },
    {
      "cell_type": "code",
      "execution_count": 64,
      "metadata": {
        "colab": {
          "base_uri": "https://localhost:8080/"
        },
        "id": "-pMVyYJ4QfqA",
        "outputId": "12e480e1-6f48-4d78-88c6-c917b02054ca"
      },
      "outputs": [
        {
          "data": {
            "text/plain": [
              "diabetes\n",
              "0    78693\n",
              "1    75399\n",
              "Name: count, dtype: int64"
            ]
          },
          "execution_count": 64,
          "metadata": {},
          "output_type": "execute_result"
        }
      ],
      "source": [
        "combined_data[\"diabetes\"].value_counts()"
      ]
    },
    {
      "cell_type": "code",
      "execution_count": 65,
      "metadata": {
        "id": "oERQZRV0nDhg"
      },
      "outputs": [],
      "source": [
        "# messing around with smote\n",
        "from imblearn.over_sampling import SMOTE\n",
        "\n",
        "smote = SMOTE(random_state=42)\n",
        "X_foo, y_foo = smote.fit_resample(X_train, y_train)"
      ]
    },
    {
      "cell_type": "code",
      "execution_count": 66,
      "metadata": {
        "id": "KALjVfS-0M1b"
      },
      "outputs": [],
      "source": [
        "y_pred_foo = model.predict(X_foo)"
      ]
    },
    {
      "cell_type": "code",
      "execution_count": 67,
      "metadata": {
        "colab": {
          "base_uri": "https://localhost:8080/"
        },
        "id": "0tQgHXn80Ykw",
        "outputId": "a7958773-dd48-422a-ceec-4039278b155e"
      },
      "outputs": [
        {
          "name": "stdout",
          "output_type": "stream",
          "text": [
            "              precision    recall  f1-score   support\n",
            "\n",
            "           0       0.97      1.00      0.98     63021\n",
            "           1       1.00      0.97      0.98     63021\n",
            "\n",
            "    accuracy                           0.98    126042\n",
            "   macro avg       0.98      0.98      0.98    126042\n",
            "weighted avg       0.98      0.98      0.98    126042\n",
            "\n"
          ]
        }
      ],
      "source": [
        "print(classification_report(y_foo, y_pred_foo))"
      ]
    },
    {
      "cell_type": "code",
      "execution_count": 69,
      "metadata": {
        "colab": {
          "base_uri": "https://localhost:8080/"
        },
        "id": "f-lwXYKC0fQc",
        "outputId": "de27509e-2ddf-4117-fdb6-c9d1a2a40ef9"
      },
      "outputs": [
        {
          "name": "stdout",
          "output_type": "stream",
          "text": [
            "              precision    recall  f1-score   support\n",
            "\n",
            "           0       0.97      1.00      0.98     63021\n",
            "           1       1.00      0.97      0.98     63021\n",
            "\n",
            "    accuracy                           0.98    126042\n",
            "   macro avg       0.98      0.98      0.98    126042\n",
            "weighted avg       0.98      0.98      0.98    126042\n",
            "\n"
          ]
        }
      ],
      "source": [
        "plot_confusion_matrix(y_foo, y_pred_foo)"
      ]
    },
    {
      "cell_type": "code",
      "execution_count": null,
      "metadata": {
        "id": "FVcopqCU0o71"
      },
      "outputs": [],
      "source": []
    }
  ],
  "metadata": {
    "colab": {
      "provenance": []
    },
    "kernelspec": {
      "display_name": "Python 3",
      "name": "python3"
    },
    "language_info": {
      "name": "python"
    },
    "widgets": {
      "application/vnd.jupyter.widget-state+json": {
        "672b5ef9914640428c8b52c7fec6aa2f": {
          "model_module": "catboost-widget",
          "model_module_version": "^1.0.0",
          "model_name": "CatboostWidgetModel",
          "state": {
            "_dom_classes": [],
            "_model_module": "catboost-widget",
            "_model_module_version": "^1.0.0",
            "_model_name": "CatboostWidgetModel",
            "_view_count": null,
            "_view_module": "catboost-widget",
            "_view_module_version": "^1.0.0",
            "_view_name": "CatboostWidgetView",
            "data": {
              "catboost_info": {
                "content": {
                  "data": {
                    "iterations": [
                      {
                        "iteration": 0,
                        "learn": [
                          0.4467527238
                        ],
                        "passed_time": 0.03230243215,
                        "remaining_time": 32.27012972,
                        "test": [
                          0.9819229521,
                          0.4455027229
                        ]
                      },
                      {
                        "iteration": 1,
                        "learn": [
                          0.3126217545
                        ],
                        "passed_time": 0.07280042529,
                        "remaining_time": 36.32741222,
                        "test": [
                          0.9865572228,
                          0.3116432281
                        ]
                      },
                      {
                        "iteration": 2,
                        "learn": [
                          0.2458871029
                        ],
                        "passed_time": 0.1078105996,
                        "remaining_time": 35.82905592,
                        "test": [
                          0.9902944422,
                          0.2444770976
                        ]
                      },
                      {
                        "iteration": 3,
                        "learn": [
                          0.2042614199
                        ],
                        "passed_time": 0.1414613953,
                        "remaining_time": 35.22388743,
                        "test": [
                          0.9918281364,
                          0.2034451708
                        ]
                      },
                      {
                        "iteration": 4,
                        "learn": [
                          0.1814688892
                        ],
                        "passed_time": 0.1714605627,
                        "remaining_time": 34.12065198,
                        "test": [
                          0.9929909042,
                          0.1808283258
                        ]
                      },
                      {
                        "iteration": 5,
                        "learn": [
                          0.1606068115
                        ],
                        "passed_time": 0.2010217953,
                        "remaining_time": 33.30261075,
                        "test": [
                          0.9934038066,
                          0.1600029
                        ]
                      },
                      {
                        "iteration": 6,
                        "learn": [
                          0.1439933837
                        ],
                        "passed_time": 0.2299832547,
                        "remaining_time": 32.62476741,
                        "test": [
                          0.9941313612,
                          0.1433970379
                        ]
                      },
                      {
                        "iteration": 7,
                        "learn": [
                          0.1367766136
                        ],
                        "passed_time": 0.2627284986,
                        "remaining_time": 32.57833383,
                        "test": [
                          0.9941050061,
                          0.1361914308
                        ]
                      },
                      {
                        "iteration": 8,
                        "learn": [
                          0.1249733287
                        ],
                        "passed_time": 0.2952720698,
                        "remaining_time": 32.51273569,
                        "test": [
                          0.9944313191,
                          0.1245417549
                        ]
                      },
                      {
                        "iteration": 9,
                        "learn": [
                          0.1206274233
                        ],
                        "passed_time": 0.3272154942,
                        "remaining_time": 32.39433393,
                        "test": [
                          0.9944985382,
                          0.1201991146
                        ]
                      },
                      {
                        "iteration": 10,
                        "learn": [
                          0.1158368204
                        ],
                        "passed_time": 0.3572722006,
                        "remaining_time": 32.12201876,
                        "test": [
                          0.994669105,
                          0.1153139732
                        ]
                      },
                      {
                        "iteration": 11,
                        "learn": [
                          0.1110168189
                        ],
                        "passed_time": 0.3902698421,
                        "remaining_time": 32.132217,
                        "test": [
                          0.9948330324,
                          0.110775914
                        ]
                      },
                      {
                        "iteration": 12,
                        "learn": [
                          0.107295574
                        ],
                        "passed_time": 0.4207317758,
                        "remaining_time": 31.94325098,
                        "test": [
                          0.9949053573,
                          0.107251609
                        ]
                      },
                      {
                        "iteration": 13,
                        "learn": [
                          0.1039490961
                        ],
                        "passed_time": 0.4522422433,
                        "remaining_time": 31.85077514,
                        "test": [
                          0.9950346811,
                          0.1038540422
                        ]
                      },
                      {
                        "iteration": 14,
                        "learn": [
                          0.09914384056
                        ],
                        "passed_time": 0.4915817762,
                        "remaining_time": 32.28053664,
                        "test": [
                          0.9954111262,
                          0.0991866365
                        ]
                      },
                      {
                        "iteration": 15,
                        "learn": [
                          0.09766569712
                        ],
                        "passed_time": 0.5187657331,
                        "remaining_time": 31.90409259,
                        "test": [
                          0.995514575,
                          0.09768837604
                        ]
                      },
                      {
                        "iteration": 16,
                        "learn": [
                          0.09492203782
                        ],
                        "passed_time": 0.5492544073,
                        "remaining_time": 31.75982838,
                        "test": [
                          0.9955666702,
                          0.09501616942
                        ]
                      },
                      {
                        "iteration": 17,
                        "learn": [
                          0.09377918818
                        ],
                        "passed_time": 0.5771087003,
                        "remaining_time": 31.48448576,
                        "test": [
                          0.9955825861,
                          0.09390366343
                        ]
                      },
                      {
                        "iteration": 18,
                        "learn": [
                          0.09177939817
                        ],
                        "passed_time": 0.6092015564,
                        "remaining_time": 31.45403826,
                        "test": [
                          0.9956258176,
                          0.09183527118
                        ]
                      },
                      {
                        "iteration": 19,
                        "learn": [
                          0.08827074897
                        ],
                        "passed_time": 0.6407269941,
                        "remaining_time": 31.39562271,
                        "test": [
                          0.9960077898,
                          0.08794925641
                        ]
                      },
                      {
                        "iteration": 20,
                        "learn": [
                          0.08654863271
                        ],
                        "passed_time": 0.6701189132,
                        "remaining_time": 31.24030552,
                        "test": [
                          0.9961007826,
                          0.08618367341
                        ]
                      },
                      {
                        "iteration": 21,
                        "learn": [
                          0.08358489571
                        ],
                        "passed_time": 0.7004979201,
                        "remaining_time": 31.14031663,
                        "test": [
                          0.9961750959,
                          0.08324751199
                        ]
                      },
                      {
                        "iteration": 22,
                        "learn": [
                          0.08295406637
                        ],
                        "passed_time": 0.7347100282,
                        "remaining_time": 31.20920424,
                        "test": [
                          0.9962161705,
                          0.08259857719
                        ]
                      },
                      {
                        "iteration": 23,
                        "learn": [
                          0.08126858456
                        ],
                        "passed_time": 0.7750698972,
                        "remaining_time": 31.51950915,
                        "test": [
                          0.9962927418,
                          0.08088281633
                        ]
                      },
                      {
                        "iteration": 24,
                        "learn": [
                          0.07792208019
                        ],
                        "passed_time": 0.8170506737,
                        "remaining_time": 31.86497627,
                        "test": [
                          0.996516735,
                          0.07772139684
                        ]
                      },
                      {
                        "iteration": 25,
                        "learn": [
                          0.07626536913
                        ],
                        "passed_time": 0.8469714986,
                        "remaining_time": 31.72885537,
                        "test": [
                          0.9966097194,
                          0.07601933866
                        ]
                      },
                      {
                        "iteration": 26,
                        "learn": [
                          0.07492043366
                        ],
                        "passed_time": 0.8765570145,
                        "remaining_time": 31.5885176,
                        "test": [
                          0.9966829543,
                          0.07446215716
                        ]
                      },
                      {
                        "iteration": 27,
                        "learn": [
                          0.0727400625
                        ],
                        "passed_time": 0.9164241587,
                        "remaining_time": 31.81301008,
                        "test": [
                          0.9967405176,
                          0.07236090963
                        ]
                      },
                      {
                        "iteration": 28,
                        "learn": [
                          0.07175192464
                        ],
                        "passed_time": 0.94730475,
                        "remaining_time": 31.71837628,
                        "test": [
                          0.9967503924,
                          0.07141625093
                        ]
                      },
                      {
                        "iteration": 29,
                        "learn": [
                          0.07095868444
                        ],
                        "passed_time": 0.9776387227,
                        "remaining_time": 31.6103187,
                        "test": [
                          0.9967451601,
                          0.07072715374
                        ]
                      },
                      {
                        "iteration": 30,
                        "learn": [
                          0.06995812831
                        ],
                        "passed_time": 1.008534361,
                        "remaining_time": 31.52483213,
                        "test": [
                          0.9967539901,
                          0.06960374383
                        ]
                      },
                      {
                        "iteration": 31,
                        "learn": [
                          0.06864373774
                        ],
                        "passed_time": 1.039199157,
                        "remaining_time": 31.4357745,
                        "test": [
                          0.996762938,
                          0.06831249061
                        ]
                      },
                      {
                        "iteration": 32,
                        "learn": [
                          0.06712576221
                        ],
                        "passed_time": 1.069274224,
                        "remaining_time": 31.33297499,
                        "test": [
                          0.9967729812,
                          0.06684828
                        ]
                      },
                      {
                        "iteration": 33,
                        "learn": [
                          0.06651072123
                        ],
                        "passed_time": 1.103127109,
                        "remaining_time": 31.34178786,
                        "test": [
                          0.9968363666,
                          0.06627039223
                        ]
                      },
                      {
                        "iteration": 34,
                        "learn": [
                          0.06621115811
                        ],
                        "passed_time": 1.134899929,
                        "remaining_time": 31.29081233,
                        "test": [
                          0.9968559392,
                          0.06598650278
                        ]
                      },
                      {
                        "iteration": 35,
                        "learn": [
                          0.06593937008
                        ],
                        "passed_time": 1.162315582,
                        "remaining_time": 31.12422836,
                        "test": [
                          0.9968843586,
                          0.06571842513
                        ]
                      },
                      {
                        "iteration": 36,
                        "learn": [
                          0.06501919453
                        ],
                        "passed_time": 1.193420599,
                        "remaining_time": 31.06119019,
                        "test": [
                          0.9969284495,
                          0.06485568884
                        ]
                      },
                      {
                        "iteration": 37,
                        "learn": [
                          0.0647328748
                        ],
                        "passed_time": 1.223956918,
                        "remaining_time": 30.98543567,
                        "test": [
                          0.996971959,
                          0.06456769013
                        ]
                      },
                      {
                        "iteration": 38,
                        "learn": [
                          0.06424978559
                        ],
                        "passed_time": 1.267090449,
                        "remaining_time": 31.22240825,
                        "test": [
                          0.9969958623,
                          0.0640995771
                        ]
                      },
                      {
                        "iteration": 39,
                        "learn": [
                          0.0637058699
                        ],
                        "passed_time": 1.302607101,
                        "remaining_time": 31.26257043,
                        "test": [
                          0.9970131768,
                          0.06353446154
                        ]
                      },
                      {
                        "iteration": 40,
                        "learn": [
                          0.06291731935
                        ],
                        "passed_time": 1.332332778,
                        "remaining_time": 31.16358865,
                        "test": [
                          0.9970399026,
                          0.0627645448
                        ]
                      },
                      {
                        "iteration": 41,
                        "learn": [
                          0.06275599984
                        ],
                        "passed_time": 1.37047617,
                        "remaining_time": 31.25990883,
                        "test": [
                          0.997050266,
                          0.06263682129
                        ]
                      },
                      {
                        "iteration": 42,
                        "learn": [
                          0.06263367755
                        ],
                        "passed_time": 1.405689496,
                        "remaining_time": 31.28476391,
                        "test": [
                          0.9970827381,
                          0.06250393154
                        ]
                      },
                      {
                        "iteration": 43,
                        "learn": [
                          0.06247778986
                        ],
                        "passed_time": 1.439474439,
                        "remaining_time": 31.27585372,
                        "test": [
                          0.9971014007,
                          0.0623811297
                        ]
                      },
                      {
                        "iteration": 44,
                        "learn": [
                          0.06236705478
                        ],
                        "passed_time": 1.468738668,
                        "remaining_time": 31.1698984,
                        "test": [
                          0.9971181423,
                          0.06227787517
                        ]
                      },
                      {
                        "iteration": 45,
                        "learn": [
                          0.06220260048
                        ],
                        "passed_time": 1.501206386,
                        "remaining_time": 31.13371504,
                        "test": [
                          0.9971288343,
                          0.06214049707
                        ]
                      },
                      {
                        "iteration": 46,
                        "learn": [
                          0.0620458086
                        ],
                        "passed_time": 1.531667315,
                        "remaining_time": 31.05699896,
                        "test": [
                          0.9971455,
                          0.06201698073
                        ]
                      },
                      {
                        "iteration": 47,
                        "learn": [
                          0.06192114482
                        ],
                        "passed_time": 1.561405688,
                        "remaining_time": 30.96787948,
                        "test": [
                          0.9971550883,
                          0.06193717391
                        ]
                      },
                      {
                        "iteration": 48,
                        "learn": [
                          0.06176107847
                        ],
                        "passed_time": 1.590612823,
                        "remaining_time": 30.87087337,
                        "test": [
                          0.9971797583,
                          0.06177808587
                        ]
                      },
                      {
                        "iteration": 49,
                        "learn": [
                          0.06164615844
                        ],
                        "passed_time": 1.620342446,
                        "remaining_time": 30.78650647,
                        "test": [
                          0.9971853107,
                          0.06171273366
                        ]
                      },
                      {
                        "iteration": 50,
                        "learn": [
                          0.06155785851
                        ],
                        "passed_time": 1.65020589,
                        "remaining_time": 30.70677234,
                        "test": [
                          0.9972026168,
                          0.06163186568
                        ]
                      },
                      {
                        "iteration": 51,
                        "learn": [
                          0.06023550089
                        ],
                        "passed_time": 1.683825688,
                        "remaining_time": 30.69743754,
                        "test": [
                          0.9972222315,
                          0.06041324406
                        ]
                      },
                      {
                        "iteration": 52,
                        "learn": [
                          0.05958792884
                        ],
                        "passed_time": 1.721552055,
                        "remaining_time": 30.76056219,
                        "test": [
                          0.9972392848,
                          0.05969972624
                        ]
                      },
                      {
                        "iteration": 53,
                        "learn": [
                          0.05896747495
                        ],
                        "passed_time": 1.755379133,
                        "remaining_time": 30.75164185,
                        "test": [
                          0.9972480979,
                          0.05908155156
                        ]
                      },
                      {
                        "iteration": 54,
                        "learn": [
                          0.05866757241
                        ],
                        "passed_time": 1.786483979,
                        "remaining_time": 30.6950429,
                        "test": [
                          0.9972787164,
                          0.05879582788
                        ]
                      },
                      {
                        "iteration": 55,
                        "learn": [
                          0.05844720329
                        ],
                        "passed_time": 1.83951593,
                        "remaining_time": 31.00898282,
                        "test": [
                          0.9972823057,
                          0.05855728801
                        ]
                      },
                      {
                        "iteration": 56,
                        "learn": [
                          0.05838722723
                        ],
                        "passed_time": 1.869195868,
                        "remaining_time": 30.92371409,
                        "test": [
                          0.9972898297,
                          0.05850919977
                        ]
                      },
                      {
                        "iteration": 57,
                        "learn": [
                          0.05828830783
                        ],
                        "passed_time": 1.910294969,
                        "remaining_time": 31.02582519,
                        "test": [
                          0.9973030241,
                          0.05844090598
                        ]
                      },
                      {
                        "iteration": 58,
                        "learn": [
                          0.05822195749
                        ],
                        "passed_time": 1.940142659,
                        "remaining_time": 30.94363122,
                        "test": [
                          0.9973125449,
                          0.05838679487
                        ]
                      },
                      {
                        "iteration": 59,
                        "learn": [
                          0.05794376667
                        ],
                        "passed_time": 1.96979474,
                        "remaining_time": 30.86011759,
                        "test": [
                          0.9973251327,
                          0.05812583745
                        ]
                      },
                      {
                        "iteration": 60,
                        "learn": [
                          0.05763156619
                        ],
                        "passed_time": 2.004376689,
                        "remaining_time": 30.85425755,
                        "test": [
                          0.9973419164,
                          0.05783256099
                        ]
                      },
                      {
                        "iteration": 61,
                        "learn": [
                          0.05746733085
                        ],
                        "passed_time": 2.035062577,
                        "remaining_time": 30.78852737,
                        "test": [
                          0.9973506621,
                          0.05770263379
                        ]
                      },
                      {
                        "iteration": 62,
                        "learn": [
                          0.05719176712
                        ],
                        "passed_time": 2.06500327,
                        "remaining_time": 30.71282641,
                        "test": [
                          0.9973596775,
                          0.05746742505
                        ]
                      },
                      {
                        "iteration": 63,
                        "learn": [
                          0.05692073101
                        ],
                        "passed_time": 2.097692756,
                        "remaining_time": 30.67875656,
                        "test": [
                          0.9973706812,
                          0.05723493744
                        ]
                      },
                      {
                        "iteration": 64,
                        "learn": [
                          0.05672356482
                        ],
                        "passed_time": 2.127985168,
                        "remaining_time": 30.61024819,
                        "test": [
                          0.9973764612,
                          0.05705569847
                        ]
                      },
                      {
                        "iteration": 65,
                        "learn": [
                          0.05665140507
                        ],
                        "passed_time": 2.157163703,
                        "remaining_time": 30.52713482,
                        "test": [
                          0.9973772616,
                          0.05701741735
                        ]
                      },
                      {
                        "iteration": 66,
                        "learn": [
                          0.05644111922
                        ],
                        "passed_time": 2.199400218,
                        "remaining_time": 30.62746871,
                        "test": [
                          0.9973834796,
                          0.05679380659
                        ]
                      },
                      {
                        "iteration": 67,
                        "learn": [
                          0.05613303711
                        ],
                        "passed_time": 2.229384538,
                        "remaining_time": 30.5556822,
                        "test": [
                          0.9973989658,
                          0.05647486787
                        ]
                      },
                      {
                        "iteration": 68,
                        "learn": [
                          0.05607684624
                        ],
                        "passed_time": 2.261098335,
                        "remaining_time": 30.50844275,
                        "test": [
                          0.9973963876,
                          0.0564788768
                        ]
                      },
                      {
                        "iteration": 69,
                        "learn": [
                          0.05601714621
                        ],
                        "passed_time": 2.291853695,
                        "remaining_time": 30.44891338,
                        "test": [
                          0.9973994545,
                          0.05646254458
                        ]
                      },
                      {
                        "iteration": 70,
                        "learn": [
                          0.05592587968
                        ],
                        "passed_time": 2.320435666,
                        "remaining_time": 30.36175681,
                        "test": [
                          0.9974060348,
                          0.05639440475
                        ]
                      },
                      {
                        "iteration": 71,
                        "learn": [
                          0.05585134347
                        ],
                        "passed_time": 2.349809499,
                        "remaining_time": 30.28643355,
                        "test": [
                          0.9974150165,
                          0.05635488722
                        ]
                      },
                      {
                        "iteration": 72,
                        "learn": [
                          0.05576551834
                        ],
                        "passed_time": 2.390741217,
                        "remaining_time": 30.35913846,
                        "test": [
                          0.9974193135,
                          0.05631876684
                        ]
                      },
                      {
                        "iteration": 73,
                        "learn": [
                          0.05557294007
                        ],
                        "passed_time": 2.423196173,
                        "remaining_time": 30.32269806,
                        "test": [
                          0.9974318002,
                          0.05612704234
                        ]
                      },
                      {
                        "iteration": 74,
                        "learn": [
                          0.05538930917
                        ],
                        "passed_time": 2.452358674,
                        "remaining_time": 30.24575698,
                        "test": [
                          0.9974382204,
                          0.05595541278
                        ]
                      },
                      {
                        "iteration": 75,
                        "learn": [
                          0.05535157146
                        ],
                        "passed_time": 2.48406706,
                        "remaining_time": 30.20102584,
                        "test": [
                          0.9974445396,
                          0.05591765037
                        ]
                      },
                      {
                        "iteration": 76,
                        "learn": [
                          0.05531066094
                        ],
                        "passed_time": 2.514819177,
                        "remaining_time": 30.14517014,
                        "test": [
                          0.9974431241,
                          0.05591498518
                        ]
                      },
                      {
                        "iteration": 77,
                        "learn": [
                          0.05527236802
                        ],
                        "passed_time": 2.54379076,
                        "remaining_time": 30.0689113,
                        "test": [
                          0.9974485164,
                          0.05587909996
                        ]
                      },
                      {
                        "iteration": 78,
                        "learn": [
                          0.05511825717
                        ],
                        "passed_time": 2.573739727,
                        "remaining_time": 30.00524416,
                        "test": [
                          0.9974458371,
                          0.05576059792
                        ]
                      },
                      {
                        "iteration": 79,
                        "learn": [
                          0.05501275096
                        ],
                        "passed_time": 2.602867967,
                        "remaining_time": 29.93298162,
                        "test": [
                          0.9974464606,
                          0.05570308274
                        ]
                      },
                      {
                        "iteration": 80,
                        "learn": [
                          0.05440243747
                        ],
                        "passed_time": 2.632223516,
                        "remaining_time": 29.8643631,
                        "test": [
                          0.9974530157,
                          0.05508964093
                        ]
                      },
                      {
                        "iteration": 81,
                        "learn": [
                          0.05414240475
                        ],
                        "passed_time": 2.662565275,
                        "remaining_time": 29.80774295,
                        "test": [
                          0.9974554759,
                          0.05481312493
                        ]
                      },
                      {
                        "iteration": 82,
                        "learn": [
                          0.05401871184
                        ],
                        "passed_time": 2.692449519,
                        "remaining_time": 29.74670131,
                        "test": [
                          0.9974562511,
                          0.05472533306
                        ]
                      },
                      {
                        "iteration": 83,
                        "learn": [
                          0.05398139611
                        ],
                        "passed_time": 2.723050975,
                        "remaining_time": 29.69422254,
                        "test": [
                          0.9974574054,
                          0.054724772
                        ]
                      },
                      {
                        "iteration": 84,
                        "learn": [
                          0.05386281461
                        ],
                        "passed_time": 2.752698999,
                        "remaining_time": 29.63199511,
                        "test": [
                          0.9974594612,
                          0.05463080389
                        ]
                      },
                      {
                        "iteration": 85,
                        "learn": [
                          0.05364677959
                        ],
                        "passed_time": 2.783007311,
                        "remaining_time": 29.57754282,
                        "test": [
                          0.9974675498,
                          0.05445274447
                        ]
                      },
                      {
                        "iteration": 86,
                        "learn": [
                          0.05360698115
                        ],
                        "passed_time": 2.813215232,
                        "remaining_time": 29.52259203,
                        "test": [
                          0.9974669094,
                          0.05444568042
                        ]
                      },
                      {
                        "iteration": 87,
                        "learn": [
                          0.05356459369
                        ],
                        "passed_time": 2.864566613,
                        "remaining_time": 29.68732671,
                        "test": [
                          0.9974701111,
                          0.05443581372
                        ]
                      },
                      {
                        "iteration": 88,
                        "learn": [
                          0.05333487423
                        ],
                        "passed_time": 2.909057586,
                        "remaining_time": 29.7769827,
                        "test": [
                          0.9974740206,
                          0.05424033272
                        ]
                      },
                      {
                        "iteration": 89,
                        "learn": [
                          0.05330423576
                        ],
                        "passed_time": 2.947253467,
                        "remaining_time": 29.80000727,
                        "test": [
                          0.9974742902,
                          0.05422409325
                        ]
                      },
                      {
                        "iteration": 90,
                        "learn": [
                          0.05327840573
                        ],
                        "passed_time": 2.98638703,
                        "remaining_time": 29.83105286,
                        "test": [
                          0.9974785535,
                          0.05420268254
                        ]
                      },
                      {
                        "iteration": 91,
                        "learn": [
                          0.05321756348
                        ],
                        "passed_time": 3.016003191,
                        "remaining_time": 29.76664019,
                        "test": [
                          0.9974811317,
                          0.05418790897
                        ]
                      },
                      {
                        "iteration": 92,
                        "learn": [
                          0.05317302325
                        ],
                        "passed_time": 3.046531062,
                        "remaining_time": 29.71186745,
                        "test": [
                          0.9974809464,
                          0.05418608452
                        ]
                      },
                      {
                        "iteration": 93,
                        "learn": [
                          0.0531076486
                        ],
                        "passed_time": 3.077764166,
                        "remaining_time": 29.66440781,
                        "test": [
                          0.9974800364,
                          0.05414828404
                        ]
                      },
                      {
                        "iteration": 94,
                        "learn": [
                          0.05304595763
                        ],
                        "passed_time": 3.110442293,
                        "remaining_time": 29.63105553,
                        "test": [
                          0.9974837605,
                          0.05410693203
                        ]
                      },
                      {
                        "iteration": 95,
                        "learn": [
                          0.05301714988
                        ],
                        "passed_time": 3.142631787,
                        "remaining_time": 29.59311599,
                        "test": [
                          0.9974850328,
                          0.05410006404
                        ]
                      },
                      {
                        "iteration": 96,
                        "learn": [
                          0.05297647735
                        ],
                        "passed_time": 3.175528183,
                        "remaining_time": 29.56187576,
                        "test": [
                          0.9974824546,
                          0.05410692427
                        ]
                      },
                      {
                        "iteration": 97,
                        "learn": [
                          0.05288250752
                        ],
                        "passed_time": 3.212214135,
                        "remaining_time": 29.56548112,
                        "test": [
                          0.9974808368,
                          0.05404207268
                        ]
                      },
                      {
                        "iteration": 98,
                        "learn": [
                          0.05278616287
                        ],
                        "passed_time": 3.252738849,
                        "remaining_time": 29.60320912,
                        "test": [
                          0.997479691,
                          0.05398561769
                        ]
                      },
                      {
                        "iteration": 99,
                        "learn": [
                          0.05275088889
                        ],
                        "passed_time": 3.280867682,
                        "remaining_time": 29.52780914,
                        "test": [
                          0.9974865915,
                          0.05395809169
                        ]
                      },
                      {
                        "iteration": 100,
                        "learn": [
                          0.05272645329
                        ],
                        "passed_time": 3.313618224,
                        "remaining_time": 29.494483,
                        "test": [
                          0.9974879396,
                          0.05394032133
                        ]
                      },
                      {
                        "iteration": 101,
                        "learn": [
                          0.0526369207
                        ],
                        "passed_time": 3.358260307,
                        "remaining_time": 29.56586035,
                        "test": [
                          0.9974901471,
                          0.05385588316
                        ]
                      },
                      {
                        "iteration": 102,
                        "learn": [
                          0.05256471178
                        ],
                        "passed_time": 3.400684484,
                        "remaining_time": 29.61566973,
                        "test": [
                          0.9974940902,
                          0.05379206058
                        ]
                      },
                      {
                        "iteration": 103,
                        "learn": [
                          0.05252390756
                        ],
                        "passed_time": 3.439610767,
                        "remaining_time": 29.63356969,
                        "test": [
                          0.9974886895,
                          0.05382663674
                        ]
                      },
                      {
                        "iteration": 104,
                        "learn": [
                          0.05245373401
                        ],
                        "passed_time": 3.479860595,
                        "remaining_time": 29.66166888,
                        "test": [
                          0.9974881165,
                          0.05376774993
                        ]
                      },
                      {
                        "iteration": 105,
                        "learn": [
                          0.05243504601
                        ],
                        "passed_time": 3.508221479,
                        "remaining_time": 29.58820757,
                        "test": [
                          0.9974883861,
                          0.05375927187
                        ]
                      },
                      {
                        "iteration": 106,
                        "learn": [
                          0.05239873135
                        ],
                        "passed_time": 3.542598974,
                        "remaining_time": 29.56580266,
                        "test": [
                          0.997487611,
                          0.05376220642
                        ]
                      },
                      {
                        "iteration": 107,
                        "learn": [
                          0.05234322264
                        ],
                        "passed_time": 3.571811443,
                        "remaining_time": 29.50051673,
                        "test": [
                          0.997488066,
                          0.05372114994
                        ]
                      },
                      {
                        "iteration": 108,
                        "learn": [
                          0.05232183615
                        ],
                        "passed_time": 3.600514104,
                        "remaining_time": 29.43172538,
                        "test": [
                          0.9974862629,
                          0.05372365241
                        ]
                      },
                      {
                        "iteration": 109,
                        "learn": [
                          0.05219615706
                        ],
                        "passed_time": 3.63049522,
                        "remaining_time": 29.37400678,
                        "test": [
                          0.9974866168,
                          0.05360042888
                        ]
                      },
                      {
                        "iteration": 110,
                        "learn": [
                          0.05207563065
                        ],
                        "passed_time": 3.659974118,
                        "remaining_time": 29.31276569,
                        "test": [
                          0.9974908295,
                          0.05348343125
                        ]
                      },
                      {
                        "iteration": 111,
                        "learn": [
                          0.05193911476
                        ],
                        "passed_time": 3.689121729,
                        "remaining_time": 29.24946513,
                        "test": [
                          0.9974958849,
                          0.05336614608
                        ]
                      },
                      {
                        "iteration": 112,
                        "learn": [
                          0.05191834221
                        ],
                        "passed_time": 3.718762596,
                        "remaining_time": 29.1906409,
                        "test": [
                          0.9974969296,
                          0.05336018933
                        ]
                      },
                      {
                        "iteration": 113,
                        "learn": [
                          0.05166345742
                        ],
                        "passed_time": 3.748933892,
                        "remaining_time": 29.13645112,
                        "test": [
                          0.997499609,
                          0.05312682775
                        ]
                      },
                      {
                        "iteration": 114,
                        "learn": [
                          0.05163784631
                        ],
                        "passed_time": 3.776740737,
                        "remaining_time": 29.06448306,
                        "test": [
                          0.997499154,
                          0.05312326975
                        ]
                      },
                      {
                        "iteration": 115,
                        "learn": [
                          0.05163780666
                        ],
                        "passed_time": 3.795301297,
                        "remaining_time": 28.92281333,
                        "test": [
                          0.9974991203,
                          0.05312314565
                        ]
                      },
                      {
                        "iteration": 116,
                        "learn": [
                          0.05154527573
                        ],
                        "passed_time": 3.824910423,
                        "remaining_time": 28.86663166,
                        "test": [
                          0.9975013615,
                          0.05305773461
                        ]
                      },
                      {
                        "iteration": 117,
                        "learn": [
                          0.05150811075
                        ],
                        "passed_time": 3.870679203,
                        "remaining_time": 28.93168693,
                        "test": [
                          0.9975030803,
                          0.05305922276
                        ]
                      },
                      {
                        "iteration": 118,
                        "learn": [
                          0.05141592091
                        ],
                        "passed_time": 3.905864771,
                        "remaining_time": 28.91652826,
                        "test": [
                          0.9975075795,
                          0.05297635658
                        ]
                      },
                      {
                        "iteration": 119,
                        "learn": [
                          0.05130713399
                        ],
                        "passed_time": 3.953829823,
                        "remaining_time": 28.99475203,
                        "test": [
                          0.9975098713,
                          0.05289425005
                        ]
                      },
                      {
                        "iteration": 120,
                        "learn": [
                          0.05127519465
                        ],
                        "passed_time": 3.983234266,
                        "remaining_time": 28.93605719,
                        "test": [
                          0.9975109835,
                          0.05288510432
                        ]
                      },
                      {
                        "iteration": 121,
                        "learn": [
                          0.05124375823
                        ],
                        "passed_time": 4.016160662,
                        "remaining_time": 28.90318903,
                        "test": [
                          0.9975130393,
                          0.05287459212
                        ]
                      },
                      {
                        "iteration": 122,
                        "learn": [
                          0.05110723595
                        ],
                        "passed_time": 4.047831862,
                        "remaining_time": 28.86137027,
                        "test": [
                          0.997513983,
                          0.05276331333
                        ]
                      },
                      {
                        "iteration": 123,
                        "learn": [
                          0.05101975618
                        ],
                        "passed_time": 4.078880467,
                        "remaining_time": 28.81531685,
                        "test": [
                          0.9975192911,
                          0.05268128202
                        ]
                      },
                      {
                        "iteration": 124,
                        "learn": [
                          0.05097346613
                        ],
                        "passed_time": 4.112635868,
                        "remaining_time": 28.78845108,
                        "test": [
                          0.9975210604,
                          0.05264936548
                        ]
                      },
                      {
                        "iteration": 125,
                        "learn": [
                          0.05093627736
                        ],
                        "passed_time": 4.139352184,
                        "remaining_time": 28.71264927,
                        "test": [
                          0.9975199904,
                          0.05262563203
                        ]
                      },
                      {
                        "iteration": 126,
                        "learn": [
                          0.05089720867
                        ],
                        "passed_time": 4.169051115,
                        "remaining_time": 28.65812302,
                        "test": [
                          0.9975197208,
                          0.05263073047
                        ]
                      },
                      {
                        "iteration": 127,
                        "learn": [
                          0.05078172548
                        ],
                        "passed_time": 4.19931901,
                        "remaining_time": 28.60786076,
                        "test": [
                          0.9975170583,
                          0.0525595118
                        ]
                      },
                      {
                        "iteration": 128,
                        "learn": [
                          0.0507263976
                        ],
                        "passed_time": 4.229114432,
                        "remaining_time": 28.55471837,
                        "test": [
                          0.997517429,
                          0.05250747323
                        ]
                      },
                      {
                        "iteration": 129,
                        "learn": [
                          0.05067330181
                        ],
                        "passed_time": 4.260596684,
                        "remaining_time": 28.51322396,
                        "test": [
                          0.9975197882,
                          0.05246893527
                        ]
                      },
                      {
                        "iteration": 130,
                        "learn": [
                          0.05058662954
                        ],
                        "passed_time": 4.291680943,
                        "remaining_time": 28.46924229,
                        "test": [
                          0.9975200746,
                          0.05238711463
                        ]
                      },
                      {
                        "iteration": 131,
                        "learn": [
                          0.05056271907
                        ],
                        "passed_time": 4.322335828,
                        "remaining_time": 28.42263257,
                        "test": [
                          0.9975197208,
                          0.05238900501
                        ]
                      },
                      {
                        "iteration": 132,
                        "learn": [
                          0.05053207743
                        ],
                        "passed_time": 4.352441553,
                        "remaining_time": 28.37268291,
                        "test": [
                          0.9975206307,
                          0.05238235578
                        ]
                      },
                      {
                        "iteration": 133,
                        "learn": [
                          0.05046917602
                        ],
                        "passed_time": 4.383191334,
                        "remaining_time": 28.32719176,
                        "test": [
                          0.9975261579,
                          0.0523223243
                        ]
                      },
                      {
                        "iteration": 134,
                        "learn": [
                          0.05044123763
                        ],
                        "passed_time": 4.415495351,
                        "remaining_time": 28.29187762,
                        "test": [
                          0.9975254249,
                          0.05232545771
                        ]
                      },
                      {
                        "iteration": 135,
                        "learn": [
                          0.05041431456
                        ],
                        "passed_time": 4.444750794,
                        "remaining_time": 28.23724034,
                        "test": [
                          0.9975294017,
                          0.05229340523
                        ]
                      },
                      {
                        "iteration": 136,
                        "learn": [
                          0.0503954235
                        ],
                        "passed_time": 4.47510205,
                        "remaining_time": 28.18987642,
                        "test": [
                          0.9975292838,
                          0.05229349462
                        ]
                      },
                      {
                        "iteration": 137,
                        "learn": [
                          0.05030326222
                        ],
                        "passed_time": 4.504936184,
                        "remaining_time": 28.13952892,
                        "test": [
                          0.9975286603,
                          0.05223663184
                        ]
                      },
                      {
                        "iteration": 138,
                        "learn": [
                          0.05028287993
                        ],
                        "passed_time": 4.534361276,
                        "remaining_time": 28.08694287,
                        "test": [
                          0.9975312722,
                          0.05222550802
                        ]
                      },
                      {
                        "iteration": 139,
                        "learn": [
                          0.05026189481
                        ],
                        "passed_time": 4.563201535,
                        "remaining_time": 28.03109514,
                        "test": [
                          0.9975331427,
                          0.05221981323
                        ]
                      },
                      {
                        "iteration": 140,
                        "learn": [
                          0.05022392552
                        ],
                        "passed_time": 4.593289286,
                        "remaining_time": 27.98323047,
                        "test": [
                          0.9975348446,
                          0.05220875873
                        ]
                      },
                      {
                        "iteration": 141,
                        "learn": [
                          0.05020349406
                        ],
                        "passed_time": 4.62111101,
                        "remaining_time": 27.92192427,
                        "test": [
                          0.9975326034,
                          0.05222088908
                        ]
                      },
                      {
                        "iteration": 142,
                        "learn": [
                          0.05017523999
                        ],
                        "passed_time": 4.652881853,
                        "remaining_time": 27.88475348,
                        "test": [
                          0.9975355861,
                          0.05219734645
                        ]
                      },
                      {
                        "iteration": 143,
                        "learn": [
                          0.05015550337
                        ],
                        "passed_time": 4.683234017,
                        "remaining_time": 27.83922443,
                        "test": [
                          0.9975339178,
                          0.05220634521
                        ]
                      },
                      {
                        "iteration": 144,
                        "learn": [
                          0.05012805679
                        ],
                        "passed_time": 4.711793535,
                        "remaining_time": 27.78333429,
                        "test": [
                          0.997532199,
                          0.05221708365
                        ]
                      },
                      {
                        "iteration": 145,
                        "learn": [
                          0.05011042217
                        ],
                        "passed_time": 4.741352238,
                        "remaining_time": 27.73366309,
                        "test": [
                          0.9975304296,
                          0.05222232032
                        ]
                      },
                      {
                        "iteration": 146,
                        "learn": [
                          0.05009741356
                        ],
                        "passed_time": 4.769965154,
                        "remaining_time": 27.67877739,
                        "test": [
                          0.9975305476,
                          0.05221694355
                        ]
                      },
                      {
                        "iteration": 147,
                        "learn": [
                          0.05006722565
                        ],
                        "passed_time": 4.799085535,
                        "remaining_time": 27.62716808,
                        "test": [
                          0.9975348278,
                          0.05219411639
                        ]
                      },
                      {
                        "iteration": 148,
                        "learn": [
                          0.05003333503
                        ],
                        "passed_time": 4.834135687,
                        "remaining_time": 27.60972798,
                        "test": [
                          0.9975349794,
                          0.05219476217
                        ]
                      },
                      {
                        "iteration": 149,
                        "learn": [
                          0.05000447969
                        ],
                        "passed_time": 4.86496748,
                        "remaining_time": 27.56814905,
                        "test": [
                          0.9975356029,
                          0.05219781702
                        ]
                      },
                      {
                        "iteration": 150,
                        "learn": [
                          0.04989867047
                        ],
                        "passed_time": 4.925113903,
                        "remaining_time": 27.69153446,
                        "test": [
                          0.9975388215,
                          0.05210034882
                        ]
                      },
                      {
                        "iteration": 151,
                        "learn": [
                          0.04987936219
                        ],
                        "passed_time": 4.957511643,
                        "remaining_time": 27.65769653,
                        "test": [
                          0.9975413576,
                          0.05208251848
                        ]
                      },
                      {
                        "iteration": 152,
                        "learn": [
                          0.04986071546
                        ],
                        "passed_time": 5.013172608,
                        "remaining_time": 27.75266143,
                        "test": [
                          0.9975381896,
                          0.05210043416
                        ]
                      },
                      {
                        "iteration": 153,
                        "learn": [
                          0.049842083
                        ],
                        "passed_time": 5.062842995,
                        "remaining_time": 27.81276087,
                        "test": [
                          0.9975401948,
                          0.05208992786
                        ]
                      },
                      {
                        "iteration": 154,
                        "learn": [
                          0.04981940516
                        ],
                        "passed_time": 5.131480841,
                        "remaining_time": 27.97484717,
                        "test": [
                          0.9975418125,
                          0.05208131544
                        ]
                      },
                      {
                        "iteration": 155,
                        "learn": [
                          0.04979889598
                        ],
                        "passed_time": 5.200091305,
                        "remaining_time": 28.13382731,
                        "test": [
                          0.9975409531,
                          0.052080548
                        ]
                      },
                      {
                        "iteration": 156,
                        "learn": [
                          0.04976978681
                        ],
                        "passed_time": 5.244906735,
                        "remaining_time": 28.16214253,
                        "test": [
                          0.9975396556,
                          0.05208345448
                        ]
                      },
                      {
                        "iteration": 157,
                        "learn": [
                          0.04966339379
                        ],
                        "passed_time": 5.303183846,
                        "remaining_time": 28.26127088,
                        "test": [
                          0.9975438515,
                          0.05197137526
                        ]
                      },
                      {
                        "iteration": 158,
                        "learn": [
                          0.04963651513
                        ],
                        "passed_time": 5.379808874,
                        "remaining_time": 28.45546706,
                        "test": [
                          0.9975464466,
                          0.05196546664
                        ]
                      },
                      {
                        "iteration": 159,
                        "learn": [
                          0.04961860767
                        ],
                        "passed_time": 5.459041695,
                        "remaining_time": 28.6599689,
                        "test": [
                          0.9975441211,
                          0.05196371351
                        ]
                      },
                      {
                        "iteration": 160,
                        "learn": [
                          0.04959863785
                        ],
                        "passed_time": 5.516174946,
                        "remaining_time": 28.74578124,
                        "test": [
                          0.9975454018,
                          0.05195357695
                        ]
                      },
                      {
                        "iteration": 161,
                        "learn": [
                          0.04956472661
                        ],
                        "passed_time": 5.588666546,
                        "remaining_time": 28.90927509,
                        "test": [
                          0.997547424,
                          0.05194690679
                        ]
                      },
                      {
                        "iteration": 162,
                        "learn": [
                          0.04953427694
                        ],
                        "passed_time": 5.660340315,
                        "remaining_time": 29.06567389,
                        "test": [
                          0.9975434639,
                          0.0519731782
                        ]
                      },
                      {
                        "iteration": 163,
                        "learn": [
                          0.04945894435
                        ],
                        "passed_time": 5.734169552,
                        "remaining_time": 29.23027894,
                        "test": [
                          0.9975468763,
                          0.05190309707
                        ]
                      },
                      {
                        "iteration": 164,
                        "learn": [
                          0.04944102896
                        ],
                        "passed_time": 5.810580643,
                        "remaining_time": 29.40505962,
                        "test": [
                          0.9975493534,
                          0.05189879776
                        ]
                      },
                      {
                        "iteration": 165,
                        "learn": [
                          0.04942648311
                        ],
                        "passed_time": 5.891299699,
                        "remaining_time": 29.59845753,
                        "test": [
                          0.9975491343,
                          0.0519050725
                        ]
                      },
                      {
                        "iteration": 166,
                        "learn": [
                          0.04939863831
                        ],
                        "passed_time": 5.984819531,
                        "remaining_time": 29.85242317,
                        "test": [
                          0.9975473481,
                          0.05191906088
                        ]
                      },
                      {
                        "iteration": 167,
                        "learn": [
                          0.04938451128
                        ],
                        "passed_time": 6.047291807,
                        "remaining_time": 29.94849276,
                        "test": [
                          0.9975466909,
                          0.05192076554
                        ]
                      },
                      {
                        "iteration": 168,
                        "learn": [
                          0.04936389262
                        ],
                        "passed_time": 6.119587127,
                        "remaining_time": 30.09098759,
                        "test": [
                          0.9975497747,
                          0.05188324021
                        ]
                      },
                      {
                        "iteration": 169,
                        "learn": [
                          0.04931868769
                        ],
                        "passed_time": 6.191842233,
                        "remaining_time": 30.23075914,
                        "test": [
                          0.9975510891,
                          0.05185029886
                        ]
                      },
                      {
                        "iteration": 170,
                        "learn": [
                          0.04929892094
                        ],
                        "passed_time": 6.266257334,
                        "remaining_time": 30.3785224,
                        "test": [
                          0.9975490501,
                          0.05186845708
                        ]
                      },
                      {
                        "iteration": 171,
                        "learn": [
                          0.04928086907
                        ],
                        "passed_time": 6.340162108,
                        "remaining_time": 30.5212455,
                        "test": [
                          0.9975505667,
                          0.05185895768
                        ]
                      },
                      {
                        "iteration": 172,
                        "learn": [
                          0.04925645572
                        ],
                        "passed_time": 6.419596005,
                        "remaining_time": 30.68789535,
                        "test": [
                          0.9975520664,
                          0.05185787669
                        ]
                      },
                      {
                        "iteration": 173,
                        "learn": [
                          0.04922677228
                        ],
                        "passed_time": 6.497073683,
                        "remaining_time": 30.84243024,
                        "test": [
                          0.997554493,
                          0.05184659102
                        ]
                      },
                      {
                        "iteration": 174,
                        "learn": [
                          0.04921312275
                        ],
                        "passed_time": 6.553914787,
                        "remaining_time": 30.89702685,
                        "test": [
                          0.9975553524,
                          0.05184835037
                        ]
                      },
                      {
                        "iteration": 175,
                        "learn": [
                          0.04919732521
                        ],
                        "passed_time": 6.602864833,
                        "remaining_time": 30.91341263,
                        "test": [
                          0.9975517126,
                          0.05187244976
                        ]
                      },
                      {
                        "iteration": 176,
                        "learn": [
                          0.04917489169
                        ],
                        "passed_time": 6.667441048,
                        "remaining_time": 31.00171742,
                        "test": [
                          0.9975526899,
                          0.05186754942
                        ]
                      },
                      {
                        "iteration": 177,
                        "learn": [
                          0.04914858098
                        ],
                        "passed_time": 6.734709121,
                        "remaining_time": 31.10073538,
                        "test": [
                          0.9975516452,
                          0.05184615726
                        ]
                      },
                      {
                        "iteration": 178,
                        "learn": [
                          0.04913445552
                        ],
                        "passed_time": 6.778112963,
                        "remaining_time": 31.0884399,
                        "test": [
                          0.9975538021,
                          0.05183661943
                        ]
                      },
                      {
                        "iteration": 179,
                        "learn": [
                          0.04910598569
                        ],
                        "passed_time": 6.850828416,
                        "remaining_time": 31.20932945,
                        "test": [
                          0.9975539538,
                          0.05184350826
                        ]
                      },
                      {
                        "iteration": 180,
                        "learn": [
                          0.0490876721
                        ],
                        "passed_time": 6.919970494,
                        "remaining_time": 31.31191069,
                        "test": [
                          0.9975527236,
                          0.05183478354
                        ]
                      },
                      {
                        "iteration": 181,
                        "learn": [
                          0.04906767214
                        ],
                        "passed_time": 7.023622784,
                        "remaining_time": 31.5677112,
                        "test": [
                          0.9975508363,
                          0.05185182562
                        ]
                      },
                      {
                        "iteration": 182,
                        "learn": [
                          0.04905286929
                        ],
                        "passed_time": 7.084228163,
                        "remaining_time": 31.62740114,
                        "test": [
                          0.9975483423,
                          0.05186990558
                        ]
                      },
                      {
                        "iteration": 183,
                        "learn": [
                          0.04902197543
                        ],
                        "passed_time": 7.14447144,
                        "remaining_time": 31.68417769,
                        "test": [
                          0.9975487636,
                          0.05184162514
                        ]
                      },
                      {
                        "iteration": 184,
                        "learn": [
                          0.04899248393
                        ],
                        "passed_time": 7.184524025,
                        "remaining_time": 31.65074098,
                        "test": [
                          0.9975456293,
                          0.05185531128
                        ]
                      },
                      {
                        "iteration": 185,
                        "learn": [
                          0.04898068099
                        ],
                        "passed_time": 7.246286958,
                        "remaining_time": 31.71224507,
                        "test": [
                          0.9975455956,
                          0.05186299682
                        ]
                      },
                      {
                        "iteration": 186,
                        "learn": [
                          0.04896762319
                        ],
                        "passed_time": 7.299221415,
                        "remaining_time": 31.73404818,
                        "test": [
                          0.9975416188,
                          0.05188533337
                        ]
                      },
                      {
                        "iteration": 187,
                        "learn": [
                          0.04891491768
                        ],
                        "passed_time": 7.372500315,
                        "remaining_time": 31.84292689,
                        "test": [
                          0.9975437588,
                          0.05184263558
                        ]
                      },
                      {
                        "iteration": 188,
                        "learn": [
                          0.04885376608
                        ],
                        "passed_time": 7.444103493,
                        "remaining_time": 31.94268748,
                        "test": [
                          0.9975426972,
                          0.05181635838
                        ]
                      },
                      {
                        "iteration": 189,
                        "learn": [
                          0.04881636631
                        ],
                        "passed_time": 7.512135654,
                        "remaining_time": 32.02542042,
                        "test": [
                          0.9975415176,
                          0.05179034028
                        ]
                      },
                      {
                        "iteration": 190,
                        "learn": [
                          0.04875189434
                        ],
                        "passed_time": 7.583281327,
                        "remaining_time": 32.11976227,
                        "test": [
                          0.9975435903,
                          0.05172487683
                        ]
                      },
                      {
                        "iteration": 191,
                        "learn": [
                          0.04869696308
                        ],
                        "passed_time": 7.656990986,
                        "remaining_time": 32.2231704,
                        "test": [
                          0.997546455,
                          0.05166960145
                        ]
                      },
                      {
                        "iteration": 192,
                        "learn": [
                          0.04866441297
                        ],
                        "passed_time": 7.728699099,
                        "remaining_time": 32.31637395,
                        "test": [
                          0.9975453091,
                          0.05166627632
                        ]
                      },
                      {
                        "iteration": 193,
                        "learn": [
                          0.048642292
                        ],
                        "passed_time": 7.796550194,
                        "remaining_time": 32.39185287,
                        "test": [
                          0.997545663,
                          0.05166556752
                        ]
                      },
                      {
                        "iteration": 194,
                        "learn": [
                          0.0486200536
                        ],
                        "passed_time": 7.868176482,
                        "remaining_time": 32.4814465,
                        "test": [
                          0.9975418884,
                          0.05168831615
                        ]
                      },
                      {
                        "iteration": 195,
                        "learn": [
                          0.04859029242
                        ],
                        "passed_time": 7.943603738,
                        "remaining_time": 32.58498676,
                        "test": [
                          0.9975433376,
                          0.05165168036
                        ]
                      },
                      {
                        "iteration": 196,
                        "learn": [
                          0.04857014969
                        ],
                        "passed_time": 8.033644391,
                        "remaining_time": 32.74627637,
                        "test": [
                          0.997544534,
                          0.05164682313
                        ]
                      },
                      {
                        "iteration": 197,
                        "learn": [
                          0.04852803826
                        ],
                        "passed_time": 8.102048872,
                        "remaining_time": 32.81738987,
                        "test": [
                          0.9975420232,
                          0.05164419775
                        ]
                      },
                      {
                        "iteration": 198,
                        "learn": [
                          0.04851575781
                        ],
                        "passed_time": 8.172095882,
                        "remaining_time": 32.89371257,
                        "test": [
                          0.9975389057,
                          0.05166523327
                        ]
                      },
                      {
                        "iteration": 199,
                        "learn": [
                          0.04848847779
                        ],
                        "passed_time": 8.23835157,
                        "remaining_time": 32.95340628,
                        "test": [
                          0.9975387541,
                          0.05167933222
                        ]
                      },
                      {
                        "iteration": 200,
                        "learn": [
                          0.04847834852
                        ],
                        "passed_time": 8.286234587,
                        "remaining_time": 32.93881311,
                        "test": [
                          0.9975394113,
                          0.05167960895
                        ]
                      },
                      {
                        "iteration": 201,
                        "learn": [
                          0.04847355597
                        ],
                        "passed_time": 8.336987824,
                        "remaining_time": 32.93522913,
                        "test": [
                          0.9975392765,
                          0.0516832357
                        ]
                      },
                      {
                        "iteration": 202,
                        "learn": [
                          0.04845407001
                        ],
                        "passed_time": 8.396894234,
                        "remaining_time": 32.96711677,
                        "test": [
                          0.9975396472,
                          0.05168618126
                        ]
                      },
                      {
                        "iteration": 203,
                        "learn": [
                          0.04841705574
                        ],
                        "passed_time": 8.467485741,
                        "remaining_time": 33.0397973,
                        "test": [
                          0.9975401864,
                          0.0516637132
                        ]
                      },
                      {
                        "iteration": 204,
                        "learn": [
                          0.04839804412
                        ],
                        "passed_time": 8.543252375,
                        "remaining_time": 33.13114945,
                        "test": [
                          0.9975404055,
                          0.05167373423
                        ]
                      },
                      {
                        "iteration": 205,
                        "learn": [
                          0.0483438442
                        ],
                        "passed_time": 8.610432134,
                        "remaining_time": 33.18778211,
                        "test": [
                          0.9975416019,
                          0.05162733993
                        ]
                      },
                      {
                        "iteration": 206,
                        "learn": [
                          0.04832446453
                        ],
                        "passed_time": 8.681132778,
                        "remaining_time": 33.25670673,
                        "test": [
                          0.9975386361,
                          0.0516431977
                        ]
                      },
                      {
                        "iteration": 207,
                        "learn": [
                          0.04831142895
                        ],
                        "passed_time": 8.75038448,
                        "remaining_time": 33.31877167,
                        "test": [
                          0.9975401527,
                          0.05163761175
                        ]
                      },
                      {
                        "iteration": 208,
                        "learn": [
                          0.04829832991
                        ],
                        "passed_time": 8.793928183,
                        "remaining_time": 33.28228322,
                        "test": [
                          0.9975407425,
                          0.05163514662
                        ]
                      },
                      {
                        "iteration": 209,
                        "learn": [
                          0.04825865839
                        ],
                        "passed_time": 8.823713029,
                        "remaining_time": 33.19396806,
                        "test": [
                          0.9975417367,
                          0.05160168707
                        ]
                      },
                      {
                        "iteration": 210,
                        "learn": [
                          0.04824186459
                        ],
                        "passed_time": 8.858419223,
                        "remaining_time": 33.12461027,
                        "test": [
                          0.9975407425,
                          0.05161934699
                        ]
                      },
                      {
                        "iteration": 211,
                        "learn": [
                          0.0482234812
                        ],
                        "passed_time": 8.891953,
                        "remaining_time": 33.05122153,
                        "test": [
                          0.9975369341,
                          0.0516411427
                        ]
                      },
                      {
                        "iteration": 212,
                        "learn": [
                          0.04822340346
                        ],
                        "passed_time": 8.915032082,
                        "remaining_time": 32.93957863,
                        "test": [
                          0.9975369173,
                          0.05164118979
                        ]
                      },
                      {
                        "iteration": 213,
                        "learn": [
                          0.04821182579
                        ],
                        "passed_time": 8.943388442,
                        "remaining_time": 32.84814633,
                        "test": [
                          0.9975379284,
                          0.05163197942
                        ]
                      },
                      {
                        "iteration": 214,
                        "learn": [
                          0.04819561737
                        ],
                        "passed_time": 8.973225276,
                        "remaining_time": 32.76270624,
                        "test": [
                          0.9975384002,
                          0.05164225983
                        ]
                      },
                      {
                        "iteration": 215,
                        "learn": [
                          0.04817310136
                        ],
                        "passed_time": 9.022822767,
                        "remaining_time": 32.74950486,
                        "test": [
                          0.9975384676,
                          0.05164001797
                        ]
                      },
                      {
                        "iteration": 216,
                        "learn": [
                          0.04815923925
                        ],
                        "passed_time": 9.052599301,
                        "remaining_time": 32.66444817,
                        "test": [
                          0.9975385182,
                          0.0516389236
                        ]
                      },
                      {
                        "iteration": 217,
                        "learn": [
                          0.04813928689
                        ],
                        "passed_time": 9.101703483,
                        "remaining_time": 32.64922992,
                        "test": [
                          0.9975361759,
                          0.05164712701
                        ]
                      },
                      {
                        "iteration": 218,
                        "learn": [
                          0.04811367737
                        ],
                        "passed_time": 9.131097738,
                        "remaining_time": 32.56341248,
                        "test": [
                          0.997536496,
                          0.05165064992
                        ]
                      },
                      {
                        "iteration": 219,
                        "learn": [
                          0.04809770374
                        ],
                        "passed_time": 9.160699055,
                        "remaining_time": 32.4788421,
                        "test": [
                          0.9975380463,
                          0.05164924268
                        ]
                      },
                      {
                        "iteration": 220,
                        "learn": [
                          0.04808493785
                        ],
                        "passed_time": 9.190270035,
                        "remaining_time": 32.39466225,
                        "test": [
                          0.9975359399,
                          0.05165722736
                        ]
                      },
                      {
                        "iteration": 221,
                        "learn": [
                          0.04806493472
                        ],
                        "passed_time": 9.221379095,
                        "remaining_time": 32.31636458,
                        "test": [
                          0.9975346593,
                          0.05164360758
                        ]
                      },
                      {
                        "iteration": 222,
                        "learn": [
                          0.04804577874
                        ],
                        "passed_time": 9.251027476,
                        "remaining_time": 32.23340067,
                        "test": [
                          0.9975344739,
                          0.05162543785
                        ]
                      },
                      {
                        "iteration": 223,
                        "learn": [
                          0.04802952589
                        ],
                        "passed_time": 9.281335245,
                        "remaining_time": 32.1531971,
                        "test": [
                          0.9975328562,
                          0.05164093725
                        ]
                      },
                      {
                        "iteration": 224,
                        "learn": [
                          0.04800669419
                        ],
                        "passed_time": 9.310514069,
                        "remaining_time": 32.06954846,
                        "test": [
                          0.9975325192,
                          0.05164415183
                        ]
                      }
                    ],
                    "meta": {
                      "iteration_count": 1000,
                      "launch_mode": "Train",
                      "learn_metrics": [
                        {
                          "best_value": "Min",
                          "name": "Logloss"
                        }
                      ],
                      "learn_sets": [
                        "learn"
                      ],
                      "name": "experiment",
                      "parameters": "",
                      "test_metrics": [
                        {
                          "best_value": "Max",
                          "name": "AUC"
                        },
                        {
                          "best_value": "Min",
                          "name": "Logloss"
                        }
                      ],
                      "test_sets": [
                        "test"
                      ]
                    }
                  },
                  "passed_iterations": 224,
                  "total_iterations": 1000
                },
                "name": "catboost_info",
                "path": "catboost_info"
              }
            },
            "layout": "IPY_MODEL_ccc8f62bb35d4484bcb6dc7b0d3ec273"
          }
        }
      }
    }
  },
  "nbformat": 4,
  "nbformat_minor": 0
}
