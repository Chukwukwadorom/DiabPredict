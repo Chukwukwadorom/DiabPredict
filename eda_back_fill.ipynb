{
  "cells": [
    {
      "cell_type": "code",
      "execution_count": 1,
      "metadata": {
        "id": "U9AhInAeQs0G"
      },
      "outputs": [],
      "source": [
        "import pandas as pd"
      ]
    },
    {
      "cell_type": "code",
      "execution_count": 2,
      "metadata": {
        "id": "VxNkeYmWQ4Nv"
      },
      "outputs": [
        {
          "data": {
            "text/html": [
              "<div>\n",
              "<style scoped>\n",
              "    .dataframe tbody tr th:only-of-type {\n",
              "        vertical-align: middle;\n",
              "    }\n",
              "\n",
              "    .dataframe tbody tr th {\n",
              "        vertical-align: top;\n",
              "    }\n",
              "\n",
              "    .dataframe thead th {\n",
              "        text-align: right;\n",
              "    }\n",
              "</style>\n",
              "<table border=\"1\" class=\"dataframe\">\n",
              "  <thead>\n",
              "    <tr style=\"text-align: right;\">\n",
              "      <th></th>\n",
              "      <th>gender</th>\n",
              "      <th>age</th>\n",
              "      <th>hypertension</th>\n",
              "      <th>heart_disease</th>\n",
              "      <th>smoking_history</th>\n",
              "      <th>bmi</th>\n",
              "      <th>HbA1c_level</th>\n",
              "      <th>blood_glucose_level</th>\n",
              "      <th>diabetes</th>\n",
              "    </tr>\n",
              "  </thead>\n",
              "  <tbody>\n",
              "    <tr>\n",
              "      <th>0</th>\n",
              "      <td>Female</td>\n",
              "      <td>80.0</td>\n",
              "      <td>0</td>\n",
              "      <td>1</td>\n",
              "      <td>never</td>\n",
              "      <td>25.19</td>\n",
              "      <td>6.6</td>\n",
              "      <td>140</td>\n",
              "      <td>0</td>\n",
              "    </tr>\n",
              "    <tr>\n",
              "      <th>1</th>\n",
              "      <td>Female</td>\n",
              "      <td>54.0</td>\n",
              "      <td>0</td>\n",
              "      <td>0</td>\n",
              "      <td>No Info</td>\n",
              "      <td>27.32</td>\n",
              "      <td>6.6</td>\n",
              "      <td>80</td>\n",
              "      <td>0</td>\n",
              "    </tr>\n",
              "    <tr>\n",
              "      <th>2</th>\n",
              "      <td>Male</td>\n",
              "      <td>28.0</td>\n",
              "      <td>0</td>\n",
              "      <td>0</td>\n",
              "      <td>never</td>\n",
              "      <td>27.32</td>\n",
              "      <td>5.7</td>\n",
              "      <td>158</td>\n",
              "      <td>0</td>\n",
              "    </tr>\n",
              "    <tr>\n",
              "      <th>3</th>\n",
              "      <td>Female</td>\n",
              "      <td>36.0</td>\n",
              "      <td>0</td>\n",
              "      <td>0</td>\n",
              "      <td>current</td>\n",
              "      <td>23.45</td>\n",
              "      <td>5.0</td>\n",
              "      <td>155</td>\n",
              "      <td>0</td>\n",
              "    </tr>\n",
              "    <tr>\n",
              "      <th>4</th>\n",
              "      <td>Male</td>\n",
              "      <td>76.0</td>\n",
              "      <td>1</td>\n",
              "      <td>1</td>\n",
              "      <td>current</td>\n",
              "      <td>20.14</td>\n",
              "      <td>4.8</td>\n",
              "      <td>155</td>\n",
              "      <td>0</td>\n",
              "    </tr>\n",
              "  </tbody>\n",
              "</table>\n",
              "</div>"
            ],
            "text/plain": [
              "   gender   age  hypertension  heart_disease smoking_history    bmi  \\\n",
              "0  Female  80.0             0              1           never  25.19   \n",
              "1  Female  54.0             0              0         No Info  27.32   \n",
              "2    Male  28.0             0              0           never  27.32   \n",
              "3  Female  36.0             0              0         current  23.45   \n",
              "4    Male  76.0             1              1         current  20.14   \n",
              "\n",
              "   HbA1c_level  blood_glucose_level  diabetes  \n",
              "0          6.6                  140         0  \n",
              "1          6.6                   80         0  \n",
              "2          5.7                  158         0  \n",
              "3          5.0                  155         0  \n",
              "4          4.8                  155         0  "
            ]
          },
          "execution_count": 2,
          "metadata": {},
          "output_type": "execute_result"
        }
      ],
      "source": [
        "diabetes_df = pd.read_csv(\"diabetes_prediction_dataset.csv\")\n",
        "diabetes_df.head()"
      ]
    },
    {
      "cell_type": "code",
      "execution_count": 3,
      "metadata": {
        "colab": {
          "base_uri": "https://localhost:8080/"
        },
        "id": "hKGhD972Szh2",
        "outputId": "e4330d1d-a26d-409b-b999-be6c2b6030a0"
      },
      "outputs": [
        {
          "name": "stdout",
          "output_type": "stream",
          "text": [
            "<class 'pandas.core.frame.DataFrame'>\n",
            "RangeIndex: 100000 entries, 0 to 99999\n",
            "Data columns (total 9 columns):\n",
            " #   Column               Non-Null Count   Dtype  \n",
            "---  ------               --------------   -----  \n",
            " 0   gender               100000 non-null  object \n",
            " 1   age                  100000 non-null  float64\n",
            " 2   hypertension         100000 non-null  int64  \n",
            " 3   heart_disease        100000 non-null  int64  \n",
            " 4   smoking_history      100000 non-null  object \n",
            " 5   bmi                  100000 non-null  float64\n",
            " 6   HbA1c_level          100000 non-null  float64\n",
            " 7   blood_glucose_level  100000 non-null  int64  \n",
            " 8   diabetes             100000 non-null  int64  \n",
            "dtypes: float64(3), int64(4), object(2)\n",
            "memory usage: 6.9+ MB\n"
          ]
        }
      ],
      "source": [
        "diabetes_df.info()"
      ]
    },
    {
      "cell_type": "code",
      "execution_count": 4,
      "metadata": {},
      "outputs": [],
      "source": [
        "diabetes_df['age'] = diabetes_df['age'].astype(int)"
      ]
    },
    {
      "cell_type": "code",
      "execution_count": 5,
      "metadata": {
        "colab": {
          "base_uri": "https://localhost:8080/"
        },
        "id": "DQAGWqQ6S1oJ",
        "outputId": "69f03f6c-0622-4108-b309-e71272d5f3f6"
      },
      "outputs": [
        {
          "data": {
            "text/plain": [
              "gender                 False\n",
              "age                    False\n",
              "hypertension           False\n",
              "heart_disease          False\n",
              "smoking_history        False\n",
              "bmi                    False\n",
              "HbA1c_level            False\n",
              "blood_glucose_level    False\n",
              "diabetes               False\n",
              "dtype: bool"
            ]
          },
          "execution_count": 5,
          "metadata": {},
          "output_type": "execute_result"
        }
      ],
      "source": [
        "diabetes_df.isnull().any()"
      ]
    },
    {
      "cell_type": "code",
      "execution_count": 6,
      "metadata": {
        "colab": {
          "base_uri": "https://localhost:8080/",
          "height": 320
        },
        "id": "kKhStyDCS67P",
        "outputId": "8fa01331-ef42-409a-94b4-4cda0383fa7b"
      },
      "outputs": [
        {
          "data": {
            "text/html": [
              "<div>\n",
              "<style scoped>\n",
              "    .dataframe tbody tr th:only-of-type {\n",
              "        vertical-align: middle;\n",
              "    }\n",
              "\n",
              "    .dataframe tbody tr th {\n",
              "        vertical-align: top;\n",
              "    }\n",
              "\n",
              "    .dataframe thead th {\n",
              "        text-align: right;\n",
              "    }\n",
              "</style>\n",
              "<table border=\"1\" class=\"dataframe\">\n",
              "  <thead>\n",
              "    <tr style=\"text-align: right;\">\n",
              "      <th></th>\n",
              "      <th>age</th>\n",
              "      <th>hypertension</th>\n",
              "      <th>heart_disease</th>\n",
              "      <th>bmi</th>\n",
              "      <th>HbA1c_level</th>\n",
              "      <th>blood_glucose_level</th>\n",
              "      <th>diabetes</th>\n",
              "    </tr>\n",
              "  </thead>\n",
              "  <tbody>\n",
              "    <tr>\n",
              "      <th>count</th>\n",
              "      <td>100000.000000</td>\n",
              "      <td>100000.00000</td>\n",
              "      <td>100000.000000</td>\n",
              "      <td>100000.000000</td>\n",
              "      <td>100000.000000</td>\n",
              "      <td>100000.000000</td>\n",
              "      <td>100000.000000</td>\n",
              "    </tr>\n",
              "    <tr>\n",
              "      <th>mean</th>\n",
              "      <td>41.875660</td>\n",
              "      <td>0.07485</td>\n",
              "      <td>0.039420</td>\n",
              "      <td>27.320767</td>\n",
              "      <td>5.527507</td>\n",
              "      <td>138.058060</td>\n",
              "      <td>0.085000</td>\n",
              "    </tr>\n",
              "    <tr>\n",
              "      <th>std</th>\n",
              "      <td>22.535417</td>\n",
              "      <td>0.26315</td>\n",
              "      <td>0.194593</td>\n",
              "      <td>6.636783</td>\n",
              "      <td>1.070672</td>\n",
              "      <td>40.708136</td>\n",
              "      <td>0.278883</td>\n",
              "    </tr>\n",
              "    <tr>\n",
              "      <th>min</th>\n",
              "      <td>0.000000</td>\n",
              "      <td>0.00000</td>\n",
              "      <td>0.000000</td>\n",
              "      <td>10.010000</td>\n",
              "      <td>3.500000</td>\n",
              "      <td>80.000000</td>\n",
              "      <td>0.000000</td>\n",
              "    </tr>\n",
              "    <tr>\n",
              "      <th>25%</th>\n",
              "      <td>24.000000</td>\n",
              "      <td>0.00000</td>\n",
              "      <td>0.000000</td>\n",
              "      <td>23.630000</td>\n",
              "      <td>4.800000</td>\n",
              "      <td>100.000000</td>\n",
              "      <td>0.000000</td>\n",
              "    </tr>\n",
              "    <tr>\n",
              "      <th>50%</th>\n",
              "      <td>43.000000</td>\n",
              "      <td>0.00000</td>\n",
              "      <td>0.000000</td>\n",
              "      <td>27.320000</td>\n",
              "      <td>5.800000</td>\n",
              "      <td>140.000000</td>\n",
              "      <td>0.000000</td>\n",
              "    </tr>\n",
              "    <tr>\n",
              "      <th>75%</th>\n",
              "      <td>60.000000</td>\n",
              "      <td>0.00000</td>\n",
              "      <td>0.000000</td>\n",
              "      <td>29.580000</td>\n",
              "      <td>6.200000</td>\n",
              "      <td>159.000000</td>\n",
              "      <td>0.000000</td>\n",
              "    </tr>\n",
              "    <tr>\n",
              "      <th>max</th>\n",
              "      <td>80.000000</td>\n",
              "      <td>1.00000</td>\n",
              "      <td>1.000000</td>\n",
              "      <td>95.690000</td>\n",
              "      <td>9.000000</td>\n",
              "      <td>300.000000</td>\n",
              "      <td>1.000000</td>\n",
              "    </tr>\n",
              "  </tbody>\n",
              "</table>\n",
              "</div>"
            ],
            "text/plain": [
              "                 age  hypertension  heart_disease            bmi  \\\n",
              "count  100000.000000  100000.00000  100000.000000  100000.000000   \n",
              "mean       41.875660       0.07485       0.039420      27.320767   \n",
              "std        22.535417       0.26315       0.194593       6.636783   \n",
              "min         0.000000       0.00000       0.000000      10.010000   \n",
              "25%        24.000000       0.00000       0.000000      23.630000   \n",
              "50%        43.000000       0.00000       0.000000      27.320000   \n",
              "75%        60.000000       0.00000       0.000000      29.580000   \n",
              "max        80.000000       1.00000       1.000000      95.690000   \n",
              "\n",
              "         HbA1c_level  blood_glucose_level       diabetes  \n",
              "count  100000.000000        100000.000000  100000.000000  \n",
              "mean        5.527507           138.058060       0.085000  \n",
              "std         1.070672            40.708136       0.278883  \n",
              "min         3.500000            80.000000       0.000000  \n",
              "25%         4.800000           100.000000       0.000000  \n",
              "50%         5.800000           140.000000       0.000000  \n",
              "75%         6.200000           159.000000       0.000000  \n",
              "max         9.000000           300.000000       1.000000  "
            ]
          },
          "execution_count": 6,
          "metadata": {},
          "output_type": "execute_result"
        }
      ],
      "source": [
        "diabetes_df.describe()"
      ]
    },
    {
      "cell_type": "code",
      "execution_count": 7,
      "metadata": {
        "colab": {
          "base_uri": "https://localhost:8080/"
        },
        "id": "3DHemLzWTCP-",
        "outputId": "331aa4a2-8cd7-41e3-8ab1-12fa311611bb"
      },
      "outputs": [
        {
          "name": "stdout",
          "output_type": "stream",
          "text": [
            "(100000, 9)\n",
            "3888\n",
            "(96112, 9)\n"
          ]
        }
      ],
      "source": [
        "print(diabetes_df.shape)\n",
        "duplicates = diabetes_df.duplicated()\n",
        "print(duplicates.sum())\n",
        "diabetes_df = diabetes_df[~duplicates]\n",
        "print(diabetes_df.shape)"
      ]
    },
    {
      "cell_type": "code",
      "execution_count": 8,
      "metadata": {
        "colab": {
          "base_uri": "https://localhost:8080/"
        },
        "id": "mB7nhMWhTLny",
        "outputId": "3146d250-a88b-4708-dfe5-69878c247b21"
      },
      "outputs": [
        {
          "data": {
            "text/plain": [
              "diabetes\n",
              "0    87630\n",
              "1     8482\n",
              "Name: count, dtype: int64"
            ]
          },
          "execution_count": 8,
          "metadata": {},
          "output_type": "execute_result"
        }
      ],
      "source": [
        "diabetes_df[\"diabetes\"].value_counts()"
      ]
    },
    {
      "cell_type": "code",
      "execution_count": 9,
      "metadata": {
        "colab": {
          "base_uri": "https://localhost:8080/",
          "height": 428
        },
        "id": "ZvHtyMxsT-e3",
        "outputId": "3f588a09-9702-45ec-9578-ac9404067170"
      },
      "outputs": [
        {
          "data": {
            "image/png": "[encoded data removed]",
            "text/plain": [
              "<Figure size 640x480 with 1 Axes>"
            ]
          },
          "metadata": {},
          "output_type": "display_data"
        }
      ],
      "source": [
        "import matplotlib.pyplot as plt\n",
        "import seaborn as sns\n",
        "\n",
        "def plot_distribution(df):\n",
        "  fig, ax = plt.subplots()\n",
        "  ax.pie(df[\"diabetes\"].value_counts(), labels = [\"Not Diabetic\", \"Diabetic\"], autopct='%1.1f%%')\n",
        "  ax.set_title(\"Diabetes Distribution\")\n",
        "  plt.show()\n",
        "plot_distribution(diabetes_df)"
      ]
    },
    {
      "cell_type": "code",
      "execution_count": 10,
      "metadata": {
        "id": "8zDDfH3qUX7F"
      },
      "outputs": [],
      "source": [
        "cat_features = diabetes_df.columns[diabetes_df.dtypes == \"object\"].tolist()\n",
        "num_features = diabetes_df.columns[(diabetes_df.dtypes == \"float64\" )|( diabetes_df.dtypes == \"int64\") ].tolist()"
      ]
    },
    {
      "cell_type": "code",
      "execution_count": 11,
      "metadata": {},
      "outputs": [
        {
          "data": {
            "text/plain": [
              "(95212, 9)"
            ]
          },
          "execution_count": 11,
          "metadata": {},
          "output_type": "execute_result"
        }
      ],
      "source": [
        "diabetes_df = diabetes_df[diabetes_df[\"age\"] >= 1]\n",
        "diabetes_df.shape"
      ]
    },
    {
      "cell_type": "code",
      "execution_count": 12,
      "metadata": {
        "colab": {
          "base_uri": "https://localhost:8080/",
          "height": 289
        },
        "id": "-MrDIMe9YZ6n",
        "outputId": "3693f6ca-7175-4ef4-e013-20c856e524b7"
      },
      "outputs": [
        {
          "data": {
            "text/html": [
              "<div>\n",
              "<style scoped>\n",
              "    .dataframe tbody tr th:only-of-type {\n",
              "        vertical-align: middle;\n",
              "    }\n",
              "\n",
              "    .dataframe tbody tr th {\n",
              "        vertical-align: top;\n",
              "    }\n",
              "\n",
              "    .dataframe thead th {\n",
              "        text-align: right;\n",
              "    }\n",
              "</style>\n",
              "<table border=\"1\" class=\"dataframe\">\n",
              "  <thead>\n",
              "    <tr style=\"text-align: right;\">\n",
              "      <th></th>\n",
              "      <th>age</th>\n",
              "      <th>hypertension</th>\n",
              "      <th>heart_disease</th>\n",
              "      <th>bmi</th>\n",
              "      <th>HbA1c_level</th>\n",
              "      <th>blood_glucose_level</th>\n",
              "      <th>diabetes</th>\n",
              "    </tr>\n",
              "  </thead>\n",
              "  <tbody>\n",
              "    <tr>\n",
              "      <th>age</th>\n",
              "      <td>1.000000</td>\n",
              "      <td>0.256417</td>\n",
              "      <td>0.238709</td>\n",
              "      <td>0.328268</td>\n",
              "      <td>0.106017</td>\n",
              "      <td>0.114224</td>\n",
              "      <td>0.263804</td>\n",
              "    </tr>\n",
              "    <tr>\n",
              "      <th>hypertension</th>\n",
              "      <td>0.256417</td>\n",
              "      <td>1.000000</td>\n",
              "      <td>0.119469</td>\n",
              "      <td>0.145824</td>\n",
              "      <td>0.081362</td>\n",
              "      <td>0.084789</td>\n",
              "      <td>0.194998</td>\n",
              "    </tr>\n",
              "    <tr>\n",
              "      <th>heart_disease</th>\n",
              "      <td>0.238709</td>\n",
              "      <td>0.119469</td>\n",
              "      <td>1.000000</td>\n",
              "      <td>0.059178</td>\n",
              "      <td>0.068118</td>\n",
              "      <td>0.070826</td>\n",
              "      <td>0.170198</td>\n",
              "    </tr>\n",
              "    <tr>\n",
              "      <th>bmi</th>\n",
              "      <td>0.328268</td>\n",
              "      <td>0.145824</td>\n",
              "      <td>0.059178</td>\n",
              "      <td>1.000000</td>\n",
              "      <td>0.083333</td>\n",
              "      <td>0.092161</td>\n",
              "      <td>0.213206</td>\n",
              "    </tr>\n",
              "    <tr>\n",
              "      <th>HbA1c_level</th>\n",
              "      <td>0.106017</td>\n",
              "      <td>0.081362</td>\n",
              "      <td>0.068118</td>\n",
              "      <td>0.083333</td>\n",
              "      <td>1.000000</td>\n",
              "      <td>0.173050</td>\n",
              "      <td>0.407838</td>\n",
              "    </tr>\n",
              "    <tr>\n",
              "      <th>blood_glucose_level</th>\n",
              "      <td>0.114224</td>\n",
              "      <td>0.084789</td>\n",
              "      <td>0.070826</td>\n",
              "      <td>0.092161</td>\n",
              "      <td>0.173050</td>\n",
              "      <td>1.000000</td>\n",
              "      <td>0.425606</td>\n",
              "    </tr>\n",
              "    <tr>\n",
              "      <th>diabetes</th>\n",
              "      <td>0.263804</td>\n",
              "      <td>0.194998</td>\n",
              "      <td>0.170198</td>\n",
              "      <td>0.213206</td>\n",
              "      <td>0.407838</td>\n",
              "      <td>0.425606</td>\n",
              "      <td>1.000000</td>\n",
              "    </tr>\n",
              "  </tbody>\n",
              "</table>\n",
              "</div>"
            ],
            "text/plain": [
              "                          age  hypertension  heart_disease       bmi  \\\n",
              "age                  1.000000      0.256417       0.238709  0.328268   \n",
              "hypertension         0.256417      1.000000       0.119469  0.145824   \n",
              "heart_disease        0.238709      0.119469       1.000000  0.059178   \n",
              "bmi                  0.328268      0.145824       0.059178  1.000000   \n",
              "HbA1c_level          0.106017      0.081362       0.068118  0.083333   \n",
              "blood_glucose_level  0.114224      0.084789       0.070826  0.092161   \n",
              "diabetes             0.263804      0.194998       0.170198  0.213206   \n",
              "\n",
              "                     HbA1c_level  blood_glucose_level  diabetes  \n",
              "age                     0.106017             0.114224  0.263804  \n",
              "hypertension            0.081362             0.084789  0.194998  \n",
              "heart_disease           0.068118             0.070826  0.170198  \n",
              "bmi                     0.083333             0.092161  0.213206  \n",
              "HbA1c_level             1.000000             0.173050  0.407838  \n",
              "blood_glucose_level     0.173050             1.000000  0.425606  \n",
              "diabetes                0.407838             0.425606  1.000000  "
            ]
          },
          "execution_count": 12,
          "metadata": {},
          "output_type": "execute_result"
        }
      ],
      "source": [
        "diabetes_df[num_features].corr()"
      ]
    },
    {
      "cell_type": "code",
      "execution_count": 13,
      "metadata": {
        "colab": {
          "base_uri": "https://localhost:8080/",
          "height": 669
        },
        "id": "4utiiXieYdTc",
        "outputId": "b246fa14-ae73-4c9d-b4d6-9822cb35c1eb"
      },
      "outputs": [
        {
          "data": {
            "image/png": "[encoded data removed]",
            "text/plain": [
              "<Figure size 800x600 with 2 Axes>"
            ]
          },
          "metadata": {},
          "output_type": "display_data"
        }
      ],
      "source": [
        "plt.figure(figsize=(8, 6))\n",
        "sns.heatmap(diabetes_df[num_features].corr(), annot=True, cmap=\"coolwarm\",  fmt=\".2f\", linewidths=0.5)\n",
        "plt.title(\"Correlation Heatmap\")\n",
        "plt.show()"
      ]
    },
    {
      "cell_type": "code",
      "execution_count": 14,
      "metadata": {
        "id": "Jx3TwAuiZWF-"
      },
      "outputs": [],
      "source": [
        "#dropping categorical variables\n",
        "diabetes_df.drop(cat_features,axis=1, inplace = True)"
      ]
    },
    {
      "cell_type": "code",
      "execution_count": 15,
      "metadata": {
        "colab": {
          "base_uri": "https://localhost:8080/"
        },
        "id": "xiK15x20cRDS",
        "outputId": "e837e0f3-a81b-4b60-bd4b-85dc7083f352"
      },
      "outputs": [
        {
          "name": "stdout",
          "output_type": "stream",
          "text": [
            "(95212, 7)\n",
            "9071\n",
            "(86141, 7)\n"
          ]
        }
      ],
      "source": [
        "## categorical variables often provide uniqueness. correcting for some duplication\n",
        "# that might happen because the categorical variables were dropped\n",
        "print(diabetes_df.shape)\n",
        "duplicates = diabetes_df.duplicated()\n",
        "print(duplicates.sum())\n",
        "diabetes_df = diabetes_df[~duplicates]\n",
        "print(diabetes_df.shape)"
      ]
    },
    {
      "cell_type": "code",
      "execution_count": 16,
      "metadata": {
        "colab": {
          "base_uri": "https://localhost:8080/"
        },
        "id": "Q6HGeTELyaKY",
        "outputId": "18d32c09-07fe-4926-afd6-f443df3ad68a"
      },
      "outputs": [
        {
          "data": {
            "text/plain": [
              "diabetes\n",
              "0    77742\n",
              "1     8399\n",
              "Name: count, dtype: int64"
            ]
          },
          "execution_count": 16,
          "metadata": {},
          "output_type": "execute_result"
        }
      ],
      "source": [
        "diabetes_df.diabetes.value_counts()"
      ]
    },
    {
      "cell_type": "markdown",
      "metadata": {
        "id": "5u7a8AMUnLQh"
      },
      "source": [
        "## HANDLING CLASS IMBALANCE"
      ]
    },
    {
      "cell_type": "code",
      "execution_count": 17,
      "metadata": {
        "colab": {
          "base_uri": "https://localhost:8080/",
          "height": 206
        },
        "id": "tcXE1moqnYWC",
        "outputId": "e0bf93d4-2f41-4a77-bb54-6e7e046aa97c"
      },
      "outputs": [
        {
          "name": "stderr",
          "output_type": "stream",
          "text": [
            "2024-07-13 17:06:37.262849: I external/local_tsl/tsl/cuda/cudart_stub.cc:31] Could not find cuda drivers on your machine, GPU will not be used.\n",
            "2024-07-13 17:06:37.309655: E external/local_xla/xla/stream_executor/cuda/cuda_dnn.cc:9261] Unable to register cuDNN factory: Attempting to register factory for plugin cuDNN when one has already been registered\n",
            "2024-07-13 17:06:37.309696: E external/local_xla/xla/stream_executor/cuda/cuda_fft.cc:607] Unable to register cuFFT factory: Attempting to register factory for plugin cuFFT when one has already been registered\n",
            "2024-07-13 17:06:37.311249: E external/local_xla/xla/stream_executor/cuda/cuda_blas.cc:1515] Unable to register cuBLAS factory: Attempting to register factory for plugin cuBLAS when one has already been registered\n",
            "2024-07-13 17:06:37.319102: I external/local_tsl/tsl/cuda/cudart_stub.cc:31] Could not find cuda drivers on your machine, GPU will not be used.\n",
            "2024-07-13 17:06:37.319904: I tensorflow/core/platform/cpu_feature_guard.cc:182] This TensorFlow binary is optimized to use available CPU instructions in performance-critical operations.\n",
            "To enable the following instructions: AVX2 FMA, in other operations, rebuild TensorFlow with the appropriate compiler flags.\n",
            "2024-07-13 17:06:38.337968: W tensorflow/compiler/tf2tensorrt/utils/py_utils.cc:38] TF-TRT Warning: Could not find TensorRT\n"
          ]
        },
        {
          "data": {
            "text/html": [
              "<div>\n",
              "<style scoped>\n",
              "    .dataframe tbody tr th:only-of-type {\n",
              "        vertical-align: middle;\n",
              "    }\n",
              "\n",
              "    .dataframe tbody tr th {\n",
              "        vertical-align: top;\n",
              "    }\n",
              "\n",
              "    .dataframe thead th {\n",
              "        text-align: right;\n",
              "    }\n",
              "</style>\n",
              "<table border=\"1\" class=\"dataframe\">\n",
              "  <thead>\n",
              "    <tr style=\"text-align: right;\">\n",
              "      <th></th>\n",
              "      <th>age</th>\n",
              "      <th>hypertension</th>\n",
              "      <th>heart_disease</th>\n",
              "      <th>bmi</th>\n",
              "      <th>HbA1c_level</th>\n",
              "      <th>blood_glucose_level</th>\n",
              "      <th>diabetes</th>\n",
              "    </tr>\n",
              "  </thead>\n",
              "  <tbody>\n",
              "    <tr>\n",
              "      <th>6</th>\n",
              "      <td>44</td>\n",
              "      <td>0</td>\n",
              "      <td>0</td>\n",
              "      <td>19.31</td>\n",
              "      <td>6.5</td>\n",
              "      <td>200</td>\n",
              "      <td>1</td>\n",
              "    </tr>\n",
              "    <tr>\n",
              "      <th>26</th>\n",
              "      <td>67</td>\n",
              "      <td>0</td>\n",
              "      <td>1</td>\n",
              "      <td>27.32</td>\n",
              "      <td>6.5</td>\n",
              "      <td>200</td>\n",
              "      <td>1</td>\n",
              "    </tr>\n",
              "    <tr>\n",
              "      <th>38</th>\n",
              "      <td>50</td>\n",
              "      <td>1</td>\n",
              "      <td>0</td>\n",
              "      <td>27.32</td>\n",
              "      <td>5.7</td>\n",
              "      <td>260</td>\n",
              "      <td>1</td>\n",
              "    </tr>\n",
              "    <tr>\n",
              "      <th>40</th>\n",
              "      <td>73</td>\n",
              "      <td>0</td>\n",
              "      <td>0</td>\n",
              "      <td>25.91</td>\n",
              "      <td>9.0</td>\n",
              "      <td>160</td>\n",
              "      <td>1</td>\n",
              "    </tr>\n",
              "    <tr>\n",
              "      <th>53</th>\n",
              "      <td>53</td>\n",
              "      <td>0</td>\n",
              "      <td>0</td>\n",
              "      <td>27.32</td>\n",
              "      <td>7.0</td>\n",
              "      <td>159</td>\n",
              "      <td>1</td>\n",
              "    </tr>\n",
              "  </tbody>\n",
              "</table>\n",
              "</div>"
            ],
            "text/plain": [
              "    age  hypertension  heart_disease    bmi  HbA1c_level  blood_glucose_level  \\\n",
              "6    44             0              0  19.31          6.5                  200   \n",
              "26   67             0              1  27.32          6.5                  200   \n",
              "38   50             1              0  27.32          5.7                  260   \n",
              "40   73             0              0  25.91          9.0                  160   \n",
              "53   53             0              0  27.32          7.0                  159   \n",
              "\n",
              "    diabetes  \n",
              "6          1  \n",
              "26         1  \n",
              "38         1  \n",
              "40         1  \n",
              "53         1  "
            ]
          },
          "execution_count": 17,
          "metadata": {},
          "output_type": "execute_result"
        }
      ],
      "source": [
        "# solving unbalanced dataset problem using ydata_synthetic.synthesizers\n",
        "from helper_functions import generate_data, synthetic_data_model, patient_id_and_date\n",
        "\n",
        "#Synthesize the minority class\n",
        "training_df = diabetes_df.loc[diabetes_df['diabetes'] == 1].copy()\n",
        "training_df.head()"
      ]
    },
    {
      "cell_type": "code",
      "execution_count": 18,
      "metadata": {
        "colab": {
          "base_uri": "https://localhost:8080/"
        },
        "id": "zvm0cpi8nndk",
        "outputId": "5225f92a-1616-44ab-e7a4-2e2f5dfca685"
      },
      "outputs": [
        {
          "name": "stdout",
          "output_type": "stream",
          "text": [
            "Epoch: 0 | critic_loss: 0.25193196535110474 | generator_loss: -0.21055461466312408\n",
            "Epoch: 1 | critic_loss: -0.007068663835525513 | generator_loss: 0.1401851326227188\n",
            "Epoch: 2 | critic_loss: -0.10844311118125916 | generator_loss: 0.20721742510795593\n",
            "Epoch: 3 | critic_loss: 0.8729175329208374 | generator_loss: -0.9931082725524902\n",
            "Epoch: 4 | critic_loss: 0.06254251301288605 | generator_loss: -0.3609254062175751\n",
            "Epoch: 5 | critic_loss: -0.30087360739707947 | generator_loss: 0.35718250274658203\n",
            "Epoch: 6 | critic_loss: -0.19946973025798798 | generator_loss: -0.18341311812400818\n",
            "Epoch: 7 | critic_loss: 0.03866355121135712 | generator_loss: -0.4040732681751251\n",
            "Epoch: 8 | critic_loss: 0.36044564843177795 | generator_loss: -0.7399652004241943\n",
            "Epoch: 9 | critic_loss: -0.07682502269744873 | generator_loss: -0.015355794690549374\n",
            "Epoch: 10 | critic_loss: 0.5801423788070679 | generator_loss: -1.0367631912231445\n",
            "Epoch: 11 | critic_loss: 0.004415541887283325 | generator_loss: -0.38618457317352295\n",
            "Epoch: 12 | critic_loss: -0.1379912942647934 | generator_loss: -0.3244081139564514\n",
            "Epoch: 13 | critic_loss: 0.4769144058227539 | generator_loss: -1.2992579936981201\n",
            "Epoch: 14 | critic_loss: 0.15915748476982117 | generator_loss: -0.6821158528327942\n",
            "Epoch: 15 | critic_loss: 0.18374516069889069 | generator_loss: -1.3079077005386353\n",
            "Epoch: 16 | critic_loss: -0.060956522822380066 | generator_loss: -0.5408698916435242\n",
            "Epoch: 17 | critic_loss: 0.23545488715171814 | generator_loss: -0.4357638955116272\n",
            "Epoch: 18 | critic_loss: 0.1724352240562439 | generator_loss: -0.9718605279922485\n",
            "Epoch: 19 | critic_loss: 0.37267041206359863 | generator_loss: -1.010551929473877\n",
            "Epoch: 20 | critic_loss: -0.022151991724967957 | generator_loss: 0.1362701654434204\n",
            "Epoch: 21 | critic_loss: 0.15108834207057953 | generator_loss: -0.7538573741912842\n",
            "Epoch: 22 | critic_loss: 0.29246389865875244 | generator_loss: -0.7678791284561157\n",
            "Epoch: 23 | critic_loss: 0.028675124049186707 | generator_loss: -0.43714064359664917\n",
            "Epoch: 24 | critic_loss: 0.19982562959194183 | generator_loss: -1.2468891143798828\n",
            "Epoch: 25 | critic_loss: -0.010887503623962402 | generator_loss: -0.45451071858406067\n",
            "Epoch: 26 | critic_loss: 0.17475420236587524 | generator_loss: -0.6137375235557556\n",
            "Epoch: 27 | critic_loss: 0.20191413164138794 | generator_loss: -1.2533775568008423\n",
            "Epoch: 28 | critic_loss: 0.15306243300437927 | generator_loss: -0.8556180000305176\n",
            "Epoch: 29 | critic_loss: 0.18197768926620483 | generator_loss: -1.1989414691925049\n",
            "Epoch: 30 | critic_loss: 0.33234703540802 | generator_loss: -1.5438621044158936\n",
            "Epoch: 31 | critic_loss: -0.008681535720825195 | generator_loss: -1.1646157503128052\n",
            "Epoch: 32 | critic_loss: 0.0888211578130722 | generator_loss: -1.237938642501831\n",
            "Epoch: 33 | critic_loss: 0.23330546915531158 | generator_loss: -1.3818081617355347\n",
            "Epoch: 34 | critic_loss: 0.24151696264743805 | generator_loss: -1.0914335250854492\n",
            "Epoch: 35 | critic_loss: 0.05468408763408661 | generator_loss: -1.5017246007919312\n",
            "Epoch: 36 | critic_loss: 0.1958458125591278 | generator_loss: -1.718774676322937\n",
            "Epoch: 37 | critic_loss: 0.12994793057441711 | generator_loss: -1.3586534261703491\n",
            "Epoch: 38 | critic_loss: 0.06767748296260834 | generator_loss: -1.3531579971313477\n",
            "Epoch: 39 | critic_loss: 0.15435045957565308 | generator_loss: -1.788596749305725\n"
          ]
        }
      ],
      "source": [
        "synth, train_args = generate_data()\n",
        "synth.fit(data=training_df, train_arguments=train_args, num_cols=num_features, cat_cols=['diabetes'])\n"
      ]
    },
    {
      "cell_type": "code",
      "execution_count": 19,
      "metadata": {
        "id": "urqLgwZ7n_zr"
      },
      "outputs": [
        {
          "data": {
            "text/html": [
              "<div>\n",
              "<style scoped>\n",
              "    .dataframe tbody tr th:only-of-type {\n",
              "        vertical-align: middle;\n",
              "    }\n",
              "\n",
              "    .dataframe tbody tr th {\n",
              "        vertical-align: top;\n",
              "    }\n",
              "\n",
              "    .dataframe thead th {\n",
              "        text-align: right;\n",
              "    }\n",
              "</style>\n",
              "<table border=\"1\" class=\"dataframe\">\n",
              "  <thead>\n",
              "    <tr style=\"text-align: right;\">\n",
              "      <th></th>\n",
              "      <th>age</th>\n",
              "      <th>hypertension</th>\n",
              "      <th>heart_disease</th>\n",
              "      <th>bmi</th>\n",
              "      <th>HbA1c_level</th>\n",
              "      <th>blood_glucose_level</th>\n",
              "      <th>diabetes</th>\n",
              "    </tr>\n",
              "  </thead>\n",
              "  <tbody>\n",
              "    <tr>\n",
              "      <th>0</th>\n",
              "      <td>65</td>\n",
              "      <td>0</td>\n",
              "      <td>0</td>\n",
              "      <td>27.230185</td>\n",
              "      <td>6.055225</td>\n",
              "      <td>156</td>\n",
              "      <td>1</td>\n",
              "    </tr>\n",
              "    <tr>\n",
              "      <th>1</th>\n",
              "      <td>73</td>\n",
              "      <td>0</td>\n",
              "      <td>0</td>\n",
              "      <td>27.416126</td>\n",
              "      <td>5.988187</td>\n",
              "      <td>204</td>\n",
              "      <td>1</td>\n",
              "    </tr>\n",
              "    <tr>\n",
              "      <th>2</th>\n",
              "      <td>35</td>\n",
              "      <td>0</td>\n",
              "      <td>0</td>\n",
              "      <td>31.735055</td>\n",
              "      <td>6.500285</td>\n",
              "      <td>158</td>\n",
              "      <td>1</td>\n",
              "    </tr>\n",
              "    <tr>\n",
              "      <th>3</th>\n",
              "      <td>9</td>\n",
              "      <td>1</td>\n",
              "      <td>0</td>\n",
              "      <td>32.589829</td>\n",
              "      <td>8.726079</td>\n",
              "      <td>158</td>\n",
              "      <td>1</td>\n",
              "    </tr>\n",
              "    <tr>\n",
              "      <th>4</th>\n",
              "      <td>71</td>\n",
              "      <td>0</td>\n",
              "      <td>0</td>\n",
              "      <td>26.964685</td>\n",
              "      <td>6.619878</td>\n",
              "      <td>197</td>\n",
              "      <td>1</td>\n",
              "    </tr>\n",
              "  </tbody>\n",
              "</table>\n",
              "</div>"
            ],
            "text/plain": [
              "   age  hypertension  heart_disease        bmi  HbA1c_level  \\\n",
              "0   65             0              0  27.230185     6.055225   \n",
              "1   73             0              0  27.416126     5.988187   \n",
              "2   35             0              0  31.735055     6.500285   \n",
              "3    9             1              0  32.589829     8.726079   \n",
              "4   71             0              0  26.964685     6.619878   \n",
              "\n",
              "   blood_glucose_level  diabetes  \n",
              "0                  156         1  \n",
              "1                  204         1  \n",
              "2                  158         1  \n",
              "3                  158         1  \n",
              "4                  197         1  "
            ]
          },
          "execution_count": 19,
          "metadata": {},
          "output_type": "execute_result"
        }
      ],
      "source": [
        "synth_data = synth.sample(67000)\n",
        "synth_data.head()"
      ]
    },
    {
      "cell_type": "code",
      "execution_count": 20,
      "metadata": {},
      "outputs": [],
      "source": [
        "synth_data[\"bmi\"] = synth_data[\"bmi\"].round(2)\n",
        "synth_data[\"HbA1c_level\"] = synth_data[\"HbA1c_level\"].round(1)"
      ]
    },
    {
      "cell_type": "code",
      "execution_count": 21,
      "metadata": {
        "colab": {
          "base_uri": "https://localhost:8080/"
        },
        "id": "llYeFDY_y1Yw",
        "outputId": "9a39bc6e-5c00-4694-e82b-b6f328e7c80c"
      },
      "outputs": [
        {
          "data": {
            "text/plain": [
              "(153141, 7)"
            ]
          },
          "execution_count": 21,
          "metadata": {},
          "output_type": "execute_result"
        }
      ],
      "source": [
        "combined_data = pd.concat([diabetes_df, synth_data], ignore_index=True)\n",
        "combined_data.shape"
      ]
    },
    {
      "cell_type": "code",
      "execution_count": 22,
      "metadata": {
        "colab": {
          "base_uri": "https://localhost:8080/"
        },
        "id": "sZkceE5Pzj-v",
        "outputId": "95b27efc-9ef6-445b-f838-0aacca4bfda2"
      },
      "outputs": [
        {
          "data": {
            "text/plain": [
              "(152723, 7)"
            ]
          },
          "execution_count": 22,
          "metadata": {},
          "output_type": "execute_result"
        }
      ],
      "source": [
        "duplicates = combined_data.duplicated()\n",
        "combined_data = combined_data[~duplicates]\n",
        "combined_data.shape"
      ]
    },
    {
      "cell_type": "code",
      "execution_count": 23,
      "metadata": {},
      "outputs": [
        {
          "data": {
            "text/plain": [
              "(152686, 7)"
            ]
          },
          "execution_count": 23,
          "metadata": {},
          "output_type": "execute_result"
        }
      ],
      "source": [
        "conditions = (\n",
        "    (combined_data['age'] >= 1) & (combined_data['age'] <= 120) &\n",
        "    (combined_data['bmi'] >= 10) & (combined_data['bmi'] <= 100) &\n",
        "    (combined_data['HbA1c_level'] >= 3) & (combined_data['HbA1c_level'] <= 15) &\n",
        "    (combined_data['blood_glucose_level'] >= 50) & (combined_data['blood_glucose_level'] <= 400)\n",
        ")\n",
        "\n",
        "combined_data = combined_data[conditions]\n",
        "combined_data.shape"
      ]
    },
    {
      "cell_type": "code",
      "execution_count": 24,
      "metadata": {
        "colab": {
          "base_uri": "https://localhost:8080/",
          "height": 428
        },
        "id": "VXW9jiXbznWc",
        "outputId": "513afe77-ad20-4601-bba1-126432e38be1"
      },
      "outputs": [
        {
          "data": {
            "image/png": "[encoded data removed]",
            "text/plain": [
              "<Figure size 640x480 with 1 Axes>"
            ]
          },
          "metadata": {},
          "output_type": "display_data"
        }
      ],
      "source": [
        "plot_distribution(combined_data)"
      ]
    },
    {
      "cell_type": "code",
      "execution_count": 25,
      "metadata": {},
      "outputs": [
        {
          "name": "stdout",
          "output_type": "stream",
          "text": [
            "diabetes\n",
            "0    77742\n",
            "1    74944\n",
            "Name: count, dtype: int64\n"
          ]
        },
        {
          "data": {
            "text/html": [
              "<div>\n",
              "<style scoped>\n",
              "    .dataframe tbody tr th:only-of-type {\n",
              "        vertical-align: middle;\n",
              "    }\n",
              "\n",
              "    .dataframe tbody tr th {\n",
              "        vertical-align: top;\n",
              "    }\n",
              "\n",
              "    .dataframe thead th {\n",
              "        text-align: right;\n",
              "    }\n",
              "</style>\n",
              "<table border=\"1\" class=\"dataframe\">\n",
              "  <thead>\n",
              "    <tr style=\"text-align: right;\">\n",
              "      <th></th>\n",
              "      <th>age</th>\n",
              "      <th>hypertension</th>\n",
              "      <th>heart_disease</th>\n",
              "      <th>bmi</th>\n",
              "      <th>HbA1c_level</th>\n",
              "      <th>blood_glucose_level</th>\n",
              "      <th>diabetes</th>\n",
              "    </tr>\n",
              "  </thead>\n",
              "  <tbody>\n",
              "    <tr>\n",
              "      <th>0</th>\n",
              "      <td>64</td>\n",
              "      <td>0</td>\n",
              "      <td>0</td>\n",
              "      <td>27.27</td>\n",
              "      <td>8.9</td>\n",
              "      <td>197</td>\n",
              "      <td>1</td>\n",
              "    </tr>\n",
              "    <tr>\n",
              "      <th>1</th>\n",
              "      <td>8</td>\n",
              "      <td>0</td>\n",
              "      <td>0</td>\n",
              "      <td>18.26</td>\n",
              "      <td>4.5</td>\n",
              "      <td>85</td>\n",
              "      <td>0</td>\n",
              "    </tr>\n",
              "    <tr>\n",
              "      <th>2</th>\n",
              "      <td>46</td>\n",
              "      <td>0</td>\n",
              "      <td>0</td>\n",
              "      <td>30.06</td>\n",
              "      <td>6.0</td>\n",
              "      <td>140</td>\n",
              "      <td>0</td>\n",
              "    </tr>\n",
              "    <tr>\n",
              "      <th>3</th>\n",
              "      <td>78</td>\n",
              "      <td>0</td>\n",
              "      <td>0</td>\n",
              "      <td>23.52</td>\n",
              "      <td>6.0</td>\n",
              "      <td>258</td>\n",
              "      <td>1</td>\n",
              "    </tr>\n",
              "    <tr>\n",
              "      <th>4</th>\n",
              "      <td>23</td>\n",
              "      <td>0</td>\n",
              "      <td>0</td>\n",
              "      <td>24.21</td>\n",
              "      <td>5.7</td>\n",
              "      <td>160</td>\n",
              "      <td>0</td>\n",
              "    </tr>\n",
              "    <tr>\n",
              "      <th>5</th>\n",
              "      <td>72</td>\n",
              "      <td>0</td>\n",
              "      <td>0</td>\n",
              "      <td>27.37</td>\n",
              "      <td>5.7</td>\n",
              "      <td>280</td>\n",
              "      <td>1</td>\n",
              "    </tr>\n",
              "    <tr>\n",
              "      <th>6</th>\n",
              "      <td>75</td>\n",
              "      <td>0</td>\n",
              "      <td>0</td>\n",
              "      <td>28.07</td>\n",
              "      <td>6.0</td>\n",
              "      <td>160</td>\n",
              "      <td>1</td>\n",
              "    </tr>\n",
              "    <tr>\n",
              "      <th>7</th>\n",
              "      <td>40</td>\n",
              "      <td>0</td>\n",
              "      <td>0</td>\n",
              "      <td>40.88</td>\n",
              "      <td>5.8</td>\n",
              "      <td>90</td>\n",
              "      <td>0</td>\n",
              "    </tr>\n",
              "    <tr>\n",
              "      <th>8</th>\n",
              "      <td>45</td>\n",
              "      <td>0</td>\n",
              "      <td>0</td>\n",
              "      <td>20.27</td>\n",
              "      <td>6.6</td>\n",
              "      <td>159</td>\n",
              "      <td>0</td>\n",
              "    </tr>\n",
              "    <tr>\n",
              "      <th>9</th>\n",
              "      <td>78</td>\n",
              "      <td>0</td>\n",
              "      <td>0</td>\n",
              "      <td>27.25</td>\n",
              "      <td>8.1</td>\n",
              "      <td>284</td>\n",
              "      <td>1</td>\n",
              "    </tr>\n",
              "  </tbody>\n",
              "</table>\n",
              "</div>"
            ],
            "text/plain": [
              "   age  hypertension  heart_disease    bmi  HbA1c_level  blood_glucose_level  \\\n",
              "0   64             0              0  27.27          8.9                  197   \n",
              "1    8             0              0  18.26          4.5                   85   \n",
              "2   46             0              0  30.06          6.0                  140   \n",
              "3   78             0              0  23.52          6.0                  258   \n",
              "4   23             0              0  24.21          5.7                  160   \n",
              "5   72             0              0  27.37          5.7                  280   \n",
              "6   75             0              0  28.07          6.0                  160   \n",
              "7   40             0              0  40.88          5.8                   90   \n",
              "8   45             0              0  20.27          6.6                  159   \n",
              "9   78             0              0  27.25          8.1                  284   \n",
              "\n",
              "   diabetes  \n",
              "0         1  \n",
              "1         0  \n",
              "2         0  \n",
              "3         1  \n",
              "4         0  \n",
              "5         1  \n",
              "6         1  \n",
              "7         0  \n",
              "8         0  \n",
              "9         1  "
            ]
          },
          "execution_count": 25,
          "metadata": {},
          "output_type": "execute_result"
        }
      ],
      "source": [
        "combined_data = combined_data.sample(frac=1).reset_index(drop=True)\n",
        "print(combined_data.diabetes.value_counts())\n",
        "combined_data.head(10)"
      ]
    },
    {
      "cell_type": "markdown",
      "metadata": {},
      "source": [
        "<h2>creating a model to synthesize data for feature pipeline</h2>"
      ]
    },
    {
      "cell_type": "code",
      "execution_count": 26,
      "metadata": {},
      "outputs": [
        {
          "name": "stdout",
          "output_type": "stream",
          "text": [
            "Epoch: 0 | critic_loss: 0.32279545068740845 | generator_loss: -0.7852216958999634\n",
            "Epoch: 1 | critic_loss: 0.2584627866744995 | generator_loss: -1.7154935598373413\n",
            "Epoch: 2 | critic_loss: 0.06445722281932831 | generator_loss: -1.8333796262741089\n",
            "Epoch: 3 | critic_loss: 0.13482239842414856 | generator_loss: -1.9658112525939941\n",
            "Epoch: 4 | critic_loss: 0.06326830387115479 | generator_loss: -1.9043424129486084\n",
            "Epoch: 5 | critic_loss: 0.048238605260849 | generator_loss: -1.8758413791656494\n",
            "Epoch: 6 | critic_loss: 0.1403599977493286 | generator_loss: -2.311321258544922\n",
            "Epoch: 7 | critic_loss: 0.08802513778209686 | generator_loss: -2.1548874378204346\n",
            "Epoch: 8 | critic_loss: 0.14186212420463562 | generator_loss: -2.1832358837127686\n",
            "Epoch: 9 | critic_loss: 0.08276787400245667 | generator_loss: -2.1046998500823975\n",
            "Epoch: 10 | critic_loss: 0.041711851954460144 | generator_loss: -2.207245111465454\n",
            "Epoch: 11 | critic_loss: 0.07876987010240555 | generator_loss: -2.267357587814331\n",
            "Epoch: 12 | critic_loss: 0.10020217299461365 | generator_loss: -2.4124763011932373\n",
            "Epoch: 13 | critic_loss: 0.15986260771751404 | generator_loss: -2.12065052986145\n",
            "Epoch: 14 | critic_loss: 0.1987747848033905 | generator_loss: -2.197072744369507\n",
            "Epoch: 15 | critic_loss: 0.14432066679000854 | generator_loss: -2.288896322250366\n",
            "Epoch: 16 | critic_loss: 0.0031307190656661987 | generator_loss: -2.267580032348633\n",
            "Epoch: 17 | critic_loss: 0.07387977093458176 | generator_loss: -2.178117275238037\n",
            "Epoch: 18 | critic_loss: -0.045445382595062256 | generator_loss: -2.4056742191314697\n",
            "Epoch: 19 | critic_loss: 0.13507601618766785 | generator_loss: -2.1794943809509277\n",
            "Epoch: 20 | critic_loss: 0.0753425881266594 | generator_loss: -2.227691173553467\n",
            "Epoch: 21 | critic_loss: 0.19559788703918457 | generator_loss: -2.2821991443634033\n",
            "Epoch: 22 | critic_loss: 0.11855340003967285 | generator_loss: -2.4401748180389404\n",
            "Epoch: 23 | critic_loss: 0.21433871984481812 | generator_loss: -2.3431801795959473\n",
            "Epoch: 24 | critic_loss: 0.10093167424201965 | generator_loss: -2.2597413063049316\n",
            "Epoch: 25 | critic_loss: 0.19247303903102875 | generator_loss: -2.22733211517334\n",
            "Epoch: 26 | critic_loss: 0.1400040090084076 | generator_loss: -2.0949018001556396\n",
            "Epoch: 27 | critic_loss: 0.1273600459098816 | generator_loss: -2.3095545768737793\n",
            "Epoch: 28 | critic_loss: 0.02905748039484024 | generator_loss: -2.3347666263580322\n",
            "Epoch: 29 | critic_loss: 0.13385263085365295 | generator_loss: -2.160405158996582\n",
            "Epoch: 30 | critic_loss: 0.1523987352848053 | generator_loss: -2.3018245697021484\n",
            "Epoch: 31 | critic_loss: 0.06538316607475281 | generator_loss: -2.3202474117279053\n",
            "Epoch: 32 | critic_loss: 0.10610777139663696 | generator_loss: -2.195080280303955\n",
            "Epoch: 33 | critic_loss: 0.2656679153442383 | generator_loss: -2.1295506954193115\n",
            "Epoch: 34 | critic_loss: 0.05454641580581665 | generator_loss: -2.250653028488159\n",
            "Epoch: 35 | critic_loss: 0.13199633359909058 | generator_loss: -2.2412195205688477\n",
            "Epoch: 36 | critic_loss: 0.15371420979499817 | generator_loss: -2.3678271770477295\n",
            "Epoch: 37 | critic_loss: 0.10643447935581207 | generator_loss: -2.1640701293945312\n",
            "Epoch: 38 | critic_loss: 0.02298976480960846 | generator_loss: -2.161205530166626\n",
            "Epoch: 39 | critic_loss: 0.0818977952003479 | generator_loss: -2.039153814315796\n"
          ]
        }
      ],
      "source": [
        "synth,_ = generate_data()\n",
        "synth.fit(data=combined_data, train_arguments=train_args, num_cols=num_features, cat_cols=['diabetes'])"
      ]
    },
    {
      "cell_type": "code",
      "execution_count": 27,
      "metadata": {},
      "outputs": [],
      "source": [
        "import os\n",
        "model_dir=\"synth_data_model\"\n",
        "if os.path.isdir(model_dir) == False:\n",
        "    os.mkdir(model_dir)\n",
        "\n",
        "synth.save(model_dir + \"/synth_data_model.pkl\")"
      ]
    },
    {
      "cell_type": "code",
      "execution_count": 28,
      "metadata": {},
      "outputs": [
        {
          "data": {
            "text/plain": [
              "diabetes\n",
              "0    53\n",
              "1    47\n",
              "Name: count, dtype: int64"
            ]
          },
          "execution_count": 28,
          "metadata": {},
          "output_type": "execute_result"
        }
      ],
      "source": [
        "#loading and testing synthetic_data_model for \n",
        "model = synthetic_data_model(model_dir, \"/synth_data_model.pkl\")\n",
        "new_synth_data = model.sample(100)\n",
        "new_synth_data.diabetes.value_counts()"
      ]
    },
    {
      "cell_type": "markdown",
      "metadata": {},
      "source": [
        "<h3>Writing features to a feature store </h3>"
      ]
    },
    {
      "cell_type": "code",
      "execution_count": 29,
      "metadata": {},
      "outputs": [
        {
          "data": {
            "text/html": [
              "<div>\n",
              "<style scoped>\n",
              "    .dataframe tbody tr th:only-of-type {\n",
              "        vertical-align: middle;\n",
              "    }\n",
              "\n",
              "    .dataframe tbody tr th {\n",
              "        vertical-align: top;\n",
              "    }\n",
              "\n",
              "    .dataframe thead th {\n",
              "        text-align: right;\n",
              "    }\n",
              "</style>\n",
              "<table border=\"1\" class=\"dataframe\">\n",
              "  <thead>\n",
              "    <tr style=\"text-align: right;\">\n",
              "      <th></th>\n",
              "      <th>patient_id</th>\n",
              "      <th>age</th>\n",
              "      <th>hypertension</th>\n",
              "      <th>heart_disease</th>\n",
              "      <th>bmi</th>\n",
              "      <th>HbA1c_level</th>\n",
              "      <th>blood_glucose_level</th>\n",
              "      <th>diabetes</th>\n",
              "      <th>datetime</th>\n",
              "    </tr>\n",
              "  </thead>\n",
              "  <tbody>\n",
              "    <tr>\n",
              "      <th>0</th>\n",
              "      <td>0</td>\n",
              "      <td>64</td>\n",
              "      <td>0</td>\n",
              "      <td>0</td>\n",
              "      <td>27.27</td>\n",
              "      <td>8.9</td>\n",
              "      <td>197</td>\n",
              "      <td>1</td>\n",
              "      <td>2024-07-13 19:47:34.866136</td>\n",
              "    </tr>\n",
              "    <tr>\n",
              "      <th>1</th>\n",
              "      <td>1</td>\n",
              "      <td>8</td>\n",
              "      <td>0</td>\n",
              "      <td>0</td>\n",
              "      <td>18.26</td>\n",
              "      <td>4.5</td>\n",
              "      <td>85</td>\n",
              "      <td>0</td>\n",
              "      <td>2024-07-13 19:47:34.866136</td>\n",
              "    </tr>\n",
              "    <tr>\n",
              "      <th>2</th>\n",
              "      <td>2</td>\n",
              "      <td>46</td>\n",
              "      <td>0</td>\n",
              "      <td>0</td>\n",
              "      <td>30.06</td>\n",
              "      <td>6.0</td>\n",
              "      <td>140</td>\n",
              "      <td>0</td>\n",
              "      <td>2024-07-13 19:47:34.866136</td>\n",
              "    </tr>\n",
              "  </tbody>\n",
              "</table>\n",
              "</div>"
            ],
            "text/plain": [
              "   patient_id  age  hypertension  heart_disease    bmi  HbA1c_level  \\\n",
              "0           0   64             0              0  27.27          8.9   \n",
              "1           1    8             0              0  18.26          4.5   \n",
              "2           2   46             0              0  30.06          6.0   \n",
              "\n",
              "   blood_glucose_level  diabetes                   datetime  \n",
              "0                  197         1 2024-07-13 19:47:34.866136  \n",
              "1                   85         0 2024-07-13 19:47:34.866136  \n",
              "2                  140         0 2024-07-13 19:47:34.866136  "
            ]
          },
          "execution_count": 29,
          "metadata": {},
          "output_type": "execute_result"
        }
      ],
      "source": [
        "##adding a datetime column to the dataframe before saving it in feature store \n",
        "combined_data = patient_id_and_date(combined_data)\n",
        "combined_data.head(3)"
      ]
    },
    {
      "cell_type": "code",
      "execution_count": 30,
      "metadata": {},
      "outputs": [
        {
          "data": {
            "text/html": [
              "<div>\n",
              "<style scoped>\n",
              "    .dataframe tbody tr th:only-of-type {\n",
              "        vertical-align: middle;\n",
              "    }\n",
              "\n",
              "    .dataframe tbody tr th {\n",
              "        vertical-align: top;\n",
              "    }\n",
              "\n",
              "    .dataframe thead th {\n",
              "        text-align: right;\n",
              "    }\n",
              "</style>\n",
              "<table border=\"1\" class=\"dataframe\">\n",
              "  <thead>\n",
              "    <tr style=\"text-align: right;\">\n",
              "      <th></th>\n",
              "      <th>patient_id</th>\n",
              "      <th>age</th>\n",
              "      <th>hypertension</th>\n",
              "      <th>heart_disease</th>\n",
              "      <th>bmi</th>\n",
              "      <th>HbA1c_level</th>\n",
              "      <th>blood_glucose_level</th>\n",
              "      <th>diabetes</th>\n",
              "      <th>datetime</th>\n",
              "    </tr>\n",
              "  </thead>\n",
              "  <tbody>\n",
              "    <tr>\n",
              "      <th>0</th>\n",
              "      <td>77206</td>\n",
              "      <td>27</td>\n",
              "      <td>1</td>\n",
              "      <td>0</td>\n",
              "      <td>27.32</td>\n",
              "      <td>5.0</td>\n",
              "      <td>200</td>\n",
              "      <td>0</td>\n",
              "      <td>2024-07-13 19:47:34.866136</td>\n",
              "    </tr>\n",
              "    <tr>\n",
              "      <th>1</th>\n",
              "      <td>124666</td>\n",
              "      <td>78</td>\n",
              "      <td>0</td>\n",
              "      <td>0</td>\n",
              "      <td>27.29</td>\n",
              "      <td>6.8</td>\n",
              "      <td>157</td>\n",
              "      <td>1</td>\n",
              "      <td>2024-07-13 19:47:34.866136</td>\n",
              "    </tr>\n",
              "    <tr>\n",
              "      <th>2</th>\n",
              "      <td>78954</td>\n",
              "      <td>80</td>\n",
              "      <td>0</td>\n",
              "      <td>0</td>\n",
              "      <td>22.95</td>\n",
              "      <td>6.6</td>\n",
              "      <td>140</td>\n",
              "      <td>0</td>\n",
              "      <td>2024-07-13 19:47:34.866136</td>\n",
              "    </tr>\n",
              "  </tbody>\n",
              "</table>\n",
              "</div>"
            ],
            "text/plain": [
              "   patient_id  age  hypertension  heart_disease    bmi  HbA1c_level  \\\n",
              "0       77206   27             1              0  27.32          5.0   \n",
              "1      124666   78             0              0  27.29          6.8   \n",
              "2       78954   80             0              0  22.95          6.6   \n",
              "\n",
              "   blood_glucose_level  diabetes                   datetime  \n",
              "0                  200         0 2024-07-13 19:47:34.866136  \n",
              "1                  157         1 2024-07-13 19:47:34.866136  \n",
              "2                  140         0 2024-07-13 19:47:34.866136  "
            ]
          },
          "execution_count": 30,
          "metadata": {},
          "output_type": "execute_result"
        }
      ],
      "source": [
        "combined_data = combined_data.sample(frac=1).reset_index(drop=True)\n",
        "combined_data.head(3)"
      ]
    },
    {
      "cell_type": "code",
      "execution_count": 31,
      "metadata": {},
      "outputs": [],
      "source": [
        "from dotenv import load_dotenv\n",
        "load_dotenv()\n",
        "hopswork_key = os.getenv(\"HOPSWORK_KEY\")"
      ]
    },
    {
      "cell_type": "code",
      "execution_count": 32,
      "metadata": {},
      "outputs": [
        {
          "name": "stdout",
          "output_type": "stream",
          "text": [
            "Connected. Call `.close()` to terminate connection gracefully.\n",
            "\n",
            "Logged in to project, explore it here https://c.app.hopsworks.ai:443/p/112801\n",
            "Connected. Call `.close()` to terminate connection gracefully.\n"
          ]
        }
      ],
      "source": [
        "import hopsworks\n",
        "project = hopsworks.login(api_key_value=hopswork_key)\n",
        "fs = project.get_feature_store()"
      ]
    },
    {
      "cell_type": "code",
      "execution_count": 33,
      "metadata": {},
      "outputs": [],
      "source": [
        "fg = fs.get_or_create_feature_group(\n",
        "    name=\"diabetes_features\",\n",
        "    version=1,\n",
        "    primary_key=['patient_id', 'datetime'],  \n",
        "    event_time='datetime',\n",
        "    description=\"Features for diabetes prediction\"\n",
        ")"
      ]
    },
    {
      "cell_type": "code",
      "execution_count": 34,
      "metadata": {},
      "outputs": [
        {
          "name": "stdout",
          "output_type": "stream",
          "text": [
            "2024-07-13 20:56:50,403 WARNING: FeatureGroupWarning: The ingested dataframe contains upper case letters in feature names: `['HbA1c_level']`. Feature names are sanitized to lower case in the feature store.\n",
            "\n",
            "Feature Group created successfully, explore it at \n",
            "https://c.app.hopsworks.ai:443/p/112801/fs/112720/fg/994676\n"
          ]
        },
        {
          "data": {
            "application/vnd.jupyter.widget-view+json": {
              "model_id": "5a687d7951274f2cbbfd877e6cd8c3da",
              "version_major": 2,
              "version_minor": 0
            },
            "text/plain": [
              "Uploading Dataframe: 0.00% |          | Rows 0/152686 | Elapsed Time: 00:00 | Remaining Time: ?"
            ]
          },
          "metadata": {},
          "output_type": "display_data"
        },
        {
          "name": "stdout",
          "output_type": "stream",
          "text": [
            "Launching job: diabetes_features_1_offline_fg_materialization\n",
            "Job started successfully, you can follow the progress at \n",
            "https://c.app.hopsworks.ai/p/112801/jobs/named/diabetes_features_1_offline_fg_materialization/executions\n"
          ]
        },
        {
          "data": {
            "text/plain": [
              "(<hsfs.core.job.Job at 0x7fda0bda3eb0>, None)"
            ]
          },
          "execution_count": 34,
          "metadata": {},
          "output_type": "execute_result"
        }
      ],
      "source": [
        "fg.insert(combined_data)"
      ]
    },
    {
      "cell_type": "code",
      "execution_count": null,
      "metadata": {},
      "outputs": [],
      "source": []
    }
  ],
  "metadata": {
    "colab": {
      "provenance": []
    },
    "kernelspec": {
      "display_name": "Python 3",
      "name": "python3"
    },
    "language_info": {
      "codemirror_mode": {
        "name": "ipython",
        "version": 3
      },
      "file_extension": ".py",
      "mimetype": "text/x-python",
      "name": "python",
      "nbconvert_exporter": "python",
      "pygments_lexer": "ipython3",
      "version": "3.10.14"
    }
  },
  "nbformat": 4,
  "nbformat_minor": 0
}
